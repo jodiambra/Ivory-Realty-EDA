{
 "cells": [
  {
   "cell_type": "markdown",
   "metadata": {},
   "source": [
    "# IRG EDA"
   ]
  },
  {
   "cell_type": "markdown",
   "metadata": {},
   "source": [
    "## Purpose"
   ]
  },
  {
   "attachments": {},
   "cell_type": "markdown",
   "metadata": {},
   "source": [
    "The purpose of this project is to conduct exploratory data analysis on the US housing market based on data from Zillow. Analysis will focus on home, and hte factors that influence the overall trend of the market: from a buyers to a sellers market. We will also look into the rents in the US, to determine whether an optimal strategy would be to BRR, or rent out a property, based on the location and profitability. IRG wants to focus on the Atlanta market, but is also interested in Philadelphia, Pa and Baltimore, Md."
   ]
  },
  {
   "cell_type": "markdown",
   "metadata": {},
   "source": [
    "# Introduction"
   ]
  },
  {
   "cell_type": "code",
   "execution_count": 2,
   "metadata": {},
   "outputs": [],
   "source": [
    "# import libraries\n",
    "import pandas as pd  \n",
    "import plotly_express as px \n",
    "# import libraries\n",
    "import folium\n",
    "from folium import plugins\n",
    "import ipywidgets\n",
    "import geocoder\n",
    "import geopy\n",
    "import numpy as np \n",
    "import pandas as pd \n"
   ]
  },
  {
   "cell_type": "code",
   "execution_count": 3,
   "metadata": {},
   "outputs": [],
   "source": [
    "# read home value forcast dataset\n",
    "hvf = pd.read_csv('datasets\\home_value_forcast.csv')"
   ]
  },
  {
   "cell_type": "code",
   "execution_count": 4,
   "metadata": {},
   "outputs": [
    {
     "data": {
      "text/html": [
       "<div>\n",
       "<style scoped>\n",
       "    .dataframe tbody tr th:only-of-type {\n",
       "        vertical-align: middle;\n",
       "    }\n",
       "\n",
       "    .dataframe tbody tr th {\n",
       "        vertical-align: top;\n",
       "    }\n",
       "\n",
       "    .dataframe thead th {\n",
       "        text-align: right;\n",
       "    }\n",
       "</style>\n",
       "<table border=\"1\" class=\"dataframe\">\n",
       "  <thead>\n",
       "    <tr style=\"text-align: right;\">\n",
       "      <th></th>\n",
       "      <th>RegionID</th>\n",
       "      <th>SizeRank</th>\n",
       "      <th>RegionName</th>\n",
       "      <th>RegionType</th>\n",
       "      <th>StateName</th>\n",
       "      <th>BaseDate</th>\n",
       "      <th>2023-02-28</th>\n",
       "      <th>2023-04-30</th>\n",
       "      <th>2024-01-31</th>\n",
       "    </tr>\n",
       "  </thead>\n",
       "  <tbody>\n",
       "    <tr>\n",
       "      <th>0</th>\n",
       "      <td>102001</td>\n",
       "      <td>0</td>\n",
       "      <td>United States</td>\n",
       "      <td>country</td>\n",
       "      <td>NaN</td>\n",
       "      <td>2023-01-31</td>\n",
       "      <td>-0.1</td>\n",
       "      <td>0.0</td>\n",
       "      <td>0.5</td>\n",
       "    </tr>\n",
       "    <tr>\n",
       "      <th>1</th>\n",
       "      <td>394913</td>\n",
       "      <td>1</td>\n",
       "      <td>New York, NY</td>\n",
       "      <td>msa</td>\n",
       "      <td>NY</td>\n",
       "      <td>2023-01-31</td>\n",
       "      <td>0.0</td>\n",
       "      <td>0.2</td>\n",
       "      <td>-1.3</td>\n",
       "    </tr>\n",
       "    <tr>\n",
       "      <th>2</th>\n",
       "      <td>753899</td>\n",
       "      <td>2</td>\n",
       "      <td>Los Angeles, CA</td>\n",
       "      <td>msa</td>\n",
       "      <td>CA</td>\n",
       "      <td>2023-01-31</td>\n",
       "      <td>-1.3</td>\n",
       "      <td>-3.5</td>\n",
       "      <td>-3.3</td>\n",
       "    </tr>\n",
       "    <tr>\n",
       "      <th>3</th>\n",
       "      <td>394463</td>\n",
       "      <td>3</td>\n",
       "      <td>Chicago, IL</td>\n",
       "      <td>msa</td>\n",
       "      <td>IL</td>\n",
       "      <td>2023-01-31</td>\n",
       "      <td>0.3</td>\n",
       "      <td>0.3</td>\n",
       "      <td>-1.8</td>\n",
       "    </tr>\n",
       "    <tr>\n",
       "      <th>4</th>\n",
       "      <td>394514</td>\n",
       "      <td>4</td>\n",
       "      <td>Dallas, TX</td>\n",
       "      <td>msa</td>\n",
       "      <td>TX</td>\n",
       "      <td>2023-01-31</td>\n",
       "      <td>-0.4</td>\n",
       "      <td>-0.5</td>\n",
       "      <td>-0.4</td>\n",
       "    </tr>\n",
       "  </tbody>\n",
       "</table>\n",
       "</div>"
      ],
      "text/plain": [
       "   RegionID  SizeRank       RegionName RegionType StateName    BaseDate  \\\n",
       "0    102001         0    United States    country       NaN  2023-01-31   \n",
       "1    394913         1     New York, NY        msa        NY  2023-01-31   \n",
       "2    753899         2  Los Angeles, CA        msa        CA  2023-01-31   \n",
       "3    394463         3      Chicago, IL        msa        IL  2023-01-31   \n",
       "4    394514         4       Dallas, TX        msa        TX  2023-01-31   \n",
       "\n",
       "   2023-02-28  2023-04-30  2024-01-31  \n",
       "0        -0.1         0.0         0.5  \n",
       "1         0.0         0.2        -1.3  \n",
       "2        -1.3        -3.5        -3.3  \n",
       "3         0.3         0.3        -1.8  \n",
       "4        -0.4        -0.5        -0.4  "
      ]
     },
     "execution_count": 4,
     "metadata": {},
     "output_type": "execute_result"
    }
   ],
   "source": [
    "# first look at dataset\n",
    "hvf.head()"
   ]
  },
  {
   "cell_type": "code",
   "execution_count": 5,
   "metadata": {},
   "outputs": [
    {
     "name": "stdout",
     "output_type": "stream",
     "text": [
      "<class 'pandas.core.frame.DataFrame'>\n",
      "RangeIndex: 896 entries, 0 to 895\n",
      "Data columns (total 9 columns):\n",
      " #   Column      Non-Null Count  Dtype  \n",
      "---  ------      --------------  -----  \n",
      " 0   RegionID    896 non-null    int64  \n",
      " 1   SizeRank    896 non-null    int64  \n",
      " 2   RegionName  896 non-null    object \n",
      " 3   RegionType  896 non-null    object \n",
      " 4   StateName   895 non-null    object \n",
      " 5   BaseDate    896 non-null    object \n",
      " 6   2023-02-28  884 non-null    float64\n",
      " 7   2023-04-30  896 non-null    float64\n",
      " 8   2024-01-31  896 non-null    float64\n",
      "dtypes: float64(3), int64(2), object(4)\n",
      "memory usage: 63.1+ KB\n"
     ]
    }
   ],
   "source": [
    "# column information\n",
    "hvf.info()"
   ]
  },
  {
   "cell_type": "code",
   "execution_count": 6,
   "metadata": {},
   "outputs": [],
   "source": [
    "# drop columns we do not need\n",
    "hvf.drop(columns=['RegionID', 'RegionType'], inplace=True)"
   ]
  },
  {
   "cell_type": "code",
   "execution_count": 7,
   "metadata": {},
   "outputs": [],
   "source": [
    "# rename columns\n",
    "hvf.columns = ['size_rank', 'region', 'state', 'base_date', 'feb', 'apr', 'jan_24']"
   ]
  },
  {
   "cell_type": "code",
   "execution_count": 8,
   "metadata": {},
   "outputs": [
    {
     "data": {
      "text/plain": [
       "Index(['size_rank', 'region', 'state', 'base_date', 'feb', 'apr', 'jan_24'], dtype='object')"
      ]
     },
     "execution_count": 8,
     "metadata": {},
     "output_type": "execute_result"
    }
   ],
   "source": [
    "# check proper implementation \n",
    "hvf.columns"
   ]
  },
  {
   "cell_type": "code",
   "execution_count": 9,
   "metadata": {},
   "outputs": [],
   "source": [
    "# list of states\n",
    "states = ['NY', 'CA', 'IL', 'TX', 'VA', 'FL', 'PA', 'GA', 'AZ', 'MA',\n",
    "       'MI', 'WA', 'MN', 'CO', 'MO', 'MD', 'NC', 'OR', 'NV', 'OH', 'IN',\n",
    "       'TN', 'RI', 'WI', 'OK', 'LA', 'KY', 'UT', 'CT', 'AL', 'HI', 'NE',\n",
    "       'SC', 'NM', 'ID', 'AR', 'IA', 'KS', 'MS', 'ME', 'DE', 'NH', 'AK',\n",
    "       'NJ', 'SD', 'WV', 'ND', 'VT', 'MT', 'WY']\n",
    "       \n",
    "# sorted list of states\n",
    "states_sorted = sorted(states)"
   ]
  },
  {
   "cell_type": "code",
   "execution_count": 10,
   "metadata": {},
   "outputs": [
    {
     "data": {
      "text/html": [
       "<div>\n",
       "<style scoped>\n",
       "    .dataframe tbody tr th:only-of-type {\n",
       "        vertical-align: middle;\n",
       "    }\n",
       "\n",
       "    .dataframe tbody tr th {\n",
       "        vertical-align: top;\n",
       "    }\n",
       "\n",
       "    .dataframe thead th {\n",
       "        text-align: right;\n",
       "    }\n",
       "</style>\n",
       "<table border=\"1\" class=\"dataframe\">\n",
       "  <thead>\n",
       "    <tr style=\"text-align: right;\">\n",
       "      <th></th>\n",
       "      <th>size_rank</th>\n",
       "      <th>region</th>\n",
       "      <th>state</th>\n",
       "      <th>base_date</th>\n",
       "      <th>feb</th>\n",
       "      <th>apr</th>\n",
       "      <th>jan_24</th>\n",
       "    </tr>\n",
       "  </thead>\n",
       "  <tbody>\n",
       "    <tr>\n",
       "      <th>9</th>\n",
       "      <td>9</td>\n",
       "      <td>Atlanta, GA</td>\n",
       "      <td>GA</td>\n",
       "      <td>2023-01-31</td>\n",
       "      <td>-0.3</td>\n",
       "      <td>-0.6</td>\n",
       "      <td>1.3</td>\n",
       "    </tr>\n",
       "    <tr>\n",
       "      <th>93</th>\n",
       "      <td>95</td>\n",
       "      <td>Augusta, GA</td>\n",
       "      <td>GA</td>\n",
       "      <td>2023-01-31</td>\n",
       "      <td>0.2</td>\n",
       "      <td>0.5</td>\n",
       "      <td>1.6</td>\n",
       "    </tr>\n",
       "    <tr>\n",
       "      <th>136</th>\n",
       "      <td>138</td>\n",
       "      <td>Savannah, GA</td>\n",
       "      <td>GA</td>\n",
       "      <td>2023-01-31</td>\n",
       "      <td>0.4</td>\n",
       "      <td>1.2</td>\n",
       "      <td>2.8</td>\n",
       "    </tr>\n",
       "    <tr>\n",
       "      <th>159</th>\n",
       "      <td>161</td>\n",
       "      <td>Columbus, GA</td>\n",
       "      <td>GA</td>\n",
       "      <td>2023-01-31</td>\n",
       "      <td>0.1</td>\n",
       "      <td>0.0</td>\n",
       "      <td>0.3</td>\n",
       "    </tr>\n",
       "    <tr>\n",
       "      <th>198</th>\n",
       "      <td>201</td>\n",
       "      <td>Macon, GA</td>\n",
       "      <td>GA</td>\n",
       "      <td>2023-01-31</td>\n",
       "      <td>0.6</td>\n",
       "      <td>1.4</td>\n",
       "      <td>3.4</td>\n",
       "    </tr>\n",
       "    <tr>\n",
       "      <th>209</th>\n",
       "      <td>213</td>\n",
       "      <td>Athens, GA</td>\n",
       "      <td>GA</td>\n",
       "      <td>2023-01-31</td>\n",
       "      <td>0.4</td>\n",
       "      <td>1.0</td>\n",
       "      <td>3.4</td>\n",
       "    </tr>\n",
       "    <tr>\n",
       "      <th>215</th>\n",
       "      <td>219</td>\n",
       "      <td>Gainesville, GA</td>\n",
       "      <td>GA</td>\n",
       "      <td>2023-01-31</td>\n",
       "      <td>-0.2</td>\n",
       "      <td>-0.3</td>\n",
       "      <td>1.8</td>\n",
       "    </tr>\n",
       "    <tr>\n",
       "      <th>228</th>\n",
       "      <td>232</td>\n",
       "      <td>Warner Robins, GA</td>\n",
       "      <td>GA</td>\n",
       "      <td>2023-01-31</td>\n",
       "      <td>0.4</td>\n",
       "      <td>0.6</td>\n",
       "      <td>1.1</td>\n",
       "    </tr>\n",
       "    <tr>\n",
       "      <th>287</th>\n",
       "      <td>291</td>\n",
       "      <td>Valdosta, GA</td>\n",
       "      <td>GA</td>\n",
       "      <td>2023-01-31</td>\n",
       "      <td>0.8</td>\n",
       "      <td>1.5</td>\n",
       "      <td>2.0</td>\n",
       "    </tr>\n",
       "    <tr>\n",
       "      <th>291</th>\n",
       "      <td>296</td>\n",
       "      <td>Albany, GA</td>\n",
       "      <td>GA</td>\n",
       "      <td>2023-01-31</td>\n",
       "      <td>0.2</td>\n",
       "      <td>0.9</td>\n",
       "      <td>2.0</td>\n",
       "    </tr>\n",
       "    <tr>\n",
       "      <th>296</th>\n",
       "      <td>301</td>\n",
       "      <td>Dalton, GA</td>\n",
       "      <td>GA</td>\n",
       "      <td>2023-01-31</td>\n",
       "      <td>0.8</td>\n",
       "      <td>1.7</td>\n",
       "      <td>2.8</td>\n",
       "    </tr>\n",
       "    <tr>\n",
       "      <th>341</th>\n",
       "      <td>346</td>\n",
       "      <td>Brunswick, GA</td>\n",
       "      <td>GA</td>\n",
       "      <td>2023-01-31</td>\n",
       "      <td>0.3</td>\n",
       "      <td>1.0</td>\n",
       "      <td>2.3</td>\n",
       "    </tr>\n",
       "    <tr>\n",
       "      <th>369</th>\n",
       "      <td>374</td>\n",
       "      <td>LaGrange, GA</td>\n",
       "      <td>GA</td>\n",
       "      <td>2023-01-31</td>\n",
       "      <td>0.3</td>\n",
       "      <td>0.6</td>\n",
       "      <td>2.0</td>\n",
       "    </tr>\n",
       "    <tr>\n",
       "      <th>388</th>\n",
       "      <td>393</td>\n",
       "      <td>Rome, GA</td>\n",
       "      <td>GA</td>\n",
       "      <td>2023-01-31</td>\n",
       "      <td>0.9</td>\n",
       "      <td>2.2</td>\n",
       "      <td>4.8</td>\n",
       "    </tr>\n",
       "    <tr>\n",
       "      <th>426</th>\n",
       "      <td>431</td>\n",
       "      <td>Hinesville, GA</td>\n",
       "      <td>GA</td>\n",
       "      <td>2023-01-31</td>\n",
       "      <td>0.5</td>\n",
       "      <td>0.6</td>\n",
       "      <td>1.8</td>\n",
       "    </tr>\n",
       "    <tr>\n",
       "      <th>436</th>\n",
       "      <td>441</td>\n",
       "      <td>Statesboro, GA</td>\n",
       "      <td>GA</td>\n",
       "      <td>2023-01-31</td>\n",
       "      <td>0.2</td>\n",
       "      <td>0.3</td>\n",
       "      <td>1.2</td>\n",
       "    </tr>\n",
       "    <tr>\n",
       "      <th>451</th>\n",
       "      <td>456</td>\n",
       "      <td>Jefferson, GA</td>\n",
       "      <td>GA</td>\n",
       "      <td>2023-01-31</td>\n",
       "      <td>0.0</td>\n",
       "      <td>0.3</td>\n",
       "      <td>2.7</td>\n",
       "    </tr>\n",
       "    <tr>\n",
       "      <th>500</th>\n",
       "      <td>506</td>\n",
       "      <td>Dublin, GA</td>\n",
       "      <td>GA</td>\n",
       "      <td>2023-01-31</td>\n",
       "      <td>1.4</td>\n",
       "      <td>2.8</td>\n",
       "      <td>3.1</td>\n",
       "    </tr>\n",
       "    <tr>\n",
       "      <th>521</th>\n",
       "      <td>529</td>\n",
       "      <td>Calhoun, GA</td>\n",
       "      <td>GA</td>\n",
       "      <td>2023-01-31</td>\n",
       "      <td>0.2</td>\n",
       "      <td>0.6</td>\n",
       "      <td>3.1</td>\n",
       "    </tr>\n",
       "    <tr>\n",
       "      <th>550</th>\n",
       "      <td>558</td>\n",
       "      <td>St. Marys, GA</td>\n",
       "      <td>GA</td>\n",
       "      <td>2023-01-31</td>\n",
       "      <td>0.0</td>\n",
       "      <td>-0.1</td>\n",
       "      <td>0.7</td>\n",
       "    </tr>\n",
       "    <tr>\n",
       "      <th>551</th>\n",
       "      <td>559</td>\n",
       "      <td>Waycross, GA</td>\n",
       "      <td>GA</td>\n",
       "      <td>2023-01-31</td>\n",
       "      <td>1.2</td>\n",
       "      <td>2.6</td>\n",
       "      <td>4.6</td>\n",
       "    </tr>\n",
       "    <tr>\n",
       "      <th>566</th>\n",
       "      <td>574</td>\n",
       "      <td>Milledgeville, GA</td>\n",
       "      <td>GA</td>\n",
       "      <td>2023-01-31</td>\n",
       "      <td>0.5</td>\n",
       "      <td>1.6</td>\n",
       "      <td>3.6</td>\n",
       "    </tr>\n",
       "    <tr>\n",
       "      <th>575</th>\n",
       "      <td>583</td>\n",
       "      <td>Douglas, GA</td>\n",
       "      <td>GA</td>\n",
       "      <td>2023-01-31</td>\n",
       "      <td>0.9</td>\n",
       "      <td>1.6</td>\n",
       "      <td>2.3</td>\n",
       "    </tr>\n",
       "    <tr>\n",
       "      <th>623</th>\n",
       "      <td>632</td>\n",
       "      <td>Cornelia, GA</td>\n",
       "      <td>GA</td>\n",
       "      <td>2023-01-31</td>\n",
       "      <td>-0.1</td>\n",
       "      <td>0.1</td>\n",
       "      <td>2.3</td>\n",
       "    </tr>\n",
       "    <tr>\n",
       "      <th>630</th>\n",
       "      <td>639</td>\n",
       "      <td>Moultrie, GA</td>\n",
       "      <td>GA</td>\n",
       "      <td>2023-01-31</td>\n",
       "      <td>1.5</td>\n",
       "      <td>3.1</td>\n",
       "      <td>2.4</td>\n",
       "    </tr>\n",
       "    <tr>\n",
       "      <th>644</th>\n",
       "      <td>654</td>\n",
       "      <td>Thomasville, GA</td>\n",
       "      <td>GA</td>\n",
       "      <td>2023-01-31</td>\n",
       "      <td>0.8</td>\n",
       "      <td>1.5</td>\n",
       "      <td>1.7</td>\n",
       "    </tr>\n",
       "    <tr>\n",
       "      <th>657</th>\n",
       "      <td>667</td>\n",
       "      <td>Cedartown, GA</td>\n",
       "      <td>GA</td>\n",
       "      <td>2023-01-31</td>\n",
       "      <td>0.0</td>\n",
       "      <td>0.8</td>\n",
       "      <td>5.8</td>\n",
       "    </tr>\n",
       "    <tr>\n",
       "      <th>674</th>\n",
       "      <td>684</td>\n",
       "      <td>Tifton, GA</td>\n",
       "      <td>GA</td>\n",
       "      <td>2023-01-31</td>\n",
       "      <td>0.7</td>\n",
       "      <td>1.0</td>\n",
       "      <td>0.3</td>\n",
       "    </tr>\n",
       "    <tr>\n",
       "      <th>733</th>\n",
       "      <td>745</td>\n",
       "      <td>Vidalia, GA</td>\n",
       "      <td>GA</td>\n",
       "      <td>2023-01-31</td>\n",
       "      <td>1.1</td>\n",
       "      <td>2.6</td>\n",
       "      <td>2.8</td>\n",
       "    </tr>\n",
       "    <tr>\n",
       "      <th>752</th>\n",
       "      <td>767</td>\n",
       "      <td>Americus, GA</td>\n",
       "      <td>GA</td>\n",
       "      <td>2023-01-31</td>\n",
       "      <td>-0.5</td>\n",
       "      <td>-0.8</td>\n",
       "      <td>0.6</td>\n",
       "    </tr>\n",
       "    <tr>\n",
       "      <th>788</th>\n",
       "      <td>807</td>\n",
       "      <td>Jesup, GA</td>\n",
       "      <td>GA</td>\n",
       "      <td>2023-01-31</td>\n",
       "      <td>1.6</td>\n",
       "      <td>3.7</td>\n",
       "      <td>5.1</td>\n",
       "    </tr>\n",
       "    <tr>\n",
       "      <th>815</th>\n",
       "      <td>839</td>\n",
       "      <td>Thomaston, GA</td>\n",
       "      <td>GA</td>\n",
       "      <td>2023-01-31</td>\n",
       "      <td>0.2</td>\n",
       "      <td>1.4</td>\n",
       "      <td>6.9</td>\n",
       "    </tr>\n",
       "    <tr>\n",
       "      <th>816</th>\n",
       "      <td>840</td>\n",
       "      <td>Bainbridge, GA</td>\n",
       "      <td>GA</td>\n",
       "      <td>2023-01-31</td>\n",
       "      <td>1.1</td>\n",
       "      <td>2.7</td>\n",
       "      <td>4.4</td>\n",
       "    </tr>\n",
       "    <tr>\n",
       "      <th>820</th>\n",
       "      <td>844</td>\n",
       "      <td>Toccoa, GA</td>\n",
       "      <td>GA</td>\n",
       "      <td>2023-01-31</td>\n",
       "      <td>0.1</td>\n",
       "      <td>1.1</td>\n",
       "      <td>6.0</td>\n",
       "    </tr>\n",
       "    <tr>\n",
       "      <th>831</th>\n",
       "      <td>855</td>\n",
       "      <td>Summerville, GA</td>\n",
       "      <td>GA</td>\n",
       "      <td>2023-01-31</td>\n",
       "      <td>2.1</td>\n",
       "      <td>5.3</td>\n",
       "      <td>10.2</td>\n",
       "    </tr>\n",
       "    <tr>\n",
       "      <th>852</th>\n",
       "      <td>878</td>\n",
       "      <td>Cordele, GA</td>\n",
       "      <td>GA</td>\n",
       "      <td>2023-01-31</td>\n",
       "      <td>-0.4</td>\n",
       "      <td>-0.4</td>\n",
       "      <td>0.6</td>\n",
       "    </tr>\n",
       "    <tr>\n",
       "      <th>885</th>\n",
       "      <td>917</td>\n",
       "      <td>Fitzgerald, GA</td>\n",
       "      <td>GA</td>\n",
       "      <td>2023-01-31</td>\n",
       "      <td>-0.7</td>\n",
       "      <td>-0.7</td>\n",
       "      <td>2.1</td>\n",
       "    </tr>\n",
       "  </tbody>\n",
       "</table>\n",
       "</div>"
      ],
      "text/plain": [
       "     size_rank             region state   base_date  feb  apr  jan_24\n",
       "9            9        Atlanta, GA    GA  2023-01-31 -0.3 -0.6     1.3\n",
       "93          95        Augusta, GA    GA  2023-01-31  0.2  0.5     1.6\n",
       "136        138       Savannah, GA    GA  2023-01-31  0.4  1.2     2.8\n",
       "159        161       Columbus, GA    GA  2023-01-31  0.1  0.0     0.3\n",
       "198        201          Macon, GA    GA  2023-01-31  0.6  1.4     3.4\n",
       "209        213         Athens, GA    GA  2023-01-31  0.4  1.0     3.4\n",
       "215        219    Gainesville, GA    GA  2023-01-31 -0.2 -0.3     1.8\n",
       "228        232  Warner Robins, GA    GA  2023-01-31  0.4  0.6     1.1\n",
       "287        291       Valdosta, GA    GA  2023-01-31  0.8  1.5     2.0\n",
       "291        296         Albany, GA    GA  2023-01-31  0.2  0.9     2.0\n",
       "296        301         Dalton, GA    GA  2023-01-31  0.8  1.7     2.8\n",
       "341        346      Brunswick, GA    GA  2023-01-31  0.3  1.0     2.3\n",
       "369        374       LaGrange, GA    GA  2023-01-31  0.3  0.6     2.0\n",
       "388        393           Rome, GA    GA  2023-01-31  0.9  2.2     4.8\n",
       "426        431     Hinesville, GA    GA  2023-01-31  0.5  0.6     1.8\n",
       "436        441     Statesboro, GA    GA  2023-01-31  0.2  0.3     1.2\n",
       "451        456      Jefferson, GA    GA  2023-01-31  0.0  0.3     2.7\n",
       "500        506         Dublin, GA    GA  2023-01-31  1.4  2.8     3.1\n",
       "521        529        Calhoun, GA    GA  2023-01-31  0.2  0.6     3.1\n",
       "550        558      St. Marys, GA    GA  2023-01-31  0.0 -0.1     0.7\n",
       "551        559       Waycross, GA    GA  2023-01-31  1.2  2.6     4.6\n",
       "566        574  Milledgeville, GA    GA  2023-01-31  0.5  1.6     3.6\n",
       "575        583        Douglas, GA    GA  2023-01-31  0.9  1.6     2.3\n",
       "623        632       Cornelia, GA    GA  2023-01-31 -0.1  0.1     2.3\n",
       "630        639       Moultrie, GA    GA  2023-01-31  1.5  3.1     2.4\n",
       "644        654    Thomasville, GA    GA  2023-01-31  0.8  1.5     1.7\n",
       "657        667      Cedartown, GA    GA  2023-01-31  0.0  0.8     5.8\n",
       "674        684         Tifton, GA    GA  2023-01-31  0.7  1.0     0.3\n",
       "733        745        Vidalia, GA    GA  2023-01-31  1.1  2.6     2.8\n",
       "752        767       Americus, GA    GA  2023-01-31 -0.5 -0.8     0.6\n",
       "788        807          Jesup, GA    GA  2023-01-31  1.6  3.7     5.1\n",
       "815        839      Thomaston, GA    GA  2023-01-31  0.2  1.4     6.9\n",
       "816        840     Bainbridge, GA    GA  2023-01-31  1.1  2.7     4.4\n",
       "820        844         Toccoa, GA    GA  2023-01-31  0.1  1.1     6.0\n",
       "831        855    Summerville, GA    GA  2023-01-31  2.1  5.3    10.2\n",
       "852        878        Cordele, GA    GA  2023-01-31 -0.4 -0.4     0.6\n",
       "885        917     Fitzgerald, GA    GA  2023-01-31 -0.7 -0.7     2.1"
      ]
     },
     "execution_count": 10,
     "metadata": {},
     "output_type": "execute_result"
    }
   ],
   "source": [
    "hvf[hvf['state']=='GA']"
   ]
  },
  {
   "cell_type": "code",
   "execution_count": 11,
   "metadata": {},
   "outputs": [],
   "source": [
    "# mean and sum of metrics by state\n",
    "state_sum = hvf.groupby('state')[['feb', 'apr', 'jan_24']].sum()\n",
    "state_mean = hvf.groupby('state')[['feb', 'apr', 'jan_24']].mean()\n",
    "state_feb = hvf.groupby('state')['feb'].sum()\n",
    "state_apr = hvf.groupby('state')['apr'].sum()\n",
    "state_jan = hvf.groupby('state')['jan_24'].sum()"
   ]
  },
  {
   "attachments": {},
   "cell_type": "markdown",
   "metadata": {},
   "source": [
    "Decide whether to use sum or mean"
   ]
  },
  {
   "cell_type": "code",
   "execution_count": 12,
   "metadata": {},
   "outputs": [
    {
     "data": {
      "text/html": [
       "<div>\n",
       "<style scoped>\n",
       "    .dataframe tbody tr th:only-of-type {\n",
       "        vertical-align: middle;\n",
       "    }\n",
       "\n",
       "    .dataframe tbody tr th {\n",
       "        vertical-align: top;\n",
       "    }\n",
       "\n",
       "    .dataframe thead th {\n",
       "        text-align: right;\n",
       "    }\n",
       "</style>\n",
       "<table border=\"1\" class=\"dataframe\">\n",
       "  <thead>\n",
       "    <tr style=\"text-align: right;\">\n",
       "      <th></th>\n",
       "      <th>feb</th>\n",
       "      <th>apr</th>\n",
       "      <th>jan_24</th>\n",
       "    </tr>\n",
       "    <tr>\n",
       "      <th>state</th>\n",
       "      <th></th>\n",
       "      <th></th>\n",
       "      <th></th>\n",
       "    </tr>\n",
       "  </thead>\n",
       "  <tbody>\n",
       "    <tr>\n",
       "      <th>MS</th>\n",
       "      <td>1.180000</td>\n",
       "      <td>2.295000</td>\n",
       "      <td>-0.295000</td>\n",
       "    </tr>\n",
       "    <tr>\n",
       "      <th>AR</th>\n",
       "      <td>1.073684</td>\n",
       "      <td>1.930000</td>\n",
       "      <td>0.895000</td>\n",
       "    </tr>\n",
       "    <tr>\n",
       "      <th>MI</th>\n",
       "      <td>1.035484</td>\n",
       "      <td>2.212903</td>\n",
       "      <td>2.600000</td>\n",
       "    </tr>\n",
       "    <tr>\n",
       "      <th>LA</th>\n",
       "      <td>0.982353</td>\n",
       "      <td>1.535294</td>\n",
       "      <td>-2.317647</td>\n",
       "    </tr>\n",
       "    <tr>\n",
       "      <th>KY</th>\n",
       "      <td>0.855000</td>\n",
       "      <td>1.860000</td>\n",
       "      <td>2.660000</td>\n",
       "    </tr>\n",
       "    <tr>\n",
       "      <th>TN</th>\n",
       "      <td>0.854167</td>\n",
       "      <td>1.965385</td>\n",
       "      <td>4.211538</td>\n",
       "    </tr>\n",
       "    <tr>\n",
       "      <th>AL</th>\n",
       "      <td>0.843750</td>\n",
       "      <td>1.245000</td>\n",
       "      <td>1.120000</td>\n",
       "    </tr>\n",
       "    <tr>\n",
       "      <th>TX</th>\n",
       "      <td>0.826984</td>\n",
       "      <td>1.477612</td>\n",
       "      <td>0.720896</td>\n",
       "    </tr>\n",
       "    <tr>\n",
       "      <th>IL</th>\n",
       "      <td>0.826923</td>\n",
       "      <td>1.403846</td>\n",
       "      <td>-0.792308</td>\n",
       "    </tr>\n",
       "    <tr>\n",
       "      <th>NJ</th>\n",
       "      <td>0.775000</td>\n",
       "      <td>1.750000</td>\n",
       "      <td>2.675000</td>\n",
       "    </tr>\n",
       "  </tbody>\n",
       "</table>\n",
       "</div>"
      ],
      "text/plain": [
       "            feb       apr    jan_24\n",
       "state                              \n",
       "MS     1.180000  2.295000 -0.295000\n",
       "AR     1.073684  1.930000  0.895000\n",
       "MI     1.035484  2.212903  2.600000\n",
       "LA     0.982353  1.535294 -2.317647\n",
       "KY     0.855000  1.860000  2.660000\n",
       "TN     0.854167  1.965385  4.211538\n",
       "AL     0.843750  1.245000  1.120000\n",
       "TX     0.826984  1.477612  0.720896\n",
       "IL     0.826923  1.403846 -0.792308\n",
       "NJ     0.775000  1.750000  2.675000"
      ]
     },
     "execution_count": 12,
     "metadata": {},
     "output_type": "execute_result"
    }
   ],
   "source": [
    "state_mean.sort_values(by='feb', ascending=False).head(10)"
   ]
  },
  {
   "cell_type": "code",
   "execution_count": 13,
   "metadata": {},
   "outputs": [
    {
     "data": {
      "text/plain": [
       "Index(['AK', 'AL', 'AR', 'AZ', 'CA', 'CO', 'CT', 'DE', 'FL', 'GA', 'HI', 'IA',\n",
       "       'ID', 'IL', 'IN', 'KS', 'KY', 'LA', 'MA', 'MD', 'ME', 'MI', 'MN', 'MO',\n",
       "       'MS', 'MT', 'NC', 'ND', 'NE', 'NH', 'NJ', 'NM', 'NV', 'NY', 'OH', 'OK',\n",
       "       'OR', 'PA', 'RI', 'SC', 'SD', 'TN', 'TX', 'UT', 'VA', 'VT', 'WA', 'WI',\n",
       "       'WV', 'WY'],\n",
       "      dtype='object', name='state')"
      ]
     },
     "execution_count": 13,
     "metadata": {},
     "output_type": "execute_result"
    }
   ],
   "source": [
    "state_mean.index"
   ]
  },
  {
   "attachments": {},
   "cell_type": "markdown",
   "metadata": {},
   "source": [
    "### Georgia Forcast"
   ]
  },
  {
   "cell_type": "code",
   "execution_count": 14,
   "metadata": {},
   "outputs": [],
   "source": [
    "georgia = hvf.query(\"state== 'GA'\")\n",
    "penn = hvf.query(\"state== 'PA'\")\n",
    "maryl = hvf.query(\"state== 'MD'\")"
   ]
  },
  {
   "cell_type": "code",
   "execution_count": 15,
   "metadata": {},
   "outputs": [
    {
     "data": {
      "text/plain": [
       "Index(['size_rank', 'region', 'state', 'base_date', 'feb', 'apr', 'jan_24'], dtype='object')"
      ]
     },
     "execution_count": 15,
     "metadata": {},
     "output_type": "execute_result"
    }
   ],
   "source": [
    "georgia.columns"
   ]
  },
  {
   "cell_type": "code",
   "execution_count": 16,
   "metadata": {},
   "outputs": [],
   "source": [
    "georgia2 = georgia.set_index('region')"
   ]
  },
  {
   "cell_type": "code",
   "execution_count": 17,
   "metadata": {},
   "outputs": [
    {
     "data": {
      "text/plain": [
       "Index(['size_rank', 'state', 'base_date', 'feb', 'apr', 'jan_24'], dtype='object')"
      ]
     },
     "execution_count": 17,
     "metadata": {},
     "output_type": "execute_result"
    }
   ],
   "source": [
    "georgia2.columns"
   ]
  },
  {
   "cell_type": "code",
   "execution_count": 18,
   "metadata": {},
   "outputs": [
    {
     "data": {
      "text/html": [
       "<div>\n",
       "<style scoped>\n",
       "    .dataframe tbody tr th:only-of-type {\n",
       "        vertical-align: middle;\n",
       "    }\n",
       "\n",
       "    .dataframe tbody tr th {\n",
       "        vertical-align: top;\n",
       "    }\n",
       "\n",
       "    .dataframe thead th {\n",
       "        text-align: right;\n",
       "    }\n",
       "</style>\n",
       "<table border=\"1\" class=\"dataframe\">\n",
       "  <thead>\n",
       "    <tr style=\"text-align: right;\">\n",
       "      <th></th>\n",
       "      <th>size_rank</th>\n",
       "      <th>state</th>\n",
       "      <th>base_date</th>\n",
       "      <th>feb</th>\n",
       "      <th>apr</th>\n",
       "      <th>jan_24</th>\n",
       "    </tr>\n",
       "    <tr>\n",
       "      <th>region</th>\n",
       "      <th></th>\n",
       "      <th></th>\n",
       "      <th></th>\n",
       "      <th></th>\n",
       "      <th></th>\n",
       "      <th></th>\n",
       "    </tr>\n",
       "  </thead>\n",
       "  <tbody>\n",
       "    <tr>\n",
       "      <th>Atlanta, GA</th>\n",
       "      <td>9</td>\n",
       "      <td>GA</td>\n",
       "      <td>2023-01-31</td>\n",
       "      <td>-0.3</td>\n",
       "      <td>-0.6</td>\n",
       "      <td>1.3</td>\n",
       "    </tr>\n",
       "    <tr>\n",
       "      <th>Augusta, GA</th>\n",
       "      <td>95</td>\n",
       "      <td>GA</td>\n",
       "      <td>2023-01-31</td>\n",
       "      <td>0.2</td>\n",
       "      <td>0.5</td>\n",
       "      <td>1.6</td>\n",
       "    </tr>\n",
       "    <tr>\n",
       "      <th>Savannah, GA</th>\n",
       "      <td>138</td>\n",
       "      <td>GA</td>\n",
       "      <td>2023-01-31</td>\n",
       "      <td>0.4</td>\n",
       "      <td>1.2</td>\n",
       "      <td>2.8</td>\n",
       "    </tr>\n",
       "    <tr>\n",
       "      <th>Columbus, GA</th>\n",
       "      <td>161</td>\n",
       "      <td>GA</td>\n",
       "      <td>2023-01-31</td>\n",
       "      <td>0.1</td>\n",
       "      <td>0.0</td>\n",
       "      <td>0.3</td>\n",
       "    </tr>\n",
       "    <tr>\n",
       "      <th>Macon, GA</th>\n",
       "      <td>201</td>\n",
       "      <td>GA</td>\n",
       "      <td>2023-01-31</td>\n",
       "      <td>0.6</td>\n",
       "      <td>1.4</td>\n",
       "      <td>3.4</td>\n",
       "    </tr>\n",
       "  </tbody>\n",
       "</table>\n",
       "</div>"
      ],
      "text/plain": [
       "              size_rank state   base_date  feb  apr  jan_24\n",
       "region                                                     \n",
       "Atlanta, GA           9    GA  2023-01-31 -0.3 -0.6     1.3\n",
       "Augusta, GA          95    GA  2023-01-31  0.2  0.5     1.6\n",
       "Savannah, GA        138    GA  2023-01-31  0.4  1.2     2.8\n",
       "Columbus, GA        161    GA  2023-01-31  0.1  0.0     0.3\n",
       "Macon, GA           201    GA  2023-01-31  0.6  1.4     3.4"
      ]
     },
     "execution_count": 18,
     "metadata": {},
     "output_type": "execute_result"
    }
   ],
   "source": [
    "georgia2.head()"
   ]
  },
  {
   "cell_type": "code",
   "execution_count": 19,
   "metadata": {},
   "outputs": [],
   "source": [
    "georgia2.drop(columns=['size_rank', 'state', 'base_date'], inplace=True)"
   ]
  },
  {
   "cell_type": "code",
   "execution_count": 20,
   "metadata": {},
   "outputs": [
    {
     "data": {
      "application/vnd.plotly.v1+json": {
       "config": {
        "plotlyServerURL": "https://plot.ly"
       },
       "data": [
        {
         "hovertemplate": "variable=feb<br>region=%{x}<br>value=%{y}<extra></extra>",
         "legendgroup": "feb",
         "marker": {
          "color": "#636efa",
          "symbol": "circle"
         },
         "mode": "markers",
         "name": "feb",
         "orientation": "v",
         "showlegend": true,
         "type": "scatter",
         "x": [
          "Atlanta, GA",
          "Augusta, GA",
          "Savannah, GA",
          "Columbus, GA",
          "Macon, GA",
          "Athens, GA",
          "Gainesville, GA",
          "Warner Robins, GA",
          "Valdosta, GA",
          "Albany, GA",
          "Dalton, GA",
          "Brunswick, GA",
          "LaGrange, GA",
          "Rome, GA",
          "Hinesville, GA",
          "Statesboro, GA",
          "Jefferson, GA",
          "Dublin, GA",
          "Calhoun, GA",
          "St. Marys, GA",
          "Waycross, GA",
          "Milledgeville, GA",
          "Douglas, GA",
          "Cornelia, GA",
          "Moultrie, GA",
          "Thomasville, GA",
          "Cedartown, GA",
          "Tifton, GA",
          "Vidalia, GA",
          "Americus, GA",
          "Jesup, GA",
          "Thomaston, GA",
          "Bainbridge, GA",
          "Toccoa, GA",
          "Summerville, GA",
          "Cordele, GA",
          "Fitzgerald, GA"
         ],
         "xaxis": "x",
         "y": [
          -0.3,
          0.2,
          0.4,
          0.1,
          0.6,
          0.4,
          -0.2,
          0.4,
          0.8,
          0.2,
          0.8,
          0.3,
          0.3,
          0.9,
          0.5,
          0.2,
          0,
          1.4,
          0.2,
          0,
          1.2,
          0.5,
          0.9,
          -0.1,
          1.5,
          0.8,
          0,
          0.7,
          1.1,
          -0.5,
          1.6,
          0.2,
          1.1,
          0.1,
          2.1,
          -0.4,
          -0.7
         ],
         "yaxis": "y"
        },
        {
         "hovertemplate": "variable=apr<br>region=%{x}<br>value=%{y}<extra></extra>",
         "legendgroup": "apr",
         "marker": {
          "color": "#EF553B",
          "symbol": "circle"
         },
         "mode": "markers",
         "name": "apr",
         "orientation": "v",
         "showlegend": true,
         "type": "scatter",
         "x": [
          "Atlanta, GA",
          "Augusta, GA",
          "Savannah, GA",
          "Columbus, GA",
          "Macon, GA",
          "Athens, GA",
          "Gainesville, GA",
          "Warner Robins, GA",
          "Valdosta, GA",
          "Albany, GA",
          "Dalton, GA",
          "Brunswick, GA",
          "LaGrange, GA",
          "Rome, GA",
          "Hinesville, GA",
          "Statesboro, GA",
          "Jefferson, GA",
          "Dublin, GA",
          "Calhoun, GA",
          "St. Marys, GA",
          "Waycross, GA",
          "Milledgeville, GA",
          "Douglas, GA",
          "Cornelia, GA",
          "Moultrie, GA",
          "Thomasville, GA",
          "Cedartown, GA",
          "Tifton, GA",
          "Vidalia, GA",
          "Americus, GA",
          "Jesup, GA",
          "Thomaston, GA",
          "Bainbridge, GA",
          "Toccoa, GA",
          "Summerville, GA",
          "Cordele, GA",
          "Fitzgerald, GA"
         ],
         "xaxis": "x",
         "y": [
          -0.6,
          0.5,
          1.2,
          0,
          1.4,
          1,
          -0.3,
          0.6,
          1.5,
          0.9,
          1.7,
          1,
          0.6,
          2.2,
          0.6,
          0.3,
          0.3,
          2.8,
          0.6,
          -0.1,
          2.6,
          1.6,
          1.6,
          0.1,
          3.1,
          1.5,
          0.8,
          1,
          2.6,
          -0.8,
          3.7,
          1.4,
          2.7,
          1.1,
          5.3,
          -0.4,
          -0.7
         ],
         "yaxis": "y"
        },
        {
         "hovertemplate": "variable=jan_24<br>region=%{x}<br>value=%{y}<extra></extra>",
         "legendgroup": "jan_24",
         "marker": {
          "color": "#00cc96",
          "symbol": "circle"
         },
         "mode": "markers",
         "name": "jan_24",
         "orientation": "v",
         "showlegend": true,
         "type": "scatter",
         "x": [
          "Atlanta, GA",
          "Augusta, GA",
          "Savannah, GA",
          "Columbus, GA",
          "Macon, GA",
          "Athens, GA",
          "Gainesville, GA",
          "Warner Robins, GA",
          "Valdosta, GA",
          "Albany, GA",
          "Dalton, GA",
          "Brunswick, GA",
          "LaGrange, GA",
          "Rome, GA",
          "Hinesville, GA",
          "Statesboro, GA",
          "Jefferson, GA",
          "Dublin, GA",
          "Calhoun, GA",
          "St. Marys, GA",
          "Waycross, GA",
          "Milledgeville, GA",
          "Douglas, GA",
          "Cornelia, GA",
          "Moultrie, GA",
          "Thomasville, GA",
          "Cedartown, GA",
          "Tifton, GA",
          "Vidalia, GA",
          "Americus, GA",
          "Jesup, GA",
          "Thomaston, GA",
          "Bainbridge, GA",
          "Toccoa, GA",
          "Summerville, GA",
          "Cordele, GA",
          "Fitzgerald, GA"
         ],
         "xaxis": "x",
         "y": [
          1.3,
          1.6,
          2.8,
          0.3,
          3.4,
          3.4,
          1.8,
          1.1,
          2,
          2,
          2.8,
          2.3,
          2,
          4.8,
          1.8,
          1.2,
          2.7,
          3.1,
          3.1,
          0.7,
          4.6,
          3.6,
          2.3,
          2.3,
          2.4,
          1.7,
          5.8,
          0.3,
          2.8,
          0.6,
          5.1,
          6.9,
          4.4,
          6,
          10.2,
          0.6,
          2.1
         ],
         "yaxis": "y"
        }
       ],
       "layout": {
        "legend": {
         "title": {
          "text": "variable"
         },
         "tracegroupgap": 0
        },
        "template": {
         "data": {
          "bar": [
           {
            "error_x": {
             "color": "#2a3f5f"
            },
            "error_y": {
             "color": "#2a3f5f"
            },
            "marker": {
             "line": {
              "color": "white",
              "width": 0.5
             },
             "pattern": {
              "fillmode": "overlay",
              "size": 10,
              "solidity": 0.2
             }
            },
            "type": "bar"
           }
          ],
          "barpolar": [
           {
            "marker": {
             "line": {
              "color": "white",
              "width": 0.5
             },
             "pattern": {
              "fillmode": "overlay",
              "size": 10,
              "solidity": 0.2
             }
            },
            "type": "barpolar"
           }
          ],
          "carpet": [
           {
            "aaxis": {
             "endlinecolor": "#2a3f5f",
             "gridcolor": "#C8D4E3",
             "linecolor": "#C8D4E3",
             "minorgridcolor": "#C8D4E3",
             "startlinecolor": "#2a3f5f"
            },
            "baxis": {
             "endlinecolor": "#2a3f5f",
             "gridcolor": "#C8D4E3",
             "linecolor": "#C8D4E3",
             "minorgridcolor": "#C8D4E3",
             "startlinecolor": "#2a3f5f"
            },
            "type": "carpet"
           }
          ],
          "choropleth": [
           {
            "colorbar": {
             "outlinewidth": 0,
             "ticks": ""
            },
            "type": "choropleth"
           }
          ],
          "contour": [
           {
            "colorbar": {
             "outlinewidth": 0,
             "ticks": ""
            },
            "colorscale": [
             [
              0,
              "#0d0887"
             ],
             [
              0.1111111111111111,
              "#46039f"
             ],
             [
              0.2222222222222222,
              "#7201a8"
             ],
             [
              0.3333333333333333,
              "#9c179e"
             ],
             [
              0.4444444444444444,
              "#bd3786"
             ],
             [
              0.5555555555555556,
              "#d8576b"
             ],
             [
              0.6666666666666666,
              "#ed7953"
             ],
             [
              0.7777777777777778,
              "#fb9f3a"
             ],
             [
              0.8888888888888888,
              "#fdca26"
             ],
             [
              1,
              "#f0f921"
             ]
            ],
            "type": "contour"
           }
          ],
          "contourcarpet": [
           {
            "colorbar": {
             "outlinewidth": 0,
             "ticks": ""
            },
            "type": "contourcarpet"
           }
          ],
          "heatmap": [
           {
            "colorbar": {
             "outlinewidth": 0,
             "ticks": ""
            },
            "colorscale": [
             [
              0,
              "#0d0887"
             ],
             [
              0.1111111111111111,
              "#46039f"
             ],
             [
              0.2222222222222222,
              "#7201a8"
             ],
             [
              0.3333333333333333,
              "#9c179e"
             ],
             [
              0.4444444444444444,
              "#bd3786"
             ],
             [
              0.5555555555555556,
              "#d8576b"
             ],
             [
              0.6666666666666666,
              "#ed7953"
             ],
             [
              0.7777777777777778,
              "#fb9f3a"
             ],
             [
              0.8888888888888888,
              "#fdca26"
             ],
             [
              1,
              "#f0f921"
             ]
            ],
            "type": "heatmap"
           }
          ],
          "heatmapgl": [
           {
            "colorbar": {
             "outlinewidth": 0,
             "ticks": ""
            },
            "colorscale": [
             [
              0,
              "#0d0887"
             ],
             [
              0.1111111111111111,
              "#46039f"
             ],
             [
              0.2222222222222222,
              "#7201a8"
             ],
             [
              0.3333333333333333,
              "#9c179e"
             ],
             [
              0.4444444444444444,
              "#bd3786"
             ],
             [
              0.5555555555555556,
              "#d8576b"
             ],
             [
              0.6666666666666666,
              "#ed7953"
             ],
             [
              0.7777777777777778,
              "#fb9f3a"
             ],
             [
              0.8888888888888888,
              "#fdca26"
             ],
             [
              1,
              "#f0f921"
             ]
            ],
            "type": "heatmapgl"
           }
          ],
          "histogram": [
           {
            "marker": {
             "pattern": {
              "fillmode": "overlay",
              "size": 10,
              "solidity": 0.2
             }
            },
            "type": "histogram"
           }
          ],
          "histogram2d": [
           {
            "colorbar": {
             "outlinewidth": 0,
             "ticks": ""
            },
            "colorscale": [
             [
              0,
              "#0d0887"
             ],
             [
              0.1111111111111111,
              "#46039f"
             ],
             [
              0.2222222222222222,
              "#7201a8"
             ],
             [
              0.3333333333333333,
              "#9c179e"
             ],
             [
              0.4444444444444444,
              "#bd3786"
             ],
             [
              0.5555555555555556,
              "#d8576b"
             ],
             [
              0.6666666666666666,
              "#ed7953"
             ],
             [
              0.7777777777777778,
              "#fb9f3a"
             ],
             [
              0.8888888888888888,
              "#fdca26"
             ],
             [
              1,
              "#f0f921"
             ]
            ],
            "type": "histogram2d"
           }
          ],
          "histogram2dcontour": [
           {
            "colorbar": {
             "outlinewidth": 0,
             "ticks": ""
            },
            "colorscale": [
             [
              0,
              "#0d0887"
             ],
             [
              0.1111111111111111,
              "#46039f"
             ],
             [
              0.2222222222222222,
              "#7201a8"
             ],
             [
              0.3333333333333333,
              "#9c179e"
             ],
             [
              0.4444444444444444,
              "#bd3786"
             ],
             [
              0.5555555555555556,
              "#d8576b"
             ],
             [
              0.6666666666666666,
              "#ed7953"
             ],
             [
              0.7777777777777778,
              "#fb9f3a"
             ],
             [
              0.8888888888888888,
              "#fdca26"
             ],
             [
              1,
              "#f0f921"
             ]
            ],
            "type": "histogram2dcontour"
           }
          ],
          "mesh3d": [
           {
            "colorbar": {
             "outlinewidth": 0,
             "ticks": ""
            },
            "type": "mesh3d"
           }
          ],
          "parcoords": [
           {
            "line": {
             "colorbar": {
              "outlinewidth": 0,
              "ticks": ""
             }
            },
            "type": "parcoords"
           }
          ],
          "pie": [
           {
            "automargin": true,
            "type": "pie"
           }
          ],
          "scatter": [
           {
            "marker": {
             "colorbar": {
              "outlinewidth": 0,
              "ticks": ""
             }
            },
            "type": "scatter"
           }
          ],
          "scatter3d": [
           {
            "line": {
             "colorbar": {
              "outlinewidth": 0,
              "ticks": ""
             }
            },
            "marker": {
             "colorbar": {
              "outlinewidth": 0,
              "ticks": ""
             }
            },
            "type": "scatter3d"
           }
          ],
          "scattercarpet": [
           {
            "marker": {
             "colorbar": {
              "outlinewidth": 0,
              "ticks": ""
             }
            },
            "type": "scattercarpet"
           }
          ],
          "scattergeo": [
           {
            "marker": {
             "colorbar": {
              "outlinewidth": 0,
              "ticks": ""
             }
            },
            "type": "scattergeo"
           }
          ],
          "scattergl": [
           {
            "marker": {
             "colorbar": {
              "outlinewidth": 0,
              "ticks": ""
             }
            },
            "type": "scattergl"
           }
          ],
          "scattermapbox": [
           {
            "marker": {
             "colorbar": {
              "outlinewidth": 0,
              "ticks": ""
             }
            },
            "type": "scattermapbox"
           }
          ],
          "scatterpolar": [
           {
            "marker": {
             "colorbar": {
              "outlinewidth": 0,
              "ticks": ""
             }
            },
            "type": "scatterpolar"
           }
          ],
          "scatterpolargl": [
           {
            "marker": {
             "colorbar": {
              "outlinewidth": 0,
              "ticks": ""
             }
            },
            "type": "scatterpolargl"
           }
          ],
          "scatterternary": [
           {
            "marker": {
             "colorbar": {
              "outlinewidth": 0,
              "ticks": ""
             }
            },
            "type": "scatterternary"
           }
          ],
          "surface": [
           {
            "colorbar": {
             "outlinewidth": 0,
             "ticks": ""
            },
            "colorscale": [
             [
              0,
              "#0d0887"
             ],
             [
              0.1111111111111111,
              "#46039f"
             ],
             [
              0.2222222222222222,
              "#7201a8"
             ],
             [
              0.3333333333333333,
              "#9c179e"
             ],
             [
              0.4444444444444444,
              "#bd3786"
             ],
             [
              0.5555555555555556,
              "#d8576b"
             ],
             [
              0.6666666666666666,
              "#ed7953"
             ],
             [
              0.7777777777777778,
              "#fb9f3a"
             ],
             [
              0.8888888888888888,
              "#fdca26"
             ],
             [
              1,
              "#f0f921"
             ]
            ],
            "type": "surface"
           }
          ],
          "table": [
           {
            "cells": {
             "fill": {
              "color": "#EBF0F8"
             },
             "line": {
              "color": "white"
             }
            },
            "header": {
             "fill": {
              "color": "#C8D4E3"
             },
             "line": {
              "color": "white"
             }
            },
            "type": "table"
           }
          ]
         },
         "layout": {
          "annotationdefaults": {
           "arrowcolor": "#2a3f5f",
           "arrowhead": 0,
           "arrowwidth": 1
          },
          "autotypenumbers": "strict",
          "coloraxis": {
           "colorbar": {
            "outlinewidth": 0,
            "ticks": ""
           }
          },
          "colorscale": {
           "diverging": [
            [
             0,
             "#8e0152"
            ],
            [
             0.1,
             "#c51b7d"
            ],
            [
             0.2,
             "#de77ae"
            ],
            [
             0.3,
             "#f1b6da"
            ],
            [
             0.4,
             "#fde0ef"
            ],
            [
             0.5,
             "#f7f7f7"
            ],
            [
             0.6,
             "#e6f5d0"
            ],
            [
             0.7,
             "#b8e186"
            ],
            [
             0.8,
             "#7fbc41"
            ],
            [
             0.9,
             "#4d9221"
            ],
            [
             1,
             "#276419"
            ]
           ],
           "sequential": [
            [
             0,
             "#0d0887"
            ],
            [
             0.1111111111111111,
             "#46039f"
            ],
            [
             0.2222222222222222,
             "#7201a8"
            ],
            [
             0.3333333333333333,
             "#9c179e"
            ],
            [
             0.4444444444444444,
             "#bd3786"
            ],
            [
             0.5555555555555556,
             "#d8576b"
            ],
            [
             0.6666666666666666,
             "#ed7953"
            ],
            [
             0.7777777777777778,
             "#fb9f3a"
            ],
            [
             0.8888888888888888,
             "#fdca26"
            ],
            [
             1,
             "#f0f921"
            ]
           ],
           "sequentialminus": [
            [
             0,
             "#0d0887"
            ],
            [
             0.1111111111111111,
             "#46039f"
            ],
            [
             0.2222222222222222,
             "#7201a8"
            ],
            [
             0.3333333333333333,
             "#9c179e"
            ],
            [
             0.4444444444444444,
             "#bd3786"
            ],
            [
             0.5555555555555556,
             "#d8576b"
            ],
            [
             0.6666666666666666,
             "#ed7953"
            ],
            [
             0.7777777777777778,
             "#fb9f3a"
            ],
            [
             0.8888888888888888,
             "#fdca26"
            ],
            [
             1,
             "#f0f921"
            ]
           ]
          },
          "colorway": [
           "#636efa",
           "#EF553B",
           "#00cc96",
           "#ab63fa",
           "#FFA15A",
           "#19d3f3",
           "#FF6692",
           "#B6E880",
           "#FF97FF",
           "#FECB52"
          ],
          "font": {
           "color": "#2a3f5f"
          },
          "geo": {
           "bgcolor": "white",
           "lakecolor": "white",
           "landcolor": "white",
           "showlakes": true,
           "showland": true,
           "subunitcolor": "#C8D4E3"
          },
          "hoverlabel": {
           "align": "left"
          },
          "hovermode": "closest",
          "mapbox": {
           "style": "light"
          },
          "paper_bgcolor": "white",
          "plot_bgcolor": "white",
          "polar": {
           "angularaxis": {
            "gridcolor": "#EBF0F8",
            "linecolor": "#EBF0F8",
            "ticks": ""
           },
           "bgcolor": "white",
           "radialaxis": {
            "gridcolor": "#EBF0F8",
            "linecolor": "#EBF0F8",
            "ticks": ""
           }
          },
          "scene": {
           "xaxis": {
            "backgroundcolor": "white",
            "gridcolor": "#DFE8F3",
            "gridwidth": 2,
            "linecolor": "#EBF0F8",
            "showbackground": true,
            "ticks": "",
            "zerolinecolor": "#EBF0F8"
           },
           "yaxis": {
            "backgroundcolor": "white",
            "gridcolor": "#DFE8F3",
            "gridwidth": 2,
            "linecolor": "#EBF0F8",
            "showbackground": true,
            "ticks": "",
            "zerolinecolor": "#EBF0F8"
           },
           "zaxis": {
            "backgroundcolor": "white",
            "gridcolor": "#DFE8F3",
            "gridwidth": 2,
            "linecolor": "#EBF0F8",
            "showbackground": true,
            "ticks": "",
            "zerolinecolor": "#EBF0F8"
           }
          },
          "shapedefaults": {
           "line": {
            "color": "#2a3f5f"
           }
          },
          "ternary": {
           "aaxis": {
            "gridcolor": "#DFE8F3",
            "linecolor": "#A2B1C6",
            "ticks": ""
           },
           "baxis": {
            "gridcolor": "#DFE8F3",
            "linecolor": "#A2B1C6",
            "ticks": ""
           },
           "bgcolor": "white",
           "caxis": {
            "gridcolor": "#DFE8F3",
            "linecolor": "#A2B1C6",
            "ticks": ""
           }
          },
          "title": {
           "x": 0.05
          },
          "xaxis": {
           "automargin": true,
           "gridcolor": "#EBF0F8",
           "linecolor": "#EBF0F8",
           "ticks": "",
           "title": {
            "standoff": 15
           },
           "zerolinecolor": "#EBF0F8",
           "zerolinewidth": 2
          },
          "yaxis": {
           "automargin": true,
           "gridcolor": "#EBF0F8",
           "linecolor": "#EBF0F8",
           "ticks": "",
           "title": {
            "standoff": 15
           },
           "zerolinecolor": "#EBF0F8",
           "zerolinewidth": 2
          }
         }
        },
        "title": {
         "text": "Georgia Home Value Forcecasts"
        },
        "xaxis": {
         "anchor": "y",
         "domain": [
          0,
          1
         ],
         "title": {
          "text": "region"
         }
        },
        "yaxis": {
         "anchor": "x",
         "domain": [
          0,
          1
         ],
         "title": {
          "text": "value"
         }
        }
       }
      }
     },
     "metadata": {},
     "output_type": "display_data"
    }
   ],
   "source": [
    "px.scatter(georgia2, title='Georgia Home Value Forcecasts', template='plotly_white')"
   ]
  },
  {
   "cell_type": "code",
   "execution_count": 21,
   "metadata": {},
   "outputs": [
    {
     "data": {
      "application/vnd.plotly.v1+json": {
       "config": {
        "plotlyServerURL": "https://plot.ly"
       },
       "data": [
        {
         "hovertemplate": "variable=feb<br>state=%{x}<br>value=%{y}<extra></extra>",
         "legendgroup": "feb",
         "marker": {
          "color": "#636efa",
          "opacity": 0.8,
          "symbol": "circle"
         },
         "mode": "markers",
         "name": "feb",
         "showlegend": true,
         "type": "scattergl",
         "x": [
          null,
          "NY",
          "CA",
          "IL",
          "TX",
          "TX",
          "VA",
          "FL",
          "PA",
          "GA",
          "AZ",
          "MA",
          "CA",
          "CA",
          "MI",
          "WA",
          "MN",
          "CA",
          "FL",
          "CO",
          "MO",
          "MD",
          "NC",
          "FL",
          "TX",
          "OR",
          "CA",
          "NV",
          "PA",
          "TX",
          "OH",
          "MO",
          "OH",
          "IN",
          "OH",
          "CA",
          "TN",
          "VA",
          "RI",
          "FL",
          "WI",
          "OK",
          "NC",
          "TN",
          "VA",
          "LA",
          "KY",
          "UT",
          "CT",
          "NY",
          "AL",
          "MI",
          "NY",
          "AZ",
          "OK",
          "CA",
          "HI",
          "NE",
          "MA",
          "CT",
          "SC",
          "NM",
          "CA",
          "NY",
          "TN",
          "TX",
          "LA",
          "FL",
          "CT",
          "SC",
          "PA",
          "TX",
          "CA",
          "SC",
          "FL",
          "NC",
          "ID",
          "CA",
          "CO",
          "AR",
          "FL",
          "IA",
          "OH",
          "MA",
          "UT",
          "FL",
          "NC",
          "WI",
          "UT",
          "NC",
          "NY",
          "KS",
          "OH",
          "GA",
          "FL",
          "MS",
          "PA",
          "WA",
          "TN",
          "PA",
          "CA",
          "AR",
          "MI",
          "PA",
          "ME",
          "OH",
          "NC",
          "KY",
          "SC",
          "FL",
          "FL",
          "CA",
          "LA",
          "AL",
          "NV",
          "MO",
          "CA",
          "TX",
          "NC",
          "PA",
          "CA",
          "CA",
          "OR",
          "CA",
          "TX",
          "AL",
          "TX",
          "DE",
          "PA",
          "MS",
          "NH",
          "IN",
          "MI",
          "AK",
          "IL",
          "OH",
          "GA",
          "FL",
          "LA",
          "TX",
          "FL",
          "OR",
          "IL",
          "FL",
          "AL",
          "NC",
          "NJ",
          "MI",
          "CO",
          "OH",
          "NE",
          "IL",
          "CO",
          "FL",
          "CO",
          "TX",
          "SC",
          "WI",
          "IN",
          "GA",
          "IN",
          "TN",
          "VA",
          "TN",
          "WA",
          "NC",
          "WA",
          "MD",
          "FL",
          "MN",
          "NY",
          "TX",
          "CA",
          "CA",
          "TX",
          "TX",
          "IA",
          "SD",
          "WA",
          "CA",
          "PA",
          "TX",
          "MI",
          "TX",
          "CT",
          "VA",
          "NJ",
          "WV",
          "AL",
          "WA",
          "AR",
          "ND",
          "WI",
          "NY",
          "TX",
          "IN",
          "WA",
          "KS",
          "GA",
          "AL",
          "SC",
          "IL",
          "MN",
          "OR",
          "NM",
          "VT",
          "VA",
          "AZ",
          "AZ",
          "GA",
          "MA",
          "CA",
          "LA",
          "MO",
          "LA",
          "GA",
          "IN",
          "IL",
          "TN",
          "SC",
          "NC",
          "HI",
          "MN",
          "OR",
          "LA",
          "WI",
          "FL",
          "MI",
          "GA",
          "IN",
          "UT",
          "MT",
          "TX",
          "DE",
          "NC",
          "KY",
          "CA",
          "MO",
          "CT",
          "TN",
          "CA",
          "NY",
          "CA",
          "IA",
          "MI",
          "TX",
          "WI",
          "NC",
          "FL",
          "IL",
          "ID",
          "PA",
          "WI",
          "CO",
          "MS",
          "IN",
          "IA",
          "HI",
          "TX",
          "VA",
          "AL",
          "MS",
          "WI",
          "WI",
          "FL",
          "PA",
          "CA",
          "MI",
          "PA",
          "CO",
          "ID",
          "KY",
          "MI",
          "FL",
          "AL",
          "CA",
          "NH",
          "TX",
          "NM",
          "ME",
          "MI",
          "LA",
          "MI",
          "AL",
          "MO",
          "TX",
          "AL",
          "GA",
          "KY",
          "NJ",
          "NC",
          "GA",
          "IA",
          "SD",
          "UT",
          "TN",
          "GA",
          "AZ",
          "VA",
          "PA",
          "PA",
          "WV",
          "SC",
          "FL",
          "TX",
          "OH",
          "WI",
          "LA",
          "CA",
          "VA",
          "AR",
          "IL",
          "CA",
          "OH",
          "MI",
          "OR",
          "WA",
          "KS",
          "NC",
          "ND",
          "PA",
          "AZ",
          "OK",
          "NY",
          "TN",
          "MA",
          "IA",
          "VA",
          "NY",
          "NC",
          "NM",
          "NC",
          "ME",
          "TX",
          "MO",
          "KS",
          "MT",
          "WA",
          "PA",
          "OH",
          "KY",
          "GA",
          "MI",
          "MT",
          "OH",
          "TN",
          "WI",
          "OH",
          "WV",
          "MD",
          "AL",
          "IN",
          "PA",
          "ID",
          "AZ",
          "WA",
          "OR",
          "IN",
          "IL",
          "ME",
          "KY",
          "NY",
          "NY",
          "FL",
          "TN",
          "MT",
          "VA",
          "WI",
          "NC",
          "GA",
          "IL",
          "WI",
          "PA",
          "MN",
          "MI",
          "AL",
          "OH",
          "OH",
          "NY",
          "WY",
          "MN",
          "AR",
          "VA",
          "CA",
          "TX",
          "WA",
          "TN",
          "NC",
          "GA",
          "MS",
          "MI",
          "IA",
          "MO",
          "AL",
          "MD",
          "OH",
          "ID",
          "KY",
          "AK",
          "MN",
          "NY",
          "OR",
          "WV",
          "OH",
          "NJ",
          "PA",
          "OR",
          "WV",
          "OR",
          "WI",
          "TX",
          "AR",
          "CA",
          "OH",
          "WA",
          "AR",
          "SC",
          "PA",
          "WI",
          "AL",
          "IN",
          "MS",
          "TX",
          "PA",
          "PA",
          "MI",
          "GA",
          "PA",
          "IN",
          "NY",
          "MT",
          "WA",
          "NC",
          "OK",
          "LA",
          "MT",
          "GA",
          "WY",
          "SC",
          "AL",
          "NY",
          "IN",
          "WI",
          "AR",
          "PA",
          "CO",
          "WA",
          "UT",
          "ND",
          "OH",
          "NH",
          "GA",
          "NY",
          "WA",
          "NY",
          "OH",
          "NE",
          "IL",
          "FL",
          "IL",
          "OH",
          "KY",
          "FL",
          "OH",
          "OK",
          "PA",
          "FL",
          "WI",
          "TX",
          "HI",
          "NM",
          "NC",
          "SC",
          "WI",
          "NM",
          "TN",
          "NC",
          "MI",
          "OR",
          "NC",
          "WA",
          "NC",
          "NM",
          "OK",
          "MN",
          "NC",
          "MO",
          "MI",
          "IN",
          "KY",
          "OH",
          "IN",
          "OH",
          "TX",
          "OR",
          "NM",
          "CA",
          "CA",
          "WI",
          "TX",
          "GA",
          "ID",
          "SC",
          "NC",
          "WI",
          "VA",
          "OH",
          "NC",
          "KS",
          "TN",
          "NH",
          "WA",
          "IL",
          "WY",
          "OK",
          "MI",
          "PA",
          "OH",
          "KS",
          "NY",
          "MS",
          "GA",
          "MN",
          "NY",
          "OK",
          "NM",
          "TX",
          "OH",
          "VT",
          "NV",
          "MS",
          "NC",
          "OH",
          "TX",
          "VT",
          "IA",
          "SC",
          "NY",
          "UT",
          "NE",
          "CO",
          "NC",
          "OH",
          "MO",
          "NV",
          "WV",
          "MS",
          "OR",
          "NC",
          "MO",
          "GA",
          "GA",
          "AR",
          "NV",
          "OH",
          "CO",
          "IN",
          "KY",
          "IL",
          "CA",
          "MS",
          "KY",
          "AZ",
          "MO",
          "TN",
          "NC",
          "GA",
          "ID",
          "OH",
          "AL",
          "TX",
          "TX",
          "NY",
          "MO",
          "OK",
          "GA",
          "AL",
          "TX",
          "OH",
          "WI",
          "TX",
          "OR",
          "MN",
          "PA",
          "IL",
          "TN",
          "NY",
          "TX",
          "WA",
          "IA",
          "WA",
          "LA",
          "NY",
          "NV",
          "IL",
          "TX",
          "OK",
          "OK",
          "AL",
          "MI",
          "NM",
          "OH",
          "LA",
          "CO",
          "NV",
          "IN",
          "LA",
          "NE",
          "CO",
          "IN",
          "MN",
          "ID",
          "NY",
          "KY",
          "NC",
          "ID",
          "AZ",
          "LA",
          "KY",
          "IA",
          "MN",
          "IN",
          "PA",
          "GA",
          "TX",
          "NC",
          "LA",
          "OH",
          "MI",
          "AR",
          "GA",
          "IN",
          "ID",
          "WI",
          "WI",
          "OH",
          "IA",
          "AR",
          "MS",
          "NC",
          "KY",
          "PA",
          "TN",
          "MO",
          "GA",
          "NC",
          "PA",
          "IN",
          "MI",
          "IL",
          "OK",
          "IN",
          "MI",
          "OK",
          "TX",
          "MN",
          "OK",
          "GA",
          "MS",
          "FL",
          "WY",
          "SD",
          "MO",
          "IA",
          "FL",
          "AR",
          "OH",
          "TX",
          "TN",
          "TX",
          "OH",
          "OH",
          "VA",
          "ID",
          "GA",
          "OR",
          "PA",
          "PA",
          "MI",
          "MO",
          "MN",
          "AR",
          "KS",
          "IA",
          "WY",
          "KY",
          "AZ",
          "MS",
          "OH",
          "WY",
          "PA",
          "OH",
          "KS",
          "MO",
          "ND",
          "NM",
          "FL",
          "SC",
          "OK",
          "IN",
          "IL",
          "MN",
          "MO",
          "AR",
          "PA",
          "LA",
          "OH",
          "LA",
          "TX",
          "MS",
          "NC",
          "IN",
          "NE",
          "MI",
          "IL",
          "TX",
          "IL",
          "MD",
          "MI",
          "MS",
          "KY",
          "TX",
          "KY",
          "TN",
          "MN",
          "TX",
          "IN",
          "OH",
          "IN",
          "TN",
          "NE",
          "AL",
          "WY",
          "GA",
          "UT",
          "MO",
          "IN",
          "TX",
          "MN",
          "KS",
          "MI",
          "SD",
          "NE",
          "IL",
          "VT",
          "IN",
          "MT",
          "TN",
          "IA",
          "IN",
          "NC",
          "NC",
          "GA",
          "SD",
          "IL",
          "NY",
          "MS",
          "AR",
          "IL",
          "IN",
          "TN",
          "NE",
          "TN",
          "KS",
          "ND",
          "AL",
          "TX",
          "NM",
          "TX",
          "OH",
          "IN",
          "IN",
          "IL",
          "TN",
          "MD",
          "AK",
          "NM",
          "KS",
          "NE",
          "NH",
          "OK",
          "WY",
          "IN",
          "TX",
          "CO",
          "MN",
          "MS",
          "TN",
          "GA",
          "CA",
          "MO",
          "MI",
          "TX",
          "IL",
          "MI",
          "CO",
          "MO",
          "KS",
          "OK",
          "OH",
          "KS",
          "WV",
          "IL",
          "AR",
          "MI",
          "OH",
          "CA",
          "IN",
          "ID",
          "NM",
          "TX",
          "FL",
          "TX",
          "IN",
          "OR",
          "GA",
          "GA",
          "OR",
          "NM",
          "SD",
          "GA",
          "KS",
          "KS",
          "SC",
          "CO",
          "NE",
          "KY",
          "NV",
          "MN",
          "OR",
          "MN",
          "GA",
          "MO",
          "MS",
          "AR",
          "ID",
          "MO",
          "OK",
          "NM",
          "OK",
          "AR",
          "OR",
          "SD",
          "OR",
          "TX",
          "IN",
          "MO",
          "SD",
          "TX",
          "IA",
          "ND",
          "AR",
          "GA",
          "CO",
          "MO",
          "MS",
          "OK",
          "NE",
          "MN",
          "TX",
          "KS",
          "TX",
          "UT",
          "TX",
          "TX",
          "MS",
          "SD",
          "ND",
          "SD",
          "WY",
          "WA",
          "OK",
          "IA",
          "KS",
          "NM",
          "TX",
          "NM",
          "IA",
          "TX",
          "IA",
          "MA",
          "AR",
          "KY",
          "NV",
          "TX",
          "GA",
          "TX",
          "KS",
          "IA",
          "TX",
          "SD",
          "TX",
          "AK",
          "CO",
          "TX",
          "TX"
         ],
         "xaxis": "x",
         "y": [
          -0.1,
          0,
          -1.3,
          0.3,
          -0.4,
          -0.5,
          -0.1,
          -0.1,
          0.2,
          -0.3,
          -0.9,
          -0.1,
          -0.7,
          -0.9,
          0.4,
          -0.2,
          -0.2,
          -0.5,
          -0.4,
          -0.3,
          0.3,
          0.3,
          -0.3,
          -0.4,
          -0.3,
          -0.4,
          -0.8,
          -1,
          0.2,
          -1,
          0.2,
          0.4,
          0.2,
          0,
          0.3,
          -1.3,
          -0.3,
          0.1,
          0.1,
          -0.5,
          0.5,
          -0.2,
          -0.5,
          0.1,
          0.2,
          0.4,
          0.1,
          -0.1,
          0.3,
          0.1,
          0.2,
          0.4,
          0.1,
          -0.5,
          0.1,
          -0.5,
          -0.7,
          0.2,
          0.2,
          0,
          0.2,
          0,
          -0.4,
          0.1,
          0.6,
          0,
          0.3,
          -0.4,
          0.2,
          0.3,
          0.3,
          0.4,
          -0.7,
          0,
          -0.6,
          0.8,
          -0.7,
          -0.7,
          -0.4,
          0.5,
          -0.5,
          0,
          0.2,
          0.2,
          -0.4,
          -0.4,
          0.4,
          0.2,
          -0.3,
          -0.5,
          0.2,
          0.7,
          0.3,
          0.2,
          -0.5,
          0,
          0.2,
          -0.1,
          0.8,
          1.3,
          -0.5,
          0.2,
          0.4,
          0.4,
          0.1,
          0.8,
          0.9,
          0.3,
          -0.2,
          0,
          -0.5,
          -0.5,
          0.5,
          0.6,
          -0.6,
          0,
          -0.6,
          0,
          0.1,
          0,
          -0.5,
          -0.5,
          -0.2,
          -0.6,
          0,
          0.9,
          1.5,
          0.1,
          0.2,
          0.6,
          0.2,
          0.2,
          0.9,
          -0.4,
          0.1,
          0.3,
          0.4,
          -0.2,
          1.3,
          1,
          0.6,
          -0.1,
          0.3,
          -0.3,
          0.5,
          0.4,
          0.8,
          0.1,
          -0.2,
          0.2,
          0.2,
          0.4,
          -0.3,
          -0.1,
          -0.3,
          -0.1,
          0.2,
          0.7,
          0.7,
          0.1,
          0.1,
          0.3,
          0.1,
          1.2,
          -0.1,
          0.1,
          -0.2,
          0.3,
          -0.3,
          0.7,
          0.4,
          0.8,
          -0.9,
          -0.6,
          0.5,
          -0.1,
          -0.2,
          0,
          -0.4,
          -0.6,
          0.3,
          0.5,
          0.4,
          -0.1,
          0.2,
          0.3,
          0.9,
          0.7,
          0.5,
          -0.1,
          0.8,
          0.3,
          0.7,
          0.4,
          0.5,
          0.1,
          -0.6,
          0.4,
          0.6,
          -0.1,
          0.1,
          0.3,
          -0.2,
          -0.5,
          0.1,
          0.3,
          -0.1,
          -0.3,
          -0.6,
          0.4,
          -0.3,
          -0.7,
          -0.3,
          -0.1,
          0.9,
          -0.2,
          0.1,
          0.4,
          1.2,
          0.3,
          0.4,
          -0.8,
          0.1,
          -0.7,
          -0.9,
          0.7,
          -0.7,
          0.9,
          0.4,
          0.3,
          -0.3,
          0.3,
          0.1,
          0,
          0.2,
          -0.1,
          0.4,
          0.5,
          0.2,
          1.3,
          -0.6,
          -0.3,
          -0.8,
          0.2,
          0.5,
          0.6,
          0.5,
          0.1,
          0.1,
          0.3,
          -0.2,
          0.1,
          0.4,
          -0.3,
          0.4,
          -0.1,
          0.4,
          -0.3,
          0.5,
          0.3,
          0.2,
          1,
          0.9,
          0.7,
          -0.3,
          0.2,
          -0.4,
          0.4,
          0.2,
          0,
          -0.7,
          0,
          0.4,
          -0.3,
          null,
          -0.3,
          0,
          0.3,
          -0.4,
          0.7,
          0.5,
          0.6,
          0.4,
          1.1,
          0.1,
          1.3,
          0.9,
          0.8,
          1.3,
          1.5,
          0.3,
          0.2,
          0.3,
          0,
          -0.3,
          1.2,
          0.8,
          -0.5,
          -0.1,
          0.3,
          1.6,
          -0.2,
          0.9,
          -0.7,
          0.8,
          0.3,
          0.2,
          0.7,
          -0.9,
          0.8,
          0.7,
          0.9,
          0.1,
          0.3,
          1.3,
          -0.1,
          -0.3,
          0.3,
          0.2,
          -0.2,
          2.4,
          0.4,
          0,
          0.3,
          0.7,
          0.1,
          -0.4,
          0.5,
          -0.1,
          1.5,
          0.2,
          0.6,
          0.4,
          0.6,
          0.5,
          -0.1,
          -0.1,
          -0.3,
          1.4,
          0.5,
          0.3,
          0.3,
          0.3,
          -0.2,
          1.9,
          1.4,
          0.7,
          0.7,
          0.2,
          0.1,
          null,
          0.4,
          0.2,
          -0.8,
          -0.3,
          0,
          -0.4,
          0.2,
          0.6,
          0.9,
          0.8,
          -0.1,
          0,
          -0.1,
          0.9,
          -0.2,
          0.3,
          0.6,
          0,
          0.3,
          1.8,
          0.6,
          0.2,
          -0.1,
          1.2,
          null,
          0.3,
          0.5,
          -0.2,
          -0.1,
          0,
          0.2,
          0.6,
          -0.9,
          0.3,
          -0.3,
          0.4,
          2.6,
          0.9,
          1.1,
          0.5,
          0,
          0.1,
          0.9,
          1,
          0.2,
          -0.4,
          1.6,
          0,
          -0.2,
          -0.5,
          -0.3,
          0.5,
          0,
          -0.1,
          2.8,
          -0.2,
          0.3,
          -0.4,
          0.8,
          0.9,
          3.5,
          -0.2,
          0.3,
          -0.6,
          0.9,
          1.4,
          0.6,
          0.4,
          1.2,
          0.2,
          1.6,
          0.7,
          1,
          0.5,
          0.8,
          0.5,
          1,
          0.3,
          0.1,
          0,
          -0.3,
          0.4,
          -0.2,
          2.4,
          0.4,
          0.2,
          0.3,
          -0.1,
          0.8,
          -0.5,
          0,
          1,
          1.2,
          3,
          -0.3,
          -0.3,
          -0.6,
          0.1,
          0.9,
          0,
          0,
          0,
          0,
          0,
          0.1,
          0.2,
          1.9,
          1.3,
          0.7,
          0.1,
          0.4,
          -0.5,
          0.5,
          0.1,
          0.3,
          -0.2,
          1,
          0.2,
          -0.1,
          1,
          -0.7,
          0.8,
          0.8,
          0.8,
          null,
          0,
          1.2,
          0.1,
          1.2,
          -0.3,
          0.4,
          0.2,
          0.2,
          0.2,
          -0.1,
          0.5,
          0.9,
          0.5,
          1.6,
          0,
          0.6,
          0.7,
          1.7,
          -0.3,
          1.8,
          -0.6,
          -0.4,
          0.9,
          null,
          1.4,
          -0.3,
          -0.2,
          0.1,
          1.3,
          2.7,
          0.3,
          0.6,
          0.3,
          0.6,
          -0.3,
          -0.2,
          1.4,
          -0.3,
          0,
          0.5,
          -0.2,
          0.2,
          -0.1,
          -0.2,
          0.3,
          0.2,
          0.6,
          0.1,
          -0.5,
          -1,
          0.5,
          0.1,
          1,
          -0.8,
          1.5,
          0,
          0,
          0.4,
          1,
          0.4,
          2.8,
          -0.2,
          -0.1,
          0.3,
          -0.5,
          -0.3,
          0.3,
          0,
          -0.8,
          0.8,
          1,
          -0.8,
          0.4,
          1,
          0,
          1.2,
          2.1,
          -0.2,
          0.2,
          -0.4,
          0.2,
          0.9,
          0.9,
          -1.1,
          0.3,
          1.1,
          0,
          0.6,
          1.3,
          0.4,
          0.5,
          -0.8,
          0.1,
          0.8,
          0.2,
          -0.1,
          -0.1,
          0.9,
          0.5,
          0.9,
          null,
          2.7,
          0.1,
          0.6,
          1.3,
          -0.2,
          -0.2,
          0.2,
          0.5,
          0.5,
          0.2,
          1.4,
          0.1,
          -0.6,
          -0.4,
          2.2,
          -0.1,
          -0.3,
          0.5,
          1.7,
          0.3,
          0.1,
          1.7,
          2.3,
          0.3,
          0,
          2.8,
          -0.4,
          -0.5,
          0.6,
          1.3,
          0,
          0,
          0.2,
          0.2,
          -0.6,
          -0.3,
          1.1,
          0.2,
          -1.4,
          -0.2,
          0,
          0.1,
          0.1,
          0.2,
          0.2,
          1.1,
          -0.1,
          1.4,
          0.2,
          3.5,
          0.1,
          0.9,
          0.9,
          1.5,
          0,
          -0.7,
          0.4,
          1.2,
          0.2,
          0.2,
          0.1,
          1.3,
          2.6,
          0.6,
          0.1,
          1.3,
          0.4,
          0.8,
          3.6,
          0.3,
          0.1,
          1.6,
          0.8,
          -0.3,
          0,
          1.4,
          0.4,
          0.7,
          0.6,
          0.5,
          0,
          5.2,
          -0.1,
          0.3,
          0.4,
          0.4,
          0.2,
          -0.1,
          0.6,
          0.3,
          0.3,
          1.6,
          1.2,
          0.3,
          0.3,
          -0.3,
          -0.5,
          0.7,
          -0.2,
          2,
          1.4,
          2.4,
          0.7,
          0,
          -1,
          0.2,
          0.1,
          0.1,
          0.9,
          0.4,
          1,
          0.2,
          0.1,
          -0.8,
          1.7,
          0.2,
          0.7,
          -0.1,
          1.8,
          -0.8,
          null,
          0.9,
          0.2,
          1.5,
          0.1,
          0.7,
          1.3,
          -0.1,
          0,
          0.3,
          1,
          0.2,
          1,
          -0.2,
          0.4,
          0.1,
          1.8,
          2.2,
          0.8,
          0.4,
          -0.1,
          1.5,
          0.8,
          1,
          0.4,
          0.7,
          1,
          0.1,
          2,
          0.5,
          0.3,
          0.2,
          null,
          0.1,
          2.8,
          0.1,
          1.1,
          0.3,
          0.6,
          0.3,
          -0.1,
          0.3,
          0.6,
          1.5,
          0.2,
          -0.1,
          0.8,
          0.7,
          0.7,
          0.7,
          0.6,
          0.4,
          -0.2,
          0.5,
          0,
          -0.5,
          -0.5,
          0.7,
          -0.2,
          2.3,
          null,
          0.8,
          0.4,
          1.1,
          0.1,
          1,
          -0.2,
          -0.1,
          0.5,
          0.8,
          0.2,
          2,
          0.3,
          0.4,
          0.6,
          0.9,
          0.7,
          0.8,
          -0.4,
          3.2,
          0.3,
          -0.2,
          0.3,
          0,
          -0.2,
          0.4,
          0.9,
          -1.7,
          0.5,
          2.4,
          1,
          1.6,
          -0.5,
          0.2,
          2.2,
          1.4,
          0.5,
          1.5,
          -0.4,
          1,
          0.5,
          -0.1,
          0.5,
          0.5,
          0,
          1.6,
          2.3,
          2.6,
          0.2,
          0.2,
          0.2,
          0.5,
          1.3,
          0.7,
          -0.3,
          2.4,
          0.1,
          -0.2,
          0.2,
          1.1,
          -0.3,
          0.3,
          0.1,
          0.1,
          -0.3,
          -0.7,
          3.9,
          -0.8,
          0.3,
          3.2,
          -0.9,
          0.6,
          -0.3,
          0.1,
          2.1,
          0.8,
          1.1,
          2.4,
          -1,
          0.2,
          0.3,
          0.8,
          -0.6,
          0,
          -0.3,
          0.4,
          -0.2,
          1.1,
          0.4,
          1.9,
          0,
          1.6,
          -0.5,
          0,
          1.7,
          -0.4,
          -0.3,
          0.8,
          0.5,
          0.2,
          -0.1,
          1.7,
          null,
          -0.3,
          0.7,
          0.8,
          2.1,
          0.6,
          0.2,
          0.1,
          0.1,
          0,
          -0.1,
          -0.1,
          0.1,
          -0.1,
          -0.5,
          -0.1,
          0.3,
          0.6,
          -0.4,
          1.3,
          -1,
          0.1,
          2,
          1.2,
          -0.3,
          1.2,
          -0.7,
          4.4,
          0.1,
          -0.4,
          1.9,
          0.6,
          3,
          -0.3,
          0.4,
          null,
          null
         ],
         "yaxis": "y"
        },
        {
         "hovertemplate": "variable=apr<br>state=%{x}<br>value=%{y}<extra></extra>",
         "legendgroup": "apr",
         "marker": {
          "color": "#EF553B",
          "opacity": 0.8,
          "symbol": "circle"
         },
         "mode": "markers",
         "name": "apr",
         "showlegend": true,
         "type": "scattergl",
         "x": [
          null,
          "NY",
          "CA",
          "IL",
          "TX",
          "TX",
          "VA",
          "FL",
          "PA",
          "GA",
          "AZ",
          "MA",
          "CA",
          "CA",
          "MI",
          "WA",
          "MN",
          "CA",
          "FL",
          "CO",
          "MO",
          "MD",
          "NC",
          "FL",
          "TX",
          "OR",
          "CA",
          "NV",
          "PA",
          "TX",
          "OH",
          "MO",
          "OH",
          "IN",
          "OH",
          "CA",
          "TN",
          "VA",
          "RI",
          "FL",
          "WI",
          "OK",
          "NC",
          "TN",
          "VA",
          "LA",
          "KY",
          "UT",
          "CT",
          "NY",
          "AL",
          "MI",
          "NY",
          "AZ",
          "OK",
          "CA",
          "HI",
          "NE",
          "MA",
          "CT",
          "SC",
          "NM",
          "CA",
          "NY",
          "TN",
          "TX",
          "LA",
          "FL",
          "CT",
          "SC",
          "PA",
          "TX",
          "CA",
          "SC",
          "FL",
          "NC",
          "ID",
          "CA",
          "CO",
          "AR",
          "FL",
          "IA",
          "OH",
          "MA",
          "UT",
          "FL",
          "NC",
          "WI",
          "UT",
          "NC",
          "NY",
          "KS",
          "OH",
          "GA",
          "FL",
          "MS",
          "PA",
          "WA",
          "TN",
          "PA",
          "CA",
          "AR",
          "MI",
          "PA",
          "ME",
          "OH",
          "NC",
          "KY",
          "SC",
          "FL",
          "FL",
          "CA",
          "LA",
          "AL",
          "NV",
          "MO",
          "CA",
          "TX",
          "NC",
          "PA",
          "CA",
          "CA",
          "OR",
          "CA",
          "TX",
          "AL",
          "TX",
          "DE",
          "PA",
          "MS",
          "NH",
          "IN",
          "MI",
          "AK",
          "IL",
          "OH",
          "GA",
          "FL",
          "LA",
          "TX",
          "FL",
          "OR",
          "IL",
          "FL",
          "AL",
          "NC",
          "NJ",
          "MI",
          "CO",
          "OH",
          "NE",
          "IL",
          "CO",
          "FL",
          "CO",
          "TX",
          "SC",
          "WI",
          "IN",
          "GA",
          "IN",
          "TN",
          "VA",
          "TN",
          "WA",
          "NC",
          "WA",
          "MD",
          "FL",
          "MN",
          "NY",
          "TX",
          "CA",
          "CA",
          "TX",
          "TX",
          "IA",
          "SD",
          "WA",
          "CA",
          "PA",
          "TX",
          "MI",
          "TX",
          "CT",
          "VA",
          "NJ",
          "WV",
          "AL",
          "WA",
          "AR",
          "ND",
          "WI",
          "NY",
          "TX",
          "IN",
          "WA",
          "KS",
          "GA",
          "AL",
          "SC",
          "IL",
          "MN",
          "OR",
          "NM",
          "VT",
          "VA",
          "AZ",
          "AZ",
          "GA",
          "MA",
          "CA",
          "LA",
          "MO",
          "LA",
          "GA",
          "IN",
          "IL",
          "TN",
          "SC",
          "NC",
          "HI",
          "MN",
          "OR",
          "LA",
          "WI",
          "FL",
          "MI",
          "GA",
          "IN",
          "UT",
          "MT",
          "TX",
          "DE",
          "NC",
          "KY",
          "CA",
          "MO",
          "CT",
          "TN",
          "CA",
          "NY",
          "CA",
          "IA",
          "MI",
          "TX",
          "WI",
          "NC",
          "FL",
          "IL",
          "ID",
          "PA",
          "WI",
          "CO",
          "MS",
          "IN",
          "IA",
          "HI",
          "TX",
          "VA",
          "AL",
          "MS",
          "WI",
          "WI",
          "FL",
          "PA",
          "CA",
          "MI",
          "PA",
          "CO",
          "ID",
          "KY",
          "MI",
          "FL",
          "AL",
          "CA",
          "NH",
          "TX",
          "NM",
          "ME",
          "MI",
          "LA",
          "MI",
          "AL",
          "MO",
          "TX",
          "AL",
          "GA",
          "KY",
          "NJ",
          "NC",
          "GA",
          "IA",
          "SD",
          "UT",
          "TN",
          "GA",
          "AZ",
          "VA",
          "PA",
          "PA",
          "WV",
          "SC",
          "FL",
          "TX",
          "OH",
          "WI",
          "LA",
          "CA",
          "VA",
          "AR",
          "IL",
          "CA",
          "OH",
          "MI",
          "OR",
          "WA",
          "KS",
          "NC",
          "ND",
          "PA",
          "AZ",
          "OK",
          "NY",
          "TN",
          "MA",
          "IA",
          "VA",
          "NY",
          "NC",
          "NM",
          "NC",
          "ME",
          "TX",
          "MO",
          "KS",
          "MT",
          "WA",
          "PA",
          "OH",
          "KY",
          "GA",
          "MI",
          "MT",
          "OH",
          "TN",
          "WI",
          "OH",
          "WV",
          "MD",
          "AL",
          "IN",
          "PA",
          "ID",
          "AZ",
          "WA",
          "OR",
          "IN",
          "IL",
          "ME",
          "KY",
          "NY",
          "NY",
          "FL",
          "TN",
          "MT",
          "VA",
          "WI",
          "NC",
          "GA",
          "IL",
          "WI",
          "PA",
          "MN",
          "MI",
          "AL",
          "OH",
          "OH",
          "NY",
          "WY",
          "MN",
          "AR",
          "VA",
          "CA",
          "TX",
          "WA",
          "TN",
          "NC",
          "GA",
          "MS",
          "MI",
          "IA",
          "MO",
          "AL",
          "MD",
          "OH",
          "ID",
          "KY",
          "AK",
          "MN",
          "NY",
          "OR",
          "WV",
          "OH",
          "NJ",
          "PA",
          "OR",
          "WV",
          "OR",
          "WI",
          "TX",
          "AR",
          "CA",
          "OH",
          "WA",
          "AR",
          "SC",
          "PA",
          "WI",
          "AL",
          "IN",
          "MS",
          "TX",
          "PA",
          "PA",
          "MI",
          "GA",
          "PA",
          "IN",
          "NY",
          "MT",
          "WA",
          "NC",
          "OK",
          "LA",
          "MT",
          "GA",
          "WY",
          "SC",
          "AL",
          "NY",
          "IN",
          "WI",
          "AR",
          "PA",
          "CO",
          "WA",
          "UT",
          "ND",
          "OH",
          "NH",
          "GA",
          "NY",
          "WA",
          "NY",
          "OH",
          "NE",
          "IL",
          "FL",
          "IL",
          "OH",
          "KY",
          "FL",
          "OH",
          "OK",
          "PA",
          "FL",
          "WI",
          "TX",
          "HI",
          "NM",
          "NC",
          "SC",
          "WI",
          "NM",
          "TN",
          "NC",
          "MI",
          "OR",
          "NC",
          "WA",
          "NC",
          "NM",
          "OK",
          "MN",
          "NC",
          "MO",
          "MI",
          "IN",
          "KY",
          "OH",
          "IN",
          "OH",
          "TX",
          "OR",
          "NM",
          "CA",
          "CA",
          "WI",
          "TX",
          "GA",
          "ID",
          "SC",
          "NC",
          "WI",
          "VA",
          "OH",
          "NC",
          "KS",
          "TN",
          "NH",
          "WA",
          "IL",
          "WY",
          "OK",
          "MI",
          "PA",
          "OH",
          "KS",
          "NY",
          "MS",
          "GA",
          "MN",
          "NY",
          "OK",
          "NM",
          "TX",
          "OH",
          "VT",
          "NV",
          "MS",
          "NC",
          "OH",
          "TX",
          "VT",
          "IA",
          "SC",
          "NY",
          "UT",
          "NE",
          "CO",
          "NC",
          "OH",
          "MO",
          "NV",
          "WV",
          "MS",
          "OR",
          "NC",
          "MO",
          "GA",
          "GA",
          "AR",
          "NV",
          "OH",
          "CO",
          "IN",
          "KY",
          "IL",
          "CA",
          "MS",
          "KY",
          "AZ",
          "MO",
          "TN",
          "NC",
          "GA",
          "ID",
          "OH",
          "AL",
          "TX",
          "TX",
          "NY",
          "MO",
          "OK",
          "GA",
          "AL",
          "TX",
          "OH",
          "WI",
          "TX",
          "OR",
          "MN",
          "PA",
          "IL",
          "TN",
          "NY",
          "TX",
          "WA",
          "IA",
          "WA",
          "LA",
          "NY",
          "NV",
          "IL",
          "TX",
          "OK",
          "OK",
          "AL",
          "MI",
          "NM",
          "OH",
          "LA",
          "CO",
          "NV",
          "IN",
          "LA",
          "NE",
          "CO",
          "IN",
          "MN",
          "ID",
          "NY",
          "KY",
          "NC",
          "ID",
          "AZ",
          "LA",
          "KY",
          "IA",
          "MN",
          "IN",
          "PA",
          "GA",
          "TX",
          "NC",
          "LA",
          "OH",
          "MI",
          "AR",
          "GA",
          "IN",
          "ID",
          "WI",
          "WI",
          "OH",
          "IA",
          "AR",
          "MS",
          "NC",
          "KY",
          "PA",
          "TN",
          "MO",
          "GA",
          "NC",
          "PA",
          "IN",
          "MI",
          "IL",
          "OK",
          "IN",
          "MI",
          "OK",
          "TX",
          "MN",
          "OK",
          "GA",
          "MS",
          "FL",
          "WY",
          "SD",
          "MO",
          "IA",
          "FL",
          "AR",
          "OH",
          "TX",
          "TN",
          "TX",
          "OH",
          "OH",
          "VA",
          "ID",
          "GA",
          "OR",
          "PA",
          "PA",
          "MI",
          "MO",
          "MN",
          "AR",
          "KS",
          "IA",
          "WY",
          "KY",
          "AZ",
          "MS",
          "OH",
          "WY",
          "PA",
          "OH",
          "KS",
          "MO",
          "ND",
          "NM",
          "FL",
          "SC",
          "OK",
          "IN",
          "IL",
          "MN",
          "MO",
          "AR",
          "PA",
          "LA",
          "OH",
          "LA",
          "TX",
          "MS",
          "NC",
          "IN",
          "NE",
          "MI",
          "IL",
          "TX",
          "IL",
          "MD",
          "MI",
          "MS",
          "KY",
          "TX",
          "KY",
          "TN",
          "MN",
          "TX",
          "IN",
          "OH",
          "IN",
          "TN",
          "NE",
          "AL",
          "WY",
          "GA",
          "UT",
          "MO",
          "IN",
          "TX",
          "MN",
          "KS",
          "MI",
          "SD",
          "NE",
          "IL",
          "VT",
          "IN",
          "MT",
          "TN",
          "IA",
          "IN",
          "NC",
          "NC",
          "GA",
          "SD",
          "IL",
          "NY",
          "MS",
          "AR",
          "IL",
          "IN",
          "TN",
          "NE",
          "TN",
          "KS",
          "ND",
          "AL",
          "TX",
          "NM",
          "TX",
          "OH",
          "IN",
          "IN",
          "IL",
          "TN",
          "MD",
          "AK",
          "NM",
          "KS",
          "NE",
          "NH",
          "OK",
          "WY",
          "IN",
          "TX",
          "CO",
          "MN",
          "MS",
          "TN",
          "GA",
          "CA",
          "MO",
          "MI",
          "TX",
          "IL",
          "MI",
          "CO",
          "MO",
          "KS",
          "OK",
          "OH",
          "KS",
          "WV",
          "IL",
          "AR",
          "MI",
          "OH",
          "CA",
          "IN",
          "ID",
          "NM",
          "TX",
          "FL",
          "TX",
          "IN",
          "OR",
          "GA",
          "GA",
          "OR",
          "NM",
          "SD",
          "GA",
          "KS",
          "KS",
          "SC",
          "CO",
          "NE",
          "KY",
          "NV",
          "MN",
          "OR",
          "MN",
          "GA",
          "MO",
          "MS",
          "AR",
          "ID",
          "MO",
          "OK",
          "NM",
          "OK",
          "AR",
          "OR",
          "SD",
          "OR",
          "TX",
          "IN",
          "MO",
          "SD",
          "TX",
          "IA",
          "ND",
          "AR",
          "GA",
          "CO",
          "MO",
          "MS",
          "OK",
          "NE",
          "MN",
          "TX",
          "KS",
          "TX",
          "UT",
          "TX",
          "TX",
          "MS",
          "SD",
          "ND",
          "SD",
          "WY",
          "WA",
          "OK",
          "IA",
          "KS",
          "NM",
          "TX",
          "NM",
          "IA",
          "TX",
          "IA",
          "MA",
          "AR",
          "KY",
          "NV",
          "TX",
          "GA",
          "TX",
          "KS",
          "IA",
          "TX",
          "SD",
          "TX",
          "AK",
          "CO",
          "TX",
          "TX"
         ],
         "xaxis": "x",
         "y": [
          0,
          0.2,
          -3.5,
          0.3,
          -0.5,
          -1.1,
          -0.3,
          -0.2,
          0.3,
          -0.6,
          -1.6,
          -0.2,
          -0.9,
          -2.2,
          0.7,
          0.1,
          -0.4,
          -0.3,
          -0.6,
          -0.5,
          0.4,
          0.2,
          -0.5,
          -0.9,
          -0.6,
          -0.7,
          -1.4,
          -2.3,
          0.4,
          -1.5,
          0.4,
          0.8,
          0.7,
          0.2,
          0.4,
          -3.1,
          -0.4,
          -0.1,
          0.2,
          -0.9,
          0.7,
          -0.8,
          -0.7,
          0.5,
          0.3,
          1,
          0,
          0.1,
          0.6,
          0.3,
          0.5,
          1,
          0.2,
          -0.9,
          0,
          -0.9,
          -1.4,
          0.5,
          0.3,
          0.1,
          0.7,
          0.1,
          -0.8,
          -0.2,
          1.8,
          -0.2,
          0.4,
          -0.6,
          0.4,
          0.9,
          0.5,
          0.6,
          -1.5,
          0,
          -1.2,
          1.8,
          -0.3,
          -1.2,
          -0.7,
          0.6,
          -1.1,
          -0.1,
          0.3,
          0.1,
          -0.5,
          -0.8,
          0.8,
          0.3,
          -0.4,
          -0.6,
          0.5,
          1.1,
          0.7,
          0.5,
          -1,
          -0.1,
          0,
          0.6,
          1.9,
          3,
          -0.9,
          0.8,
          0.8,
          0.3,
          0.3,
          1.6,
          1.8,
          0.4,
          -0.3,
          0.2,
          -0.9,
          -1.2,
          0.4,
          1.4,
          -1.2,
          -0.1,
          -1.3,
          0,
          0.3,
          -0.3,
          -1.3,
          -0.5,
          -0.5,
          -0.9,
          -0.2,
          1.3,
          3,
          0.5,
          0.4,
          1.2,
          0.5,
          0.2,
          2.4,
          -1.4,
          -0.1,
          0.6,
          1.2,
          -0.5,
          2.3,
          1.5,
          1.2,
          -0.5,
          0.3,
          -0.4,
          0.8,
          1.1,
          1.6,
          -0.1,
          -0.7,
          0.4,
          0.2,
          1,
          -0.5,
          -0.4,
          -0.2,
          -0.3,
          0.9,
          1.2,
          1.6,
          0,
          0.1,
          0.7,
          0.2,
          2.5,
          -0.1,
          0.4,
          -0.2,
          0.5,
          -0.5,
          1.3,
          1,
          1.2,
          -2.1,
          -1,
          0.6,
          0,
          -0.6,
          0,
          -0.7,
          -0.4,
          0.3,
          0.4,
          0.8,
          -0.5,
          0.5,
          0.5,
          2.1,
          0.9,
          0.9,
          -0.1,
          1.7,
          0.2,
          1.1,
          0.9,
          0.6,
          0.3,
          -0.7,
          0.9,
          1.4,
          -0.2,
          0.6,
          0.1,
          -0.4,
          -1.3,
          -0.2,
          0.6,
          -0.1,
          -0.4,
          -1.1,
          1,
          -0.6,
          -1.7,
          -1.4,
          0,
          1.2,
          -0.3,
          0,
          0.4,
          2.8,
          0.9,
          0.8,
          -1.2,
          0,
          -0.7,
          -2,
          1.2,
          -1,
          2.1,
          0.6,
          0.6,
          -0.1,
          0.4,
          0.2,
          0,
          0.5,
          -0.3,
          0.5,
          1.2,
          0.8,
          2.7,
          -1.2,
          0,
          -1.4,
          0,
          1.4,
          0.8,
          1,
          0.3,
          0.3,
          0.4,
          -0.1,
          0.6,
          0.6,
          -0.3,
          0.4,
          -0.1,
          0.3,
          -0.4,
          0.3,
          0.6,
          0.5,
          1.2,
          1.1,
          1.1,
          -0.6,
          -0.1,
          -1,
          0.9,
          0.4,
          0,
          -1.4,
          -0.2,
          0.9,
          -0.4,
          -0.2,
          -0.6,
          0,
          0.9,
          -0.5,
          1.2,
          1.6,
          0.6,
          0.6,
          2,
          0.1,
          2.5,
          1.8,
          1.5,
          2.6,
          3.4,
          0.9,
          0.9,
          0.3,
          -0.1,
          -0.4,
          2.8,
          1.7,
          -0.4,
          -0.2,
          0.1,
          3.1,
          -0.5,
          1.9,
          -1.9,
          1.9,
          0.4,
          0.2,
          1.3,
          -1.4,
          1.1,
          1,
          1.9,
          0.3,
          0.5,
          2.8,
          -0.2,
          -0.4,
          0.1,
          1.3,
          -1,
          4.8,
          1.1,
          -0.4,
          1,
          1.6,
          0.3,
          -1.2,
          1.2,
          -0.2,
          4,
          -0.3,
          1.3,
          1,
          1.5,
          0.7,
          -0.4,
          0,
          -0.2,
          2.4,
          0.9,
          0.5,
          1,
          0.7,
          -0.3,
          3.6,
          3.3,
          1.2,
          1.4,
          0.6,
          -0.1,
          -0.3,
          0.8,
          -0.3,
          -1,
          -0.3,
          0,
          -0.6,
          0.5,
          1,
          1.9,
          1.6,
          -0.2,
          0.1,
          -0.1,
          2.6,
          0.2,
          0.5,
          1.3,
          0.1,
          0.6,
          3.4,
          1,
          0.3,
          -0.4,
          2.2,
          -0.1,
          0.5,
          1.2,
          -0.7,
          -0.6,
          -0.8,
          0.7,
          1.6,
          -2,
          0.6,
          -0.2,
          1.4,
          6.2,
          2.2,
          2.4,
          1,
          -0.2,
          0.2,
          2.2,
          2,
          0.8,
          -0.3,
          2.8,
          -0.5,
          -0.2,
          -0.6,
          -0.8,
          0.8,
          -0.3,
          -0.1,
          5.7,
          0,
          0.3,
          -0.7,
          1.3,
          1.8,
          7,
          -0.5,
          0.9,
          -1.2,
          1.6,
          2.9,
          1.2,
          0.5,
          2.7,
          0.1,
          3,
          1.1,
          2.1,
          1.1,
          1.7,
          0.6,
          1.6,
          0.5,
          0,
          0.4,
          0.1,
          1.1,
          -0.8,
          4.2,
          0.8,
          0.3,
          0.2,
          0.4,
          2,
          -0.9,
          0.2,
          1.7,
          2.1,
          5.5,
          -0.3,
          -0.4,
          -0.8,
          -0.6,
          1.8,
          0.2,
          0.3,
          0.1,
          0.6,
          0.8,
          -0.1,
          0.2,
          3.2,
          3.8,
          0.7,
          -0.2,
          0.8,
          -0.9,
          0.8,
          0.7,
          0.8,
          -0.2,
          1.5,
          0.5,
          -0.1,
          0.1,
          -1,
          2.3,
          1.1,
          0.9,
          0.5,
          0.2,
          2.7,
          0.3,
          3.6,
          -0.1,
          0.9,
          0,
          0.3,
          0.2,
          0.3,
          1.2,
          2.1,
          0.9,
          4.4,
          -0.1,
          1.2,
          2,
          3,
          -0.5,
          3.9,
          -1,
          -0.7,
          1.5,
          -0.4,
          2.8,
          -0.6,
          -0.4,
          0.5,
          3,
          5.3,
          0.7,
          2,
          0.7,
          2,
          -0.5,
          -0.3,
          2.7,
          -1.3,
          -0.3,
          1.2,
          -0.7,
          0.3,
          -0.4,
          0.4,
          0,
          0.6,
          1.5,
          0.1,
          -0.8,
          -2.8,
          0.6,
          0,
          2,
          -1.7,
          2.7,
          0.6,
          -0.1,
          0.9,
          1.8,
          0.9,
          5.8,
          -0.3,
          0,
          0.3,
          -1.2,
          -0.1,
          0.9,
          0.2,
          -1.7,
          1.6,
          1.4,
          -1.2,
          1.2,
          1.4,
          -0.1,
          2.6,
          3.8,
          -1,
          0.5,
          -0.8,
          0.3,
          1.7,
          1.7,
          -2.5,
          0.4,
          2,
          0.4,
          0.9,
          3,
          0.9,
          1.6,
          -0.8,
          0.4,
          1,
          0.8,
          -0.3,
          0.1,
          1.7,
          0.7,
          1.6,
          -0.2,
          4.7,
          0.2,
          0.8,
          3.3,
          -0.2,
          -0.7,
          0.7,
          0.7,
          1.2,
          0.9,
          2.6,
          0.4,
          -1.2,
          -0.6,
          4.5,
          0.2,
          -0.2,
          1,
          3.2,
          0.9,
          0.5,
          3.1,
          6.2,
          0,
          -0.1,
          4.5,
          -0.9,
          -0.2,
          1.6,
          2.3,
          -0.3,
          0.2,
          0.6,
          0.2,
          -0.5,
          -0.9,
          2.3,
          0.7,
          -2.3,
          -0.2,
          -0.5,
          0.5,
          0.4,
          0.2,
          0.4,
          2.4,
          0.1,
          3.8,
          0.6,
          6.9,
          -0.2,
          1.8,
          1.8,
          3.1,
          0.6,
          -1.1,
          0.5,
          2.1,
          0.6,
          0.3,
          0.4,
          2.6,
          6.4,
          1.1,
          0.4,
          3.3,
          1.1,
          1.5,
          7.1,
          0.2,
          0,
          3.5,
          2.1,
          -0.3,
          -0.1,
          2.8,
          1.1,
          2,
          1,
          1,
          0.8,
          11.3,
          0,
          -0.1,
          0.8,
          1.2,
          0.1,
          0.2,
          1.4,
          0.7,
          0.9,
          3.8,
          3.1,
          0.6,
          0.4,
          -0.8,
          -0.6,
          1,
          0.1,
          4,
          2.4,
          5.1,
          1.9,
          0.4,
          -1.4,
          0.1,
          0.7,
          0.3,
          2.9,
          0.8,
          1.3,
          0.5,
          -0.1,
          -1.4,
          3.3,
          0.3,
          1.2,
          -0.5,
          2.9,
          -1,
          0.1,
          1.7,
          0.5,
          2.3,
          0.1,
          0.8,
          1.8,
          -0.7,
          -1.2,
          0.4,
          1.6,
          0.4,
          2.9,
          -0.5,
          1.2,
          -0.1,
          3.7,
          3,
          2.2,
          1.4,
          -0.2,
          2.7,
          1.3,
          2.5,
          0.4,
          1.5,
          1.8,
          0.3,
          3.1,
          1.5,
          0.8,
          0.4,
          0.2,
          0.2,
          4.9,
          0.6,
          2.6,
          0.4,
          1.1,
          0.6,
          0.1,
          0.7,
          1.3,
          3.3,
          0.1,
          -0.8,
          1.3,
          1.6,
          2,
          1.9,
          1.9,
          1.2,
          -0.2,
          2.2,
          0.5,
          -0.8,
          -1.4,
          1.2,
          -0.1,
          4.5,
          -0.1,
          1.9,
          0.9,
          3,
          -0.2,
          2.2,
          -0.5,
          -1.1,
          0.8,
          1.3,
          0.1,
          3.6,
          0.6,
          1.3,
          1.3,
          1.4,
          1.7,
          1.6,
          -1.2,
          6.4,
          0.6,
          -0.7,
          1.1,
          -0.5,
          -0.3,
          0.8,
          1.9,
          -2.8,
          1.2,
          5.1,
          2.3,
          3.7,
          -1.2,
          -0.2,
          4,
          3,
          0.4,
          2.8,
          -0.6,
          1.2,
          0.6,
          -1.1,
          0.9,
          0.7,
          -0.5,
          2.8,
          4.2,
          5.2,
          0.3,
          0.4,
          0.7,
          1.7,
          2.8,
          1.4,
          -0.2,
          4.6,
          0.6,
          -0.5,
          1.4,
          2.7,
          -0.3,
          0.5,
          0.9,
          1.1,
          -0.1,
          -1.2,
          8.5,
          -0.9,
          0.3,
          7.7,
          -1.9,
          0.5,
          -0.2,
          0,
          5.3,
          1.6,
          2.3,
          3.8,
          -1.2,
          0.6,
          1.4,
          1.3,
          -1.4,
          0,
          -0.1,
          0.7,
          0,
          1.7,
          1,
          2,
          -0.4,
          2.6,
          -0.5,
          -0.4,
          3.1,
          -0.4,
          -0.4,
          1.8,
          1.2,
          -0.3,
          -0.4,
          3,
          -0.3,
          -1.1,
          1.1,
          1.7,
          3.2,
          0.9,
          0.8,
          0.4,
          0.1,
          0,
          -0.2,
          -0.3,
          0.7,
          -0.1,
          -0.1,
          -0.1,
          0.7,
          1.2,
          -0.7,
          3,
          -1.7,
          0.5,
          4.3,
          2.4,
          -0.6,
          2.2,
          -0.7,
          10.6,
          0.9,
          -1.2,
          3.4,
          0.8,
          5.5,
          -1,
          0.7,
          -0.8,
          -0.1
         ],
         "yaxis": "y"
        },
        {
         "hovertemplate": "variable=jan_24<br>state=%{x}<br>value=%{y}<extra></extra>",
         "legendgroup": "jan_24",
         "marker": {
          "color": "#00cc96",
          "opacity": 0.8,
          "symbol": "circle"
         },
         "mode": "markers",
         "name": "jan_24",
         "showlegend": true,
         "type": "scattergl",
         "x": [
          null,
          "NY",
          "CA",
          "IL",
          "TX",
          "TX",
          "VA",
          "FL",
          "PA",
          "GA",
          "AZ",
          "MA",
          "CA",
          "CA",
          "MI",
          "WA",
          "MN",
          "CA",
          "FL",
          "CO",
          "MO",
          "MD",
          "NC",
          "FL",
          "TX",
          "OR",
          "CA",
          "NV",
          "PA",
          "TX",
          "OH",
          "MO",
          "OH",
          "IN",
          "OH",
          "CA",
          "TN",
          "VA",
          "RI",
          "FL",
          "WI",
          "OK",
          "NC",
          "TN",
          "VA",
          "LA",
          "KY",
          "UT",
          "CT",
          "NY",
          "AL",
          "MI",
          "NY",
          "AZ",
          "OK",
          "CA",
          "HI",
          "NE",
          "MA",
          "CT",
          "SC",
          "NM",
          "CA",
          "NY",
          "TN",
          "TX",
          "LA",
          "FL",
          "CT",
          "SC",
          "PA",
          "TX",
          "CA",
          "SC",
          "FL",
          "NC",
          "ID",
          "CA",
          "CO",
          "AR",
          "FL",
          "IA",
          "OH",
          "MA",
          "UT",
          "FL",
          "NC",
          "WI",
          "UT",
          "NC",
          "NY",
          "KS",
          "OH",
          "GA",
          "FL",
          "MS",
          "PA",
          "WA",
          "TN",
          "PA",
          "CA",
          "AR",
          "MI",
          "PA",
          "ME",
          "OH",
          "NC",
          "KY",
          "SC",
          "FL",
          "FL",
          "CA",
          "LA",
          "AL",
          "NV",
          "MO",
          "CA",
          "TX",
          "NC",
          "PA",
          "CA",
          "CA",
          "OR",
          "CA",
          "TX",
          "AL",
          "TX",
          "DE",
          "PA",
          "MS",
          "NH",
          "IN",
          "MI",
          "AK",
          "IL",
          "OH",
          "GA",
          "FL",
          "LA",
          "TX",
          "FL",
          "OR",
          "IL",
          "FL",
          "AL",
          "NC",
          "NJ",
          "MI",
          "CO",
          "OH",
          "NE",
          "IL",
          "CO",
          "FL",
          "CO",
          "TX",
          "SC",
          "WI",
          "IN",
          "GA",
          "IN",
          "TN",
          "VA",
          "TN",
          "WA",
          "NC",
          "WA",
          "MD",
          "FL",
          "MN",
          "NY",
          "TX",
          "CA",
          "CA",
          "TX",
          "TX",
          "IA",
          "SD",
          "WA",
          "CA",
          "PA",
          "TX",
          "MI",
          "TX",
          "CT",
          "VA",
          "NJ",
          "WV",
          "AL",
          "WA",
          "AR",
          "ND",
          "WI",
          "NY",
          "TX",
          "IN",
          "WA",
          "KS",
          "GA",
          "AL",
          "SC",
          "IL",
          "MN",
          "OR",
          "NM",
          "VT",
          "VA",
          "AZ",
          "AZ",
          "GA",
          "MA",
          "CA",
          "LA",
          "MO",
          "LA",
          "GA",
          "IN",
          "IL",
          "TN",
          "SC",
          "NC",
          "HI",
          "MN",
          "OR",
          "LA",
          "WI",
          "FL",
          "MI",
          "GA",
          "IN",
          "UT",
          "MT",
          "TX",
          "DE",
          "NC",
          "KY",
          "CA",
          "MO",
          "CT",
          "TN",
          "CA",
          "NY",
          "CA",
          "IA",
          "MI",
          "TX",
          "WI",
          "NC",
          "FL",
          "IL",
          "ID",
          "PA",
          "WI",
          "CO",
          "MS",
          "IN",
          "IA",
          "HI",
          "TX",
          "VA",
          "AL",
          "MS",
          "WI",
          "WI",
          "FL",
          "PA",
          "CA",
          "MI",
          "PA",
          "CO",
          "ID",
          "KY",
          "MI",
          "FL",
          "AL",
          "CA",
          "NH",
          "TX",
          "NM",
          "ME",
          "MI",
          "LA",
          "MI",
          "AL",
          "MO",
          "TX",
          "AL",
          "GA",
          "KY",
          "NJ",
          "NC",
          "GA",
          "IA",
          "SD",
          "UT",
          "TN",
          "GA",
          "AZ",
          "VA",
          "PA",
          "PA",
          "WV",
          "SC",
          "FL",
          "TX",
          "OH",
          "WI",
          "LA",
          "CA",
          "VA",
          "AR",
          "IL",
          "CA",
          "OH",
          "MI",
          "OR",
          "WA",
          "KS",
          "NC",
          "ND",
          "PA",
          "AZ",
          "OK",
          "NY",
          "TN",
          "MA",
          "IA",
          "VA",
          "NY",
          "NC",
          "NM",
          "NC",
          "ME",
          "TX",
          "MO",
          "KS",
          "MT",
          "WA",
          "PA",
          "OH",
          "KY",
          "GA",
          "MI",
          "MT",
          "OH",
          "TN",
          "WI",
          "OH",
          "WV",
          "MD",
          "AL",
          "IN",
          "PA",
          "ID",
          "AZ",
          "WA",
          "OR",
          "IN",
          "IL",
          "ME",
          "KY",
          "NY",
          "NY",
          "FL",
          "TN",
          "MT",
          "VA",
          "WI",
          "NC",
          "GA",
          "IL",
          "WI",
          "PA",
          "MN",
          "MI",
          "AL",
          "OH",
          "OH",
          "NY",
          "WY",
          "MN",
          "AR",
          "VA",
          "CA",
          "TX",
          "WA",
          "TN",
          "NC",
          "GA",
          "MS",
          "MI",
          "IA",
          "MO",
          "AL",
          "MD",
          "OH",
          "ID",
          "KY",
          "AK",
          "MN",
          "NY",
          "OR",
          "WV",
          "OH",
          "NJ",
          "PA",
          "OR",
          "WV",
          "OR",
          "WI",
          "TX",
          "AR",
          "CA",
          "OH",
          "WA",
          "AR",
          "SC",
          "PA",
          "WI",
          "AL",
          "IN",
          "MS",
          "TX",
          "PA",
          "PA",
          "MI",
          "GA",
          "PA",
          "IN",
          "NY",
          "MT",
          "WA",
          "NC",
          "OK",
          "LA",
          "MT",
          "GA",
          "WY",
          "SC",
          "AL",
          "NY",
          "IN",
          "WI",
          "AR",
          "PA",
          "CO",
          "WA",
          "UT",
          "ND",
          "OH",
          "NH",
          "GA",
          "NY",
          "WA",
          "NY",
          "OH",
          "NE",
          "IL",
          "FL",
          "IL",
          "OH",
          "KY",
          "FL",
          "OH",
          "OK",
          "PA",
          "FL",
          "WI",
          "TX",
          "HI",
          "NM",
          "NC",
          "SC",
          "WI",
          "NM",
          "TN",
          "NC",
          "MI",
          "OR",
          "NC",
          "WA",
          "NC",
          "NM",
          "OK",
          "MN",
          "NC",
          "MO",
          "MI",
          "IN",
          "KY",
          "OH",
          "IN",
          "OH",
          "TX",
          "OR",
          "NM",
          "CA",
          "CA",
          "WI",
          "TX",
          "GA",
          "ID",
          "SC",
          "NC",
          "WI",
          "VA",
          "OH",
          "NC",
          "KS",
          "TN",
          "NH",
          "WA",
          "IL",
          "WY",
          "OK",
          "MI",
          "PA",
          "OH",
          "KS",
          "NY",
          "MS",
          "GA",
          "MN",
          "NY",
          "OK",
          "NM",
          "TX",
          "OH",
          "VT",
          "NV",
          "MS",
          "NC",
          "OH",
          "TX",
          "VT",
          "IA",
          "SC",
          "NY",
          "UT",
          "NE",
          "CO",
          "NC",
          "OH",
          "MO",
          "NV",
          "WV",
          "MS",
          "OR",
          "NC",
          "MO",
          "GA",
          "GA",
          "AR",
          "NV",
          "OH",
          "CO",
          "IN",
          "KY",
          "IL",
          "CA",
          "MS",
          "KY",
          "AZ",
          "MO",
          "TN",
          "NC",
          "GA",
          "ID",
          "OH",
          "AL",
          "TX",
          "TX",
          "NY",
          "MO",
          "OK",
          "GA",
          "AL",
          "TX",
          "OH",
          "WI",
          "TX",
          "OR",
          "MN",
          "PA",
          "IL",
          "TN",
          "NY",
          "TX",
          "WA",
          "IA",
          "WA",
          "LA",
          "NY",
          "NV",
          "IL",
          "TX",
          "OK",
          "OK",
          "AL",
          "MI",
          "NM",
          "OH",
          "LA",
          "CO",
          "NV",
          "IN",
          "LA",
          "NE",
          "CO",
          "IN",
          "MN",
          "ID",
          "NY",
          "KY",
          "NC",
          "ID",
          "AZ",
          "LA",
          "KY",
          "IA",
          "MN",
          "IN",
          "PA",
          "GA",
          "TX",
          "NC",
          "LA",
          "OH",
          "MI",
          "AR",
          "GA",
          "IN",
          "ID",
          "WI",
          "WI",
          "OH",
          "IA",
          "AR",
          "MS",
          "NC",
          "KY",
          "PA",
          "TN",
          "MO",
          "GA",
          "NC",
          "PA",
          "IN",
          "MI",
          "IL",
          "OK",
          "IN",
          "MI",
          "OK",
          "TX",
          "MN",
          "OK",
          "GA",
          "MS",
          "FL",
          "WY",
          "SD",
          "MO",
          "IA",
          "FL",
          "AR",
          "OH",
          "TX",
          "TN",
          "TX",
          "OH",
          "OH",
          "VA",
          "ID",
          "GA",
          "OR",
          "PA",
          "PA",
          "MI",
          "MO",
          "MN",
          "AR",
          "KS",
          "IA",
          "WY",
          "KY",
          "AZ",
          "MS",
          "OH",
          "WY",
          "PA",
          "OH",
          "KS",
          "MO",
          "ND",
          "NM",
          "FL",
          "SC",
          "OK",
          "IN",
          "IL",
          "MN",
          "MO",
          "AR",
          "PA",
          "LA",
          "OH",
          "LA",
          "TX",
          "MS",
          "NC",
          "IN",
          "NE",
          "MI",
          "IL",
          "TX",
          "IL",
          "MD",
          "MI",
          "MS",
          "KY",
          "TX",
          "KY",
          "TN",
          "MN",
          "TX",
          "IN",
          "OH",
          "IN",
          "TN",
          "NE",
          "AL",
          "WY",
          "GA",
          "UT",
          "MO",
          "IN",
          "TX",
          "MN",
          "KS",
          "MI",
          "SD",
          "NE",
          "IL",
          "VT",
          "IN",
          "MT",
          "TN",
          "IA",
          "IN",
          "NC",
          "NC",
          "GA",
          "SD",
          "IL",
          "NY",
          "MS",
          "AR",
          "IL",
          "IN",
          "TN",
          "NE",
          "TN",
          "KS",
          "ND",
          "AL",
          "TX",
          "NM",
          "TX",
          "OH",
          "IN",
          "IN",
          "IL",
          "TN",
          "MD",
          "AK",
          "NM",
          "KS",
          "NE",
          "NH",
          "OK",
          "WY",
          "IN",
          "TX",
          "CO",
          "MN",
          "MS",
          "TN",
          "GA",
          "CA",
          "MO",
          "MI",
          "TX",
          "IL",
          "MI",
          "CO",
          "MO",
          "KS",
          "OK",
          "OH",
          "KS",
          "WV",
          "IL",
          "AR",
          "MI",
          "OH",
          "CA",
          "IN",
          "ID",
          "NM",
          "TX",
          "FL",
          "TX",
          "IN",
          "OR",
          "GA",
          "GA",
          "OR",
          "NM",
          "SD",
          "GA",
          "KS",
          "KS",
          "SC",
          "CO",
          "NE",
          "KY",
          "NV",
          "MN",
          "OR",
          "MN",
          "GA",
          "MO",
          "MS",
          "AR",
          "ID",
          "MO",
          "OK",
          "NM",
          "OK",
          "AR",
          "OR",
          "SD",
          "OR",
          "TX",
          "IN",
          "MO",
          "SD",
          "TX",
          "IA",
          "ND",
          "AR",
          "GA",
          "CO",
          "MO",
          "MS",
          "OK",
          "NE",
          "MN",
          "TX",
          "KS",
          "TX",
          "UT",
          "TX",
          "TX",
          "MS",
          "SD",
          "ND",
          "SD",
          "WY",
          "WA",
          "OK",
          "IA",
          "KS",
          "NM",
          "TX",
          "NM",
          "IA",
          "TX",
          "IA",
          "MA",
          "AR",
          "KY",
          "NV",
          "TX",
          "GA",
          "TX",
          "KS",
          "IA",
          "TX",
          "SD",
          "TX",
          "AK",
          "CO",
          "TX",
          "TX"
         ],
         "xaxis": "x",
         "y": [
          0.5,
          -1.3,
          -3.3,
          -1.8,
          -0.4,
          -1.6,
          -2.3,
          1.2,
          -0.2,
          1.3,
          -0.2,
          -1.6,
          -3.2,
          -2.2,
          0.4,
          -0.9,
          -1.9,
          -0.8,
          1.7,
          -1.7,
          -0.3,
          -1.6,
          1.6,
          0.1,
          -0.5,
          -2.3,
          -2.6,
          -2.5,
          -0.6,
          -1,
          0.7,
          1.1,
          1.6,
          1.7,
          0,
          -3.5,
          1.2,
          -1.5,
          -0.1,
          1.1,
          -0.6,
          -1.1,
          0.1,
          2.3,
          0.3,
          -1.5,
          -0.5,
          1.2,
          -1.2,
          0.3,
          1.1,
          1.7,
          -0.2,
          1.1,
          0.9,
          -0.7,
          -3.6,
          0.3,
          -0.1,
          -1.4,
          1.8,
          1.4,
          -0.4,
          -1.7,
          4.5,
          1.2,
          -2.8,
          1.4,
          -0.3,
          1.8,
          0.8,
          0.7,
          -3.3,
          0.6,
          0,
          3,
          2,
          -1.8,
          -0.5,
          -1.1,
          1.1,
          -1,
          -0.3,
          -1.1,
          1,
          0.7,
          2.6,
          -0.9,
          0.4,
          0.8,
          0.2,
          1.7,
          -0.4,
          1.6,
          0,
          -1.1,
          -0.9,
          3.2,
          3.4,
          3,
          -1.7,
          2.9,
          0.2,
          -0.3,
          1.6,
          2.5,
          3,
          0.4,
          1.8,
          2.6,
          0.6,
          -3.8,
          -4.5,
          3.8,
          -1.7,
          2,
          -1.2,
          2.3,
          1.3,
          -1.2,
          -3.4,
          0.2,
          -0.7,
          -1.1,
          -2,
          1.5,
          3.9,
          1.4,
          0.7,
          1,
          0.5,
          0.9,
          4,
          -4.6,
          -2.6,
          0,
          2.8,
          1.2,
          -1.6,
          -0.6,
          1.4,
          -0.3,
          -2.1,
          2.5,
          -0.2,
          3.7,
          0.9,
          -2,
          -2.1,
          -0.9,
          -0.8,
          0.1,
          -1.1,
          0.5,
          -2.1,
          -1.4,
          2.7,
          1.3,
          2.4,
          0.3,
          -0.4,
          2.2,
          0.2,
          3.9,
          0.7,
          2,
          0.8,
          0.5,
          1.7,
          1,
          1.5,
          0.9,
          -3.1,
          -0.8,
          -1.4,
          2,
          -2.3,
          -0.4,
          -0.4,
          -0.6,
          -0.8,
          -1.9,
          1,
          -0.9,
          -0.4,
          0.3,
          4.2,
          -1,
          0.5,
          1.2,
          1.6,
          -2.6,
          0.6,
          0.3,
          0.5,
          0.4,
          -0.2,
          2.3,
          3.4,
          1.7,
          2.2,
          -2.2,
          -1.2,
          -2.7,
          0.3,
          0.4,
          -0.7,
          1.9,
          1.5,
          3.4,
          -0.3,
          -2.6,
          -7.2,
          0.6,
          -5,
          1.8,
          -0.1,
          -2.2,
          4.5,
          0.8,
          2.4,
          -0.4,
          -1,
          0.9,
          -4.5,
          0.9,
          1.4,
          3.8,
          1.1,
          1,
          0.9,
          0.4,
          -2.6,
          0.4,
          1.7,
          0.2,
          -0.9,
          3.2,
          0.3,
          3.9,
          -2,
          1.9,
          -1.7,
          -1.9,
          3.3,
          -0.1,
          0.5,
          1.8,
          2.7,
          -1.7,
          3,
          4.6,
          0.5,
          1.5,
          -1.8,
          0.6,
          -1.4,
          0.8,
          -2,
          1.7,
          0.1,
          -0.9,
          -0.7,
          1.1,
          1.3,
          -1.7,
          -0.4,
          0.8,
          0,
          0.4,
          1.7,
          -0.5,
          1.1,
          2.5,
          0.1,
          -0.5,
          1,
          2.2,
          0.2,
          2.9,
          3.5,
          -4.5,
          -1.3,
          1.2,
          0.1,
          1.9,
          2.3,
          2,
          2.6,
          3.8,
          3.3,
          2,
          0.1,
          0.8,
          1.7,
          5.1,
          2.8,
          0.9,
          -0.7,
          -0.4,
          5.3,
          -3.2,
          1,
          -2.1,
          3.3,
          -1.6,
          -0.6,
          -1.9,
          -3.1,
          0.5,
          0.2,
          -1.2,
          -2,
          1.3,
          4.1,
          0.3,
          0.2,
          -1.1,
          4.6,
          -4.2,
          3.3,
          2.6,
          -1.7,
          2.8,
          3.7,
          0.9,
          -2.8,
          0.4,
          -0.6,
          2,
          -2.8,
          2.4,
          3.5,
          1.5,
          0.7,
          -1.6,
          1.3,
          1.1,
          -1.9,
          1.5,
          0.8,
          2.3,
          1,
          1.5,
          7,
          6.5,
          0.2,
          1.8,
          -0.2,
          -1.9,
          -1.4,
          2,
          -2.9,
          1.8,
          3.1,
          0.6,
          0.2,
          1.2,
          -0.5,
          3.4,
          0.6,
          -1.6,
          0.2,
          2.6,
          6.2,
          4.4,
          0.6,
          1.9,
          2.1,
          2,
          1.2,
          0.8,
          -0.8,
          -2.1,
          2.2,
          0,
          0.7,
          1,
          -2.3,
          -2.7,
          -4.5,
          2.9,
          2.2,
          -3.4,
          -0.5,
          2.9,
          7.2,
          10.6,
          4.8,
          0.4,
          0.7,
          -1.4,
          0.6,
          4,
          1.8,
          1.8,
          2.3,
          1.8,
          -4.3,
          0.8,
          -0.7,
          -1.5,
          -1.6,
          -0.9,
          1.8,
          4.2,
          1.8,
          -0.8,
          -1.4,
          0.4,
          1.6,
          6.5,
          -3.9,
          1.3,
          -1.1,
          -0.1,
          2.4,
          1.4,
          -0.4,
          3.5,
          0,
          0.6,
          3.2,
          1.2,
          -2,
          1.9,
          1.8,
          -0.6,
          -0.1,
          -0.9,
          1.8,
          3.3,
          3.5,
          -2.4,
          -0.4,
          0.8,
          1.2,
          -1.4,
          3,
          2.5,
          -1.7,
          0.5,
          2.3,
          1.1,
          3.2,
          2.1,
          0.8,
          2.2,
          -4.5,
          2.7,
          1.6,
          2.7,
          0.1,
          4.1,
          2.4,
          -1.7,
          -0.4,
          0.2,
          8.6,
          -1.8,
          -1.1,
          0.6,
          1.3,
          0.9,
          2.9,
          0.8,
          2.2,
          0.5,
          1.9,
          0.6,
          -5.9,
          -0.3,
          3.9,
          -0.7,
          -1.2,
          2.9,
          2,
          2.3,
          2.4,
          6.1,
          3,
          3.3,
          1.4,
          1.2,
          -1.4,
          3.7,
          0.7,
          2.6,
          0.2,
          9.6,
          -1.4,
          1.5,
          3.5,
          2.7,
          0.8,
          3.5,
          -1.2,
          -1.3,
          1.2,
          -3.1,
          3.1,
          0.7,
          0.8,
          3.7,
          4.5,
          5.5,
          1.6,
          4.6,
          0.2,
          5.8,
          2.5,
          0.8,
          1.6,
          -4.8,
          -4.2,
          0.9,
          -3.2,
          -1,
          -1.3,
          2.5,
          -2.3,
          3.1,
          2.3,
          -0.9,
          -0.1,
          -4.6,
          -2.9,
          -0.6,
          1.6,
          -2.2,
          0.9,
          3.5,
          -1.5,
          1.3,
          1.7,
          -1.4,
          6.5,
          -0.7,
          2.1,
          -1,
          -0.7,
          3.1,
          0.9,
          3.2,
          -2.6,
          0.5,
          -1.1,
          4.6,
          4.3,
          -0.5,
          0.7,
          4.6,
          2.2,
          -2.6,
          -0.2,
          3.5,
          -0.4,
          3.2,
          -0.6,
          -4.3,
          -1.3,
          2,
          3.1,
          1.2,
          5.8,
          1.2,
          3.6,
          3.1,
          1.1,
          -0.5,
          3.1,
          0.5,
          0.7,
          0.9,
          0.8,
          2.3,
          0.2,
          -0.6,
          0.5,
          0.1,
          5.8,
          2.4,
          -2.1,
          0.9,
          -1.2,
          3.8,
          2.1,
          3.5,
          2.2,
          0.1,
          1.4,
          2.9,
          1.2,
          0.9,
          -0.2,
          3.1,
          3.1,
          2.2,
          3,
          10.8,
          -3.2,
          -0.7,
          -1,
          0.1,
          3.6,
          3.4,
          -0.9,
          -1.5,
          1.8,
          1.1,
          -0.2,
          3.1,
          -1.9,
          1.5,
          2.3,
          1.6,
          2.1,
          -3.7,
          1.1,
          -0.2,
          -1.3,
          1.1,
          2.8,
          2.3,
          4.6,
          2.7,
          4.3,
          -1.2,
          2.2,
          1.6,
          2.4,
          2.8,
          1.8,
          0.3,
          2.2,
          0.5,
          -2.4,
          1.3,
          -1.5,
          9.1,
          1.3,
          -0.4,
          6.9,
          1,
          1.7,
          8.3,
          -1.1,
          -0.5,
          4.4,
          3,
          0.4,
          -0.4,
          3.4,
          1.7,
          4.4,
          0.8,
          1.1,
          5.8,
          1.2,
          3.7,
          -3.7,
          -0.4,
          2.4,
          -1.1,
          3.1,
          1.1,
          1.1,
          -0.9,
          7.9,
          4.8,
          2,
          0.6,
          -2.2,
          1.1,
          0.3,
          1.7,
          1.1,
          0.4,
          5.8,
          4.4,
          1.3,
          -0.7,
          -0.5,
          1.1,
          0.5,
          11,
          1.6,
          -3.1,
          1.2,
          -1,
          -1.6,
          3.6,
          1.2,
          0.9,
          -3.3,
          3.4,
          2.2,
          0.5,
          4.2,
          1.7,
          -2.2,
          -0.8,
          -2,
          -1.3,
          -3,
          -4.9,
          -1.1,
          -2.2,
          0.3,
          3.3,
          1.3,
          2.6,
          -1.6,
          3.4,
          0.4,
          3.7,
          -0.2,
          -1.4,
          3.4,
          -1,
          4.4,
          -2.6,
          2.8,
          0.3,
          -0.2,
          -0.6,
          1.4,
          1.5,
          0.6,
          2.1,
          0.3,
          1,
          6.4,
          2.8,
          1.7,
          2.5,
          -0.1,
          0.2,
          -0.4,
          2.3,
          2.6,
          -0.8,
          -3,
          -0.1,
          2.1,
          2.6,
          4.3,
          5.2,
          2.1,
          0.6,
          4.9,
          3.6,
          0.6,
          -1.9,
          -0.4,
          0.2,
          2.1,
          -1.5,
          -0.1,
          1.6,
          5.3,
          -1.3,
          3.2,
          -1,
          -6,
          -2,
          -0.3,
          0.3,
          1.1,
          -0.3,
          2.6,
          1.5,
          -2.4,
          3,
          2.3,
          -4.7,
          6.1,
          1.7,
          -2,
          4.5,
          0.5,
          -0.4,
          0.4,
          -1.1,
          -2,
          1.2,
          -1.1,
          2.7,
          5.1,
          -3.2,
          -1.7,
          3.5,
          6.9,
          -2.8,
          3,
          0.5,
          -2.1,
          1.5,
          -2.1,
          0.7,
          0.6,
          -3.7,
          -0.8,
          2.9,
          5.9,
          0.6,
          -2.2,
          1.4,
          7.1,
          1.5,
          2.3,
          2.7,
          2.6,
          0.9,
          -0.2,
          6.9,
          4.4,
          1.1,
          0.3,
          1.5,
          6,
          2.3,
          1.9,
          7.3,
          3.7,
          -0.7,
          6,
          -0.6,
          -2.6,
          1.8,
          -1.8,
          10.2,
          2.2,
          -0.5,
          0.1,
          2.5,
          0.9,
          1.9,
          0.3,
          -4,
          -4.3,
          0.6,
          -0.4,
          0.6,
          -0.6,
          2.8,
          3.9,
          -2.3,
          -0.5,
          -0.7,
          -1.3,
          2.3,
          0.6,
          1.6,
          5,
          1,
          -4,
          -1.1,
          2.6,
          -4.2,
          -3.2,
          0,
          4.5,
          0.8,
          -2,
          -0.7,
          -0.4,
          -3.8,
          -1.4,
          0.2,
          1.4,
          -0.2,
          -0.6,
          5.4,
          0.6,
          -1.6,
          -0.7,
          -1.5,
          4.6,
          -2.9,
          3.6,
          0.2,
          4.3,
          -0.8,
          -2,
          2.1,
          8.7,
          10.3,
          -2.4,
          1,
          0,
          1.4,
          -2.7,
          1.4,
          -4.7,
          -1.6
         ],
         "yaxis": "y"
        }
       ],
       "layout": {
        "legend": {
         "title": {
          "text": "variable"
         },
         "tracegroupgap": 0
        },
        "margin": {
         "t": 60
        },
        "template": {
         "data": {
          "bar": [
           {
            "error_x": {
             "color": "#2a3f5f"
            },
            "error_y": {
             "color": "#2a3f5f"
            },
            "marker": {
             "line": {
              "color": "#E5ECF6",
              "width": 0.5
             },
             "pattern": {
              "fillmode": "overlay",
              "size": 10,
              "solidity": 0.2
             }
            },
            "type": "bar"
           }
          ],
          "barpolar": [
           {
            "marker": {
             "line": {
              "color": "#E5ECF6",
              "width": 0.5
             },
             "pattern": {
              "fillmode": "overlay",
              "size": 10,
              "solidity": 0.2
             }
            },
            "type": "barpolar"
           }
          ],
          "carpet": [
           {
            "aaxis": {
             "endlinecolor": "#2a3f5f",
             "gridcolor": "white",
             "linecolor": "white",
             "minorgridcolor": "white",
             "startlinecolor": "#2a3f5f"
            },
            "baxis": {
             "endlinecolor": "#2a3f5f",
             "gridcolor": "white",
             "linecolor": "white",
             "minorgridcolor": "white",
             "startlinecolor": "#2a3f5f"
            },
            "type": "carpet"
           }
          ],
          "choropleth": [
           {
            "colorbar": {
             "outlinewidth": 0,
             "ticks": ""
            },
            "type": "choropleth"
           }
          ],
          "contour": [
           {
            "colorbar": {
             "outlinewidth": 0,
             "ticks": ""
            },
            "colorscale": [
             [
              0,
              "#0d0887"
             ],
             [
              0.1111111111111111,
              "#46039f"
             ],
             [
              0.2222222222222222,
              "#7201a8"
             ],
             [
              0.3333333333333333,
              "#9c179e"
             ],
             [
              0.4444444444444444,
              "#bd3786"
             ],
             [
              0.5555555555555556,
              "#d8576b"
             ],
             [
              0.6666666666666666,
              "#ed7953"
             ],
             [
              0.7777777777777778,
              "#fb9f3a"
             ],
             [
              0.8888888888888888,
              "#fdca26"
             ],
             [
              1,
              "#f0f921"
             ]
            ],
            "type": "contour"
           }
          ],
          "contourcarpet": [
           {
            "colorbar": {
             "outlinewidth": 0,
             "ticks": ""
            },
            "type": "contourcarpet"
           }
          ],
          "heatmap": [
           {
            "colorbar": {
             "outlinewidth": 0,
             "ticks": ""
            },
            "colorscale": [
             [
              0,
              "#0d0887"
             ],
             [
              0.1111111111111111,
              "#46039f"
             ],
             [
              0.2222222222222222,
              "#7201a8"
             ],
             [
              0.3333333333333333,
              "#9c179e"
             ],
             [
              0.4444444444444444,
              "#bd3786"
             ],
             [
              0.5555555555555556,
              "#d8576b"
             ],
             [
              0.6666666666666666,
              "#ed7953"
             ],
             [
              0.7777777777777778,
              "#fb9f3a"
             ],
             [
              0.8888888888888888,
              "#fdca26"
             ],
             [
              1,
              "#f0f921"
             ]
            ],
            "type": "heatmap"
           }
          ],
          "heatmapgl": [
           {
            "colorbar": {
             "outlinewidth": 0,
             "ticks": ""
            },
            "colorscale": [
             [
              0,
              "#0d0887"
             ],
             [
              0.1111111111111111,
              "#46039f"
             ],
             [
              0.2222222222222222,
              "#7201a8"
             ],
             [
              0.3333333333333333,
              "#9c179e"
             ],
             [
              0.4444444444444444,
              "#bd3786"
             ],
             [
              0.5555555555555556,
              "#d8576b"
             ],
             [
              0.6666666666666666,
              "#ed7953"
             ],
             [
              0.7777777777777778,
              "#fb9f3a"
             ],
             [
              0.8888888888888888,
              "#fdca26"
             ],
             [
              1,
              "#f0f921"
             ]
            ],
            "type": "heatmapgl"
           }
          ],
          "histogram": [
           {
            "marker": {
             "pattern": {
              "fillmode": "overlay",
              "size": 10,
              "solidity": 0.2
             }
            },
            "type": "histogram"
           }
          ],
          "histogram2d": [
           {
            "colorbar": {
             "outlinewidth": 0,
             "ticks": ""
            },
            "colorscale": [
             [
              0,
              "#0d0887"
             ],
             [
              0.1111111111111111,
              "#46039f"
             ],
             [
              0.2222222222222222,
              "#7201a8"
             ],
             [
              0.3333333333333333,
              "#9c179e"
             ],
             [
              0.4444444444444444,
              "#bd3786"
             ],
             [
              0.5555555555555556,
              "#d8576b"
             ],
             [
              0.6666666666666666,
              "#ed7953"
             ],
             [
              0.7777777777777778,
              "#fb9f3a"
             ],
             [
              0.8888888888888888,
              "#fdca26"
             ],
             [
              1,
              "#f0f921"
             ]
            ],
            "type": "histogram2d"
           }
          ],
          "histogram2dcontour": [
           {
            "colorbar": {
             "outlinewidth": 0,
             "ticks": ""
            },
            "colorscale": [
             [
              0,
              "#0d0887"
             ],
             [
              0.1111111111111111,
              "#46039f"
             ],
             [
              0.2222222222222222,
              "#7201a8"
             ],
             [
              0.3333333333333333,
              "#9c179e"
             ],
             [
              0.4444444444444444,
              "#bd3786"
             ],
             [
              0.5555555555555556,
              "#d8576b"
             ],
             [
              0.6666666666666666,
              "#ed7953"
             ],
             [
              0.7777777777777778,
              "#fb9f3a"
             ],
             [
              0.8888888888888888,
              "#fdca26"
             ],
             [
              1,
              "#f0f921"
             ]
            ],
            "type": "histogram2dcontour"
           }
          ],
          "mesh3d": [
           {
            "colorbar": {
             "outlinewidth": 0,
             "ticks": ""
            },
            "type": "mesh3d"
           }
          ],
          "parcoords": [
           {
            "line": {
             "colorbar": {
              "outlinewidth": 0,
              "ticks": ""
             }
            },
            "type": "parcoords"
           }
          ],
          "pie": [
           {
            "automargin": true,
            "type": "pie"
           }
          ],
          "scatter": [
           {
            "marker": {
             "colorbar": {
              "outlinewidth": 0,
              "ticks": ""
             }
            },
            "type": "scatter"
           }
          ],
          "scatter3d": [
           {
            "line": {
             "colorbar": {
              "outlinewidth": 0,
              "ticks": ""
             }
            },
            "marker": {
             "colorbar": {
              "outlinewidth": 0,
              "ticks": ""
             }
            },
            "type": "scatter3d"
           }
          ],
          "scattercarpet": [
           {
            "marker": {
             "colorbar": {
              "outlinewidth": 0,
              "ticks": ""
             }
            },
            "type": "scattercarpet"
           }
          ],
          "scattergeo": [
           {
            "marker": {
             "colorbar": {
              "outlinewidth": 0,
              "ticks": ""
             }
            },
            "type": "scattergeo"
           }
          ],
          "scattergl": [
           {
            "marker": {
             "colorbar": {
              "outlinewidth": 0,
              "ticks": ""
             }
            },
            "type": "scattergl"
           }
          ],
          "scattermapbox": [
           {
            "marker": {
             "colorbar": {
              "outlinewidth": 0,
              "ticks": ""
             }
            },
            "type": "scattermapbox"
           }
          ],
          "scatterpolar": [
           {
            "marker": {
             "colorbar": {
              "outlinewidth": 0,
              "ticks": ""
             }
            },
            "type": "scatterpolar"
           }
          ],
          "scatterpolargl": [
           {
            "marker": {
             "colorbar": {
              "outlinewidth": 0,
              "ticks": ""
             }
            },
            "type": "scatterpolargl"
           }
          ],
          "scatterternary": [
           {
            "marker": {
             "colorbar": {
              "outlinewidth": 0,
              "ticks": ""
             }
            },
            "type": "scatterternary"
           }
          ],
          "surface": [
           {
            "colorbar": {
             "outlinewidth": 0,
             "ticks": ""
            },
            "colorscale": [
             [
              0,
              "#0d0887"
             ],
             [
              0.1111111111111111,
              "#46039f"
             ],
             [
              0.2222222222222222,
              "#7201a8"
             ],
             [
              0.3333333333333333,
              "#9c179e"
             ],
             [
              0.4444444444444444,
              "#bd3786"
             ],
             [
              0.5555555555555556,
              "#d8576b"
             ],
             [
              0.6666666666666666,
              "#ed7953"
             ],
             [
              0.7777777777777778,
              "#fb9f3a"
             ],
             [
              0.8888888888888888,
              "#fdca26"
             ],
             [
              1,
              "#f0f921"
             ]
            ],
            "type": "surface"
           }
          ],
          "table": [
           {
            "cells": {
             "fill": {
              "color": "#EBF0F8"
             },
             "line": {
              "color": "white"
             }
            },
            "header": {
             "fill": {
              "color": "#C8D4E3"
             },
             "line": {
              "color": "white"
             }
            },
            "type": "table"
           }
          ]
         },
         "layout": {
          "annotationdefaults": {
           "arrowcolor": "#2a3f5f",
           "arrowhead": 0,
           "arrowwidth": 1
          },
          "autotypenumbers": "strict",
          "coloraxis": {
           "colorbar": {
            "outlinewidth": 0,
            "ticks": ""
           }
          },
          "colorscale": {
           "diverging": [
            [
             0,
             "#8e0152"
            ],
            [
             0.1,
             "#c51b7d"
            ],
            [
             0.2,
             "#de77ae"
            ],
            [
             0.3,
             "#f1b6da"
            ],
            [
             0.4,
             "#fde0ef"
            ],
            [
             0.5,
             "#f7f7f7"
            ],
            [
             0.6,
             "#e6f5d0"
            ],
            [
             0.7,
             "#b8e186"
            ],
            [
             0.8,
             "#7fbc41"
            ],
            [
             0.9,
             "#4d9221"
            ],
            [
             1,
             "#276419"
            ]
           ],
           "sequential": [
            [
             0,
             "#0d0887"
            ],
            [
             0.1111111111111111,
             "#46039f"
            ],
            [
             0.2222222222222222,
             "#7201a8"
            ],
            [
             0.3333333333333333,
             "#9c179e"
            ],
            [
             0.4444444444444444,
             "#bd3786"
            ],
            [
             0.5555555555555556,
             "#d8576b"
            ],
            [
             0.6666666666666666,
             "#ed7953"
            ],
            [
             0.7777777777777778,
             "#fb9f3a"
            ],
            [
             0.8888888888888888,
             "#fdca26"
            ],
            [
             1,
             "#f0f921"
            ]
           ],
           "sequentialminus": [
            [
             0,
             "#0d0887"
            ],
            [
             0.1111111111111111,
             "#46039f"
            ],
            [
             0.2222222222222222,
             "#7201a8"
            ],
            [
             0.3333333333333333,
             "#9c179e"
            ],
            [
             0.4444444444444444,
             "#bd3786"
            ],
            [
             0.5555555555555556,
             "#d8576b"
            ],
            [
             0.6666666666666666,
             "#ed7953"
            ],
            [
             0.7777777777777778,
             "#fb9f3a"
            ],
            [
             0.8888888888888888,
             "#fdca26"
            ],
            [
             1,
             "#f0f921"
            ]
           ]
          },
          "colorway": [
           "#636efa",
           "#EF553B",
           "#00cc96",
           "#ab63fa",
           "#FFA15A",
           "#19d3f3",
           "#FF6692",
           "#B6E880",
           "#FF97FF",
           "#FECB52"
          ],
          "font": {
           "color": "#2a3f5f"
          },
          "geo": {
           "bgcolor": "white",
           "lakecolor": "white",
           "landcolor": "#E5ECF6",
           "showlakes": true,
           "showland": true,
           "subunitcolor": "white"
          },
          "hoverlabel": {
           "align": "left"
          },
          "hovermode": "closest",
          "mapbox": {
           "style": "light"
          },
          "paper_bgcolor": "white",
          "plot_bgcolor": "#E5ECF6",
          "polar": {
           "angularaxis": {
            "gridcolor": "white",
            "linecolor": "white",
            "ticks": ""
           },
           "bgcolor": "#E5ECF6",
           "radialaxis": {
            "gridcolor": "white",
            "linecolor": "white",
            "ticks": ""
           }
          },
          "scene": {
           "xaxis": {
            "backgroundcolor": "#E5ECF6",
            "gridcolor": "white",
            "gridwidth": 2,
            "linecolor": "white",
            "showbackground": true,
            "ticks": "",
            "zerolinecolor": "white"
           },
           "yaxis": {
            "backgroundcolor": "#E5ECF6",
            "gridcolor": "white",
            "gridwidth": 2,
            "linecolor": "white",
            "showbackground": true,
            "ticks": "",
            "zerolinecolor": "white"
           },
           "zaxis": {
            "backgroundcolor": "#E5ECF6",
            "gridcolor": "white",
            "gridwidth": 2,
            "linecolor": "white",
            "showbackground": true,
            "ticks": "",
            "zerolinecolor": "white"
           }
          },
          "shapedefaults": {
           "line": {
            "color": "#2a3f5f"
           }
          },
          "ternary": {
           "aaxis": {
            "gridcolor": "white",
            "linecolor": "white",
            "ticks": ""
           },
           "baxis": {
            "gridcolor": "white",
            "linecolor": "white",
            "ticks": ""
           },
           "bgcolor": "#E5ECF6",
           "caxis": {
            "gridcolor": "white",
            "linecolor": "white",
            "ticks": ""
           }
          },
          "title": {
           "x": 0.05
          },
          "xaxis": {
           "automargin": true,
           "gridcolor": "white",
           "linecolor": "white",
           "ticks": "",
           "title": {
            "standoff": 15
           },
           "zerolinecolor": "white",
           "zerolinewidth": 2
          },
          "yaxis": {
           "automargin": true,
           "gridcolor": "white",
           "linecolor": "white",
           "ticks": "",
           "title": {
            "standoff": 15
           },
           "zerolinecolor": "white",
           "zerolinewidth": 2
          }
         }
        },
        "xaxis": {
         "anchor": "y",
         "domain": [
          0,
          1
         ],
         "title": {
          "text": "state"
         }
        },
        "yaxis": {
         "anchor": "x",
         "domain": [
          0,
          1
         ],
         "title": {
          "text": "value"
         }
        }
       }
      }
     },
     "metadata": {},
     "output_type": "display_data"
    }
   ],
   "source": [
    "px.scatter(hvf, x='state', y=['feb', 'apr', 'jan_24'], opacity=.8)"
   ]
  },
  {
   "cell_type": "code",
   "execution_count": 22,
   "metadata": {},
   "outputs": [
    {
     "data": {
      "application/vnd.plotly.v1+json": {
       "config": {
        "plotlyServerURL": "https://plot.ly"
       },
       "data": [
        {
         "alignmentgroup": "True",
         "hovertemplate": "variable=feb<br>state=%{x}<br>value=%{y}<extra></extra>",
         "legendgroup": "feb",
         "marker": {
          "color": "#1F77B4",
          "pattern": {
           "shape": ""
          }
         },
         "name": "feb",
         "offsetgroup": "feb",
         "orientation": "v",
         "showlegend": true,
         "textposition": "auto",
         "type": "bar",
         "x": [
          "AK",
          "AL",
          "AR",
          "AZ",
          "CA",
          "CO",
          "CT",
          "DE",
          "FL",
          "GA",
          "HI",
          "IA",
          "ID",
          "IL",
          "IN",
          "KS",
          "KY",
          "LA",
          "MA",
          "MD",
          "ME",
          "MI",
          "MN",
          "MO",
          "MS",
          "MT",
          "NC",
          "ND",
          "NE",
          "NH",
          "NJ",
          "NM",
          "NV",
          "NY",
          "OH",
          "OK",
          "OR",
          "PA",
          "RI",
          "SC",
          "SD",
          "TN",
          "TX",
          "UT",
          "VA",
          "VT",
          "WA",
          "WI",
          "WV",
          "WY"
         ],
         "xaxis": "x",
         "y": [
          -1.1,
          13.5,
          20.4,
          -2.5,
          -19.8,
          -6.2,
          0.9,
          0.1,
          -7.3,
          17.3,
          -1.9,
          -1.2999999999999998,
          -7.6,
          21.5,
          9.5,
          1.9000000000000001,
          17.1,
          16.7,
          0.2,
          2.4,
          2.1,
          32.1,
          5.1,
          13.2,
          23.6,
          0.8999999999999999,
          16.6,
          0.09999999999999998,
          1.1,
          0.2,
          3.1,
          11.1,
          -5.4,
          -0.8,
          15.799999999999999,
          1.8,
          -6,
          22.9,
          0.1,
          10.4,
          1.3,
          20.5,
          52.1,
          -1,
          5.3,
          3,
          -4.7,
          15.799999999999999,
          2.3,
          0.19999999999999998
         ],
         "yaxis": "y"
        },
        {
         "alignmentgroup": "True",
         "hovertemplate": "variable=apr<br>state=%{x}<br>value=%{y}<extra></extra>",
         "legendgroup": "apr",
         "marker": {
          "color": "#FF7F0E",
          "pattern": {
           "shape": ""
          }
         },
         "name": "apr",
         "offsetgroup": "apr",
         "orientation": "v",
         "showlegend": true,
         "textposition": "auto",
         "type": "bar",
         "x": [
          "AK",
          "AL",
          "AR",
          "AZ",
          "CA",
          "CO",
          "CT",
          "DE",
          "FL",
          "GA",
          "HI",
          "IA",
          "ID",
          "IL",
          "IN",
          "KS",
          "KY",
          "LA",
          "MA",
          "MD",
          "ME",
          "MI",
          "MN",
          "MO",
          "MS",
          "MT",
          "NC",
          "ND",
          "NE",
          "NH",
          "NJ",
          "NM",
          "NV",
          "NY",
          "OH",
          "OK",
          "OR",
          "PA",
          "RI",
          "SC",
          "SD",
          "TN",
          "TX",
          "UT",
          "VA",
          "VT",
          "WA",
          "WI",
          "WV",
          "WY"
         ],
         "xaxis": "x",
         "y": [
          -4.1,
          24.900000000000002,
          38.6,
          -2.6,
          -39.4,
          -9.9,
          2.4,
          0.5,
          -10.6,
          43.4,
          -3.1,
          -3.3,
          -8.5,
          36.5,
          23.1,
          3.5,
          37.2,
          26.1,
          0.39999999999999997,
          4,
          4.4,
          68.6,
          7.7,
          23,
          45.9,
          3.4,
          47,
          -3.3,
          -0.8,
          1.3,
          7,
          16.3,
          -10.799999999999999,
          2.7,
          30.9,
          2.3,
          -8.6,
          41.5,
          0.2,
          25.2,
          1.8000000000000003,
          51.1,
          99,
          0,
          9.799999999999999,
          6,
          -3.7,
          26,
          3.2,
          -1.5
         ],
         "yaxis": "y"
        },
        {
         "alignmentgroup": "True",
         "hovertemplate": "variable=jan_24<br>state=%{x}<br>value=%{y}<extra></extra>",
         "legendgroup": "jan_24",
         "marker": {
          "color": "#2CA02C",
          "pattern": {
           "shape": ""
          }
         },
         "name": "jan_24",
         "offsetgroup": "jan_24",
         "orientation": "v",
         "showlegend": true,
         "textposition": "auto",
         "type": "bar",
         "x": [
          "AK",
          "AL",
          "AR",
          "AZ",
          "CA",
          "CO",
          "CT",
          "DE",
          "FL",
          "GA",
          "HI",
          "IA",
          "ID",
          "IL",
          "IN",
          "KS",
          "KY",
          "LA",
          "MA",
          "MD",
          "ME",
          "MI",
          "MN",
          "MO",
          "MS",
          "MT",
          "NC",
          "ND",
          "NE",
          "NH",
          "NJ",
          "NM",
          "NV",
          "NY",
          "OH",
          "OK",
          "OR",
          "PA",
          "RI",
          "SC",
          "SD",
          "TN",
          "TX",
          "UT",
          "VA",
          "VT",
          "WA",
          "WI",
          "WV",
          "WY"
         ],
         "xaxis": "x",
         "y": [
          -16.3,
          22.4,
          17.9,
          17.7,
          -70,
          6.4,
          -3,
          1.7999999999999998,
          50,
          105.9,
          -2.6,
          -20.599999999999998,
          31.8,
          -20.6,
          39.5,
          22.7,
          53.2,
          -39.4,
          1.4,
          -0.2999999999999998,
          11.4,
          80.6,
          -11.5,
          30.9,
          -5.9,
          14.5,
          119.9,
          -25.7,
          -12.8,
          10.1,
          10.700000000000001,
          0.8999999999999995,
          -8.5,
          1.9,
          29.3,
          1.0999999999999999,
          10.1,
          10.1,
          -0.1,
          37.1,
          -5.699999999999999,
          109.5,
          48.3,
          15.7,
          4.3,
          5.8,
          25.1,
          15.4,
          -10,
          -6.9
         ],
         "yaxis": "y"
        }
       ],
       "layout": {
        "barmode": "relative",
        "legend": {
         "title": {
          "text": "variable"
         },
         "tracegroupgap": 0
        },
        "template": {
         "data": {
          "bar": [
           {
            "error_x": {
             "color": "rgb(36,36,36)"
            },
            "error_y": {
             "color": "rgb(36,36,36)"
            },
            "marker": {
             "line": {
              "color": "white",
              "width": 0.5
             },
             "pattern": {
              "fillmode": "overlay",
              "size": 10,
              "solidity": 0.2
             }
            },
            "type": "bar"
           }
          ],
          "barpolar": [
           {
            "marker": {
             "line": {
              "color": "white",
              "width": 0.5
             },
             "pattern": {
              "fillmode": "overlay",
              "size": 10,
              "solidity": 0.2
             }
            },
            "type": "barpolar"
           }
          ],
          "carpet": [
           {
            "aaxis": {
             "endlinecolor": "rgb(36,36,36)",
             "gridcolor": "white",
             "linecolor": "white",
             "minorgridcolor": "white",
             "startlinecolor": "rgb(36,36,36)"
            },
            "baxis": {
             "endlinecolor": "rgb(36,36,36)",
             "gridcolor": "white",
             "linecolor": "white",
             "minorgridcolor": "white",
             "startlinecolor": "rgb(36,36,36)"
            },
            "type": "carpet"
           }
          ],
          "choropleth": [
           {
            "colorbar": {
             "outlinewidth": 1,
             "tickcolor": "rgb(36,36,36)",
             "ticks": "outside"
            },
            "type": "choropleth"
           }
          ],
          "contour": [
           {
            "colorbar": {
             "outlinewidth": 1,
             "tickcolor": "rgb(36,36,36)",
             "ticks": "outside"
            },
            "colorscale": [
             [
              0,
              "#440154"
             ],
             [
              0.1111111111111111,
              "#482878"
             ],
             [
              0.2222222222222222,
              "#3e4989"
             ],
             [
              0.3333333333333333,
              "#31688e"
             ],
             [
              0.4444444444444444,
              "#26828e"
             ],
             [
              0.5555555555555556,
              "#1f9e89"
             ],
             [
              0.6666666666666666,
              "#35b779"
             ],
             [
              0.7777777777777778,
              "#6ece58"
             ],
             [
              0.8888888888888888,
              "#b5de2b"
             ],
             [
              1,
              "#fde725"
             ]
            ],
            "type": "contour"
           }
          ],
          "contourcarpet": [
           {
            "colorbar": {
             "outlinewidth": 1,
             "tickcolor": "rgb(36,36,36)",
             "ticks": "outside"
            },
            "type": "contourcarpet"
           }
          ],
          "heatmap": [
           {
            "colorbar": {
             "outlinewidth": 1,
             "tickcolor": "rgb(36,36,36)",
             "ticks": "outside"
            },
            "colorscale": [
             [
              0,
              "#440154"
             ],
             [
              0.1111111111111111,
              "#482878"
             ],
             [
              0.2222222222222222,
              "#3e4989"
             ],
             [
              0.3333333333333333,
              "#31688e"
             ],
             [
              0.4444444444444444,
              "#26828e"
             ],
             [
              0.5555555555555556,
              "#1f9e89"
             ],
             [
              0.6666666666666666,
              "#35b779"
             ],
             [
              0.7777777777777778,
              "#6ece58"
             ],
             [
              0.8888888888888888,
              "#b5de2b"
             ],
             [
              1,
              "#fde725"
             ]
            ],
            "type": "heatmap"
           }
          ],
          "heatmapgl": [
           {
            "colorbar": {
             "outlinewidth": 1,
             "tickcolor": "rgb(36,36,36)",
             "ticks": "outside"
            },
            "colorscale": [
             [
              0,
              "#440154"
             ],
             [
              0.1111111111111111,
              "#482878"
             ],
             [
              0.2222222222222222,
              "#3e4989"
             ],
             [
              0.3333333333333333,
              "#31688e"
             ],
             [
              0.4444444444444444,
              "#26828e"
             ],
             [
              0.5555555555555556,
              "#1f9e89"
             ],
             [
              0.6666666666666666,
              "#35b779"
             ],
             [
              0.7777777777777778,
              "#6ece58"
             ],
             [
              0.8888888888888888,
              "#b5de2b"
             ],
             [
              1,
              "#fde725"
             ]
            ],
            "type": "heatmapgl"
           }
          ],
          "histogram": [
           {
            "marker": {
             "line": {
              "color": "white",
              "width": 0.6
             }
            },
            "type": "histogram"
           }
          ],
          "histogram2d": [
           {
            "colorbar": {
             "outlinewidth": 1,
             "tickcolor": "rgb(36,36,36)",
             "ticks": "outside"
            },
            "colorscale": [
             [
              0,
              "#440154"
             ],
             [
              0.1111111111111111,
              "#482878"
             ],
             [
              0.2222222222222222,
              "#3e4989"
             ],
             [
              0.3333333333333333,
              "#31688e"
             ],
             [
              0.4444444444444444,
              "#26828e"
             ],
             [
              0.5555555555555556,
              "#1f9e89"
             ],
             [
              0.6666666666666666,
              "#35b779"
             ],
             [
              0.7777777777777778,
              "#6ece58"
             ],
             [
              0.8888888888888888,
              "#b5de2b"
             ],
             [
              1,
              "#fde725"
             ]
            ],
            "type": "histogram2d"
           }
          ],
          "histogram2dcontour": [
           {
            "colorbar": {
             "outlinewidth": 1,
             "tickcolor": "rgb(36,36,36)",
             "ticks": "outside"
            },
            "colorscale": [
             [
              0,
              "#440154"
             ],
             [
              0.1111111111111111,
              "#482878"
             ],
             [
              0.2222222222222222,
              "#3e4989"
             ],
             [
              0.3333333333333333,
              "#31688e"
             ],
             [
              0.4444444444444444,
              "#26828e"
             ],
             [
              0.5555555555555556,
              "#1f9e89"
             ],
             [
              0.6666666666666666,
              "#35b779"
             ],
             [
              0.7777777777777778,
              "#6ece58"
             ],
             [
              0.8888888888888888,
              "#b5de2b"
             ],
             [
              1,
              "#fde725"
             ]
            ],
            "type": "histogram2dcontour"
           }
          ],
          "mesh3d": [
           {
            "colorbar": {
             "outlinewidth": 1,
             "tickcolor": "rgb(36,36,36)",
             "ticks": "outside"
            },
            "type": "mesh3d"
           }
          ],
          "parcoords": [
           {
            "line": {
             "colorbar": {
              "outlinewidth": 1,
              "tickcolor": "rgb(36,36,36)",
              "ticks": "outside"
             }
            },
            "type": "parcoords"
           }
          ],
          "pie": [
           {
            "automargin": true,
            "type": "pie"
           }
          ],
          "scatter": [
           {
            "marker": {
             "colorbar": {
              "outlinewidth": 1,
              "tickcolor": "rgb(36,36,36)",
              "ticks": "outside"
             }
            },
            "type": "scatter"
           }
          ],
          "scatter3d": [
           {
            "line": {
             "colorbar": {
              "outlinewidth": 1,
              "tickcolor": "rgb(36,36,36)",
              "ticks": "outside"
             }
            },
            "marker": {
             "colorbar": {
              "outlinewidth": 1,
              "tickcolor": "rgb(36,36,36)",
              "ticks": "outside"
             }
            },
            "type": "scatter3d"
           }
          ],
          "scattercarpet": [
           {
            "marker": {
             "colorbar": {
              "outlinewidth": 1,
              "tickcolor": "rgb(36,36,36)",
              "ticks": "outside"
             }
            },
            "type": "scattercarpet"
           }
          ],
          "scattergeo": [
           {
            "marker": {
             "colorbar": {
              "outlinewidth": 1,
              "tickcolor": "rgb(36,36,36)",
              "ticks": "outside"
             }
            },
            "type": "scattergeo"
           }
          ],
          "scattergl": [
           {
            "marker": {
             "colorbar": {
              "outlinewidth": 1,
              "tickcolor": "rgb(36,36,36)",
              "ticks": "outside"
             }
            },
            "type": "scattergl"
           }
          ],
          "scattermapbox": [
           {
            "marker": {
             "colorbar": {
              "outlinewidth": 1,
              "tickcolor": "rgb(36,36,36)",
              "ticks": "outside"
             }
            },
            "type": "scattermapbox"
           }
          ],
          "scatterpolar": [
           {
            "marker": {
             "colorbar": {
              "outlinewidth": 1,
              "tickcolor": "rgb(36,36,36)",
              "ticks": "outside"
             }
            },
            "type": "scatterpolar"
           }
          ],
          "scatterpolargl": [
           {
            "marker": {
             "colorbar": {
              "outlinewidth": 1,
              "tickcolor": "rgb(36,36,36)",
              "ticks": "outside"
             }
            },
            "type": "scatterpolargl"
           }
          ],
          "scatterternary": [
           {
            "marker": {
             "colorbar": {
              "outlinewidth": 1,
              "tickcolor": "rgb(36,36,36)",
              "ticks": "outside"
             }
            },
            "type": "scatterternary"
           }
          ],
          "surface": [
           {
            "colorbar": {
             "outlinewidth": 1,
             "tickcolor": "rgb(36,36,36)",
             "ticks": "outside"
            },
            "colorscale": [
             [
              0,
              "#440154"
             ],
             [
              0.1111111111111111,
              "#482878"
             ],
             [
              0.2222222222222222,
              "#3e4989"
             ],
             [
              0.3333333333333333,
              "#31688e"
             ],
             [
              0.4444444444444444,
              "#26828e"
             ],
             [
              0.5555555555555556,
              "#1f9e89"
             ],
             [
              0.6666666666666666,
              "#35b779"
             ],
             [
              0.7777777777777778,
              "#6ece58"
             ],
             [
              0.8888888888888888,
              "#b5de2b"
             ],
             [
              1,
              "#fde725"
             ]
            ],
            "type": "surface"
           }
          ],
          "table": [
           {
            "cells": {
             "fill": {
              "color": "rgb(237,237,237)"
             },
             "line": {
              "color": "white"
             }
            },
            "header": {
             "fill": {
              "color": "rgb(217,217,217)"
             },
             "line": {
              "color": "white"
             }
            },
            "type": "table"
           }
          ]
         },
         "layout": {
          "annotationdefaults": {
           "arrowhead": 0,
           "arrowwidth": 1
          },
          "autotypenumbers": "strict",
          "coloraxis": {
           "colorbar": {
            "outlinewidth": 1,
            "tickcolor": "rgb(36,36,36)",
            "ticks": "outside"
           }
          },
          "colorscale": {
           "diverging": [
            [
             0,
             "rgb(103,0,31)"
            ],
            [
             0.1,
             "rgb(178,24,43)"
            ],
            [
             0.2,
             "rgb(214,96,77)"
            ],
            [
             0.3,
             "rgb(244,165,130)"
            ],
            [
             0.4,
             "rgb(253,219,199)"
            ],
            [
             0.5,
             "rgb(247,247,247)"
            ],
            [
             0.6,
             "rgb(209,229,240)"
            ],
            [
             0.7,
             "rgb(146,197,222)"
            ],
            [
             0.8,
             "rgb(67,147,195)"
            ],
            [
             0.9,
             "rgb(33,102,172)"
            ],
            [
             1,
             "rgb(5,48,97)"
            ]
           ],
           "sequential": [
            [
             0,
             "#440154"
            ],
            [
             0.1111111111111111,
             "#482878"
            ],
            [
             0.2222222222222222,
             "#3e4989"
            ],
            [
             0.3333333333333333,
             "#31688e"
            ],
            [
             0.4444444444444444,
             "#26828e"
            ],
            [
             0.5555555555555556,
             "#1f9e89"
            ],
            [
             0.6666666666666666,
             "#35b779"
            ],
            [
             0.7777777777777778,
             "#6ece58"
            ],
            [
             0.8888888888888888,
             "#b5de2b"
            ],
            [
             1,
             "#fde725"
            ]
           ],
           "sequentialminus": [
            [
             0,
             "#440154"
            ],
            [
             0.1111111111111111,
             "#482878"
            ],
            [
             0.2222222222222222,
             "#3e4989"
            ],
            [
             0.3333333333333333,
             "#31688e"
            ],
            [
             0.4444444444444444,
             "#26828e"
            ],
            [
             0.5555555555555556,
             "#1f9e89"
            ],
            [
             0.6666666666666666,
             "#35b779"
            ],
            [
             0.7777777777777778,
             "#6ece58"
            ],
            [
             0.8888888888888888,
             "#b5de2b"
            ],
            [
             1,
             "#fde725"
            ]
           ]
          },
          "colorway": [
           "#1F77B4",
           "#FF7F0E",
           "#2CA02C",
           "#D62728",
           "#9467BD",
           "#8C564B",
           "#E377C2",
           "#7F7F7F",
           "#BCBD22",
           "#17BECF"
          ],
          "font": {
           "color": "rgb(36,36,36)"
          },
          "geo": {
           "bgcolor": "white",
           "lakecolor": "white",
           "landcolor": "white",
           "showlakes": true,
           "showland": true,
           "subunitcolor": "white"
          },
          "hoverlabel": {
           "align": "left"
          },
          "hovermode": "closest",
          "mapbox": {
           "style": "light"
          },
          "paper_bgcolor": "white",
          "plot_bgcolor": "white",
          "polar": {
           "angularaxis": {
            "gridcolor": "rgb(232,232,232)",
            "linecolor": "rgb(36,36,36)",
            "showgrid": false,
            "showline": true,
            "ticks": "outside"
           },
           "bgcolor": "white",
           "radialaxis": {
            "gridcolor": "rgb(232,232,232)",
            "linecolor": "rgb(36,36,36)",
            "showgrid": false,
            "showline": true,
            "ticks": "outside"
           }
          },
          "scene": {
           "xaxis": {
            "backgroundcolor": "white",
            "gridcolor": "rgb(232,232,232)",
            "gridwidth": 2,
            "linecolor": "rgb(36,36,36)",
            "showbackground": true,
            "showgrid": false,
            "showline": true,
            "ticks": "outside",
            "zeroline": false,
            "zerolinecolor": "rgb(36,36,36)"
           },
           "yaxis": {
            "backgroundcolor": "white",
            "gridcolor": "rgb(232,232,232)",
            "gridwidth": 2,
            "linecolor": "rgb(36,36,36)",
            "showbackground": true,
            "showgrid": false,
            "showline": true,
            "ticks": "outside",
            "zeroline": false,
            "zerolinecolor": "rgb(36,36,36)"
           },
           "zaxis": {
            "backgroundcolor": "white",
            "gridcolor": "rgb(232,232,232)",
            "gridwidth": 2,
            "linecolor": "rgb(36,36,36)",
            "showbackground": true,
            "showgrid": false,
            "showline": true,
            "ticks": "outside",
            "zeroline": false,
            "zerolinecolor": "rgb(36,36,36)"
           }
          },
          "shapedefaults": {
           "fillcolor": "black",
           "line": {
            "width": 0
           },
           "opacity": 0.3
          },
          "ternary": {
           "aaxis": {
            "gridcolor": "rgb(232,232,232)",
            "linecolor": "rgb(36,36,36)",
            "showgrid": false,
            "showline": true,
            "ticks": "outside"
           },
           "baxis": {
            "gridcolor": "rgb(232,232,232)",
            "linecolor": "rgb(36,36,36)",
            "showgrid": false,
            "showline": true,
            "ticks": "outside"
           },
           "bgcolor": "white",
           "caxis": {
            "gridcolor": "rgb(232,232,232)",
            "linecolor": "rgb(36,36,36)",
            "showgrid": false,
            "showline": true,
            "ticks": "outside"
           }
          },
          "title": {
           "x": 0.05
          },
          "xaxis": {
           "automargin": true,
           "gridcolor": "rgb(232,232,232)",
           "linecolor": "rgb(36,36,36)",
           "showgrid": false,
           "showline": true,
           "ticks": "outside",
           "title": {
            "standoff": 15
           },
           "zeroline": false,
           "zerolinecolor": "rgb(36,36,36)"
          },
          "yaxis": {
           "automargin": true,
           "gridcolor": "rgb(232,232,232)",
           "linecolor": "rgb(36,36,36)",
           "showgrid": false,
           "showline": true,
           "ticks": "outside",
           "title": {
            "standoff": 15
           },
           "zeroline": false,
           "zerolinecolor": "rgb(36,36,36)"
          }
         }
        },
        "title": {
         "text": "Total Home Value Forcasts per State"
        },
        "xaxis": {
         "anchor": "y",
         "domain": [
          0,
          1
         ],
         "title": {
          "text": "state"
         }
        },
        "yaxis": {
         "anchor": "x",
         "domain": [
          0,
          1
         ],
         "title": {
          "text": "value"
         }
        }
       }
      }
     },
     "metadata": {},
     "output_type": "display_data"
    }
   ],
   "source": [
    "px.bar(state_sum, title='Total Home Value Forcasts per State', template='simple_white')"
   ]
  },
  {
   "cell_type": "code",
   "execution_count": 23,
   "metadata": {},
   "outputs": [
    {
     "data": {
      "application/vnd.plotly.v1+json": {
       "config": {
        "plotlyServerURL": "https://plot.ly"
       },
       "data": [
        {
         "alignmentgroup": "True",
         "hovertemplate": "variable=feb<br>state=%{x}<br>value=%{y}<extra></extra>",
         "legendgroup": "feb",
         "marker": {
          "color": "#636efa",
          "pattern": {
           "shape": ""
          }
         },
         "name": "feb",
         "offsetgroup": "feb",
         "orientation": "v",
         "showlegend": true,
         "textposition": "auto",
         "type": "bar",
         "x": [
          "AK",
          "AL",
          "AR",
          "AZ",
          "CA",
          "CO",
          "CT",
          "DE",
          "FL",
          "GA",
          "HI",
          "IA",
          "ID",
          "IL",
          "IN",
          "KS",
          "KY",
          "LA",
          "MA",
          "MD",
          "ME",
          "MI",
          "MN",
          "MO",
          "MS",
          "MT",
          "NC",
          "ND",
          "NE",
          "NH",
          "NJ",
          "NM",
          "NV",
          "NY",
          "OH",
          "OK",
          "OR",
          "PA",
          "RI",
          "SC",
          "SD",
          "TN",
          "TX",
          "UT",
          "VA",
          "VT",
          "WA",
          "WI",
          "WV",
          "WY"
         ],
         "xaxis": "x",
         "y": [
          -1.1,
          13.5,
          20.4,
          -2.5,
          -19.8,
          -6.2,
          0.9,
          0.1,
          -7.3,
          17.3,
          -1.9,
          -1.2999999999999998,
          -7.6,
          21.5,
          9.5,
          1.9000000000000001,
          17.1,
          16.7,
          0.2,
          2.4,
          2.1,
          32.1,
          5.1,
          13.2,
          23.6,
          0.8999999999999999,
          16.6,
          0.09999999999999998,
          1.1,
          0.2,
          3.1,
          11.1,
          -5.4,
          -0.8,
          15.799999999999999,
          1.8,
          -6,
          22.9,
          0.1,
          10.4,
          1.3,
          20.5,
          52.1,
          -1,
          5.3,
          3,
          -4.7,
          15.799999999999999,
          2.3,
          0.19999999999999998
         ],
         "yaxis": "y"
        },
        {
         "alignmentgroup": "True",
         "hovertemplate": "variable=apr<br>state=%{x}<br>value=%{y}<extra></extra>",
         "legendgroup": "apr",
         "marker": {
          "color": "#EF553B",
          "pattern": {
           "shape": ""
          }
         },
         "name": "apr",
         "offsetgroup": "apr",
         "orientation": "v",
         "showlegend": true,
         "textposition": "auto",
         "type": "bar",
         "x": [
          "AK",
          "AL",
          "AR",
          "AZ",
          "CA",
          "CO",
          "CT",
          "DE",
          "FL",
          "GA",
          "HI",
          "IA",
          "ID",
          "IL",
          "IN",
          "KS",
          "KY",
          "LA",
          "MA",
          "MD",
          "ME",
          "MI",
          "MN",
          "MO",
          "MS",
          "MT",
          "NC",
          "ND",
          "NE",
          "NH",
          "NJ",
          "NM",
          "NV",
          "NY",
          "OH",
          "OK",
          "OR",
          "PA",
          "RI",
          "SC",
          "SD",
          "TN",
          "TX",
          "UT",
          "VA",
          "VT",
          "WA",
          "WI",
          "WV",
          "WY"
         ],
         "xaxis": "x",
         "y": [
          -4.1,
          24.900000000000002,
          38.6,
          -2.6,
          -39.4,
          -9.9,
          2.4,
          0.5,
          -10.6,
          43.4,
          -3.1,
          -3.3,
          -8.5,
          36.5,
          23.1,
          3.5,
          37.2,
          26.1,
          0.39999999999999997,
          4,
          4.4,
          68.6,
          7.7,
          23,
          45.9,
          3.4,
          47,
          -3.3,
          -0.8,
          1.3,
          7,
          16.3,
          -10.799999999999999,
          2.7,
          30.9,
          2.3,
          -8.6,
          41.5,
          0.2,
          25.2,
          1.8000000000000003,
          51.1,
          99,
          0,
          9.799999999999999,
          6,
          -3.7,
          26,
          3.2,
          -1.5
         ],
         "yaxis": "y"
        },
        {
         "alignmentgroup": "True",
         "hovertemplate": "variable=jan_24<br>state=%{x}<br>value=%{y}<extra></extra>",
         "legendgroup": "jan_24",
         "marker": {
          "color": "#00cc96",
          "pattern": {
           "shape": ""
          }
         },
         "name": "jan_24",
         "offsetgroup": "jan_24",
         "orientation": "v",
         "showlegend": true,
         "textposition": "auto",
         "type": "bar",
         "x": [
          "AK",
          "AL",
          "AR",
          "AZ",
          "CA",
          "CO",
          "CT",
          "DE",
          "FL",
          "GA",
          "HI",
          "IA",
          "ID",
          "IL",
          "IN",
          "KS",
          "KY",
          "LA",
          "MA",
          "MD",
          "ME",
          "MI",
          "MN",
          "MO",
          "MS",
          "MT",
          "NC",
          "ND",
          "NE",
          "NH",
          "NJ",
          "NM",
          "NV",
          "NY",
          "OH",
          "OK",
          "OR",
          "PA",
          "RI",
          "SC",
          "SD",
          "TN",
          "TX",
          "UT",
          "VA",
          "VT",
          "WA",
          "WI",
          "WV",
          "WY"
         ],
         "xaxis": "x",
         "y": [
          -16.3,
          22.4,
          17.9,
          17.7,
          -70,
          6.4,
          -3,
          1.7999999999999998,
          50,
          105.9,
          -2.6,
          -20.599999999999998,
          31.8,
          -20.6,
          39.5,
          22.7,
          53.2,
          -39.4,
          1.4,
          -0.2999999999999998,
          11.4,
          80.6,
          -11.5,
          30.9,
          -5.9,
          14.5,
          119.9,
          -25.7,
          -12.8,
          10.1,
          10.700000000000001,
          0.8999999999999995,
          -8.5,
          1.9,
          29.3,
          1.0999999999999999,
          10.1,
          10.1,
          -0.1,
          37.1,
          -5.699999999999999,
          109.5,
          48.3,
          15.7,
          4.3,
          5.8,
          25.1,
          15.4,
          -10,
          -6.9
         ],
         "yaxis": "y"
        }
       ],
       "layout": {
        "barmode": "relative",
        "legend": {
         "title": {
          "text": "variable"
         },
         "tracegroupgap": 0
        },
        "template": {
         "data": {
          "bar": [
           {
            "error_x": {
             "color": "#2a3f5f"
            },
            "error_y": {
             "color": "#2a3f5f"
            },
            "marker": {
             "line": {
              "color": "white",
              "width": 0.5
             },
             "pattern": {
              "fillmode": "overlay",
              "size": 10,
              "solidity": 0.2
             }
            },
            "type": "bar"
           }
          ],
          "barpolar": [
           {
            "marker": {
             "line": {
              "color": "white",
              "width": 0.5
             },
             "pattern": {
              "fillmode": "overlay",
              "size": 10,
              "solidity": 0.2
             }
            },
            "type": "barpolar"
           }
          ],
          "carpet": [
           {
            "aaxis": {
             "endlinecolor": "#2a3f5f",
             "gridcolor": "#C8D4E3",
             "linecolor": "#C8D4E3",
             "minorgridcolor": "#C8D4E3",
             "startlinecolor": "#2a3f5f"
            },
            "baxis": {
             "endlinecolor": "#2a3f5f",
             "gridcolor": "#C8D4E3",
             "linecolor": "#C8D4E3",
             "minorgridcolor": "#C8D4E3",
             "startlinecolor": "#2a3f5f"
            },
            "type": "carpet"
           }
          ],
          "choropleth": [
           {
            "colorbar": {
             "outlinewidth": 0,
             "ticks": ""
            },
            "type": "choropleth"
           }
          ],
          "contour": [
           {
            "colorbar": {
             "outlinewidth": 0,
             "ticks": ""
            },
            "colorscale": [
             [
              0,
              "#0d0887"
             ],
             [
              0.1111111111111111,
              "#46039f"
             ],
             [
              0.2222222222222222,
              "#7201a8"
             ],
             [
              0.3333333333333333,
              "#9c179e"
             ],
             [
              0.4444444444444444,
              "#bd3786"
             ],
             [
              0.5555555555555556,
              "#d8576b"
             ],
             [
              0.6666666666666666,
              "#ed7953"
             ],
             [
              0.7777777777777778,
              "#fb9f3a"
             ],
             [
              0.8888888888888888,
              "#fdca26"
             ],
             [
              1,
              "#f0f921"
             ]
            ],
            "type": "contour"
           }
          ],
          "contourcarpet": [
           {
            "colorbar": {
             "outlinewidth": 0,
             "ticks": ""
            },
            "type": "contourcarpet"
           }
          ],
          "heatmap": [
           {
            "colorbar": {
             "outlinewidth": 0,
             "ticks": ""
            },
            "colorscale": [
             [
              0,
              "#0d0887"
             ],
             [
              0.1111111111111111,
              "#46039f"
             ],
             [
              0.2222222222222222,
              "#7201a8"
             ],
             [
              0.3333333333333333,
              "#9c179e"
             ],
             [
              0.4444444444444444,
              "#bd3786"
             ],
             [
              0.5555555555555556,
              "#d8576b"
             ],
             [
              0.6666666666666666,
              "#ed7953"
             ],
             [
              0.7777777777777778,
              "#fb9f3a"
             ],
             [
              0.8888888888888888,
              "#fdca26"
             ],
             [
              1,
              "#f0f921"
             ]
            ],
            "type": "heatmap"
           }
          ],
          "heatmapgl": [
           {
            "colorbar": {
             "outlinewidth": 0,
             "ticks": ""
            },
            "colorscale": [
             [
              0,
              "#0d0887"
             ],
             [
              0.1111111111111111,
              "#46039f"
             ],
             [
              0.2222222222222222,
              "#7201a8"
             ],
             [
              0.3333333333333333,
              "#9c179e"
             ],
             [
              0.4444444444444444,
              "#bd3786"
             ],
             [
              0.5555555555555556,
              "#d8576b"
             ],
             [
              0.6666666666666666,
              "#ed7953"
             ],
             [
              0.7777777777777778,
              "#fb9f3a"
             ],
             [
              0.8888888888888888,
              "#fdca26"
             ],
             [
              1,
              "#f0f921"
             ]
            ],
            "type": "heatmapgl"
           }
          ],
          "histogram": [
           {
            "marker": {
             "pattern": {
              "fillmode": "overlay",
              "size": 10,
              "solidity": 0.2
             }
            },
            "type": "histogram"
           }
          ],
          "histogram2d": [
           {
            "colorbar": {
             "outlinewidth": 0,
             "ticks": ""
            },
            "colorscale": [
             [
              0,
              "#0d0887"
             ],
             [
              0.1111111111111111,
              "#46039f"
             ],
             [
              0.2222222222222222,
              "#7201a8"
             ],
             [
              0.3333333333333333,
              "#9c179e"
             ],
             [
              0.4444444444444444,
              "#bd3786"
             ],
             [
              0.5555555555555556,
              "#d8576b"
             ],
             [
              0.6666666666666666,
              "#ed7953"
             ],
             [
              0.7777777777777778,
              "#fb9f3a"
             ],
             [
              0.8888888888888888,
              "#fdca26"
             ],
             [
              1,
              "#f0f921"
             ]
            ],
            "type": "histogram2d"
           }
          ],
          "histogram2dcontour": [
           {
            "colorbar": {
             "outlinewidth": 0,
             "ticks": ""
            },
            "colorscale": [
             [
              0,
              "#0d0887"
             ],
             [
              0.1111111111111111,
              "#46039f"
             ],
             [
              0.2222222222222222,
              "#7201a8"
             ],
             [
              0.3333333333333333,
              "#9c179e"
             ],
             [
              0.4444444444444444,
              "#bd3786"
             ],
             [
              0.5555555555555556,
              "#d8576b"
             ],
             [
              0.6666666666666666,
              "#ed7953"
             ],
             [
              0.7777777777777778,
              "#fb9f3a"
             ],
             [
              0.8888888888888888,
              "#fdca26"
             ],
             [
              1,
              "#f0f921"
             ]
            ],
            "type": "histogram2dcontour"
           }
          ],
          "mesh3d": [
           {
            "colorbar": {
             "outlinewidth": 0,
             "ticks": ""
            },
            "type": "mesh3d"
           }
          ],
          "parcoords": [
           {
            "line": {
             "colorbar": {
              "outlinewidth": 0,
              "ticks": ""
             }
            },
            "type": "parcoords"
           }
          ],
          "pie": [
           {
            "automargin": true,
            "type": "pie"
           }
          ],
          "scatter": [
           {
            "marker": {
             "colorbar": {
              "outlinewidth": 0,
              "ticks": ""
             }
            },
            "type": "scatter"
           }
          ],
          "scatter3d": [
           {
            "line": {
             "colorbar": {
              "outlinewidth": 0,
              "ticks": ""
             }
            },
            "marker": {
             "colorbar": {
              "outlinewidth": 0,
              "ticks": ""
             }
            },
            "type": "scatter3d"
           }
          ],
          "scattercarpet": [
           {
            "marker": {
             "colorbar": {
              "outlinewidth": 0,
              "ticks": ""
             }
            },
            "type": "scattercarpet"
           }
          ],
          "scattergeo": [
           {
            "marker": {
             "colorbar": {
              "outlinewidth": 0,
              "ticks": ""
             }
            },
            "type": "scattergeo"
           }
          ],
          "scattergl": [
           {
            "marker": {
             "colorbar": {
              "outlinewidth": 0,
              "ticks": ""
             }
            },
            "type": "scattergl"
           }
          ],
          "scattermapbox": [
           {
            "marker": {
             "colorbar": {
              "outlinewidth": 0,
              "ticks": ""
             }
            },
            "type": "scattermapbox"
           }
          ],
          "scatterpolar": [
           {
            "marker": {
             "colorbar": {
              "outlinewidth": 0,
              "ticks": ""
             }
            },
            "type": "scatterpolar"
           }
          ],
          "scatterpolargl": [
           {
            "marker": {
             "colorbar": {
              "outlinewidth": 0,
              "ticks": ""
             }
            },
            "type": "scatterpolargl"
           }
          ],
          "scatterternary": [
           {
            "marker": {
             "colorbar": {
              "outlinewidth": 0,
              "ticks": ""
             }
            },
            "type": "scatterternary"
           }
          ],
          "surface": [
           {
            "colorbar": {
             "outlinewidth": 0,
             "ticks": ""
            },
            "colorscale": [
             [
              0,
              "#0d0887"
             ],
             [
              0.1111111111111111,
              "#46039f"
             ],
             [
              0.2222222222222222,
              "#7201a8"
             ],
             [
              0.3333333333333333,
              "#9c179e"
             ],
             [
              0.4444444444444444,
              "#bd3786"
             ],
             [
              0.5555555555555556,
              "#d8576b"
             ],
             [
              0.6666666666666666,
              "#ed7953"
             ],
             [
              0.7777777777777778,
              "#fb9f3a"
             ],
             [
              0.8888888888888888,
              "#fdca26"
             ],
             [
              1,
              "#f0f921"
             ]
            ],
            "type": "surface"
           }
          ],
          "table": [
           {
            "cells": {
             "fill": {
              "color": "#EBF0F8"
             },
             "line": {
              "color": "white"
             }
            },
            "header": {
             "fill": {
              "color": "#C8D4E3"
             },
             "line": {
              "color": "white"
             }
            },
            "type": "table"
           }
          ]
         },
         "layout": {
          "annotationdefaults": {
           "arrowcolor": "#2a3f5f",
           "arrowhead": 0,
           "arrowwidth": 1
          },
          "autotypenumbers": "strict",
          "coloraxis": {
           "colorbar": {
            "outlinewidth": 0,
            "ticks": ""
           }
          },
          "colorscale": {
           "diverging": [
            [
             0,
             "#8e0152"
            ],
            [
             0.1,
             "#c51b7d"
            ],
            [
             0.2,
             "#de77ae"
            ],
            [
             0.3,
             "#f1b6da"
            ],
            [
             0.4,
             "#fde0ef"
            ],
            [
             0.5,
             "#f7f7f7"
            ],
            [
             0.6,
             "#e6f5d0"
            ],
            [
             0.7,
             "#b8e186"
            ],
            [
             0.8,
             "#7fbc41"
            ],
            [
             0.9,
             "#4d9221"
            ],
            [
             1,
             "#276419"
            ]
           ],
           "sequential": [
            [
             0,
             "#0d0887"
            ],
            [
             0.1111111111111111,
             "#46039f"
            ],
            [
             0.2222222222222222,
             "#7201a8"
            ],
            [
             0.3333333333333333,
             "#9c179e"
            ],
            [
             0.4444444444444444,
             "#bd3786"
            ],
            [
             0.5555555555555556,
             "#d8576b"
            ],
            [
             0.6666666666666666,
             "#ed7953"
            ],
            [
             0.7777777777777778,
             "#fb9f3a"
            ],
            [
             0.8888888888888888,
             "#fdca26"
            ],
            [
             1,
             "#f0f921"
            ]
           ],
           "sequentialminus": [
            [
             0,
             "#0d0887"
            ],
            [
             0.1111111111111111,
             "#46039f"
            ],
            [
             0.2222222222222222,
             "#7201a8"
            ],
            [
             0.3333333333333333,
             "#9c179e"
            ],
            [
             0.4444444444444444,
             "#bd3786"
            ],
            [
             0.5555555555555556,
             "#d8576b"
            ],
            [
             0.6666666666666666,
             "#ed7953"
            ],
            [
             0.7777777777777778,
             "#fb9f3a"
            ],
            [
             0.8888888888888888,
             "#fdca26"
            ],
            [
             1,
             "#f0f921"
            ]
           ]
          },
          "colorway": [
           "#636efa",
           "#EF553B",
           "#00cc96",
           "#ab63fa",
           "#FFA15A",
           "#19d3f3",
           "#FF6692",
           "#B6E880",
           "#FF97FF",
           "#FECB52"
          ],
          "font": {
           "color": "#2a3f5f"
          },
          "geo": {
           "bgcolor": "white",
           "lakecolor": "white",
           "landcolor": "white",
           "showlakes": true,
           "showland": true,
           "subunitcolor": "#C8D4E3"
          },
          "hoverlabel": {
           "align": "left"
          },
          "hovermode": "closest",
          "mapbox": {
           "style": "light"
          },
          "paper_bgcolor": "white",
          "plot_bgcolor": "white",
          "polar": {
           "angularaxis": {
            "gridcolor": "#EBF0F8",
            "linecolor": "#EBF0F8",
            "ticks": ""
           },
           "bgcolor": "white",
           "radialaxis": {
            "gridcolor": "#EBF0F8",
            "linecolor": "#EBF0F8",
            "ticks": ""
           }
          },
          "scene": {
           "xaxis": {
            "backgroundcolor": "white",
            "gridcolor": "#DFE8F3",
            "gridwidth": 2,
            "linecolor": "#EBF0F8",
            "showbackground": true,
            "ticks": "",
            "zerolinecolor": "#EBF0F8"
           },
           "yaxis": {
            "backgroundcolor": "white",
            "gridcolor": "#DFE8F3",
            "gridwidth": 2,
            "linecolor": "#EBF0F8",
            "showbackground": true,
            "ticks": "",
            "zerolinecolor": "#EBF0F8"
           },
           "zaxis": {
            "backgroundcolor": "white",
            "gridcolor": "#DFE8F3",
            "gridwidth": 2,
            "linecolor": "#EBF0F8",
            "showbackground": true,
            "ticks": "",
            "zerolinecolor": "#EBF0F8"
           }
          },
          "shapedefaults": {
           "line": {
            "color": "#2a3f5f"
           }
          },
          "ternary": {
           "aaxis": {
            "gridcolor": "#DFE8F3",
            "linecolor": "#A2B1C6",
            "ticks": ""
           },
           "baxis": {
            "gridcolor": "#DFE8F3",
            "linecolor": "#A2B1C6",
            "ticks": ""
           },
           "bgcolor": "white",
           "caxis": {
            "gridcolor": "#DFE8F3",
            "linecolor": "#A2B1C6",
            "ticks": ""
           }
          },
          "title": {
           "x": 0.05
          },
          "xaxis": {
           "automargin": true,
           "gridcolor": "#EBF0F8",
           "linecolor": "#EBF0F8",
           "ticks": "",
           "title": {
            "standoff": 15
           },
           "zerolinecolor": "#EBF0F8",
           "zerolinewidth": 2
          },
          "yaxis": {
           "automargin": true,
           "gridcolor": "#EBF0F8",
           "linecolor": "#EBF0F8",
           "ticks": "",
           "title": {
            "standoff": 15
           },
           "zerolinecolor": "#EBF0F8",
           "zerolinewidth": 2
          }
         }
        },
        "title": {
         "text": "Total Home Value Forcasts per State"
        },
        "xaxis": {
         "anchor": "y",
         "domain": [
          0,
          1
         ],
         "title": {
          "text": "state"
         }
        },
        "yaxis": {
         "anchor": "x",
         "domain": [
          0,
          1
         ],
         "title": {
          "text": "value"
         }
        }
       }
      }
     },
     "metadata": {},
     "output_type": "display_data"
    }
   ],
   "source": [
    "px.bar(state_sum, title='Total Home Value Forcasts per State', template='plotly_white')"
   ]
  },
  {
   "cell_type": "code",
   "execution_count": 24,
   "metadata": {},
   "outputs": [
    {
     "data": {
      "application/vnd.plotly.v1+json": {
       "config": {
        "plotlyServerURL": "https://plot.ly"
       },
       "data": [
        {
         "alignmentgroup": "True",
         "hovertemplate": "variable=feb<br>state=%{x}<br>value=%{y}<extra></extra>",
         "legendgroup": "feb",
         "marker": {
          "color": "green",
          "pattern": {
           "shape": ""
          }
         },
         "name": "feb",
         "offsetgroup": "feb",
         "orientation": "v",
         "showlegend": true,
         "textposition": "auto",
         "type": "bar",
         "x": [
          "AK",
          "AL",
          "AR",
          "AZ",
          "CA",
          "CO",
          "CT",
          "DE",
          "FL",
          "GA",
          "HI",
          "IA",
          "ID",
          "IL",
          "IN",
          "KS",
          "KY",
          "LA",
          "MA",
          "MD",
          "ME",
          "MI",
          "MN",
          "MO",
          "MS",
          "MT",
          "NC",
          "ND",
          "NE",
          "NH",
          "NJ",
          "NM",
          "NV",
          "NY",
          "OH",
          "OK",
          "OR",
          "PA",
          "RI",
          "SC",
          "SD",
          "TN",
          "TX",
          "UT",
          "VA",
          "VT",
          "WA",
          "WI",
          "WV",
          "WY"
         ],
         "xaxis": "x",
         "y": [
          -0.275,
          0.84375,
          1.0736842105263158,
          -0.25,
          -0.5823529411764706,
          -0.3647058823529412,
          0.18,
          0.05,
          -0.2517241379310345,
          0.46756756756756757,
          -0.475,
          -0.06842105263157894,
          -0.5846153846153845,
          0.8269230769230769,
          0.2638888888888889,
          0.10555555555555557,
          0.8550000000000001,
          0.9823529411764705,
          0.03333333333333333,
          0.39999999999999997,
          0.525,
          1.035483870967742,
          0.24285714285714283,
          0.528,
          1.1800000000000002,
          0.12857142857142856,
          0.4486486486486487,
          0.014285714285714282,
          0.09166666666666667,
          0.04,
          0.775,
          0.6166666666666667,
          -0.6000000000000001,
          -0.03076923076923077,
          0.3511111111111111,
          0.08571428571428572,
          -0.3,
          0.6735294117647058,
          0.1,
          0.7428571428571429,
          0.11818181818181818,
          0.8541666666666666,
          0.826984126984127,
          -0.1111111111111111,
          0.37857142857142856,
          0.75,
          -0.23500000000000001,
          0.6869565217391304,
          0.32857142857142857,
          0.02222222222222222
         ],
         "yaxis": "y"
        },
        {
         "alignmentgroup": "True",
         "hovertemplate": "variable=apr<br>state=%{x}<br>value=%{y}<extra></extra>",
         "legendgroup": "apr",
         "marker": {
          "color": "lightgreen",
          "pattern": {
           "shape": ""
          }
         },
         "name": "apr",
         "offsetgroup": "apr",
         "orientation": "v",
         "showlegend": true,
         "textposition": "auto",
         "type": "bar",
         "x": [
          "AK",
          "AL",
          "AR",
          "AZ",
          "CA",
          "CO",
          "CT",
          "DE",
          "FL",
          "GA",
          "HI",
          "IA",
          "ID",
          "IL",
          "IN",
          "KS",
          "KY",
          "LA",
          "MA",
          "MD",
          "ME",
          "MI",
          "MN",
          "MO",
          "MS",
          "MT",
          "NC",
          "ND",
          "NE",
          "NH",
          "NJ",
          "NM",
          "NV",
          "NY",
          "OH",
          "OK",
          "OR",
          "PA",
          "RI",
          "SC",
          "SD",
          "TN",
          "TX",
          "UT",
          "VA",
          "VT",
          "WA",
          "WI",
          "WV",
          "WY"
         ],
         "xaxis": "x",
         "y": [
          -1.025,
          1.245,
          1.9300000000000002,
          -0.26,
          -1.1588235294117646,
          -0.5823529411764706,
          0.48,
          0.25,
          -0.36551724137931035,
          1.172972972972973,
          -0.775,
          -0.17368421052631577,
          -0.6538461538461539,
          1.4038461538461537,
          0.6416666666666667,
          0.19444444444444445,
          1.86,
          1.535294117647059,
          0.06666666666666667,
          0.6666666666666666,
          1.1,
          2.2129032258064516,
          0.3666666666666667,
          0.92,
          2.295,
          0.4857142857142857,
          1.2702702702702702,
          -0.4714285714285714,
          -0.06666666666666667,
          0.26,
          1.75,
          0.9055555555555556,
          -1.2,
          0.10384615384615385,
          0.6866666666666666,
          0.10952380952380951,
          -0.43,
          1.2205882352941178,
          0.2,
          1.68,
          0.16363636363636366,
          1.9653846153846155,
          1.4776119402985075,
          0,
          0.7,
          1.5,
          -0.185,
          1.1304347826086956,
          0.4571428571428572,
          -0.16666666666666666
         ],
         "yaxis": "y"
        },
        {
         "alignmentgroup": "True",
         "hovertemplate": "variable=jan_24<br>state=%{x}<br>value=%{y}<extra></extra>",
         "legendgroup": "jan_24",
         "marker": {
          "color": "white",
          "pattern": {
           "shape": ""
          }
         },
         "name": "jan_24",
         "offsetgroup": "jan_24",
         "orientation": "v",
         "showlegend": true,
         "textposition": "auto",
         "type": "bar",
         "x": [
          "AK",
          "AL",
          "AR",
          "AZ",
          "CA",
          "CO",
          "CT",
          "DE",
          "FL",
          "GA",
          "HI",
          "IA",
          "ID",
          "IL",
          "IN",
          "KS",
          "KY",
          "LA",
          "MA",
          "MD",
          "ME",
          "MI",
          "MN",
          "MO",
          "MS",
          "MT",
          "NC",
          "ND",
          "NE",
          "NH",
          "NJ",
          "NM",
          "NV",
          "NY",
          "OH",
          "OK",
          "OR",
          "PA",
          "RI",
          "SC",
          "SD",
          "TN",
          "TX",
          "UT",
          "VA",
          "VT",
          "WA",
          "WI",
          "WV",
          "WY"
         ],
         "xaxis": "x",
         "y": [
          -4.075,
          1.1199999999999999,
          0.8949999999999999,
          1.77,
          -2.0588235294117645,
          0.3764705882352941,
          -0.6,
          0.8999999999999999,
          1.7241379310344827,
          2.8621621621621625,
          -0.65,
          -1.0842105263157893,
          2.4461538461538463,
          -0.7923076923076924,
          1.0972222222222223,
          1.261111111111111,
          2.66,
          -2.317647058823529,
          0.2333333333333333,
          -0.04999999999999997,
          2.85,
          2.5999999999999996,
          -0.5476190476190477,
          1.236,
          -0.29500000000000004,
          2.0714285714285716,
          3.2405405405405405,
          -3.6714285714285713,
          -1.0666666666666667,
          2.02,
          2.6750000000000003,
          0.04999999999999997,
          -0.9444444444444444,
          0.07307692307692307,
          0.6511111111111111,
          0.052380952380952375,
          0.505,
          0.29705882352941176,
          -0.1,
          2.4733333333333336,
          -0.5181818181818181,
          4.211538461538462,
          0.7208955223880597,
          1.7444444444444445,
          0.3071428571428571,
          1.45,
          1.2550000000000001,
          0.6695652173913044,
          -1.4285714285714286,
          -0.7666666666666667
         ],
         "yaxis": "y"
        }
       ],
       "layout": {
        "barmode": "relative",
        "height": 900,
        "legend": {
         "title": {
          "text": "variable"
         },
         "tracegroupgap": 0
        },
        "margin": {
         "t": 60
        },
        "template": {
         "data": {
          "bar": [
           {
            "error_x": {
             "color": "#f2f5fa"
            },
            "error_y": {
             "color": "#f2f5fa"
            },
            "marker": {
             "line": {
              "color": "rgb(17,17,17)",
              "width": 0.5
             },
             "pattern": {
              "fillmode": "overlay",
              "size": 10,
              "solidity": 0.2
             }
            },
            "type": "bar"
           }
          ],
          "barpolar": [
           {
            "marker": {
             "line": {
              "color": "rgb(17,17,17)",
              "width": 0.5
             },
             "pattern": {
              "fillmode": "overlay",
              "size": 10,
              "solidity": 0.2
             }
            },
            "type": "barpolar"
           }
          ],
          "carpet": [
           {
            "aaxis": {
             "endlinecolor": "#A2B1C6",
             "gridcolor": "#506784",
             "linecolor": "#506784",
             "minorgridcolor": "#506784",
             "startlinecolor": "#A2B1C6"
            },
            "baxis": {
             "endlinecolor": "#A2B1C6",
             "gridcolor": "#506784",
             "linecolor": "#506784",
             "minorgridcolor": "#506784",
             "startlinecolor": "#A2B1C6"
            },
            "type": "carpet"
           }
          ],
          "choropleth": [
           {
            "colorbar": {
             "outlinewidth": 0,
             "ticks": ""
            },
            "type": "choropleth"
           }
          ],
          "contour": [
           {
            "colorbar": {
             "outlinewidth": 0,
             "ticks": ""
            },
            "colorscale": [
             [
              0,
              "#0d0887"
             ],
             [
              0.1111111111111111,
              "#46039f"
             ],
             [
              0.2222222222222222,
              "#7201a8"
             ],
             [
              0.3333333333333333,
              "#9c179e"
             ],
             [
              0.4444444444444444,
              "#bd3786"
             ],
             [
              0.5555555555555556,
              "#d8576b"
             ],
             [
              0.6666666666666666,
              "#ed7953"
             ],
             [
              0.7777777777777778,
              "#fb9f3a"
             ],
             [
              0.8888888888888888,
              "#fdca26"
             ],
             [
              1,
              "#f0f921"
             ]
            ],
            "type": "contour"
           }
          ],
          "contourcarpet": [
           {
            "colorbar": {
             "outlinewidth": 0,
             "ticks": ""
            },
            "type": "contourcarpet"
           }
          ],
          "heatmap": [
           {
            "colorbar": {
             "outlinewidth": 0,
             "ticks": ""
            },
            "colorscale": [
             [
              0,
              "#0d0887"
             ],
             [
              0.1111111111111111,
              "#46039f"
             ],
             [
              0.2222222222222222,
              "#7201a8"
             ],
             [
              0.3333333333333333,
              "#9c179e"
             ],
             [
              0.4444444444444444,
              "#bd3786"
             ],
             [
              0.5555555555555556,
              "#d8576b"
             ],
             [
              0.6666666666666666,
              "#ed7953"
             ],
             [
              0.7777777777777778,
              "#fb9f3a"
             ],
             [
              0.8888888888888888,
              "#fdca26"
             ],
             [
              1,
              "#f0f921"
             ]
            ],
            "type": "heatmap"
           }
          ],
          "heatmapgl": [
           {
            "colorbar": {
             "outlinewidth": 0,
             "ticks": ""
            },
            "colorscale": [
             [
              0,
              "#0d0887"
             ],
             [
              0.1111111111111111,
              "#46039f"
             ],
             [
              0.2222222222222222,
              "#7201a8"
             ],
             [
              0.3333333333333333,
              "#9c179e"
             ],
             [
              0.4444444444444444,
              "#bd3786"
             ],
             [
              0.5555555555555556,
              "#d8576b"
             ],
             [
              0.6666666666666666,
              "#ed7953"
             ],
             [
              0.7777777777777778,
              "#fb9f3a"
             ],
             [
              0.8888888888888888,
              "#fdca26"
             ],
             [
              1,
              "#f0f921"
             ]
            ],
            "type": "heatmapgl"
           }
          ],
          "histogram": [
           {
            "marker": {
             "pattern": {
              "fillmode": "overlay",
              "size": 10,
              "solidity": 0.2
             }
            },
            "type": "histogram"
           }
          ],
          "histogram2d": [
           {
            "colorbar": {
             "outlinewidth": 0,
             "ticks": ""
            },
            "colorscale": [
             [
              0,
              "#0d0887"
             ],
             [
              0.1111111111111111,
              "#46039f"
             ],
             [
              0.2222222222222222,
              "#7201a8"
             ],
             [
              0.3333333333333333,
              "#9c179e"
             ],
             [
              0.4444444444444444,
              "#bd3786"
             ],
             [
              0.5555555555555556,
              "#d8576b"
             ],
             [
              0.6666666666666666,
              "#ed7953"
             ],
             [
              0.7777777777777778,
              "#fb9f3a"
             ],
             [
              0.8888888888888888,
              "#fdca26"
             ],
             [
              1,
              "#f0f921"
             ]
            ],
            "type": "histogram2d"
           }
          ],
          "histogram2dcontour": [
           {
            "colorbar": {
             "outlinewidth": 0,
             "ticks": ""
            },
            "colorscale": [
             [
              0,
              "#0d0887"
             ],
             [
              0.1111111111111111,
              "#46039f"
             ],
             [
              0.2222222222222222,
              "#7201a8"
             ],
             [
              0.3333333333333333,
              "#9c179e"
             ],
             [
              0.4444444444444444,
              "#bd3786"
             ],
             [
              0.5555555555555556,
              "#d8576b"
             ],
             [
              0.6666666666666666,
              "#ed7953"
             ],
             [
              0.7777777777777778,
              "#fb9f3a"
             ],
             [
              0.8888888888888888,
              "#fdca26"
             ],
             [
              1,
              "#f0f921"
             ]
            ],
            "type": "histogram2dcontour"
           }
          ],
          "mesh3d": [
           {
            "colorbar": {
             "outlinewidth": 0,
             "ticks": ""
            },
            "type": "mesh3d"
           }
          ],
          "parcoords": [
           {
            "line": {
             "colorbar": {
              "outlinewidth": 0,
              "ticks": ""
             }
            },
            "type": "parcoords"
           }
          ],
          "pie": [
           {
            "automargin": true,
            "type": "pie"
           }
          ],
          "scatter": [
           {
            "marker": {
             "line": {
              "color": "#283442"
             }
            },
            "type": "scatter"
           }
          ],
          "scatter3d": [
           {
            "line": {
             "colorbar": {
              "outlinewidth": 0,
              "ticks": ""
             }
            },
            "marker": {
             "colorbar": {
              "outlinewidth": 0,
              "ticks": ""
             }
            },
            "type": "scatter3d"
           }
          ],
          "scattercarpet": [
           {
            "marker": {
             "colorbar": {
              "outlinewidth": 0,
              "ticks": ""
             }
            },
            "type": "scattercarpet"
           }
          ],
          "scattergeo": [
           {
            "marker": {
             "colorbar": {
              "outlinewidth": 0,
              "ticks": ""
             }
            },
            "type": "scattergeo"
           }
          ],
          "scattergl": [
           {
            "marker": {
             "line": {
              "color": "#283442"
             }
            },
            "type": "scattergl"
           }
          ],
          "scattermapbox": [
           {
            "marker": {
             "colorbar": {
              "outlinewidth": 0,
              "ticks": ""
             }
            },
            "type": "scattermapbox"
           }
          ],
          "scatterpolar": [
           {
            "marker": {
             "colorbar": {
              "outlinewidth": 0,
              "ticks": ""
             }
            },
            "type": "scatterpolar"
           }
          ],
          "scatterpolargl": [
           {
            "marker": {
             "colorbar": {
              "outlinewidth": 0,
              "ticks": ""
             }
            },
            "type": "scatterpolargl"
           }
          ],
          "scatterternary": [
           {
            "marker": {
             "colorbar": {
              "outlinewidth": 0,
              "ticks": ""
             }
            },
            "type": "scatterternary"
           }
          ],
          "surface": [
           {
            "colorbar": {
             "outlinewidth": 0,
             "ticks": ""
            },
            "colorscale": [
             [
              0,
              "#0d0887"
             ],
             [
              0.1111111111111111,
              "#46039f"
             ],
             [
              0.2222222222222222,
              "#7201a8"
             ],
             [
              0.3333333333333333,
              "#9c179e"
             ],
             [
              0.4444444444444444,
              "#bd3786"
             ],
             [
              0.5555555555555556,
              "#d8576b"
             ],
             [
              0.6666666666666666,
              "#ed7953"
             ],
             [
              0.7777777777777778,
              "#fb9f3a"
             ],
             [
              0.8888888888888888,
              "#fdca26"
             ],
             [
              1,
              "#f0f921"
             ]
            ],
            "type": "surface"
           }
          ],
          "table": [
           {
            "cells": {
             "fill": {
              "color": "#506784"
             },
             "line": {
              "color": "rgb(17,17,17)"
             }
            },
            "header": {
             "fill": {
              "color": "#2a3f5f"
             },
             "line": {
              "color": "rgb(17,17,17)"
             }
            },
            "type": "table"
           }
          ]
         },
         "layout": {
          "annotationdefaults": {
           "arrowcolor": "#f2f5fa",
           "arrowhead": 0,
           "arrowwidth": 1
          },
          "autotypenumbers": "strict",
          "coloraxis": {
           "colorbar": {
            "outlinewidth": 0,
            "ticks": ""
           }
          },
          "colorscale": {
           "diverging": [
            [
             0,
             "#8e0152"
            ],
            [
             0.1,
             "#c51b7d"
            ],
            [
             0.2,
             "#de77ae"
            ],
            [
             0.3,
             "#f1b6da"
            ],
            [
             0.4,
             "#fde0ef"
            ],
            [
             0.5,
             "#f7f7f7"
            ],
            [
             0.6,
             "#e6f5d0"
            ],
            [
             0.7,
             "#b8e186"
            ],
            [
             0.8,
             "#7fbc41"
            ],
            [
             0.9,
             "#4d9221"
            ],
            [
             1,
             "#276419"
            ]
           ],
           "sequential": [
            [
             0,
             "#0d0887"
            ],
            [
             0.1111111111111111,
             "#46039f"
            ],
            [
             0.2222222222222222,
             "#7201a8"
            ],
            [
             0.3333333333333333,
             "#9c179e"
            ],
            [
             0.4444444444444444,
             "#bd3786"
            ],
            [
             0.5555555555555556,
             "#d8576b"
            ],
            [
             0.6666666666666666,
             "#ed7953"
            ],
            [
             0.7777777777777778,
             "#fb9f3a"
            ],
            [
             0.8888888888888888,
             "#fdca26"
            ],
            [
             1,
             "#f0f921"
            ]
           ],
           "sequentialminus": [
            [
             0,
             "#0d0887"
            ],
            [
             0.1111111111111111,
             "#46039f"
            ],
            [
             0.2222222222222222,
             "#7201a8"
            ],
            [
             0.3333333333333333,
             "#9c179e"
            ],
            [
             0.4444444444444444,
             "#bd3786"
            ],
            [
             0.5555555555555556,
             "#d8576b"
            ],
            [
             0.6666666666666666,
             "#ed7953"
            ],
            [
             0.7777777777777778,
             "#fb9f3a"
            ],
            [
             0.8888888888888888,
             "#fdca26"
            ],
            [
             1,
             "#f0f921"
            ]
           ]
          },
          "colorway": [
           "#636efa",
           "#EF553B",
           "#00cc96",
           "#ab63fa",
           "#FFA15A",
           "#19d3f3",
           "#FF6692",
           "#B6E880",
           "#FF97FF",
           "#FECB52"
          ],
          "font": {
           "color": "#f2f5fa"
          },
          "geo": {
           "bgcolor": "rgb(17,17,17)",
           "lakecolor": "rgb(17,17,17)",
           "landcolor": "rgb(17,17,17)",
           "showlakes": true,
           "showland": true,
           "subunitcolor": "#506784"
          },
          "hoverlabel": {
           "align": "left"
          },
          "hovermode": "closest",
          "mapbox": {
           "style": "dark"
          },
          "paper_bgcolor": "rgb(17,17,17)",
          "plot_bgcolor": "rgb(17,17,17)",
          "polar": {
           "angularaxis": {
            "gridcolor": "#506784",
            "linecolor": "#506784",
            "ticks": ""
           },
           "bgcolor": "rgb(17,17,17)",
           "radialaxis": {
            "gridcolor": "#506784",
            "linecolor": "#506784",
            "ticks": ""
           }
          },
          "scene": {
           "xaxis": {
            "backgroundcolor": "rgb(17,17,17)",
            "gridcolor": "#506784",
            "gridwidth": 2,
            "linecolor": "#506784",
            "showbackground": true,
            "ticks": "",
            "zerolinecolor": "#C8D4E3"
           },
           "yaxis": {
            "backgroundcolor": "rgb(17,17,17)",
            "gridcolor": "#506784",
            "gridwidth": 2,
            "linecolor": "#506784",
            "showbackground": true,
            "ticks": "",
            "zerolinecolor": "#C8D4E3"
           },
           "zaxis": {
            "backgroundcolor": "rgb(17,17,17)",
            "gridcolor": "#506784",
            "gridwidth": 2,
            "linecolor": "#506784",
            "showbackground": true,
            "ticks": "",
            "zerolinecolor": "#C8D4E3"
           }
          },
          "shapedefaults": {
           "line": {
            "color": "#f2f5fa"
           }
          },
          "sliderdefaults": {
           "bgcolor": "#C8D4E3",
           "bordercolor": "rgb(17,17,17)",
           "borderwidth": 1,
           "tickwidth": 0
          },
          "ternary": {
           "aaxis": {
            "gridcolor": "#506784",
            "linecolor": "#506784",
            "ticks": ""
           },
           "baxis": {
            "gridcolor": "#506784",
            "linecolor": "#506784",
            "ticks": ""
           },
           "bgcolor": "rgb(17,17,17)",
           "caxis": {
            "gridcolor": "#506784",
            "linecolor": "#506784",
            "ticks": ""
           }
          },
          "title": {
           "x": 0.05
          },
          "updatemenudefaults": {
           "bgcolor": "#506784",
           "borderwidth": 0
          },
          "xaxis": {
           "automargin": true,
           "gridcolor": "#283442",
           "linecolor": "#506784",
           "ticks": "",
           "title": {
            "standoff": 15
           },
           "zerolinecolor": "#283442",
           "zerolinewidth": 2
          },
          "yaxis": {
           "automargin": true,
           "gridcolor": "#283442",
           "linecolor": "#506784",
           "ticks": "",
           "title": {
            "standoff": 15
           },
           "zerolinecolor": "#283442",
           "zerolinewidth": 2
          }
         }
        },
        "xaxis": {
         "anchor": "y",
         "domain": [
          0,
          1
         ],
         "title": {
          "text": "state"
         }
        },
        "yaxis": {
         "anchor": "x",
         "domain": [
          0,
          1
         ],
         "title": {
          "text": "value"
         }
        }
       }
      }
     },
     "metadata": {},
     "output_type": "display_data"
    }
   ],
   "source": [
    "px.bar(state_mean, template='plotly_dark', orientation='v', height=900, color_discrete_sequence=['green', 'lightgreen', 'white'])"
   ]
  },
  {
   "cell_type": "markdown",
   "metadata": {},
   "source": []
  },
  {
   "cell_type": "code",
   "execution_count": 25,
   "metadata": {},
   "outputs": [
    {
     "data": {
      "text/plain": [
       "Index(['size_rank', 'region', 'state', 'base_date', 'feb', 'apr', 'jan_24'], dtype='object')"
      ]
     },
     "execution_count": 25,
     "metadata": {},
     "output_type": "execute_result"
    }
   ],
   "source": [
    "georgia.columns"
   ]
  },
  {
   "cell_type": "code",
   "execution_count": 26,
   "metadata": {},
   "outputs": [
    {
     "data": {
      "text/html": [
       "<div>\n",
       "<style scoped>\n",
       "    .dataframe tbody tr th:only-of-type {\n",
       "        vertical-align: middle;\n",
       "    }\n",
       "\n",
       "    .dataframe tbody tr th {\n",
       "        vertical-align: top;\n",
       "    }\n",
       "\n",
       "    .dataframe thead th {\n",
       "        text-align: right;\n",
       "    }\n",
       "</style>\n",
       "<table border=\"1\" class=\"dataframe\">\n",
       "  <thead>\n",
       "    <tr style=\"text-align: right;\">\n",
       "      <th></th>\n",
       "      <th>size_rank</th>\n",
       "      <th>region</th>\n",
       "      <th>state</th>\n",
       "      <th>base_date</th>\n",
       "      <th>feb</th>\n",
       "      <th>apr</th>\n",
       "      <th>jan_24</th>\n",
       "    </tr>\n",
       "  </thead>\n",
       "  <tbody>\n",
       "    <tr>\n",
       "      <th>34</th>\n",
       "      <td>855</td>\n",
       "      <td>Summerville, GA</td>\n",
       "      <td>GA</td>\n",
       "      <td>2023-01-31</td>\n",
       "      <td>2.1</td>\n",
       "      <td>5.3</td>\n",
       "      <td>10.2</td>\n",
       "    </tr>\n",
       "    <tr>\n",
       "      <th>31</th>\n",
       "      <td>839</td>\n",
       "      <td>Thomaston, GA</td>\n",
       "      <td>GA</td>\n",
       "      <td>2023-01-31</td>\n",
       "      <td>0.2</td>\n",
       "      <td>1.4</td>\n",
       "      <td>6.9</td>\n",
       "    </tr>\n",
       "    <tr>\n",
       "      <th>33</th>\n",
       "      <td>844</td>\n",
       "      <td>Toccoa, GA</td>\n",
       "      <td>GA</td>\n",
       "      <td>2023-01-31</td>\n",
       "      <td>0.1</td>\n",
       "      <td>1.1</td>\n",
       "      <td>6.0</td>\n",
       "    </tr>\n",
       "    <tr>\n",
       "      <th>26</th>\n",
       "      <td>667</td>\n",
       "      <td>Cedartown, GA</td>\n",
       "      <td>GA</td>\n",
       "      <td>2023-01-31</td>\n",
       "      <td>0.0</td>\n",
       "      <td>0.8</td>\n",
       "      <td>5.8</td>\n",
       "    </tr>\n",
       "    <tr>\n",
       "      <th>30</th>\n",
       "      <td>807</td>\n",
       "      <td>Jesup, GA</td>\n",
       "      <td>GA</td>\n",
       "      <td>2023-01-31</td>\n",
       "      <td>1.6</td>\n",
       "      <td>3.7</td>\n",
       "      <td>5.1</td>\n",
       "    </tr>\n",
       "    <tr>\n",
       "      <th>13</th>\n",
       "      <td>393</td>\n",
       "      <td>Rome, GA</td>\n",
       "      <td>GA</td>\n",
       "      <td>2023-01-31</td>\n",
       "      <td>0.9</td>\n",
       "      <td>2.2</td>\n",
       "      <td>4.8</td>\n",
       "    </tr>\n",
       "    <tr>\n",
       "      <th>20</th>\n",
       "      <td>559</td>\n",
       "      <td>Waycross, GA</td>\n",
       "      <td>GA</td>\n",
       "      <td>2023-01-31</td>\n",
       "      <td>1.2</td>\n",
       "      <td>2.6</td>\n",
       "      <td>4.6</td>\n",
       "    </tr>\n",
       "    <tr>\n",
       "      <th>32</th>\n",
       "      <td>840</td>\n",
       "      <td>Bainbridge, GA</td>\n",
       "      <td>GA</td>\n",
       "      <td>2023-01-31</td>\n",
       "      <td>1.1</td>\n",
       "      <td>2.7</td>\n",
       "      <td>4.4</td>\n",
       "    </tr>\n",
       "    <tr>\n",
       "      <th>21</th>\n",
       "      <td>574</td>\n",
       "      <td>Milledgeville, GA</td>\n",
       "      <td>GA</td>\n",
       "      <td>2023-01-31</td>\n",
       "      <td>0.5</td>\n",
       "      <td>1.6</td>\n",
       "      <td>3.6</td>\n",
       "    </tr>\n",
       "    <tr>\n",
       "      <th>4</th>\n",
       "      <td>201</td>\n",
       "      <td>Macon, GA</td>\n",
       "      <td>GA</td>\n",
       "      <td>2023-01-31</td>\n",
       "      <td>0.6</td>\n",
       "      <td>1.4</td>\n",
       "      <td>3.4</td>\n",
       "    </tr>\n",
       "  </tbody>\n",
       "</table>\n",
       "</div>"
      ],
      "text/plain": [
       "    size_rank             region state   base_date  feb  apr  jan_24\n",
       "34        855    Summerville, GA    GA  2023-01-31  2.1  5.3    10.2\n",
       "31        839      Thomaston, GA    GA  2023-01-31  0.2  1.4     6.9\n",
       "33        844         Toccoa, GA    GA  2023-01-31  0.1  1.1     6.0\n",
       "26        667      Cedartown, GA    GA  2023-01-31  0.0  0.8     5.8\n",
       "30        807          Jesup, GA    GA  2023-01-31  1.6  3.7     5.1\n",
       "13        393           Rome, GA    GA  2023-01-31  0.9  2.2     4.8\n",
       "20        559       Waycross, GA    GA  2023-01-31  1.2  2.6     4.6\n",
       "32        840     Bainbridge, GA    GA  2023-01-31  1.1  2.7     4.4\n",
       "21        574  Milledgeville, GA    GA  2023-01-31  0.5  1.6     3.6\n",
       "4         201          Macon, GA    GA  2023-01-31  0.6  1.4     3.4"
      ]
     },
     "execution_count": 26,
     "metadata": {},
     "output_type": "execute_result"
    }
   ],
   "source": [
    "georgia.reset_index(drop=True, inplace=True)\n",
    "georgia.sort_values(by='jan_24', ascending=False).head(10)"
   ]
  },
  {
   "cell_type": "code",
   "execution_count": 27,
   "metadata": {},
   "outputs": [
    {
     "data": {
      "application/vnd.plotly.v1+json": {
       "config": {
        "plotlyServerURL": "https://plot.ly"
       },
       "data": [
        {
         "alignmentgroup": "True",
         "hovertemplate": "variable=feb<br>region=%{x}<br>value=%{y}<extra></extra>",
         "legendgroup": "feb",
         "marker": {
          "color": "#636efa",
          "pattern": {
           "shape": ""
          }
         },
         "name": "feb",
         "offsetgroup": "feb",
         "orientation": "v",
         "showlegend": true,
         "textposition": "auto",
         "type": "bar",
         "x": [
          "Atlanta, GA",
          "Augusta, GA",
          "Savannah, GA",
          "Columbus, GA",
          "Macon, GA",
          "Athens, GA",
          "Gainesville, GA",
          "Warner Robins, GA",
          "Valdosta, GA",
          "Albany, GA",
          "Dalton, GA",
          "Brunswick, GA",
          "LaGrange, GA",
          "Rome, GA",
          "Hinesville, GA",
          "Statesboro, GA",
          "Jefferson, GA",
          "Dublin, GA",
          "Calhoun, GA",
          "St. Marys, GA",
          "Waycross, GA",
          "Milledgeville, GA",
          "Douglas, GA",
          "Cornelia, GA",
          "Moultrie, GA",
          "Thomasville, GA",
          "Cedartown, GA",
          "Tifton, GA",
          "Vidalia, GA",
          "Americus, GA",
          "Jesup, GA",
          "Thomaston, GA",
          "Bainbridge, GA",
          "Toccoa, GA",
          "Summerville, GA",
          "Cordele, GA",
          "Fitzgerald, GA"
         ],
         "xaxis": "x",
         "y": [
          -0.3,
          0.2,
          0.4,
          0.1,
          0.6,
          0.4,
          -0.2,
          0.4,
          0.8,
          0.2,
          0.8,
          0.3,
          0.3,
          0.9,
          0.5,
          0.2,
          0,
          1.4,
          0.2,
          0,
          1.2,
          0.5,
          0.9,
          -0.1,
          1.5,
          0.8,
          0,
          0.7,
          1.1,
          -0.5,
          1.6,
          0.2,
          1.1,
          0.1,
          2.1,
          -0.4,
          -0.7
         ],
         "yaxis": "y"
        },
        {
         "alignmentgroup": "True",
         "hovertemplate": "variable=apr<br>region=%{x}<br>value=%{y}<extra></extra>",
         "legendgroup": "apr",
         "marker": {
          "color": "#EF553B",
          "pattern": {
           "shape": ""
          }
         },
         "name": "apr",
         "offsetgroup": "apr",
         "orientation": "v",
         "showlegend": true,
         "textposition": "auto",
         "type": "bar",
         "x": [
          "Atlanta, GA",
          "Augusta, GA",
          "Savannah, GA",
          "Columbus, GA",
          "Macon, GA",
          "Athens, GA",
          "Gainesville, GA",
          "Warner Robins, GA",
          "Valdosta, GA",
          "Albany, GA",
          "Dalton, GA",
          "Brunswick, GA",
          "LaGrange, GA",
          "Rome, GA",
          "Hinesville, GA",
          "Statesboro, GA",
          "Jefferson, GA",
          "Dublin, GA",
          "Calhoun, GA",
          "St. Marys, GA",
          "Waycross, GA",
          "Milledgeville, GA",
          "Douglas, GA",
          "Cornelia, GA",
          "Moultrie, GA",
          "Thomasville, GA",
          "Cedartown, GA",
          "Tifton, GA",
          "Vidalia, GA",
          "Americus, GA",
          "Jesup, GA",
          "Thomaston, GA",
          "Bainbridge, GA",
          "Toccoa, GA",
          "Summerville, GA",
          "Cordele, GA",
          "Fitzgerald, GA"
         ],
         "xaxis": "x",
         "y": [
          -0.6,
          0.5,
          1.2,
          0,
          1.4,
          1,
          -0.3,
          0.6,
          1.5,
          0.9,
          1.7,
          1,
          0.6,
          2.2,
          0.6,
          0.3,
          0.3,
          2.8,
          0.6,
          -0.1,
          2.6,
          1.6,
          1.6,
          0.1,
          3.1,
          1.5,
          0.8,
          1,
          2.6,
          -0.8,
          3.7,
          1.4,
          2.7,
          1.1,
          5.3,
          -0.4,
          -0.7
         ],
         "yaxis": "y"
        },
        {
         "alignmentgroup": "True",
         "hovertemplate": "variable=jan_24<br>region=%{x}<br>value=%{y}<extra></extra>",
         "legendgroup": "jan_24",
         "marker": {
          "color": "#00cc96",
          "pattern": {
           "shape": ""
          }
         },
         "name": "jan_24",
         "offsetgroup": "jan_24",
         "orientation": "v",
         "showlegend": true,
         "textposition": "auto",
         "type": "bar",
         "x": [
          "Atlanta, GA",
          "Augusta, GA",
          "Savannah, GA",
          "Columbus, GA",
          "Macon, GA",
          "Athens, GA",
          "Gainesville, GA",
          "Warner Robins, GA",
          "Valdosta, GA",
          "Albany, GA",
          "Dalton, GA",
          "Brunswick, GA",
          "LaGrange, GA",
          "Rome, GA",
          "Hinesville, GA",
          "Statesboro, GA",
          "Jefferson, GA",
          "Dublin, GA",
          "Calhoun, GA",
          "St. Marys, GA",
          "Waycross, GA",
          "Milledgeville, GA",
          "Douglas, GA",
          "Cornelia, GA",
          "Moultrie, GA",
          "Thomasville, GA",
          "Cedartown, GA",
          "Tifton, GA",
          "Vidalia, GA",
          "Americus, GA",
          "Jesup, GA",
          "Thomaston, GA",
          "Bainbridge, GA",
          "Toccoa, GA",
          "Summerville, GA",
          "Cordele, GA",
          "Fitzgerald, GA"
         ],
         "xaxis": "x",
         "y": [
          1.3,
          1.6,
          2.8,
          0.3,
          3.4,
          3.4,
          1.8,
          1.1,
          2,
          2,
          2.8,
          2.3,
          2,
          4.8,
          1.8,
          1.2,
          2.7,
          3.1,
          3.1,
          0.7,
          4.6,
          3.6,
          2.3,
          2.3,
          2.4,
          1.7,
          5.8,
          0.3,
          2.8,
          0.6,
          5.1,
          6.9,
          4.4,
          6,
          10.2,
          0.6,
          2.1
         ],
         "yaxis": "y"
        }
       ],
       "layout": {
        "barmode": "relative",
        "legend": {
         "title": {
          "text": "variable"
         },
         "tracegroupgap": 0
        },
        "margin": {
         "t": 60
        },
        "template": {
         "data": {
          "bar": [
           {
            "error_x": {
             "color": "#2a3f5f"
            },
            "error_y": {
             "color": "#2a3f5f"
            },
            "marker": {
             "line": {
              "color": "#E5ECF6",
              "width": 0.5
             },
             "pattern": {
              "fillmode": "overlay",
              "size": 10,
              "solidity": 0.2
             }
            },
            "type": "bar"
           }
          ],
          "barpolar": [
           {
            "marker": {
             "line": {
              "color": "#E5ECF6",
              "width": 0.5
             },
             "pattern": {
              "fillmode": "overlay",
              "size": 10,
              "solidity": 0.2
             }
            },
            "type": "barpolar"
           }
          ],
          "carpet": [
           {
            "aaxis": {
             "endlinecolor": "#2a3f5f",
             "gridcolor": "white",
             "linecolor": "white",
             "minorgridcolor": "white",
             "startlinecolor": "#2a3f5f"
            },
            "baxis": {
             "endlinecolor": "#2a3f5f",
             "gridcolor": "white",
             "linecolor": "white",
             "minorgridcolor": "white",
             "startlinecolor": "#2a3f5f"
            },
            "type": "carpet"
           }
          ],
          "choropleth": [
           {
            "colorbar": {
             "outlinewidth": 0,
             "ticks": ""
            },
            "type": "choropleth"
           }
          ],
          "contour": [
           {
            "colorbar": {
             "outlinewidth": 0,
             "ticks": ""
            },
            "colorscale": [
             [
              0,
              "#0d0887"
             ],
             [
              0.1111111111111111,
              "#46039f"
             ],
             [
              0.2222222222222222,
              "#7201a8"
             ],
             [
              0.3333333333333333,
              "#9c179e"
             ],
             [
              0.4444444444444444,
              "#bd3786"
             ],
             [
              0.5555555555555556,
              "#d8576b"
             ],
             [
              0.6666666666666666,
              "#ed7953"
             ],
             [
              0.7777777777777778,
              "#fb9f3a"
             ],
             [
              0.8888888888888888,
              "#fdca26"
             ],
             [
              1,
              "#f0f921"
             ]
            ],
            "type": "contour"
           }
          ],
          "contourcarpet": [
           {
            "colorbar": {
             "outlinewidth": 0,
             "ticks": ""
            },
            "type": "contourcarpet"
           }
          ],
          "heatmap": [
           {
            "colorbar": {
             "outlinewidth": 0,
             "ticks": ""
            },
            "colorscale": [
             [
              0,
              "#0d0887"
             ],
             [
              0.1111111111111111,
              "#46039f"
             ],
             [
              0.2222222222222222,
              "#7201a8"
             ],
             [
              0.3333333333333333,
              "#9c179e"
             ],
             [
              0.4444444444444444,
              "#bd3786"
             ],
             [
              0.5555555555555556,
              "#d8576b"
             ],
             [
              0.6666666666666666,
              "#ed7953"
             ],
             [
              0.7777777777777778,
              "#fb9f3a"
             ],
             [
              0.8888888888888888,
              "#fdca26"
             ],
             [
              1,
              "#f0f921"
             ]
            ],
            "type": "heatmap"
           }
          ],
          "heatmapgl": [
           {
            "colorbar": {
             "outlinewidth": 0,
             "ticks": ""
            },
            "colorscale": [
             [
              0,
              "#0d0887"
             ],
             [
              0.1111111111111111,
              "#46039f"
             ],
             [
              0.2222222222222222,
              "#7201a8"
             ],
             [
              0.3333333333333333,
              "#9c179e"
             ],
             [
              0.4444444444444444,
              "#bd3786"
             ],
             [
              0.5555555555555556,
              "#d8576b"
             ],
             [
              0.6666666666666666,
              "#ed7953"
             ],
             [
              0.7777777777777778,
              "#fb9f3a"
             ],
             [
              0.8888888888888888,
              "#fdca26"
             ],
             [
              1,
              "#f0f921"
             ]
            ],
            "type": "heatmapgl"
           }
          ],
          "histogram": [
           {
            "marker": {
             "pattern": {
              "fillmode": "overlay",
              "size": 10,
              "solidity": 0.2
             }
            },
            "type": "histogram"
           }
          ],
          "histogram2d": [
           {
            "colorbar": {
             "outlinewidth": 0,
             "ticks": ""
            },
            "colorscale": [
             [
              0,
              "#0d0887"
             ],
             [
              0.1111111111111111,
              "#46039f"
             ],
             [
              0.2222222222222222,
              "#7201a8"
             ],
             [
              0.3333333333333333,
              "#9c179e"
             ],
             [
              0.4444444444444444,
              "#bd3786"
             ],
             [
              0.5555555555555556,
              "#d8576b"
             ],
             [
              0.6666666666666666,
              "#ed7953"
             ],
             [
              0.7777777777777778,
              "#fb9f3a"
             ],
             [
              0.8888888888888888,
              "#fdca26"
             ],
             [
              1,
              "#f0f921"
             ]
            ],
            "type": "histogram2d"
           }
          ],
          "histogram2dcontour": [
           {
            "colorbar": {
             "outlinewidth": 0,
             "ticks": ""
            },
            "colorscale": [
             [
              0,
              "#0d0887"
             ],
             [
              0.1111111111111111,
              "#46039f"
             ],
             [
              0.2222222222222222,
              "#7201a8"
             ],
             [
              0.3333333333333333,
              "#9c179e"
             ],
             [
              0.4444444444444444,
              "#bd3786"
             ],
             [
              0.5555555555555556,
              "#d8576b"
             ],
             [
              0.6666666666666666,
              "#ed7953"
             ],
             [
              0.7777777777777778,
              "#fb9f3a"
             ],
             [
              0.8888888888888888,
              "#fdca26"
             ],
             [
              1,
              "#f0f921"
             ]
            ],
            "type": "histogram2dcontour"
           }
          ],
          "mesh3d": [
           {
            "colorbar": {
             "outlinewidth": 0,
             "ticks": ""
            },
            "type": "mesh3d"
           }
          ],
          "parcoords": [
           {
            "line": {
             "colorbar": {
              "outlinewidth": 0,
              "ticks": ""
             }
            },
            "type": "parcoords"
           }
          ],
          "pie": [
           {
            "automargin": true,
            "type": "pie"
           }
          ],
          "scatter": [
           {
            "marker": {
             "colorbar": {
              "outlinewidth": 0,
              "ticks": ""
             }
            },
            "type": "scatter"
           }
          ],
          "scatter3d": [
           {
            "line": {
             "colorbar": {
              "outlinewidth": 0,
              "ticks": ""
             }
            },
            "marker": {
             "colorbar": {
              "outlinewidth": 0,
              "ticks": ""
             }
            },
            "type": "scatter3d"
           }
          ],
          "scattercarpet": [
           {
            "marker": {
             "colorbar": {
              "outlinewidth": 0,
              "ticks": ""
             }
            },
            "type": "scattercarpet"
           }
          ],
          "scattergeo": [
           {
            "marker": {
             "colorbar": {
              "outlinewidth": 0,
              "ticks": ""
             }
            },
            "type": "scattergeo"
           }
          ],
          "scattergl": [
           {
            "marker": {
             "colorbar": {
              "outlinewidth": 0,
              "ticks": ""
             }
            },
            "type": "scattergl"
           }
          ],
          "scattermapbox": [
           {
            "marker": {
             "colorbar": {
              "outlinewidth": 0,
              "ticks": ""
             }
            },
            "type": "scattermapbox"
           }
          ],
          "scatterpolar": [
           {
            "marker": {
             "colorbar": {
              "outlinewidth": 0,
              "ticks": ""
             }
            },
            "type": "scatterpolar"
           }
          ],
          "scatterpolargl": [
           {
            "marker": {
             "colorbar": {
              "outlinewidth": 0,
              "ticks": ""
             }
            },
            "type": "scatterpolargl"
           }
          ],
          "scatterternary": [
           {
            "marker": {
             "colorbar": {
              "outlinewidth": 0,
              "ticks": ""
             }
            },
            "type": "scatterternary"
           }
          ],
          "surface": [
           {
            "colorbar": {
             "outlinewidth": 0,
             "ticks": ""
            },
            "colorscale": [
             [
              0,
              "#0d0887"
             ],
             [
              0.1111111111111111,
              "#46039f"
             ],
             [
              0.2222222222222222,
              "#7201a8"
             ],
             [
              0.3333333333333333,
              "#9c179e"
             ],
             [
              0.4444444444444444,
              "#bd3786"
             ],
             [
              0.5555555555555556,
              "#d8576b"
             ],
             [
              0.6666666666666666,
              "#ed7953"
             ],
             [
              0.7777777777777778,
              "#fb9f3a"
             ],
             [
              0.8888888888888888,
              "#fdca26"
             ],
             [
              1,
              "#f0f921"
             ]
            ],
            "type": "surface"
           }
          ],
          "table": [
           {
            "cells": {
             "fill": {
              "color": "#EBF0F8"
             },
             "line": {
              "color": "white"
             }
            },
            "header": {
             "fill": {
              "color": "#C8D4E3"
             },
             "line": {
              "color": "white"
             }
            },
            "type": "table"
           }
          ]
         },
         "layout": {
          "annotationdefaults": {
           "arrowcolor": "#2a3f5f",
           "arrowhead": 0,
           "arrowwidth": 1
          },
          "autotypenumbers": "strict",
          "coloraxis": {
           "colorbar": {
            "outlinewidth": 0,
            "ticks": ""
           }
          },
          "colorscale": {
           "diverging": [
            [
             0,
             "#8e0152"
            ],
            [
             0.1,
             "#c51b7d"
            ],
            [
             0.2,
             "#de77ae"
            ],
            [
             0.3,
             "#f1b6da"
            ],
            [
             0.4,
             "#fde0ef"
            ],
            [
             0.5,
             "#f7f7f7"
            ],
            [
             0.6,
             "#e6f5d0"
            ],
            [
             0.7,
             "#b8e186"
            ],
            [
             0.8,
             "#7fbc41"
            ],
            [
             0.9,
             "#4d9221"
            ],
            [
             1,
             "#276419"
            ]
           ],
           "sequential": [
            [
             0,
             "#0d0887"
            ],
            [
             0.1111111111111111,
             "#46039f"
            ],
            [
             0.2222222222222222,
             "#7201a8"
            ],
            [
             0.3333333333333333,
             "#9c179e"
            ],
            [
             0.4444444444444444,
             "#bd3786"
            ],
            [
             0.5555555555555556,
             "#d8576b"
            ],
            [
             0.6666666666666666,
             "#ed7953"
            ],
            [
             0.7777777777777778,
             "#fb9f3a"
            ],
            [
             0.8888888888888888,
             "#fdca26"
            ],
            [
             1,
             "#f0f921"
            ]
           ],
           "sequentialminus": [
            [
             0,
             "#0d0887"
            ],
            [
             0.1111111111111111,
             "#46039f"
            ],
            [
             0.2222222222222222,
             "#7201a8"
            ],
            [
             0.3333333333333333,
             "#9c179e"
            ],
            [
             0.4444444444444444,
             "#bd3786"
            ],
            [
             0.5555555555555556,
             "#d8576b"
            ],
            [
             0.6666666666666666,
             "#ed7953"
            ],
            [
             0.7777777777777778,
             "#fb9f3a"
            ],
            [
             0.8888888888888888,
             "#fdca26"
            ],
            [
             1,
             "#f0f921"
            ]
           ]
          },
          "colorway": [
           "#636efa",
           "#EF553B",
           "#00cc96",
           "#ab63fa",
           "#FFA15A",
           "#19d3f3",
           "#FF6692",
           "#B6E880",
           "#FF97FF",
           "#FECB52"
          ],
          "font": {
           "color": "#2a3f5f"
          },
          "geo": {
           "bgcolor": "white",
           "lakecolor": "white",
           "landcolor": "#E5ECF6",
           "showlakes": true,
           "showland": true,
           "subunitcolor": "white"
          },
          "hoverlabel": {
           "align": "left"
          },
          "hovermode": "closest",
          "mapbox": {
           "style": "light"
          },
          "paper_bgcolor": "white",
          "plot_bgcolor": "#E5ECF6",
          "polar": {
           "angularaxis": {
            "gridcolor": "white",
            "linecolor": "white",
            "ticks": ""
           },
           "bgcolor": "#E5ECF6",
           "radialaxis": {
            "gridcolor": "white",
            "linecolor": "white",
            "ticks": ""
           }
          },
          "scene": {
           "xaxis": {
            "backgroundcolor": "#E5ECF6",
            "gridcolor": "white",
            "gridwidth": 2,
            "linecolor": "white",
            "showbackground": true,
            "ticks": "",
            "zerolinecolor": "white"
           },
           "yaxis": {
            "backgroundcolor": "#E5ECF6",
            "gridcolor": "white",
            "gridwidth": 2,
            "linecolor": "white",
            "showbackground": true,
            "ticks": "",
            "zerolinecolor": "white"
           },
           "zaxis": {
            "backgroundcolor": "#E5ECF6",
            "gridcolor": "white",
            "gridwidth": 2,
            "linecolor": "white",
            "showbackground": true,
            "ticks": "",
            "zerolinecolor": "white"
           }
          },
          "shapedefaults": {
           "line": {
            "color": "#2a3f5f"
           }
          },
          "ternary": {
           "aaxis": {
            "gridcolor": "white",
            "linecolor": "white",
            "ticks": ""
           },
           "baxis": {
            "gridcolor": "white",
            "linecolor": "white",
            "ticks": ""
           },
           "bgcolor": "#E5ECF6",
           "caxis": {
            "gridcolor": "white",
            "linecolor": "white",
            "ticks": ""
           }
          },
          "title": {
           "x": 0.05
          },
          "xaxis": {
           "automargin": true,
           "gridcolor": "white",
           "linecolor": "white",
           "ticks": "",
           "title": {
            "standoff": 15
           },
           "zerolinecolor": "white",
           "zerolinewidth": 2
          },
          "yaxis": {
           "automargin": true,
           "gridcolor": "white",
           "linecolor": "white",
           "ticks": "",
           "title": {
            "standoff": 15
           },
           "zerolinecolor": "white",
           "zerolinewidth": 2
          }
         }
        },
        "xaxis": {
         "anchor": "y",
         "domain": [
          0,
          1
         ],
         "title": {
          "text": "region"
         }
        },
        "yaxis": {
         "anchor": "x",
         "domain": [
          0,
          1
         ],
         "title": {
          "text": "value"
         }
        }
       }
      }
     },
     "metadata": {},
     "output_type": "display_data"
    }
   ],
   "source": [
    "px.bar(georgia, y=['feb', 'apr', 'jan_24'], x='region')"
   ]
  },
  {
   "cell_type": "code",
   "execution_count": 28,
   "metadata": {},
   "outputs": [
    {
     "data": {
      "text/html": [
       "<div>\n",
       "<style scoped>\n",
       "    .dataframe tbody tr th:only-of-type {\n",
       "        vertical-align: middle;\n",
       "    }\n",
       "\n",
       "    .dataframe tbody tr th {\n",
       "        vertical-align: top;\n",
       "    }\n",
       "\n",
       "    .dataframe thead th {\n",
       "        text-align: right;\n",
       "    }\n",
       "</style>\n",
       "<table border=\"1\" class=\"dataframe\">\n",
       "  <thead>\n",
       "    <tr style=\"text-align: right;\">\n",
       "      <th></th>\n",
       "      <th>size_rank</th>\n",
       "      <th>region</th>\n",
       "      <th>state</th>\n",
       "      <th>base_date</th>\n",
       "      <th>feb</th>\n",
       "      <th>apr</th>\n",
       "      <th>jan_24</th>\n",
       "    </tr>\n",
       "  </thead>\n",
       "  <tbody>\n",
       "    <tr>\n",
       "      <th>0</th>\n",
       "      <td>9</td>\n",
       "      <td>Atlanta, GA</td>\n",
       "      <td>GA</td>\n",
       "      <td>2023-01-31</td>\n",
       "      <td>-0.3</td>\n",
       "      <td>-0.6</td>\n",
       "      <td>1.3</td>\n",
       "    </tr>\n",
       "    <tr>\n",
       "      <th>1</th>\n",
       "      <td>95</td>\n",
       "      <td>Augusta, GA</td>\n",
       "      <td>GA</td>\n",
       "      <td>2023-01-31</td>\n",
       "      <td>0.2</td>\n",
       "      <td>0.5</td>\n",
       "      <td>1.6</td>\n",
       "    </tr>\n",
       "    <tr>\n",
       "      <th>2</th>\n",
       "      <td>138</td>\n",
       "      <td>Savannah, GA</td>\n",
       "      <td>GA</td>\n",
       "      <td>2023-01-31</td>\n",
       "      <td>0.4</td>\n",
       "      <td>1.2</td>\n",
       "      <td>2.8</td>\n",
       "    </tr>\n",
       "    <tr>\n",
       "      <th>3</th>\n",
       "      <td>161</td>\n",
       "      <td>Columbus, GA</td>\n",
       "      <td>GA</td>\n",
       "      <td>2023-01-31</td>\n",
       "      <td>0.1</td>\n",
       "      <td>0.0</td>\n",
       "      <td>0.3</td>\n",
       "    </tr>\n",
       "    <tr>\n",
       "      <th>4</th>\n",
       "      <td>201</td>\n",
       "      <td>Macon, GA</td>\n",
       "      <td>GA</td>\n",
       "      <td>2023-01-31</td>\n",
       "      <td>0.6</td>\n",
       "      <td>1.4</td>\n",
       "      <td>3.4</td>\n",
       "    </tr>\n",
       "    <tr>\n",
       "      <th>5</th>\n",
       "      <td>213</td>\n",
       "      <td>Athens, GA</td>\n",
       "      <td>GA</td>\n",
       "      <td>2023-01-31</td>\n",
       "      <td>0.4</td>\n",
       "      <td>1.0</td>\n",
       "      <td>3.4</td>\n",
       "    </tr>\n",
       "    <tr>\n",
       "      <th>6</th>\n",
       "      <td>219</td>\n",
       "      <td>Gainesville, GA</td>\n",
       "      <td>GA</td>\n",
       "      <td>2023-01-31</td>\n",
       "      <td>-0.2</td>\n",
       "      <td>-0.3</td>\n",
       "      <td>1.8</td>\n",
       "    </tr>\n",
       "    <tr>\n",
       "      <th>7</th>\n",
       "      <td>232</td>\n",
       "      <td>Warner Robins, GA</td>\n",
       "      <td>GA</td>\n",
       "      <td>2023-01-31</td>\n",
       "      <td>0.4</td>\n",
       "      <td>0.6</td>\n",
       "      <td>1.1</td>\n",
       "    </tr>\n",
       "    <tr>\n",
       "      <th>8</th>\n",
       "      <td>291</td>\n",
       "      <td>Valdosta, GA</td>\n",
       "      <td>GA</td>\n",
       "      <td>2023-01-31</td>\n",
       "      <td>0.8</td>\n",
       "      <td>1.5</td>\n",
       "      <td>2.0</td>\n",
       "    </tr>\n",
       "    <tr>\n",
       "      <th>9</th>\n",
       "      <td>296</td>\n",
       "      <td>Albany, GA</td>\n",
       "      <td>GA</td>\n",
       "      <td>2023-01-31</td>\n",
       "      <td>0.2</td>\n",
       "      <td>0.9</td>\n",
       "      <td>2.0</td>\n",
       "    </tr>\n",
       "    <tr>\n",
       "      <th>10</th>\n",
       "      <td>301</td>\n",
       "      <td>Dalton, GA</td>\n",
       "      <td>GA</td>\n",
       "      <td>2023-01-31</td>\n",
       "      <td>0.8</td>\n",
       "      <td>1.7</td>\n",
       "      <td>2.8</td>\n",
       "    </tr>\n",
       "    <tr>\n",
       "      <th>11</th>\n",
       "      <td>346</td>\n",
       "      <td>Brunswick, GA</td>\n",
       "      <td>GA</td>\n",
       "      <td>2023-01-31</td>\n",
       "      <td>0.3</td>\n",
       "      <td>1.0</td>\n",
       "      <td>2.3</td>\n",
       "    </tr>\n",
       "    <tr>\n",
       "      <th>12</th>\n",
       "      <td>374</td>\n",
       "      <td>LaGrange, GA</td>\n",
       "      <td>GA</td>\n",
       "      <td>2023-01-31</td>\n",
       "      <td>0.3</td>\n",
       "      <td>0.6</td>\n",
       "      <td>2.0</td>\n",
       "    </tr>\n",
       "    <tr>\n",
       "      <th>13</th>\n",
       "      <td>393</td>\n",
       "      <td>Rome, GA</td>\n",
       "      <td>GA</td>\n",
       "      <td>2023-01-31</td>\n",
       "      <td>0.9</td>\n",
       "      <td>2.2</td>\n",
       "      <td>4.8</td>\n",
       "    </tr>\n",
       "    <tr>\n",
       "      <th>14</th>\n",
       "      <td>431</td>\n",
       "      <td>Hinesville, GA</td>\n",
       "      <td>GA</td>\n",
       "      <td>2023-01-31</td>\n",
       "      <td>0.5</td>\n",
       "      <td>0.6</td>\n",
       "      <td>1.8</td>\n",
       "    </tr>\n",
       "    <tr>\n",
       "      <th>15</th>\n",
       "      <td>441</td>\n",
       "      <td>Statesboro, GA</td>\n",
       "      <td>GA</td>\n",
       "      <td>2023-01-31</td>\n",
       "      <td>0.2</td>\n",
       "      <td>0.3</td>\n",
       "      <td>1.2</td>\n",
       "    </tr>\n",
       "    <tr>\n",
       "      <th>16</th>\n",
       "      <td>456</td>\n",
       "      <td>Jefferson, GA</td>\n",
       "      <td>GA</td>\n",
       "      <td>2023-01-31</td>\n",
       "      <td>0.0</td>\n",
       "      <td>0.3</td>\n",
       "      <td>2.7</td>\n",
       "    </tr>\n",
       "    <tr>\n",
       "      <th>17</th>\n",
       "      <td>506</td>\n",
       "      <td>Dublin, GA</td>\n",
       "      <td>GA</td>\n",
       "      <td>2023-01-31</td>\n",
       "      <td>1.4</td>\n",
       "      <td>2.8</td>\n",
       "      <td>3.1</td>\n",
       "    </tr>\n",
       "    <tr>\n",
       "      <th>18</th>\n",
       "      <td>529</td>\n",
       "      <td>Calhoun, GA</td>\n",
       "      <td>GA</td>\n",
       "      <td>2023-01-31</td>\n",
       "      <td>0.2</td>\n",
       "      <td>0.6</td>\n",
       "      <td>3.1</td>\n",
       "    </tr>\n",
       "    <tr>\n",
       "      <th>19</th>\n",
       "      <td>558</td>\n",
       "      <td>St. Marys, GA</td>\n",
       "      <td>GA</td>\n",
       "      <td>2023-01-31</td>\n",
       "      <td>0.0</td>\n",
       "      <td>-0.1</td>\n",
       "      <td>0.7</td>\n",
       "    </tr>\n",
       "    <tr>\n",
       "      <th>20</th>\n",
       "      <td>559</td>\n",
       "      <td>Waycross, GA</td>\n",
       "      <td>GA</td>\n",
       "      <td>2023-01-31</td>\n",
       "      <td>1.2</td>\n",
       "      <td>2.6</td>\n",
       "      <td>4.6</td>\n",
       "    </tr>\n",
       "    <tr>\n",
       "      <th>21</th>\n",
       "      <td>574</td>\n",
       "      <td>Milledgeville, GA</td>\n",
       "      <td>GA</td>\n",
       "      <td>2023-01-31</td>\n",
       "      <td>0.5</td>\n",
       "      <td>1.6</td>\n",
       "      <td>3.6</td>\n",
       "    </tr>\n",
       "    <tr>\n",
       "      <th>22</th>\n",
       "      <td>583</td>\n",
       "      <td>Douglas, GA</td>\n",
       "      <td>GA</td>\n",
       "      <td>2023-01-31</td>\n",
       "      <td>0.9</td>\n",
       "      <td>1.6</td>\n",
       "      <td>2.3</td>\n",
       "    </tr>\n",
       "    <tr>\n",
       "      <th>23</th>\n",
       "      <td>632</td>\n",
       "      <td>Cornelia, GA</td>\n",
       "      <td>GA</td>\n",
       "      <td>2023-01-31</td>\n",
       "      <td>-0.1</td>\n",
       "      <td>0.1</td>\n",
       "      <td>2.3</td>\n",
       "    </tr>\n",
       "    <tr>\n",
       "      <th>24</th>\n",
       "      <td>639</td>\n",
       "      <td>Moultrie, GA</td>\n",
       "      <td>GA</td>\n",
       "      <td>2023-01-31</td>\n",
       "      <td>1.5</td>\n",
       "      <td>3.1</td>\n",
       "      <td>2.4</td>\n",
       "    </tr>\n",
       "    <tr>\n",
       "      <th>25</th>\n",
       "      <td>654</td>\n",
       "      <td>Thomasville, GA</td>\n",
       "      <td>GA</td>\n",
       "      <td>2023-01-31</td>\n",
       "      <td>0.8</td>\n",
       "      <td>1.5</td>\n",
       "      <td>1.7</td>\n",
       "    </tr>\n",
       "    <tr>\n",
       "      <th>26</th>\n",
       "      <td>667</td>\n",
       "      <td>Cedartown, GA</td>\n",
       "      <td>GA</td>\n",
       "      <td>2023-01-31</td>\n",
       "      <td>0.0</td>\n",
       "      <td>0.8</td>\n",
       "      <td>5.8</td>\n",
       "    </tr>\n",
       "    <tr>\n",
       "      <th>27</th>\n",
       "      <td>684</td>\n",
       "      <td>Tifton, GA</td>\n",
       "      <td>GA</td>\n",
       "      <td>2023-01-31</td>\n",
       "      <td>0.7</td>\n",
       "      <td>1.0</td>\n",
       "      <td>0.3</td>\n",
       "    </tr>\n",
       "    <tr>\n",
       "      <th>28</th>\n",
       "      <td>745</td>\n",
       "      <td>Vidalia, GA</td>\n",
       "      <td>GA</td>\n",
       "      <td>2023-01-31</td>\n",
       "      <td>1.1</td>\n",
       "      <td>2.6</td>\n",
       "      <td>2.8</td>\n",
       "    </tr>\n",
       "    <tr>\n",
       "      <th>29</th>\n",
       "      <td>767</td>\n",
       "      <td>Americus, GA</td>\n",
       "      <td>GA</td>\n",
       "      <td>2023-01-31</td>\n",
       "      <td>-0.5</td>\n",
       "      <td>-0.8</td>\n",
       "      <td>0.6</td>\n",
       "    </tr>\n",
       "    <tr>\n",
       "      <th>30</th>\n",
       "      <td>807</td>\n",
       "      <td>Jesup, GA</td>\n",
       "      <td>GA</td>\n",
       "      <td>2023-01-31</td>\n",
       "      <td>1.6</td>\n",
       "      <td>3.7</td>\n",
       "      <td>5.1</td>\n",
       "    </tr>\n",
       "    <tr>\n",
       "      <th>31</th>\n",
       "      <td>839</td>\n",
       "      <td>Thomaston, GA</td>\n",
       "      <td>GA</td>\n",
       "      <td>2023-01-31</td>\n",
       "      <td>0.2</td>\n",
       "      <td>1.4</td>\n",
       "      <td>6.9</td>\n",
       "    </tr>\n",
       "    <tr>\n",
       "      <th>32</th>\n",
       "      <td>840</td>\n",
       "      <td>Bainbridge, GA</td>\n",
       "      <td>GA</td>\n",
       "      <td>2023-01-31</td>\n",
       "      <td>1.1</td>\n",
       "      <td>2.7</td>\n",
       "      <td>4.4</td>\n",
       "    </tr>\n",
       "    <tr>\n",
       "      <th>33</th>\n",
       "      <td>844</td>\n",
       "      <td>Toccoa, GA</td>\n",
       "      <td>GA</td>\n",
       "      <td>2023-01-31</td>\n",
       "      <td>0.1</td>\n",
       "      <td>1.1</td>\n",
       "      <td>6.0</td>\n",
       "    </tr>\n",
       "    <tr>\n",
       "      <th>34</th>\n",
       "      <td>855</td>\n",
       "      <td>Summerville, GA</td>\n",
       "      <td>GA</td>\n",
       "      <td>2023-01-31</td>\n",
       "      <td>2.1</td>\n",
       "      <td>5.3</td>\n",
       "      <td>10.2</td>\n",
       "    </tr>\n",
       "    <tr>\n",
       "      <th>35</th>\n",
       "      <td>878</td>\n",
       "      <td>Cordele, GA</td>\n",
       "      <td>GA</td>\n",
       "      <td>2023-01-31</td>\n",
       "      <td>-0.4</td>\n",
       "      <td>-0.4</td>\n",
       "      <td>0.6</td>\n",
       "    </tr>\n",
       "    <tr>\n",
       "      <th>36</th>\n",
       "      <td>917</td>\n",
       "      <td>Fitzgerald, GA</td>\n",
       "      <td>GA</td>\n",
       "      <td>2023-01-31</td>\n",
       "      <td>-0.7</td>\n",
       "      <td>-0.7</td>\n",
       "      <td>2.1</td>\n",
       "    </tr>\n",
       "  </tbody>\n",
       "</table>\n",
       "</div>"
      ],
      "text/plain": [
       "    size_rank             region state   base_date  feb  apr  jan_24\n",
       "0           9        Atlanta, GA    GA  2023-01-31 -0.3 -0.6     1.3\n",
       "1          95        Augusta, GA    GA  2023-01-31  0.2  0.5     1.6\n",
       "2         138       Savannah, GA    GA  2023-01-31  0.4  1.2     2.8\n",
       "3         161       Columbus, GA    GA  2023-01-31  0.1  0.0     0.3\n",
       "4         201          Macon, GA    GA  2023-01-31  0.6  1.4     3.4\n",
       "5         213         Athens, GA    GA  2023-01-31  0.4  1.0     3.4\n",
       "6         219    Gainesville, GA    GA  2023-01-31 -0.2 -0.3     1.8\n",
       "7         232  Warner Robins, GA    GA  2023-01-31  0.4  0.6     1.1\n",
       "8         291       Valdosta, GA    GA  2023-01-31  0.8  1.5     2.0\n",
       "9         296         Albany, GA    GA  2023-01-31  0.2  0.9     2.0\n",
       "10        301         Dalton, GA    GA  2023-01-31  0.8  1.7     2.8\n",
       "11        346      Brunswick, GA    GA  2023-01-31  0.3  1.0     2.3\n",
       "12        374       LaGrange, GA    GA  2023-01-31  0.3  0.6     2.0\n",
       "13        393           Rome, GA    GA  2023-01-31  0.9  2.2     4.8\n",
       "14        431     Hinesville, GA    GA  2023-01-31  0.5  0.6     1.8\n",
       "15        441     Statesboro, GA    GA  2023-01-31  0.2  0.3     1.2\n",
       "16        456      Jefferson, GA    GA  2023-01-31  0.0  0.3     2.7\n",
       "17        506         Dublin, GA    GA  2023-01-31  1.4  2.8     3.1\n",
       "18        529        Calhoun, GA    GA  2023-01-31  0.2  0.6     3.1\n",
       "19        558      St. Marys, GA    GA  2023-01-31  0.0 -0.1     0.7\n",
       "20        559       Waycross, GA    GA  2023-01-31  1.2  2.6     4.6\n",
       "21        574  Milledgeville, GA    GA  2023-01-31  0.5  1.6     3.6\n",
       "22        583        Douglas, GA    GA  2023-01-31  0.9  1.6     2.3\n",
       "23        632       Cornelia, GA    GA  2023-01-31 -0.1  0.1     2.3\n",
       "24        639       Moultrie, GA    GA  2023-01-31  1.5  3.1     2.4\n",
       "25        654    Thomasville, GA    GA  2023-01-31  0.8  1.5     1.7\n",
       "26        667      Cedartown, GA    GA  2023-01-31  0.0  0.8     5.8\n",
       "27        684         Tifton, GA    GA  2023-01-31  0.7  1.0     0.3\n",
       "28        745        Vidalia, GA    GA  2023-01-31  1.1  2.6     2.8\n",
       "29        767       Americus, GA    GA  2023-01-31 -0.5 -0.8     0.6\n",
       "30        807          Jesup, GA    GA  2023-01-31  1.6  3.7     5.1\n",
       "31        839      Thomaston, GA    GA  2023-01-31  0.2  1.4     6.9\n",
       "32        840     Bainbridge, GA    GA  2023-01-31  1.1  2.7     4.4\n",
       "33        844         Toccoa, GA    GA  2023-01-31  0.1  1.1     6.0\n",
       "34        855    Summerville, GA    GA  2023-01-31  2.1  5.3    10.2\n",
       "35        878        Cordele, GA    GA  2023-01-31 -0.4 -0.4     0.6\n",
       "36        917     Fitzgerald, GA    GA  2023-01-31 -0.7 -0.7     2.1"
      ]
     },
     "execution_count": 28,
     "metadata": {},
     "output_type": "execute_result"
    }
   ],
   "source": [
    "georgia"
   ]
  },
  {
   "cell_type": "code",
   "execution_count": 29,
   "metadata": {},
   "outputs": [
    {
     "data": {
      "application/vnd.plotly.v1+json": {
       "config": {
        "plotlyServerURL": "https://plot.ly"
       },
       "data": [
        {
         "alignmentgroup": "True",
         "hovertemplate": "region=%{x}<br>value=%{y}<extra></extra>",
         "legendgroup": "",
         "marker": {
          "color": "green"
         },
         "name": "",
         "notched": false,
         "offsetgroup": "",
         "orientation": "v",
         "showlegend": false,
         "type": "box",
         "x": [
          "Atlanta, GA",
          "Augusta, GA",
          "Savannah, GA",
          "Columbus, GA",
          "Macon, GA",
          "Athens, GA",
          "Gainesville, GA",
          "Warner Robins, GA",
          "Valdosta, GA",
          "Albany, GA",
          "Dalton, GA",
          "Brunswick, GA",
          "LaGrange, GA",
          "Rome, GA",
          "Hinesville, GA",
          "Statesboro, GA",
          "Jefferson, GA",
          "Dublin, GA",
          "Calhoun, GA",
          "St. Marys, GA",
          "Waycross, GA",
          "Milledgeville, GA",
          "Douglas, GA",
          "Cornelia, GA",
          "Moultrie, GA",
          "Thomasville, GA",
          "Cedartown, GA",
          "Tifton, GA",
          "Vidalia, GA",
          "Americus, GA",
          "Jesup, GA",
          "Thomaston, GA",
          "Bainbridge, GA",
          "Toccoa, GA",
          "Summerville, GA",
          "Cordele, GA",
          "Fitzgerald, GA",
          "Atlanta, GA",
          "Augusta, GA",
          "Savannah, GA",
          "Columbus, GA",
          "Macon, GA",
          "Athens, GA",
          "Gainesville, GA",
          "Warner Robins, GA",
          "Valdosta, GA",
          "Albany, GA",
          "Dalton, GA",
          "Brunswick, GA",
          "LaGrange, GA",
          "Rome, GA",
          "Hinesville, GA",
          "Statesboro, GA",
          "Jefferson, GA",
          "Dublin, GA",
          "Calhoun, GA",
          "St. Marys, GA",
          "Waycross, GA",
          "Milledgeville, GA",
          "Douglas, GA",
          "Cornelia, GA",
          "Moultrie, GA",
          "Thomasville, GA",
          "Cedartown, GA",
          "Tifton, GA",
          "Vidalia, GA",
          "Americus, GA",
          "Jesup, GA",
          "Thomaston, GA",
          "Bainbridge, GA",
          "Toccoa, GA",
          "Summerville, GA",
          "Cordele, GA",
          "Fitzgerald, GA",
          "Atlanta, GA",
          "Augusta, GA",
          "Savannah, GA",
          "Columbus, GA",
          "Macon, GA",
          "Athens, GA",
          "Gainesville, GA",
          "Warner Robins, GA",
          "Valdosta, GA",
          "Albany, GA",
          "Dalton, GA",
          "Brunswick, GA",
          "LaGrange, GA",
          "Rome, GA",
          "Hinesville, GA",
          "Statesboro, GA",
          "Jefferson, GA",
          "Dublin, GA",
          "Calhoun, GA",
          "St. Marys, GA",
          "Waycross, GA",
          "Milledgeville, GA",
          "Douglas, GA",
          "Cornelia, GA",
          "Moultrie, GA",
          "Thomasville, GA",
          "Cedartown, GA",
          "Tifton, GA",
          "Vidalia, GA",
          "Americus, GA",
          "Jesup, GA",
          "Thomaston, GA",
          "Bainbridge, GA",
          "Toccoa, GA",
          "Summerville, GA",
          "Cordele, GA",
          "Fitzgerald, GA"
         ],
         "x0": " ",
         "xaxis": "x",
         "y": [
          -0.3,
          0.2,
          0.4,
          0.1,
          0.6,
          0.4,
          -0.2,
          0.4,
          0.8,
          0.2,
          0.8,
          0.3,
          0.3,
          0.9,
          0.5,
          0.2,
          0,
          1.4,
          0.2,
          0,
          1.2,
          0.5,
          0.9,
          -0.1,
          1.5,
          0.8,
          0,
          0.7,
          1.1,
          -0.5,
          1.6,
          0.2,
          1.1,
          0.1,
          2.1,
          -0.4,
          -0.7,
          -0.6,
          0.5,
          1.2,
          0,
          1.4,
          1,
          -0.3,
          0.6,
          1.5,
          0.9,
          1.7,
          1,
          0.6,
          2.2,
          0.6,
          0.3,
          0.3,
          2.8,
          0.6,
          -0.1,
          2.6,
          1.6,
          1.6,
          0.1,
          3.1,
          1.5,
          0.8,
          1,
          2.6,
          -0.8,
          3.7,
          1.4,
          2.7,
          1.1,
          5.3,
          -0.4,
          -0.7,
          1.3,
          1.6,
          2.8,
          0.3,
          3.4,
          3.4,
          1.8,
          1.1,
          2,
          2,
          2.8,
          2.3,
          2,
          4.8,
          1.8,
          1.2,
          2.7,
          3.1,
          3.1,
          0.7,
          4.6,
          3.6,
          2.3,
          2.3,
          2.4,
          1.7,
          5.8,
          0.3,
          2.8,
          0.6,
          5.1,
          6.9,
          4.4,
          6,
          10.2,
          0.6,
          2.1
         ],
         "y0": " ",
         "yaxis": "y"
        }
       ],
       "layout": {
        "boxmode": "group",
        "height": 900,
        "legend": {
         "tracegroupgap": 0
        },
        "template": {
         "data": {
          "bar": [
           {
            "error_x": {
             "color": "#2a3f5f"
            },
            "error_y": {
             "color": "#2a3f5f"
            },
            "marker": {
             "line": {
              "color": "white",
              "width": 0.5
             },
             "pattern": {
              "fillmode": "overlay",
              "size": 10,
              "solidity": 0.2
             }
            },
            "type": "bar"
           }
          ],
          "barpolar": [
           {
            "marker": {
             "line": {
              "color": "white",
              "width": 0.5
             },
             "pattern": {
              "fillmode": "overlay",
              "size": 10,
              "solidity": 0.2
             }
            },
            "type": "barpolar"
           }
          ],
          "carpet": [
           {
            "aaxis": {
             "endlinecolor": "#2a3f5f",
             "gridcolor": "#C8D4E3",
             "linecolor": "#C8D4E3",
             "minorgridcolor": "#C8D4E3",
             "startlinecolor": "#2a3f5f"
            },
            "baxis": {
             "endlinecolor": "#2a3f5f",
             "gridcolor": "#C8D4E3",
             "linecolor": "#C8D4E3",
             "minorgridcolor": "#C8D4E3",
             "startlinecolor": "#2a3f5f"
            },
            "type": "carpet"
           }
          ],
          "choropleth": [
           {
            "colorbar": {
             "outlinewidth": 0,
             "ticks": ""
            },
            "type": "choropleth"
           }
          ],
          "contour": [
           {
            "colorbar": {
             "outlinewidth": 0,
             "ticks": ""
            },
            "colorscale": [
             [
              0,
              "#0d0887"
             ],
             [
              0.1111111111111111,
              "#46039f"
             ],
             [
              0.2222222222222222,
              "#7201a8"
             ],
             [
              0.3333333333333333,
              "#9c179e"
             ],
             [
              0.4444444444444444,
              "#bd3786"
             ],
             [
              0.5555555555555556,
              "#d8576b"
             ],
             [
              0.6666666666666666,
              "#ed7953"
             ],
             [
              0.7777777777777778,
              "#fb9f3a"
             ],
             [
              0.8888888888888888,
              "#fdca26"
             ],
             [
              1,
              "#f0f921"
             ]
            ],
            "type": "contour"
           }
          ],
          "contourcarpet": [
           {
            "colorbar": {
             "outlinewidth": 0,
             "ticks": ""
            },
            "type": "contourcarpet"
           }
          ],
          "heatmap": [
           {
            "colorbar": {
             "outlinewidth": 0,
             "ticks": ""
            },
            "colorscale": [
             [
              0,
              "#0d0887"
             ],
             [
              0.1111111111111111,
              "#46039f"
             ],
             [
              0.2222222222222222,
              "#7201a8"
             ],
             [
              0.3333333333333333,
              "#9c179e"
             ],
             [
              0.4444444444444444,
              "#bd3786"
             ],
             [
              0.5555555555555556,
              "#d8576b"
             ],
             [
              0.6666666666666666,
              "#ed7953"
             ],
             [
              0.7777777777777778,
              "#fb9f3a"
             ],
             [
              0.8888888888888888,
              "#fdca26"
             ],
             [
              1,
              "#f0f921"
             ]
            ],
            "type": "heatmap"
           }
          ],
          "heatmapgl": [
           {
            "colorbar": {
             "outlinewidth": 0,
             "ticks": ""
            },
            "colorscale": [
             [
              0,
              "#0d0887"
             ],
             [
              0.1111111111111111,
              "#46039f"
             ],
             [
              0.2222222222222222,
              "#7201a8"
             ],
             [
              0.3333333333333333,
              "#9c179e"
             ],
             [
              0.4444444444444444,
              "#bd3786"
             ],
             [
              0.5555555555555556,
              "#d8576b"
             ],
             [
              0.6666666666666666,
              "#ed7953"
             ],
             [
              0.7777777777777778,
              "#fb9f3a"
             ],
             [
              0.8888888888888888,
              "#fdca26"
             ],
             [
              1,
              "#f0f921"
             ]
            ],
            "type": "heatmapgl"
           }
          ],
          "histogram": [
           {
            "marker": {
             "pattern": {
              "fillmode": "overlay",
              "size": 10,
              "solidity": 0.2
             }
            },
            "type": "histogram"
           }
          ],
          "histogram2d": [
           {
            "colorbar": {
             "outlinewidth": 0,
             "ticks": ""
            },
            "colorscale": [
             [
              0,
              "#0d0887"
             ],
             [
              0.1111111111111111,
              "#46039f"
             ],
             [
              0.2222222222222222,
              "#7201a8"
             ],
             [
              0.3333333333333333,
              "#9c179e"
             ],
             [
              0.4444444444444444,
              "#bd3786"
             ],
             [
              0.5555555555555556,
              "#d8576b"
             ],
             [
              0.6666666666666666,
              "#ed7953"
             ],
             [
              0.7777777777777778,
              "#fb9f3a"
             ],
             [
              0.8888888888888888,
              "#fdca26"
             ],
             [
              1,
              "#f0f921"
             ]
            ],
            "type": "histogram2d"
           }
          ],
          "histogram2dcontour": [
           {
            "colorbar": {
             "outlinewidth": 0,
             "ticks": ""
            },
            "colorscale": [
             [
              0,
              "#0d0887"
             ],
             [
              0.1111111111111111,
              "#46039f"
             ],
             [
              0.2222222222222222,
              "#7201a8"
             ],
             [
              0.3333333333333333,
              "#9c179e"
             ],
             [
              0.4444444444444444,
              "#bd3786"
             ],
             [
              0.5555555555555556,
              "#d8576b"
             ],
             [
              0.6666666666666666,
              "#ed7953"
             ],
             [
              0.7777777777777778,
              "#fb9f3a"
             ],
             [
              0.8888888888888888,
              "#fdca26"
             ],
             [
              1,
              "#f0f921"
             ]
            ],
            "type": "histogram2dcontour"
           }
          ],
          "mesh3d": [
           {
            "colorbar": {
             "outlinewidth": 0,
             "ticks": ""
            },
            "type": "mesh3d"
           }
          ],
          "parcoords": [
           {
            "line": {
             "colorbar": {
              "outlinewidth": 0,
              "ticks": ""
             }
            },
            "type": "parcoords"
           }
          ],
          "pie": [
           {
            "automargin": true,
            "type": "pie"
           }
          ],
          "scatter": [
           {
            "marker": {
             "colorbar": {
              "outlinewidth": 0,
              "ticks": ""
             }
            },
            "type": "scatter"
           }
          ],
          "scatter3d": [
           {
            "line": {
             "colorbar": {
              "outlinewidth": 0,
              "ticks": ""
             }
            },
            "marker": {
             "colorbar": {
              "outlinewidth": 0,
              "ticks": ""
             }
            },
            "type": "scatter3d"
           }
          ],
          "scattercarpet": [
           {
            "marker": {
             "colorbar": {
              "outlinewidth": 0,
              "ticks": ""
             }
            },
            "type": "scattercarpet"
           }
          ],
          "scattergeo": [
           {
            "marker": {
             "colorbar": {
              "outlinewidth": 0,
              "ticks": ""
             }
            },
            "type": "scattergeo"
           }
          ],
          "scattergl": [
           {
            "marker": {
             "colorbar": {
              "outlinewidth": 0,
              "ticks": ""
             }
            },
            "type": "scattergl"
           }
          ],
          "scattermapbox": [
           {
            "marker": {
             "colorbar": {
              "outlinewidth": 0,
              "ticks": ""
             }
            },
            "type": "scattermapbox"
           }
          ],
          "scatterpolar": [
           {
            "marker": {
             "colorbar": {
              "outlinewidth": 0,
              "ticks": ""
             }
            },
            "type": "scatterpolar"
           }
          ],
          "scatterpolargl": [
           {
            "marker": {
             "colorbar": {
              "outlinewidth": 0,
              "ticks": ""
             }
            },
            "type": "scatterpolargl"
           }
          ],
          "scatterternary": [
           {
            "marker": {
             "colorbar": {
              "outlinewidth": 0,
              "ticks": ""
             }
            },
            "type": "scatterternary"
           }
          ],
          "surface": [
           {
            "colorbar": {
             "outlinewidth": 0,
             "ticks": ""
            },
            "colorscale": [
             [
              0,
              "#0d0887"
             ],
             [
              0.1111111111111111,
              "#46039f"
             ],
             [
              0.2222222222222222,
              "#7201a8"
             ],
             [
              0.3333333333333333,
              "#9c179e"
             ],
             [
              0.4444444444444444,
              "#bd3786"
             ],
             [
              0.5555555555555556,
              "#d8576b"
             ],
             [
              0.6666666666666666,
              "#ed7953"
             ],
             [
              0.7777777777777778,
              "#fb9f3a"
             ],
             [
              0.8888888888888888,
              "#fdca26"
             ],
             [
              1,
              "#f0f921"
             ]
            ],
            "type": "surface"
           }
          ],
          "table": [
           {
            "cells": {
             "fill": {
              "color": "#EBF0F8"
             },
             "line": {
              "color": "white"
             }
            },
            "header": {
             "fill": {
              "color": "#C8D4E3"
             },
             "line": {
              "color": "white"
             }
            },
            "type": "table"
           }
          ]
         },
         "layout": {
          "annotationdefaults": {
           "arrowcolor": "#2a3f5f",
           "arrowhead": 0,
           "arrowwidth": 1
          },
          "autotypenumbers": "strict",
          "coloraxis": {
           "colorbar": {
            "outlinewidth": 0,
            "ticks": ""
           }
          },
          "colorscale": {
           "diverging": [
            [
             0,
             "#8e0152"
            ],
            [
             0.1,
             "#c51b7d"
            ],
            [
             0.2,
             "#de77ae"
            ],
            [
             0.3,
             "#f1b6da"
            ],
            [
             0.4,
             "#fde0ef"
            ],
            [
             0.5,
             "#f7f7f7"
            ],
            [
             0.6,
             "#e6f5d0"
            ],
            [
             0.7,
             "#b8e186"
            ],
            [
             0.8,
             "#7fbc41"
            ],
            [
             0.9,
             "#4d9221"
            ],
            [
             1,
             "#276419"
            ]
           ],
           "sequential": [
            [
             0,
             "#0d0887"
            ],
            [
             0.1111111111111111,
             "#46039f"
            ],
            [
             0.2222222222222222,
             "#7201a8"
            ],
            [
             0.3333333333333333,
             "#9c179e"
            ],
            [
             0.4444444444444444,
             "#bd3786"
            ],
            [
             0.5555555555555556,
             "#d8576b"
            ],
            [
             0.6666666666666666,
             "#ed7953"
            ],
            [
             0.7777777777777778,
             "#fb9f3a"
            ],
            [
             0.8888888888888888,
             "#fdca26"
            ],
            [
             1,
             "#f0f921"
            ]
           ],
           "sequentialminus": [
            [
             0,
             "#0d0887"
            ],
            [
             0.1111111111111111,
             "#46039f"
            ],
            [
             0.2222222222222222,
             "#7201a8"
            ],
            [
             0.3333333333333333,
             "#9c179e"
            ],
            [
             0.4444444444444444,
             "#bd3786"
            ],
            [
             0.5555555555555556,
             "#d8576b"
            ],
            [
             0.6666666666666666,
             "#ed7953"
            ],
            [
             0.7777777777777778,
             "#fb9f3a"
            ],
            [
             0.8888888888888888,
             "#fdca26"
            ],
            [
             1,
             "#f0f921"
            ]
           ]
          },
          "colorway": [
           "#636efa",
           "#EF553B",
           "#00cc96",
           "#ab63fa",
           "#FFA15A",
           "#19d3f3",
           "#FF6692",
           "#B6E880",
           "#FF97FF",
           "#FECB52"
          ],
          "font": {
           "color": "#2a3f5f"
          },
          "geo": {
           "bgcolor": "white",
           "lakecolor": "white",
           "landcolor": "white",
           "showlakes": true,
           "showland": true,
           "subunitcolor": "#C8D4E3"
          },
          "hoverlabel": {
           "align": "left"
          },
          "hovermode": "closest",
          "mapbox": {
           "style": "light"
          },
          "paper_bgcolor": "white",
          "plot_bgcolor": "white",
          "polar": {
           "angularaxis": {
            "gridcolor": "#EBF0F8",
            "linecolor": "#EBF0F8",
            "ticks": ""
           },
           "bgcolor": "white",
           "radialaxis": {
            "gridcolor": "#EBF0F8",
            "linecolor": "#EBF0F8",
            "ticks": ""
           }
          },
          "scene": {
           "xaxis": {
            "backgroundcolor": "white",
            "gridcolor": "#DFE8F3",
            "gridwidth": 2,
            "linecolor": "#EBF0F8",
            "showbackground": true,
            "ticks": "",
            "zerolinecolor": "#EBF0F8"
           },
           "yaxis": {
            "backgroundcolor": "white",
            "gridcolor": "#DFE8F3",
            "gridwidth": 2,
            "linecolor": "#EBF0F8",
            "showbackground": true,
            "ticks": "",
            "zerolinecolor": "#EBF0F8"
           },
           "zaxis": {
            "backgroundcolor": "white",
            "gridcolor": "#DFE8F3",
            "gridwidth": 2,
            "linecolor": "#EBF0F8",
            "showbackground": true,
            "ticks": "",
            "zerolinecolor": "#EBF0F8"
           }
          },
          "shapedefaults": {
           "line": {
            "color": "#2a3f5f"
           }
          },
          "ternary": {
           "aaxis": {
            "gridcolor": "#DFE8F3",
            "linecolor": "#A2B1C6",
            "ticks": ""
           },
           "baxis": {
            "gridcolor": "#DFE8F3",
            "linecolor": "#A2B1C6",
            "ticks": ""
           },
           "bgcolor": "white",
           "caxis": {
            "gridcolor": "#DFE8F3",
            "linecolor": "#A2B1C6",
            "ticks": ""
           }
          },
          "title": {
           "x": 0.05
          },
          "xaxis": {
           "automargin": true,
           "gridcolor": "#EBF0F8",
           "linecolor": "#EBF0F8",
           "ticks": "",
           "title": {
            "standoff": 15
           },
           "zerolinecolor": "#EBF0F8",
           "zerolinewidth": 2
          },
          "yaxis": {
           "automargin": true,
           "gridcolor": "#EBF0F8",
           "linecolor": "#EBF0F8",
           "ticks": "",
           "title": {
            "standoff": 15
           },
           "zerolinecolor": "#EBF0F8",
           "zerolinewidth": 2
          }
         }
        },
        "title": {
         "text": "Georgia Regional Value Forecasts"
        },
        "width": 1400,
        "xaxis": {
         "anchor": "y",
         "domain": [
          0,
          1
         ],
         "title": {
          "text": "region"
         }
        },
        "yaxis": {
         "anchor": "x",
         "domain": [
          0,
          1
         ],
         "title": {
          "text": "value"
         }
        }
       }
      }
     },
     "metadata": {},
     "output_type": "display_data"
    }
   ],
   "source": [
    "px.box(georgia, y=['feb', 'apr', 'jan_24'], x=georgia.region, title='Georgia Regional Value Forecasts', template='plotly_white', color_discrete_sequence=['green', 'orange', 'white'], height=900, width=1400)"
   ]
  },
  {
   "cell_type": "code",
   "execution_count": 30,
   "metadata": {},
   "outputs": [
    {
     "data": {
      "text/html": [
       "<div style=\"width:100%;\"><div style=\"position:relative;width:100%;height:0;padding-bottom:60%;\"><span style=\"color:#565656\">Make this Notebook Trusted to load map: File -> Trust Notebook</span><iframe srcdoc=\"&lt;!DOCTYPE html&gt;\n",
       "&lt;html&gt;\n",
       "&lt;head&gt;\n",
       "    \n",
       "    &lt;meta http-equiv=&quot;content-type&quot; content=&quot;text/html; charset=UTF-8&quot; /&gt;\n",
       "    \n",
       "        &lt;script&gt;\n",
       "            L_NO_TOUCH = false;\n",
       "            L_DISABLE_3D = false;\n",
       "        &lt;/script&gt;\n",
       "    \n",
       "    &lt;style&gt;html, body {width: 100%;height: 100%;margin: 0;padding: 0;}&lt;/style&gt;\n",
       "    &lt;style&gt;#map {position:absolute;top:0;bottom:0;right:0;left:0;}&lt;/style&gt;\n",
       "    &lt;script src=&quot;https://cdn.jsdelivr.net/npm/leaflet@1.6.0/dist/leaflet.js&quot;&gt;&lt;/script&gt;\n",
       "    &lt;script src=&quot;https://code.jquery.com/jquery-1.12.4.min.js&quot;&gt;&lt;/script&gt;\n",
       "    &lt;script src=&quot;https://maxcdn.bootstrapcdn.com/bootstrap/3.2.0/js/bootstrap.min.js&quot;&gt;&lt;/script&gt;\n",
       "    &lt;script src=&quot;https://cdnjs.cloudflare.com/ajax/libs/Leaflet.awesome-markers/2.0.2/leaflet.awesome-markers.js&quot;&gt;&lt;/script&gt;\n",
       "    &lt;link rel=&quot;stylesheet&quot; href=&quot;https://cdn.jsdelivr.net/npm/leaflet@1.6.0/dist/leaflet.css&quot;/&gt;\n",
       "    &lt;link rel=&quot;stylesheet&quot; href=&quot;https://maxcdn.bootstrapcdn.com/bootstrap/3.2.0/css/bootstrap.min.css&quot;/&gt;\n",
       "    &lt;link rel=&quot;stylesheet&quot; href=&quot;https://maxcdn.bootstrapcdn.com/bootstrap/3.2.0/css/bootstrap-theme.min.css&quot;/&gt;\n",
       "    &lt;link rel=&quot;stylesheet&quot; href=&quot;https://maxcdn.bootstrapcdn.com/font-awesome/4.6.3/css/font-awesome.min.css&quot;/&gt;\n",
       "    &lt;link rel=&quot;stylesheet&quot; href=&quot;https://cdnjs.cloudflare.com/ajax/libs/Leaflet.awesome-markers/2.0.2/leaflet.awesome-markers.css&quot;/&gt;\n",
       "    &lt;link rel=&quot;stylesheet&quot; href=&quot;https://cdn.jsdelivr.net/gh/python-visualization/folium/folium/templates/leaflet.awesome.rotate.min.css&quot;/&gt;\n",
       "    \n",
       "            &lt;meta name=&quot;viewport&quot; content=&quot;width=device-width,\n",
       "                initial-scale=1.0, maximum-scale=1.0, user-scalable=no&quot; /&gt;\n",
       "            &lt;style&gt;\n",
       "                #map_63027844d3289a40d3ddfe15bf632f78 {\n",
       "                    position: relative;\n",
       "                    width: 1200.0px;\n",
       "                    height: 900.0px;\n",
       "                    left: 0.0%;\n",
       "                    top: 0.0%;\n",
       "                }\n",
       "            &lt;/style&gt;\n",
       "        \n",
       "    &lt;script src=&quot;https://cdn.jsdelivr.net/gh/ljagis/leaflet-measure@2.1.7/dist/leaflet-measure.min.js&quot;&gt;&lt;/script&gt;\n",
       "    &lt;link rel=&quot;stylesheet&quot; href=&quot;https://cdn.jsdelivr.net/gh/ljagis/leaflet-measure@2.1.7/dist/leaflet-measure.min.css&quot;/&gt;\n",
       "&lt;/head&gt;\n",
       "&lt;body&gt;\n",
       "    \n",
       "    \n",
       "            &lt;div class=&quot;folium-map&quot; id=&quot;map_63027844d3289a40d3ddfe15bf632f78&quot; &gt;&lt;/div&gt;\n",
       "        \n",
       "&lt;/body&gt;\n",
       "&lt;script&gt;\n",
       "    \n",
       "    \n",
       "            var map_63027844d3289a40d3ddfe15bf632f78 = L.map(\n",
       "                &quot;map_63027844d3289a40d3ddfe15bf632f78&quot;,\n",
       "                {\n",
       "                    center: [33.0, -84.0],\n",
       "                    crs: L.CRS.EPSG3857,\n",
       "                    zoom: 7,\n",
       "                    zoomControl: true,\n",
       "                    preferCanvas: false,\n",
       "                }\n",
       "            );\n",
       "            L.control.scale().addTo(map_63027844d3289a40d3ddfe15bf632f78);\n",
       "\n",
       "            \n",
       "\n",
       "        \n",
       "    \n",
       "            var tile_layer_95b93f74557590d5821174c098b48ec8 = L.tileLayer(\n",
       "                &quot;https://{s}.tile.openstreetmap.org/{z}/{x}/{y}.png&quot;,\n",
       "                {&quot;attribution&quot;: &quot;Data by \\u0026copy; \\u003ca href=\\&quot;http://openstreetmap.org\\&quot;\\u003eOpenStreetMap\\u003c/a\\u003e, under \\u003ca href=\\&quot;http://www.openstreetmap.org/copyright\\&quot;\\u003eODbL\\u003c/a\\u003e.&quot;, &quot;detectRetina&quot;: false, &quot;maxNativeZoom&quot;: 18, &quot;maxZoom&quot;: 18, &quot;minZoom&quot;: 0, &quot;noWrap&quot;: false, &quot;opacity&quot;: 1, &quot;subdomains&quot;: &quot;abc&quot;, &quot;tms&quot;: false}\n",
       "            ).addTo(map_63027844d3289a40d3ddfe15bf632f78);\n",
       "        \n",
       "    \n",
       "            var marker_af2a5d8d9d19fa0a3467f2911b0ca71a = L.marker(\n",
       "                [33.749, -84.388],\n",
       "                {}\n",
       "            ).addTo(map_63027844d3289a40d3ddfe15bf632f78);\n",
       "        \n",
       "    \n",
       "            var icon_6cdfa1ad6ec6139f86c0d830d4d6deff = L.AwesomeMarkers.icon(\n",
       "                {&quot;extraClasses&quot;: &quot;fa-rotate-0&quot;, &quot;icon&quot;: &quot;car&quot;, &quot;iconColor&quot;: &quot;white&quot;, &quot;markerColor&quot;: &quot;green&quot;, &quot;prefix&quot;: &quot;fa&quot;}\n",
       "            );\n",
       "            marker_af2a5d8d9d19fa0a3467f2911b0ca71a.setIcon(icon_6cdfa1ad6ec6139f86c0d830d4d6deff);\n",
       "        \n",
       "    \n",
       "        var popup_577e14a24de59116cab89126fce96f3c = L.popup({&quot;maxWidth&quot;: &quot;100%&quot;});\n",
       "\n",
       "        \n",
       "            \n",
       "                var html_163e6fa07dd6e41483bda98d9ff34c39 = $(`&lt;div id=&quot;html_163e6fa07dd6e41483bda98d9ff34c39&quot; style=&quot;width: 100.0%; height: 100.0%;&quot;&gt;Atlanta, 1.3&lt;/div&gt;`)[0];\n",
       "                popup_577e14a24de59116cab89126fce96f3c.setContent(html_163e6fa07dd6e41483bda98d9ff34c39);\n",
       "            \n",
       "        \n",
       "\n",
       "        marker_af2a5d8d9d19fa0a3467f2911b0ca71a.bindPopup(popup_577e14a24de59116cab89126fce96f3c)\n",
       "        ;\n",
       "\n",
       "        \n",
       "    \n",
       "    \n",
       "            var marker_74064223ae3df9697eb16d7b8eb1a1e8 = L.marker(\n",
       "                [33.4735, -82.0101],\n",
       "                {}\n",
       "            ).addTo(map_63027844d3289a40d3ddfe15bf632f78);\n",
       "        \n",
       "    \n",
       "            var icon_27d89017e614fd68c20c79841d44f41a = L.AwesomeMarkers.icon(\n",
       "                {&quot;extraClasses&quot;: &quot;fa-rotate-0&quot;, &quot;icon&quot;: &quot;car&quot;, &quot;iconColor&quot;: &quot;white&quot;, &quot;markerColor&quot;: &quot;green&quot;, &quot;prefix&quot;: &quot;fa&quot;}\n",
       "            );\n",
       "            marker_74064223ae3df9697eb16d7b8eb1a1e8.setIcon(icon_27d89017e614fd68c20c79841d44f41a);\n",
       "        \n",
       "    \n",
       "        var popup_3c023993b75709698571a4b5e2a167e7 = L.popup({&quot;maxWidth&quot;: &quot;100%&quot;});\n",
       "\n",
       "        \n",
       "            \n",
       "                var html_7f58e448243a9b1d6f32cc27f883c75b = $(`&lt;div id=&quot;html_7f58e448243a9b1d6f32cc27f883c75b&quot; style=&quot;width: 100.0%; height: 100.0%;&quot;&gt;Augusta, 1.6&lt;/div&gt;`)[0];\n",
       "                popup_3c023993b75709698571a4b5e2a167e7.setContent(html_7f58e448243a9b1d6f32cc27f883c75b);\n",
       "            \n",
       "        \n",
       "\n",
       "        marker_74064223ae3df9697eb16d7b8eb1a1e8.bindPopup(popup_3c023993b75709698571a4b5e2a167e7)\n",
       "        ;\n",
       "\n",
       "        \n",
       "    \n",
       "    \n",
       "            var marker_4d8f3d7f5f83067b8b05395c60046c9f = L.marker(\n",
       "                [32.0809, -81.0912],\n",
       "                {}\n",
       "            ).addTo(map_63027844d3289a40d3ddfe15bf632f78);\n",
       "        \n",
       "    \n",
       "            var icon_7418b513318602ec0332a657fe8fb287 = L.AwesomeMarkers.icon(\n",
       "                {&quot;extraClasses&quot;: &quot;fa-rotate-0&quot;, &quot;icon&quot;: &quot;car&quot;, &quot;iconColor&quot;: &quot;white&quot;, &quot;markerColor&quot;: &quot;green&quot;, &quot;prefix&quot;: &quot;fa&quot;}\n",
       "            );\n",
       "            marker_4d8f3d7f5f83067b8b05395c60046c9f.setIcon(icon_7418b513318602ec0332a657fe8fb287);\n",
       "        \n",
       "    \n",
       "        var popup_2aca46b6615aadd8f98db7190c4d6e2d = L.popup({&quot;maxWidth&quot;: &quot;100%&quot;});\n",
       "\n",
       "        \n",
       "            \n",
       "                var html_4a069b81355a690273434c9d4109988b = $(`&lt;div id=&quot;html_4a069b81355a690273434c9d4109988b&quot; style=&quot;width: 100.0%; height: 100.0%;&quot;&gt;Savannah, 2.8&lt;/div&gt;`)[0];\n",
       "                popup_2aca46b6615aadd8f98db7190c4d6e2d.setContent(html_4a069b81355a690273434c9d4109988b);\n",
       "            \n",
       "        \n",
       "\n",
       "        marker_4d8f3d7f5f83067b8b05395c60046c9f.bindPopup(popup_2aca46b6615aadd8f98db7190c4d6e2d)\n",
       "        ;\n",
       "\n",
       "        \n",
       "    \n",
       "    \n",
       "            var marker_98a97253f426451666d4afcc303fe58f = L.marker(\n",
       "                [32.46, -84.9877],\n",
       "                {}\n",
       "            ).addTo(map_63027844d3289a40d3ddfe15bf632f78);\n",
       "        \n",
       "    \n",
       "            var icon_5c0b72b7503b5131affd447029ae2360 = L.AwesomeMarkers.icon(\n",
       "                {&quot;extraClasses&quot;: &quot;fa-rotate-0&quot;, &quot;icon&quot;: &quot;car&quot;, &quot;iconColor&quot;: &quot;white&quot;, &quot;markerColor&quot;: &quot;green&quot;, &quot;prefix&quot;: &quot;fa&quot;}\n",
       "            );\n",
       "            marker_98a97253f426451666d4afcc303fe58f.setIcon(icon_5c0b72b7503b5131affd447029ae2360);\n",
       "        \n",
       "    \n",
       "        var popup_730b564ea468695649a8f1715028ee36 = L.popup({&quot;maxWidth&quot;: &quot;100%&quot;});\n",
       "\n",
       "        \n",
       "            \n",
       "                var html_2b5b5298f753218935e7f86166848203 = $(`&lt;div id=&quot;html_2b5b5298f753218935e7f86166848203&quot; style=&quot;width: 100.0%; height: 100.0%;&quot;&gt;Columbus, 0.3&lt;/div&gt;`)[0];\n",
       "                popup_730b564ea468695649a8f1715028ee36.setContent(html_2b5b5298f753218935e7f86166848203);\n",
       "            \n",
       "        \n",
       "\n",
       "        marker_98a97253f426451666d4afcc303fe58f.bindPopup(popup_730b564ea468695649a8f1715028ee36)\n",
       "        ;\n",
       "\n",
       "        \n",
       "    \n",
       "    \n",
       "            var marker_0c321f76ce38c990f11eae5675794cd6 = L.marker(\n",
       "                [32.8407, -83.6324],\n",
       "                {}\n",
       "            ).addTo(map_63027844d3289a40d3ddfe15bf632f78);\n",
       "        \n",
       "    \n",
       "            var icon_6d47bb957ec6d08115e928be21b75435 = L.AwesomeMarkers.icon(\n",
       "                {&quot;extraClasses&quot;: &quot;fa-rotate-0&quot;, &quot;icon&quot;: &quot;car&quot;, &quot;iconColor&quot;: &quot;white&quot;, &quot;markerColor&quot;: &quot;green&quot;, &quot;prefix&quot;: &quot;fa&quot;}\n",
       "            );\n",
       "            marker_0c321f76ce38c990f11eae5675794cd6.setIcon(icon_6d47bb957ec6d08115e928be21b75435);\n",
       "        \n",
       "    \n",
       "        var popup_f6cec103155655c9e0ae9bf25df5c111 = L.popup({&quot;maxWidth&quot;: &quot;100%&quot;});\n",
       "\n",
       "        \n",
       "            \n",
       "                var html_4b63fa40df226c3d2a338d60898fe2a3 = $(`&lt;div id=&quot;html_4b63fa40df226c3d2a338d60898fe2a3&quot; style=&quot;width: 100.0%; height: 100.0%;&quot;&gt;Macon, 3.4&lt;/div&gt;`)[0];\n",
       "                popup_f6cec103155655c9e0ae9bf25df5c111.setContent(html_4b63fa40df226c3d2a338d60898fe2a3);\n",
       "            \n",
       "        \n",
       "\n",
       "        marker_0c321f76ce38c990f11eae5675794cd6.bindPopup(popup_f6cec103155655c9e0ae9bf25df5c111)\n",
       "        ;\n",
       "\n",
       "        \n",
       "    \n",
       "    \n",
       "            var marker_e60ea26ef6f1dab44b12ab38c66e933b = L.marker(\n",
       "                [33.9609, -83.3779],\n",
       "                {}\n",
       "            ).addTo(map_63027844d3289a40d3ddfe15bf632f78);\n",
       "        \n",
       "    \n",
       "            var icon_6a23fee6ee9b6e1440ff710245360007 = L.AwesomeMarkers.icon(\n",
       "                {&quot;extraClasses&quot;: &quot;fa-rotate-0&quot;, &quot;icon&quot;: &quot;car&quot;, &quot;iconColor&quot;: &quot;white&quot;, &quot;markerColor&quot;: &quot;green&quot;, &quot;prefix&quot;: &quot;fa&quot;}\n",
       "            );\n",
       "            marker_e60ea26ef6f1dab44b12ab38c66e933b.setIcon(icon_6a23fee6ee9b6e1440ff710245360007);\n",
       "        \n",
       "    \n",
       "        var popup_9d1af50f41498540329ca6e17815c086 = L.popup({&quot;maxWidth&quot;: &quot;100%&quot;});\n",
       "\n",
       "        \n",
       "            \n",
       "                var html_09f3bc9dfcd3f5a51dd38ccaa02ef1fa = $(`&lt;div id=&quot;html_09f3bc9dfcd3f5a51dd38ccaa02ef1fa&quot; style=&quot;width: 100.0%; height: 100.0%;&quot;&gt;Athens, 3.4&lt;/div&gt;`)[0];\n",
       "                popup_9d1af50f41498540329ca6e17815c086.setContent(html_09f3bc9dfcd3f5a51dd38ccaa02ef1fa);\n",
       "            \n",
       "        \n",
       "\n",
       "        marker_e60ea26ef6f1dab44b12ab38c66e933b.bindPopup(popup_9d1af50f41498540329ca6e17815c086)\n",
       "        ;\n",
       "\n",
       "        \n",
       "    \n",
       "    \n",
       "            var marker_d1c6940575a55721c1045556f70986ff = L.marker(\n",
       "                [34.2979, -83.8241],\n",
       "                {}\n",
       "            ).addTo(map_63027844d3289a40d3ddfe15bf632f78);\n",
       "        \n",
       "    \n",
       "            var icon_87f2460c4f8441d7a71438a50193f6f8 = L.AwesomeMarkers.icon(\n",
       "                {&quot;extraClasses&quot;: &quot;fa-rotate-0&quot;, &quot;icon&quot;: &quot;car&quot;, &quot;iconColor&quot;: &quot;white&quot;, &quot;markerColor&quot;: &quot;green&quot;, &quot;prefix&quot;: &quot;fa&quot;}\n",
       "            );\n",
       "            marker_d1c6940575a55721c1045556f70986ff.setIcon(icon_87f2460c4f8441d7a71438a50193f6f8);\n",
       "        \n",
       "    \n",
       "        var popup_84f05dc0e49ba9d43a26f1d3069c3943 = L.popup({&quot;maxWidth&quot;: &quot;100%&quot;});\n",
       "\n",
       "        \n",
       "            \n",
       "                var html_c1dbfaf5ae2aba4052b5e7556a13d824 = $(`&lt;div id=&quot;html_c1dbfaf5ae2aba4052b5e7556a13d824&quot; style=&quot;width: 100.0%; height: 100.0%;&quot;&gt;Gainesville, 1.8&lt;/div&gt;`)[0];\n",
       "                popup_84f05dc0e49ba9d43a26f1d3069c3943.setContent(html_c1dbfaf5ae2aba4052b5e7556a13d824);\n",
       "            \n",
       "        \n",
       "\n",
       "        marker_d1c6940575a55721c1045556f70986ff.bindPopup(popup_84f05dc0e49ba9d43a26f1d3069c3943)\n",
       "        ;\n",
       "\n",
       "        \n",
       "    \n",
       "    \n",
       "            var marker_0d71ef9d1f031e0123161453dbc4c4e4 = L.marker(\n",
       "                [32.613, -83.6242],\n",
       "                {}\n",
       "            ).addTo(map_63027844d3289a40d3ddfe15bf632f78);\n",
       "        \n",
       "    \n",
       "            var icon_0eba6418adbd6a1289034f0daeb2d814 = L.AwesomeMarkers.icon(\n",
       "                {&quot;extraClasses&quot;: &quot;fa-rotate-0&quot;, &quot;icon&quot;: &quot;car&quot;, &quot;iconColor&quot;: &quot;white&quot;, &quot;markerColor&quot;: &quot;green&quot;, &quot;prefix&quot;: &quot;fa&quot;}\n",
       "            );\n",
       "            marker_0d71ef9d1f031e0123161453dbc4c4e4.setIcon(icon_0eba6418adbd6a1289034f0daeb2d814);\n",
       "        \n",
       "    \n",
       "        var popup_782299f2dbe2821240d35644cdc0e27e = L.popup({&quot;maxWidth&quot;: &quot;100%&quot;});\n",
       "\n",
       "        \n",
       "            \n",
       "                var html_7bdad32274ade64d07c40fe5f3c8b420 = $(`&lt;div id=&quot;html_7bdad32274ade64d07c40fe5f3c8b420&quot; style=&quot;width: 100.0%; height: 100.0%;&quot;&gt;Warner Robins, 1.1&lt;/div&gt;`)[0];\n",
       "                popup_782299f2dbe2821240d35644cdc0e27e.setContent(html_7bdad32274ade64d07c40fe5f3c8b420);\n",
       "            \n",
       "        \n",
       "\n",
       "        marker_0d71ef9d1f031e0123161453dbc4c4e4.bindPopup(popup_782299f2dbe2821240d35644cdc0e27e)\n",
       "        ;\n",
       "\n",
       "        \n",
       "    \n",
       "    \n",
       "            var marker_d5028b39cb22796bc81885ffcaaa3f32 = L.marker(\n",
       "                [30.8327, -83.2785],\n",
       "                {}\n",
       "            ).addTo(map_63027844d3289a40d3ddfe15bf632f78);\n",
       "        \n",
       "    \n",
       "            var icon_4c490c2adab81267beda7f225a7de703 = L.AwesomeMarkers.icon(\n",
       "                {&quot;extraClasses&quot;: &quot;fa-rotate-0&quot;, &quot;icon&quot;: &quot;car&quot;, &quot;iconColor&quot;: &quot;white&quot;, &quot;markerColor&quot;: &quot;green&quot;, &quot;prefix&quot;: &quot;fa&quot;}\n",
       "            );\n",
       "            marker_d5028b39cb22796bc81885ffcaaa3f32.setIcon(icon_4c490c2adab81267beda7f225a7de703);\n",
       "        \n",
       "    \n",
       "        var popup_59ab396470c16a87182360d83a4103e1 = L.popup({&quot;maxWidth&quot;: &quot;100%&quot;});\n",
       "\n",
       "        \n",
       "            \n",
       "                var html_1d9a467dc2a5302679cfd80c48efbdcb = $(`&lt;div id=&quot;html_1d9a467dc2a5302679cfd80c48efbdcb&quot; style=&quot;width: 100.0%; height: 100.0%;&quot;&gt;Valdosta, 2.0&lt;/div&gt;`)[0];\n",
       "                popup_59ab396470c16a87182360d83a4103e1.setContent(html_1d9a467dc2a5302679cfd80c48efbdcb);\n",
       "            \n",
       "        \n",
       "\n",
       "        marker_d5028b39cb22796bc81885ffcaaa3f32.bindPopup(popup_59ab396470c16a87182360d83a4103e1)\n",
       "        ;\n",
       "\n",
       "        \n",
       "    \n",
       "    \n",
       "            var marker_1e1a892b5e22fc94bf944ca8719e85e9 = L.marker(\n",
       "                [31.5785, -84.1557],\n",
       "                {}\n",
       "            ).addTo(map_63027844d3289a40d3ddfe15bf632f78);\n",
       "        \n",
       "    \n",
       "            var icon_6949b8c5e78286f921ceae7da0ceb778 = L.AwesomeMarkers.icon(\n",
       "                {&quot;extraClasses&quot;: &quot;fa-rotate-0&quot;, &quot;icon&quot;: &quot;car&quot;, &quot;iconColor&quot;: &quot;white&quot;, &quot;markerColor&quot;: &quot;green&quot;, &quot;prefix&quot;: &quot;fa&quot;}\n",
       "            );\n",
       "            marker_1e1a892b5e22fc94bf944ca8719e85e9.setIcon(icon_6949b8c5e78286f921ceae7da0ceb778);\n",
       "        \n",
       "    \n",
       "        var popup_24175a308a8ad8cf12ecd5e3ffbd95f5 = L.popup({&quot;maxWidth&quot;: &quot;100%&quot;});\n",
       "\n",
       "        \n",
       "            \n",
       "                var html_4b87dc87f2c82438f4d6b8c2c180774e = $(`&lt;div id=&quot;html_4b87dc87f2c82438f4d6b8c2c180774e&quot; style=&quot;width: 100.0%; height: 100.0%;&quot;&gt;Albany, 2.0&lt;/div&gt;`)[0];\n",
       "                popup_24175a308a8ad8cf12ecd5e3ffbd95f5.setContent(html_4b87dc87f2c82438f4d6b8c2c180774e);\n",
       "            \n",
       "        \n",
       "\n",
       "        marker_1e1a892b5e22fc94bf944ca8719e85e9.bindPopup(popup_24175a308a8ad8cf12ecd5e3ffbd95f5)\n",
       "        ;\n",
       "\n",
       "        \n",
       "    \n",
       "    \n",
       "            var marker_f3a4c4953a0f033235b1682396ec21bb = L.marker(\n",
       "                [34.7698, -84.9702],\n",
       "                {}\n",
       "            ).addTo(map_63027844d3289a40d3ddfe15bf632f78);\n",
       "        \n",
       "    \n",
       "            var icon_24b98e802a4802a9fc9d977430fedebb = L.AwesomeMarkers.icon(\n",
       "                {&quot;extraClasses&quot;: &quot;fa-rotate-0&quot;, &quot;icon&quot;: &quot;car&quot;, &quot;iconColor&quot;: &quot;white&quot;, &quot;markerColor&quot;: &quot;green&quot;, &quot;prefix&quot;: &quot;fa&quot;}\n",
       "            );\n",
       "            marker_f3a4c4953a0f033235b1682396ec21bb.setIcon(icon_24b98e802a4802a9fc9d977430fedebb);\n",
       "        \n",
       "    \n",
       "        var popup_e636dea73d5c8c9fd0f55208146e166f = L.popup({&quot;maxWidth&quot;: &quot;100%&quot;});\n",
       "\n",
       "        \n",
       "            \n",
       "                var html_457e813ed58ab86378df5bcbf001496a = $(`&lt;div id=&quot;html_457e813ed58ab86378df5bcbf001496a&quot; style=&quot;width: 100.0%; height: 100.0%;&quot;&gt;Dalton, 2.8&lt;/div&gt;`)[0];\n",
       "                popup_e636dea73d5c8c9fd0f55208146e166f.setContent(html_457e813ed58ab86378df5bcbf001496a);\n",
       "            \n",
       "        \n",
       "\n",
       "        marker_f3a4c4953a0f033235b1682396ec21bb.bindPopup(popup_e636dea73d5c8c9fd0f55208146e166f)\n",
       "        ;\n",
       "\n",
       "        \n",
       "    \n",
       "    \n",
       "            var marker_7cf9554d0b66e910e9a27f7dc41df6c8 = L.marker(\n",
       "                [31.1499, -81.4915],\n",
       "                {}\n",
       "            ).addTo(map_63027844d3289a40d3ddfe15bf632f78);\n",
       "        \n",
       "    \n",
       "            var icon_64c5da74a58923c842e2a596fb1c0bb9 = L.AwesomeMarkers.icon(\n",
       "                {&quot;extraClasses&quot;: &quot;fa-rotate-0&quot;, &quot;icon&quot;: &quot;car&quot;, &quot;iconColor&quot;: &quot;white&quot;, &quot;markerColor&quot;: &quot;green&quot;, &quot;prefix&quot;: &quot;fa&quot;}\n",
       "            );\n",
       "            marker_7cf9554d0b66e910e9a27f7dc41df6c8.setIcon(icon_64c5da74a58923c842e2a596fb1c0bb9);\n",
       "        \n",
       "    \n",
       "        var popup_97cf68e6edb987232f4002fcff69cbcd = L.popup({&quot;maxWidth&quot;: &quot;100%&quot;});\n",
       "\n",
       "        \n",
       "            \n",
       "                var html_a54fd5daad7150d341bfc71c20dac70b = $(`&lt;div id=&quot;html_a54fd5daad7150d341bfc71c20dac70b&quot; style=&quot;width: 100.0%; height: 100.0%;&quot;&gt;Brunswick, 2.3&lt;/div&gt;`)[0];\n",
       "                popup_97cf68e6edb987232f4002fcff69cbcd.setContent(html_a54fd5daad7150d341bfc71c20dac70b);\n",
       "            \n",
       "        \n",
       "\n",
       "        marker_7cf9554d0b66e910e9a27f7dc41df6c8.bindPopup(popup_97cf68e6edb987232f4002fcff69cbcd)\n",
       "        ;\n",
       "\n",
       "        \n",
       "    \n",
       "    \n",
       "            var marker_fcf27179ac0de85f259ab4dd31445e32 = L.marker(\n",
       "                [33.0363, -85.0319],\n",
       "                {}\n",
       "            ).addTo(map_63027844d3289a40d3ddfe15bf632f78);\n",
       "        \n",
       "    \n",
       "            var icon_3b9a73b213cada04833992ee691f4961 = L.AwesomeMarkers.icon(\n",
       "                {&quot;extraClasses&quot;: &quot;fa-rotate-0&quot;, &quot;icon&quot;: &quot;car&quot;, &quot;iconColor&quot;: &quot;white&quot;, &quot;markerColor&quot;: &quot;green&quot;, &quot;prefix&quot;: &quot;fa&quot;}\n",
       "            );\n",
       "            marker_fcf27179ac0de85f259ab4dd31445e32.setIcon(icon_3b9a73b213cada04833992ee691f4961);\n",
       "        \n",
       "    \n",
       "        var popup_038c6fa9a8127f34c21027687e12fcbe = L.popup({&quot;maxWidth&quot;: &quot;100%&quot;});\n",
       "\n",
       "        \n",
       "            \n",
       "                var html_23ab0131b6fb92ae2eec77de44719f41 = $(`&lt;div id=&quot;html_23ab0131b6fb92ae2eec77de44719f41&quot; style=&quot;width: 100.0%; height: 100.0%;&quot;&gt;LaGrange, 2.0&lt;/div&gt;`)[0];\n",
       "                popup_038c6fa9a8127f34c21027687e12fcbe.setContent(html_23ab0131b6fb92ae2eec77de44719f41);\n",
       "            \n",
       "        \n",
       "\n",
       "        marker_fcf27179ac0de85f259ab4dd31445e32.bindPopup(popup_038c6fa9a8127f34c21027687e12fcbe)\n",
       "        ;\n",
       "\n",
       "        \n",
       "    \n",
       "    \n",
       "            var marker_5cb96dc6e618e1d0539352ae3ceba0a9 = L.marker(\n",
       "                [34.257, -85.1647],\n",
       "                {}\n",
       "            ).addTo(map_63027844d3289a40d3ddfe15bf632f78);\n",
       "        \n",
       "    \n",
       "            var icon_04c8215d22e3738f272242d5caabc86d = L.AwesomeMarkers.icon(\n",
       "                {&quot;extraClasses&quot;: &quot;fa-rotate-0&quot;, &quot;icon&quot;: &quot;car&quot;, &quot;iconColor&quot;: &quot;white&quot;, &quot;markerColor&quot;: &quot;green&quot;, &quot;prefix&quot;: &quot;fa&quot;}\n",
       "            );\n",
       "            marker_5cb96dc6e618e1d0539352ae3ceba0a9.setIcon(icon_04c8215d22e3738f272242d5caabc86d);\n",
       "        \n",
       "    \n",
       "        var popup_204dd95e79bd89b26679d028d465b29e = L.popup({&quot;maxWidth&quot;: &quot;100%&quot;});\n",
       "\n",
       "        \n",
       "            \n",
       "                var html_911239ff19c9393a9414275cca63a1c0 = $(`&lt;div id=&quot;html_911239ff19c9393a9414275cca63a1c0&quot; style=&quot;width: 100.0%; height: 100.0%;&quot;&gt;Rome, 4.8&lt;/div&gt;`)[0];\n",
       "                popup_204dd95e79bd89b26679d028d465b29e.setContent(html_911239ff19c9393a9414275cca63a1c0);\n",
       "            \n",
       "        \n",
       "\n",
       "        marker_5cb96dc6e618e1d0539352ae3ceba0a9.bindPopup(popup_204dd95e79bd89b26679d028d465b29e)\n",
       "        ;\n",
       "\n",
       "        \n",
       "    \n",
       "    \n",
       "            var marker_170f7f8f11ccf40e7d67d166003ffcc3 = L.marker(\n",
       "                [31.8469, -81.596],\n",
       "                {}\n",
       "            ).addTo(map_63027844d3289a40d3ddfe15bf632f78);\n",
       "        \n",
       "    \n",
       "            var icon_8788dfea50846a3b5775e884df30f39f = L.AwesomeMarkers.icon(\n",
       "                {&quot;extraClasses&quot;: &quot;fa-rotate-0&quot;, &quot;icon&quot;: &quot;car&quot;, &quot;iconColor&quot;: &quot;white&quot;, &quot;markerColor&quot;: &quot;green&quot;, &quot;prefix&quot;: &quot;fa&quot;}\n",
       "            );\n",
       "            marker_170f7f8f11ccf40e7d67d166003ffcc3.setIcon(icon_8788dfea50846a3b5775e884df30f39f);\n",
       "        \n",
       "    \n",
       "        var popup_303865a018f37d7e02fa18ba05b3570e = L.popup({&quot;maxWidth&quot;: &quot;100%&quot;});\n",
       "\n",
       "        \n",
       "            \n",
       "                var html_2b29afa308a534f044c721a64e99e3f4 = $(`&lt;div id=&quot;html_2b29afa308a534f044c721a64e99e3f4&quot; style=&quot;width: 100.0%; height: 100.0%;&quot;&gt;Hinesville, 1.8&lt;/div&gt;`)[0];\n",
       "                popup_303865a018f37d7e02fa18ba05b3570e.setContent(html_2b29afa308a534f044c721a64e99e3f4);\n",
       "            \n",
       "        \n",
       "\n",
       "        marker_170f7f8f11ccf40e7d67d166003ffcc3.bindPopup(popup_303865a018f37d7e02fa18ba05b3570e)\n",
       "        ;\n",
       "\n",
       "        \n",
       "    \n",
       "    \n",
       "            var marker_09336cd972fa0ba4d42c2c2417f904b4 = L.marker(\n",
       "                [32.4487, -81.7832],\n",
       "                {}\n",
       "            ).addTo(map_63027844d3289a40d3ddfe15bf632f78);\n",
       "        \n",
       "    \n",
       "            var icon_8887e7a8f3d71fec823c857ef89914c6 = L.AwesomeMarkers.icon(\n",
       "                {&quot;extraClasses&quot;: &quot;fa-rotate-0&quot;, &quot;icon&quot;: &quot;car&quot;, &quot;iconColor&quot;: &quot;white&quot;, &quot;markerColor&quot;: &quot;green&quot;, &quot;prefix&quot;: &quot;fa&quot;}\n",
       "            );\n",
       "            marker_09336cd972fa0ba4d42c2c2417f904b4.setIcon(icon_8887e7a8f3d71fec823c857ef89914c6);\n",
       "        \n",
       "    \n",
       "        var popup_0c421dca7c35975e8586d571337aa04c = L.popup({&quot;maxWidth&quot;: &quot;100%&quot;});\n",
       "\n",
       "        \n",
       "            \n",
       "                var html_f30333782b0e582ff0203c3f045a55e0 = $(`&lt;div id=&quot;html_f30333782b0e582ff0203c3f045a55e0&quot; style=&quot;width: 100.0%; height: 100.0%;&quot;&gt;Statesboro, 1.2&lt;/div&gt;`)[0];\n",
       "                popup_0c421dca7c35975e8586d571337aa04c.setContent(html_f30333782b0e582ff0203c3f045a55e0);\n",
       "            \n",
       "        \n",
       "\n",
       "        marker_09336cd972fa0ba4d42c2c2417f904b4.bindPopup(popup_0c421dca7c35975e8586d571337aa04c)\n",
       "        ;\n",
       "\n",
       "        \n",
       "    \n",
       "    \n",
       "            var marker_1e0ee237476bf5fbe0a1961d75412bc9 = L.marker(\n",
       "                [34.1283, -83.6023],\n",
       "                {}\n",
       "            ).addTo(map_63027844d3289a40d3ddfe15bf632f78);\n",
       "        \n",
       "    \n",
       "            var icon_65a0a2e788b2abaff757c3f92f1ef06b = L.AwesomeMarkers.icon(\n",
       "                {&quot;extraClasses&quot;: &quot;fa-rotate-0&quot;, &quot;icon&quot;: &quot;car&quot;, &quot;iconColor&quot;: &quot;white&quot;, &quot;markerColor&quot;: &quot;green&quot;, &quot;prefix&quot;: &quot;fa&quot;}\n",
       "            );\n",
       "            marker_1e0ee237476bf5fbe0a1961d75412bc9.setIcon(icon_65a0a2e788b2abaff757c3f92f1ef06b);\n",
       "        \n",
       "    \n",
       "        var popup_f50b79ddb38bac21b82b6abd94f8069a = L.popup({&quot;maxWidth&quot;: &quot;100%&quot;});\n",
       "\n",
       "        \n",
       "            \n",
       "                var html_b01084585356bf67c14a8dfe795e0002 = $(`&lt;div id=&quot;html_b01084585356bf67c14a8dfe795e0002&quot; style=&quot;width: 100.0%; height: 100.0%;&quot;&gt;Jefferson, 2.7&lt;/div&gt;`)[0];\n",
       "                popup_f50b79ddb38bac21b82b6abd94f8069a.setContent(html_b01084585356bf67c14a8dfe795e0002);\n",
       "            \n",
       "        \n",
       "\n",
       "        marker_1e0ee237476bf5fbe0a1961d75412bc9.bindPopup(popup_f50b79ddb38bac21b82b6abd94f8069a)\n",
       "        ;\n",
       "\n",
       "        \n",
       "    \n",
       "    \n",
       "            var marker_c39636c1b2200e93645c4b482517f4d4 = L.marker(\n",
       "                [32.5404, -82.9038],\n",
       "                {}\n",
       "            ).addTo(map_63027844d3289a40d3ddfe15bf632f78);\n",
       "        \n",
       "    \n",
       "            var icon_f64b16c565d90a838be09d50cf5deb8d = L.AwesomeMarkers.icon(\n",
       "                {&quot;extraClasses&quot;: &quot;fa-rotate-0&quot;, &quot;icon&quot;: &quot;car&quot;, &quot;iconColor&quot;: &quot;white&quot;, &quot;markerColor&quot;: &quot;green&quot;, &quot;prefix&quot;: &quot;fa&quot;}\n",
       "            );\n",
       "            marker_c39636c1b2200e93645c4b482517f4d4.setIcon(icon_f64b16c565d90a838be09d50cf5deb8d);\n",
       "        \n",
       "    \n",
       "        var popup_a1e2eeb073d003a04b9eb86a6b797c20 = L.popup({&quot;maxWidth&quot;: &quot;100%&quot;});\n",
       "\n",
       "        \n",
       "            \n",
       "                var html_49c2158ed6fb897d1a8224428a07aab4 = $(`&lt;div id=&quot;html_49c2158ed6fb897d1a8224428a07aab4&quot; style=&quot;width: 100.0%; height: 100.0%;&quot;&gt;Dublin, 3.1&lt;/div&gt;`)[0];\n",
       "                popup_a1e2eeb073d003a04b9eb86a6b797c20.setContent(html_49c2158ed6fb897d1a8224428a07aab4);\n",
       "            \n",
       "        \n",
       "\n",
       "        marker_c39636c1b2200e93645c4b482517f4d4.bindPopup(popup_a1e2eeb073d003a04b9eb86a6b797c20)\n",
       "        ;\n",
       "\n",
       "        \n",
       "    \n",
       "    \n",
       "            var marker_b2458145004bf86bb2015311df1f6fa0 = L.marker(\n",
       "                [34.5034, -84.9427],\n",
       "                {}\n",
       "            ).addTo(map_63027844d3289a40d3ddfe15bf632f78);\n",
       "        \n",
       "    \n",
       "            var icon_864d0b211981c8d0d8e5b3d32cd7a776 = L.AwesomeMarkers.icon(\n",
       "                {&quot;extraClasses&quot;: &quot;fa-rotate-0&quot;, &quot;icon&quot;: &quot;car&quot;, &quot;iconColor&quot;: &quot;white&quot;, &quot;markerColor&quot;: &quot;green&quot;, &quot;prefix&quot;: &quot;fa&quot;}\n",
       "            );\n",
       "            marker_b2458145004bf86bb2015311df1f6fa0.setIcon(icon_864d0b211981c8d0d8e5b3d32cd7a776);\n",
       "        \n",
       "    \n",
       "        var popup_8289f53daa58d082754b78fe7b55ac8b = L.popup({&quot;maxWidth&quot;: &quot;100%&quot;});\n",
       "\n",
       "        \n",
       "            \n",
       "                var html_53863b0e60656c0d223aa177a2e051be = $(`&lt;div id=&quot;html_53863b0e60656c0d223aa177a2e051be&quot; style=&quot;width: 100.0%; height: 100.0%;&quot;&gt;Calhoun, 3.1&lt;/div&gt;`)[0];\n",
       "                popup_8289f53daa58d082754b78fe7b55ac8b.setContent(html_53863b0e60656c0d223aa177a2e051be);\n",
       "            \n",
       "        \n",
       "\n",
       "        marker_b2458145004bf86bb2015311df1f6fa0.bindPopup(popup_8289f53daa58d082754b78fe7b55ac8b)\n",
       "        ;\n",
       "\n",
       "        \n",
       "    \n",
       "    \n",
       "            var marker_5fb40c270e7d98a236e4c0a7bac8ec5b = L.marker(\n",
       "                [30.7563, -81.5729],\n",
       "                {}\n",
       "            ).addTo(map_63027844d3289a40d3ddfe15bf632f78);\n",
       "        \n",
       "    \n",
       "            var icon_59fa87801fbad7c8cb239a485da33c38 = L.AwesomeMarkers.icon(\n",
       "                {&quot;extraClasses&quot;: &quot;fa-rotate-0&quot;, &quot;icon&quot;: &quot;car&quot;, &quot;iconColor&quot;: &quot;white&quot;, &quot;markerColor&quot;: &quot;green&quot;, &quot;prefix&quot;: &quot;fa&quot;}\n",
       "            );\n",
       "            marker_5fb40c270e7d98a236e4c0a7bac8ec5b.setIcon(icon_59fa87801fbad7c8cb239a485da33c38);\n",
       "        \n",
       "    \n",
       "        var popup_355e7191d3f827971a63d96146eed581 = L.popup({&quot;maxWidth&quot;: &quot;100%&quot;});\n",
       "\n",
       "        \n",
       "            \n",
       "                var html_2ac47cc6c86e69599696983ad4556a32 = $(`&lt;div id=&quot;html_2ac47cc6c86e69599696983ad4556a32&quot; style=&quot;width: 100.0%; height: 100.0%;&quot;&gt;St. Marys, 0.7&lt;/div&gt;`)[0];\n",
       "                popup_355e7191d3f827971a63d96146eed581.setContent(html_2ac47cc6c86e69599696983ad4556a32);\n",
       "            \n",
       "        \n",
       "\n",
       "        marker_5fb40c270e7d98a236e4c0a7bac8ec5b.bindPopup(popup_355e7191d3f827971a63d96146eed581)\n",
       "        ;\n",
       "\n",
       "        \n",
       "    \n",
       "    \n",
       "            var marker_303544a4ede351e267951ee0c151bbbb = L.marker(\n",
       "                [31.2134, -82.3549],\n",
       "                {}\n",
       "            ).addTo(map_63027844d3289a40d3ddfe15bf632f78);\n",
       "        \n",
       "    \n",
       "            var icon_67ce69a7fd5ef1aae98744d72c69beb9 = L.AwesomeMarkers.icon(\n",
       "                {&quot;extraClasses&quot;: &quot;fa-rotate-0&quot;, &quot;icon&quot;: &quot;car&quot;, &quot;iconColor&quot;: &quot;white&quot;, &quot;markerColor&quot;: &quot;green&quot;, &quot;prefix&quot;: &quot;fa&quot;}\n",
       "            );\n",
       "            marker_303544a4ede351e267951ee0c151bbbb.setIcon(icon_67ce69a7fd5ef1aae98744d72c69beb9);\n",
       "        \n",
       "    \n",
       "        var popup_b71effb50fe1c485599613e58f28332d = L.popup({&quot;maxWidth&quot;: &quot;100%&quot;});\n",
       "\n",
       "        \n",
       "            \n",
       "                var html_b0b2001ed4c10d7b3a938da70b1541c8 = $(`&lt;div id=&quot;html_b0b2001ed4c10d7b3a938da70b1541c8&quot; style=&quot;width: 100.0%; height: 100.0%;&quot;&gt;Waycross, 4.6&lt;/div&gt;`)[0];\n",
       "                popup_b71effb50fe1c485599613e58f28332d.setContent(html_b0b2001ed4c10d7b3a938da70b1541c8);\n",
       "            \n",
       "        \n",
       "\n",
       "        marker_303544a4ede351e267951ee0c151bbbb.bindPopup(popup_b71effb50fe1c485599613e58f28332d)\n",
       "        ;\n",
       "\n",
       "        \n",
       "    \n",
       "    \n",
       "            var marker_79b3d81d6d17105b401be5ecf3d01398 = L.marker(\n",
       "                [33.0801, -83.2321],\n",
       "                {}\n",
       "            ).addTo(map_63027844d3289a40d3ddfe15bf632f78);\n",
       "        \n",
       "    \n",
       "            var icon_3c37f202d3d0243bbdb056b390dba9f5 = L.AwesomeMarkers.icon(\n",
       "                {&quot;extraClasses&quot;: &quot;fa-rotate-0&quot;, &quot;icon&quot;: &quot;car&quot;, &quot;iconColor&quot;: &quot;white&quot;, &quot;markerColor&quot;: &quot;green&quot;, &quot;prefix&quot;: &quot;fa&quot;}\n",
       "            );\n",
       "            marker_79b3d81d6d17105b401be5ecf3d01398.setIcon(icon_3c37f202d3d0243bbdb056b390dba9f5);\n",
       "        \n",
       "    \n",
       "        var popup_e3f34add9d067ddbe708ba558dbe2312 = L.popup({&quot;maxWidth&quot;: &quot;100%&quot;});\n",
       "\n",
       "        \n",
       "            \n",
       "                var html_5a35d283ec4e2d6a10ef4abc5af76f6c = $(`&lt;div id=&quot;html_5a35d283ec4e2d6a10ef4abc5af76f6c&quot; style=&quot;width: 100.0%; height: 100.0%;&quot;&gt;Milledgeville, 3.6&lt;/div&gt;`)[0];\n",
       "                popup_e3f34add9d067ddbe708ba558dbe2312.setContent(html_5a35d283ec4e2d6a10ef4abc5af76f6c);\n",
       "            \n",
       "        \n",
       "\n",
       "        marker_79b3d81d6d17105b401be5ecf3d01398.bindPopup(popup_e3f34add9d067ddbe708ba558dbe2312)\n",
       "        ;\n",
       "\n",
       "        \n",
       "    \n",
       "    \n",
       "            var marker_8df4b819c47c60be646c95897f00e833 = L.marker(\n",
       "                [31.5095, -82.8506],\n",
       "                {}\n",
       "            ).addTo(map_63027844d3289a40d3ddfe15bf632f78);\n",
       "        \n",
       "    \n",
       "            var icon_a2c9a12e1cdaf60a128fcc1cd257de71 = L.AwesomeMarkers.icon(\n",
       "                {&quot;extraClasses&quot;: &quot;fa-rotate-0&quot;, &quot;icon&quot;: &quot;car&quot;, &quot;iconColor&quot;: &quot;white&quot;, &quot;markerColor&quot;: &quot;green&quot;, &quot;prefix&quot;: &quot;fa&quot;}\n",
       "            );\n",
       "            marker_8df4b819c47c60be646c95897f00e833.setIcon(icon_a2c9a12e1cdaf60a128fcc1cd257de71);\n",
       "        \n",
       "    \n",
       "        var popup_69ec843a29ee6f4be2478a79e2071a2e = L.popup({&quot;maxWidth&quot;: &quot;100%&quot;});\n",
       "\n",
       "        \n",
       "            \n",
       "                var html_66a0f3cee4f5d938bcdaa1858c59bc1d = $(`&lt;div id=&quot;html_66a0f3cee4f5d938bcdaa1858c59bc1d&quot; style=&quot;width: 100.0%; height: 100.0%;&quot;&gt;Douglas, 2.3&lt;/div&gt;`)[0];\n",
       "                popup_69ec843a29ee6f4be2478a79e2071a2e.setContent(html_66a0f3cee4f5d938bcdaa1858c59bc1d);\n",
       "            \n",
       "        \n",
       "\n",
       "        marker_8df4b819c47c60be646c95897f00e833.bindPopup(popup_69ec843a29ee6f4be2478a79e2071a2e)\n",
       "        ;\n",
       "\n",
       "        \n",
       "    \n",
       "    \n",
       "            var marker_0c5197a181132e4ac63823eac989631d = L.marker(\n",
       "                [34.5116, -83.5282],\n",
       "                {}\n",
       "            ).addTo(map_63027844d3289a40d3ddfe15bf632f78);\n",
       "        \n",
       "    \n",
       "            var icon_0c0dde6ba531822230f1b1fbc194a7c8 = L.AwesomeMarkers.icon(\n",
       "                {&quot;extraClasses&quot;: &quot;fa-rotate-0&quot;, &quot;icon&quot;: &quot;car&quot;, &quot;iconColor&quot;: &quot;white&quot;, &quot;markerColor&quot;: &quot;green&quot;, &quot;prefix&quot;: &quot;fa&quot;}\n",
       "            );\n",
       "            marker_0c5197a181132e4ac63823eac989631d.setIcon(icon_0c0dde6ba531822230f1b1fbc194a7c8);\n",
       "        \n",
       "    \n",
       "        var popup_45acab591dea7003dba6248f020a6407 = L.popup({&quot;maxWidth&quot;: &quot;100%&quot;});\n",
       "\n",
       "        \n",
       "            \n",
       "                var html_c06e724afcfcdb501c2a59b810d84104 = $(`&lt;div id=&quot;html_c06e724afcfcdb501c2a59b810d84104&quot; style=&quot;width: 100.0%; height: 100.0%;&quot;&gt;Cornelia, 2.3&lt;/div&gt;`)[0];\n",
       "                popup_45acab591dea7003dba6248f020a6407.setContent(html_c06e724afcfcdb501c2a59b810d84104);\n",
       "            \n",
       "        \n",
       "\n",
       "        marker_0c5197a181132e4ac63823eac989631d.bindPopup(popup_45acab591dea7003dba6248f020a6407)\n",
       "        ;\n",
       "\n",
       "        \n",
       "    \n",
       "    \n",
       "            var marker_510b065c3be3321bccf291d9285bdead = L.marker(\n",
       "                [31.1795, -83.7895],\n",
       "                {}\n",
       "            ).addTo(map_63027844d3289a40d3ddfe15bf632f78);\n",
       "        \n",
       "    \n",
       "            var icon_88b5df6ffccf1706d61edf3fc53df049 = L.AwesomeMarkers.icon(\n",
       "                {&quot;extraClasses&quot;: &quot;fa-rotate-0&quot;, &quot;icon&quot;: &quot;car&quot;, &quot;iconColor&quot;: &quot;white&quot;, &quot;markerColor&quot;: &quot;green&quot;, &quot;prefix&quot;: &quot;fa&quot;}\n",
       "            );\n",
       "            marker_510b065c3be3321bccf291d9285bdead.setIcon(icon_88b5df6ffccf1706d61edf3fc53df049);\n",
       "        \n",
       "    \n",
       "        var popup_e3ebce50d3f5bc3645622a269e1508c6 = L.popup({&quot;maxWidth&quot;: &quot;100%&quot;});\n",
       "\n",
       "        \n",
       "            \n",
       "                var html_fd67e2997357defbe92aaf66979abde5 = $(`&lt;div id=&quot;html_fd67e2997357defbe92aaf66979abde5&quot; style=&quot;width: 100.0%; height: 100.0%;&quot;&gt;Moultrie, 2.4&lt;/div&gt;`)[0];\n",
       "                popup_e3ebce50d3f5bc3645622a269e1508c6.setContent(html_fd67e2997357defbe92aaf66979abde5);\n",
       "            \n",
       "        \n",
       "\n",
       "        marker_510b065c3be3321bccf291d9285bdead.bindPopup(popup_e3ebce50d3f5bc3645622a269e1508c6)\n",
       "        ;\n",
       "\n",
       "        \n",
       "    \n",
       "    \n",
       "            var marker_b0e903bb9aac8aa96a0ba75141d03b4b = L.marker(\n",
       "                [30.8375, -83.9787],\n",
       "                {}\n",
       "            ).addTo(map_63027844d3289a40d3ddfe15bf632f78);\n",
       "        \n",
       "    \n",
       "            var icon_15a95e3951d6d828e3a907e454b1dfd7 = L.AwesomeMarkers.icon(\n",
       "                {&quot;extraClasses&quot;: &quot;fa-rotate-0&quot;, &quot;icon&quot;: &quot;car&quot;, &quot;iconColor&quot;: &quot;white&quot;, &quot;markerColor&quot;: &quot;green&quot;, &quot;prefix&quot;: &quot;fa&quot;}\n",
       "            );\n",
       "            marker_b0e903bb9aac8aa96a0ba75141d03b4b.setIcon(icon_15a95e3951d6d828e3a907e454b1dfd7);\n",
       "        \n",
       "    \n",
       "        var popup_c0322dd0c92e192f7eee92bd12b85c0e = L.popup({&quot;maxWidth&quot;: &quot;100%&quot;});\n",
       "\n",
       "        \n",
       "            \n",
       "                var html_5d37ca9f42adbfb91fcbbaa2f7abe5e8 = $(`&lt;div id=&quot;html_5d37ca9f42adbfb91fcbbaa2f7abe5e8&quot; style=&quot;width: 100.0%; height: 100.0%;&quot;&gt;Thomasville, 1.7&lt;/div&gt;`)[0];\n",
       "                popup_c0322dd0c92e192f7eee92bd12b85c0e.setContent(html_5d37ca9f42adbfb91fcbbaa2f7abe5e8);\n",
       "            \n",
       "        \n",
       "\n",
       "        marker_b0e903bb9aac8aa96a0ba75141d03b4b.bindPopup(popup_c0322dd0c92e192f7eee92bd12b85c0e)\n",
       "        ;\n",
       "\n",
       "        \n",
       "    \n",
       "    \n",
       "            var marker_6fa6819804b2bab42d2b886973600f31 = L.marker(\n",
       "                [34.0141, -85.2514],\n",
       "                {}\n",
       "            ).addTo(map_63027844d3289a40d3ddfe15bf632f78);\n",
       "        \n",
       "    \n",
       "            var icon_0c9f990a70edc6c1d8bb1923eb5236b3 = L.AwesomeMarkers.icon(\n",
       "                {&quot;extraClasses&quot;: &quot;fa-rotate-0&quot;, &quot;icon&quot;: &quot;car&quot;, &quot;iconColor&quot;: &quot;white&quot;, &quot;markerColor&quot;: &quot;green&quot;, &quot;prefix&quot;: &quot;fa&quot;}\n",
       "            );\n",
       "            marker_6fa6819804b2bab42d2b886973600f31.setIcon(icon_0c9f990a70edc6c1d8bb1923eb5236b3);\n",
       "        \n",
       "    \n",
       "        var popup_01d54f87f85a7f604acf761813bbeccf = L.popup({&quot;maxWidth&quot;: &quot;100%&quot;});\n",
       "\n",
       "        \n",
       "            \n",
       "                var html_ac47acafa31892d8cb6baa4f0174f09b = $(`&lt;div id=&quot;html_ac47acafa31892d8cb6baa4f0174f09b&quot; style=&quot;width: 100.0%; height: 100.0%;&quot;&gt;Cedartown, 5.8 &lt;/div&gt;`)[0];\n",
       "                popup_01d54f87f85a7f604acf761813bbeccf.setContent(html_ac47acafa31892d8cb6baa4f0174f09b);\n",
       "            \n",
       "        \n",
       "\n",
       "        marker_6fa6819804b2bab42d2b886973600f31.bindPopup(popup_01d54f87f85a7f604acf761813bbeccf)\n",
       "        ;\n",
       "\n",
       "        \n",
       "    \n",
       "    \n",
       "            var marker_91efc47040dec71c1a7c564b0a0444a0 = L.marker(\n",
       "                [31.4505, -83.5086],\n",
       "                {}\n",
       "            ).addTo(map_63027844d3289a40d3ddfe15bf632f78);\n",
       "        \n",
       "    \n",
       "            var icon_20ceeb0f9d0e374237ff022931593a3a = L.AwesomeMarkers.icon(\n",
       "                {&quot;extraClasses&quot;: &quot;fa-rotate-0&quot;, &quot;icon&quot;: &quot;car&quot;, &quot;iconColor&quot;: &quot;white&quot;, &quot;markerColor&quot;: &quot;green&quot;, &quot;prefix&quot;: &quot;fa&quot;}\n",
       "            );\n",
       "            marker_91efc47040dec71c1a7c564b0a0444a0.setIcon(icon_20ceeb0f9d0e374237ff022931593a3a);\n",
       "        \n",
       "    \n",
       "        var popup_5c1b35ad7b5f3659c1402345d591ea83 = L.popup({&quot;maxWidth&quot;: &quot;100%&quot;});\n",
       "\n",
       "        \n",
       "            \n",
       "                var html_f1487fd2fb77fe8718bba1a17e05a5a0 = $(`&lt;div id=&quot;html_f1487fd2fb77fe8718bba1a17e05a5a0&quot; style=&quot;width: 100.0%; height: 100.0%;&quot;&gt;Tifton, 0.3&lt;/div&gt;`)[0];\n",
       "                popup_5c1b35ad7b5f3659c1402345d591ea83.setContent(html_f1487fd2fb77fe8718bba1a17e05a5a0);\n",
       "            \n",
       "        \n",
       "\n",
       "        marker_91efc47040dec71c1a7c564b0a0444a0.bindPopup(popup_5c1b35ad7b5f3659c1402345d591ea83)\n",
       "        ;\n",
       "\n",
       "        \n",
       "    \n",
       "    \n",
       "            var marker_7a4a671168a4c20e98a6ffe76c37a6bf = L.marker(\n",
       "                [32.2177, -82.4128],\n",
       "                {}\n",
       "            ).addTo(map_63027844d3289a40d3ddfe15bf632f78);\n",
       "        \n",
       "    \n",
       "            var icon_2d526e50d0614a4cdc8c58b12e395750 = L.AwesomeMarkers.icon(\n",
       "                {&quot;extraClasses&quot;: &quot;fa-rotate-0&quot;, &quot;icon&quot;: &quot;car&quot;, &quot;iconColor&quot;: &quot;white&quot;, &quot;markerColor&quot;: &quot;green&quot;, &quot;prefix&quot;: &quot;fa&quot;}\n",
       "            );\n",
       "            marker_7a4a671168a4c20e98a6ffe76c37a6bf.setIcon(icon_2d526e50d0614a4cdc8c58b12e395750);\n",
       "        \n",
       "    \n",
       "        var popup_9c435a07c18a92de41242165503f0812 = L.popup({&quot;maxWidth&quot;: &quot;100%&quot;});\n",
       "\n",
       "        \n",
       "            \n",
       "                var html_7ed66983b8aaff16b8f4d25b8827bcaf = $(`&lt;div id=&quot;html_7ed66983b8aaff16b8f4d25b8827bcaf&quot; style=&quot;width: 100.0%; height: 100.0%;&quot;&gt;Vidalia, 2.8&lt;/div&gt;`)[0];\n",
       "                popup_9c435a07c18a92de41242165503f0812.setContent(html_7ed66983b8aaff16b8f4d25b8827bcaf);\n",
       "            \n",
       "        \n",
       "\n",
       "        marker_7a4a671168a4c20e98a6ffe76c37a6bf.bindPopup(popup_9c435a07c18a92de41242165503f0812)\n",
       "        ;\n",
       "\n",
       "        \n",
       "    \n",
       "    \n",
       "            var marker_1ef6750b1068979081acb71855f1ca41 = L.marker(\n",
       "                [32.0724, -84.2329],\n",
       "                {}\n",
       "            ).addTo(map_63027844d3289a40d3ddfe15bf632f78);\n",
       "        \n",
       "    \n",
       "            var icon_71ce0ba145066dca51c71788583b7fc7 = L.AwesomeMarkers.icon(\n",
       "                {&quot;extraClasses&quot;: &quot;fa-rotate-0&quot;, &quot;icon&quot;: &quot;car&quot;, &quot;iconColor&quot;: &quot;white&quot;, &quot;markerColor&quot;: &quot;green&quot;, &quot;prefix&quot;: &quot;fa&quot;}\n",
       "            );\n",
       "            marker_1ef6750b1068979081acb71855f1ca41.setIcon(icon_71ce0ba145066dca51c71788583b7fc7);\n",
       "        \n",
       "    \n",
       "        var popup_54f79c85d265d8a0a57f3b61a6502aca = L.popup({&quot;maxWidth&quot;: &quot;100%&quot;});\n",
       "\n",
       "        \n",
       "            \n",
       "                var html_b8616287442f89fd601b977ef5ade36a = $(`&lt;div id=&quot;html_b8616287442f89fd601b977ef5ade36a&quot; style=&quot;width: 100.0%; height: 100.0%;&quot;&gt;Americus, 0.6&lt;/div&gt;`)[0];\n",
       "                popup_54f79c85d265d8a0a57f3b61a6502aca.setContent(html_b8616287442f89fd601b977ef5ade36a);\n",
       "            \n",
       "        \n",
       "\n",
       "        marker_1ef6750b1068979081acb71855f1ca41.bindPopup(popup_54f79c85d265d8a0a57f3b61a6502aca)\n",
       "        ;\n",
       "\n",
       "        \n",
       "    \n",
       "    \n",
       "            var marker_6cdfaf140a7533a2a906e8f06a1b592a = L.marker(\n",
       "                [31.6078, -81.8851],\n",
       "                {}\n",
       "            ).addTo(map_63027844d3289a40d3ddfe15bf632f78);\n",
       "        \n",
       "    \n",
       "            var icon_7b93c3422bf3369fd93f543ec36c25b2 = L.AwesomeMarkers.icon(\n",
       "                {&quot;extraClasses&quot;: &quot;fa-rotate-0&quot;, &quot;icon&quot;: &quot;car&quot;, &quot;iconColor&quot;: &quot;white&quot;, &quot;markerColor&quot;: &quot;green&quot;, &quot;prefix&quot;: &quot;fa&quot;}\n",
       "            );\n",
       "            marker_6cdfaf140a7533a2a906e8f06a1b592a.setIcon(icon_7b93c3422bf3369fd93f543ec36c25b2);\n",
       "        \n",
       "    \n",
       "        var popup_478659b4de350734a22b0418a0d0427c = L.popup({&quot;maxWidth&quot;: &quot;100%&quot;});\n",
       "\n",
       "        \n",
       "            \n",
       "                var html_857496565d2be9bf55996c10aa59057e = $(`&lt;div id=&quot;html_857496565d2be9bf55996c10aa59057e&quot; style=&quot;width: 100.0%; height: 100.0%;&quot;&gt;Jesup, 5.1&lt;/div&gt;`)[0];\n",
       "                popup_478659b4de350734a22b0418a0d0427c.setContent(html_857496565d2be9bf55996c10aa59057e);\n",
       "            \n",
       "        \n",
       "\n",
       "        marker_6cdfaf140a7533a2a906e8f06a1b592a.bindPopup(popup_478659b4de350734a22b0418a0d0427c)\n",
       "        ;\n",
       "\n",
       "        \n",
       "    \n",
       "    \n",
       "            var marker_11cd0b863600b718608ad997fef1dd64 = L.marker(\n",
       "                [32.8889, -84.3266],\n",
       "                {}\n",
       "            ).addTo(map_63027844d3289a40d3ddfe15bf632f78);\n",
       "        \n",
       "    \n",
       "            var icon_5fc535ed61d5cdedcae0007b5cdfd7b4 = L.AwesomeMarkers.icon(\n",
       "                {&quot;extraClasses&quot;: &quot;fa-rotate-0&quot;, &quot;icon&quot;: &quot;car&quot;, &quot;iconColor&quot;: &quot;white&quot;, &quot;markerColor&quot;: &quot;green&quot;, &quot;prefix&quot;: &quot;fa&quot;}\n",
       "            );\n",
       "            marker_11cd0b863600b718608ad997fef1dd64.setIcon(icon_5fc535ed61d5cdedcae0007b5cdfd7b4);\n",
       "        \n",
       "    \n",
       "        var popup_284a45007032b3d8c37e58e915cc29d4 = L.popup({&quot;maxWidth&quot;: &quot;100%&quot;});\n",
       "\n",
       "        \n",
       "            \n",
       "                var html_7a09d3134f7f93f31f4f53bb7bb0655a = $(`&lt;div id=&quot;html_7a09d3134f7f93f31f4f53bb7bb0655a&quot; style=&quot;width: 100.0%; height: 100.0%;&quot;&gt;Thomaston, 6.9&lt;/div&gt;`)[0];\n",
       "                popup_284a45007032b3d8c37e58e915cc29d4.setContent(html_7a09d3134f7f93f31f4f53bb7bb0655a);\n",
       "            \n",
       "        \n",
       "\n",
       "        marker_11cd0b863600b718608ad997fef1dd64.bindPopup(popup_284a45007032b3d8c37e58e915cc29d4)\n",
       "        ;\n",
       "\n",
       "        \n",
       "    \n",
       "    \n",
       "            var marker_4edee9e421064913c401c924c6e6f8ab = L.marker(\n",
       "                [30.9034, -84.582],\n",
       "                {}\n",
       "            ).addTo(map_63027844d3289a40d3ddfe15bf632f78);\n",
       "        \n",
       "    \n",
       "            var icon_b7841b5b47fef193af4d4a2719d0495e = L.AwesomeMarkers.icon(\n",
       "                {&quot;extraClasses&quot;: &quot;fa-rotate-0&quot;, &quot;icon&quot;: &quot;car&quot;, &quot;iconColor&quot;: &quot;white&quot;, &quot;markerColor&quot;: &quot;green&quot;, &quot;prefix&quot;: &quot;fa&quot;}\n",
       "            );\n",
       "            marker_4edee9e421064913c401c924c6e6f8ab.setIcon(icon_b7841b5b47fef193af4d4a2719d0495e);\n",
       "        \n",
       "    \n",
       "        var popup_22ac2accfb80dbcf49b82b2423deb613 = L.popup({&quot;maxWidth&quot;: &quot;100%&quot;});\n",
       "\n",
       "        \n",
       "            \n",
       "                var html_63c8b4cda93b809ddc692e4cf6c8aa14 = $(`&lt;div id=&quot;html_63c8b4cda93b809ddc692e4cf6c8aa14&quot; style=&quot;width: 100.0%; height: 100.0%;&quot;&gt;Bainbridge, 4.4&lt;/div&gt;`)[0];\n",
       "                popup_22ac2accfb80dbcf49b82b2423deb613.setContent(html_63c8b4cda93b809ddc692e4cf6c8aa14);\n",
       "            \n",
       "        \n",
       "\n",
       "        marker_4edee9e421064913c401c924c6e6f8ab.bindPopup(popup_22ac2accfb80dbcf49b82b2423deb613)\n",
       "        ;\n",
       "\n",
       "        \n",
       "    \n",
       "    \n",
       "            var marker_ff865dc32c360a9332477550ecf672b9 = L.marker(\n",
       "                [34.5793, -83.3326],\n",
       "                {}\n",
       "            ).addTo(map_63027844d3289a40d3ddfe15bf632f78);\n",
       "        \n",
       "    \n",
       "            var icon_adea3526d10ccc746eda287bb76687c4 = L.AwesomeMarkers.icon(\n",
       "                {&quot;extraClasses&quot;: &quot;fa-rotate-0&quot;, &quot;icon&quot;: &quot;car&quot;, &quot;iconColor&quot;: &quot;white&quot;, &quot;markerColor&quot;: &quot;green&quot;, &quot;prefix&quot;: &quot;fa&quot;}\n",
       "            );\n",
       "            marker_ff865dc32c360a9332477550ecf672b9.setIcon(icon_adea3526d10ccc746eda287bb76687c4);\n",
       "        \n",
       "    \n",
       "        var popup_eab2659de7cda672025d07423bd721cf = L.popup({&quot;maxWidth&quot;: &quot;100%&quot;});\n",
       "\n",
       "        \n",
       "            \n",
       "                var html_6997f884d013a6b3bd3a83e04c80623c = $(`&lt;div id=&quot;html_6997f884d013a6b3bd3a83e04c80623c&quot; style=&quot;width: 100.0%; height: 100.0%;&quot;&gt;Toccoa, 6.0&lt;/div&gt;`)[0];\n",
       "                popup_eab2659de7cda672025d07423bd721cf.setContent(html_6997f884d013a6b3bd3a83e04c80623c);\n",
       "            \n",
       "        \n",
       "\n",
       "        marker_ff865dc32c360a9332477550ecf672b9.bindPopup(popup_eab2659de7cda672025d07423bd721cf)\n",
       "        ;\n",
       "\n",
       "        \n",
       "    \n",
       "    \n",
       "            var marker_a71e4461748228318b9f1cb564588430 = L.marker(\n",
       "                [34.4813, -85.3489],\n",
       "                {}\n",
       "            ).addTo(map_63027844d3289a40d3ddfe15bf632f78);\n",
       "        \n",
       "    \n",
       "            var icon_4d21655c2352985be56de1dea78bd8b9 = L.AwesomeMarkers.icon(\n",
       "                {&quot;extraClasses&quot;: &quot;fa-rotate-0&quot;, &quot;icon&quot;: &quot;car&quot;, &quot;iconColor&quot;: &quot;white&quot;, &quot;markerColor&quot;: &quot;green&quot;, &quot;prefix&quot;: &quot;fa&quot;}\n",
       "            );\n",
       "            marker_a71e4461748228318b9f1cb564588430.setIcon(icon_4d21655c2352985be56de1dea78bd8b9);\n",
       "        \n",
       "    \n",
       "        var popup_05642d4578fba1a9a3dbba6ef0485681 = L.popup({&quot;maxWidth&quot;: &quot;100%&quot;});\n",
       "\n",
       "        \n",
       "            \n",
       "                var html_e82434fbb1c98f593918a87cf1507a52 = $(`&lt;div id=&quot;html_e82434fbb1c98f593918a87cf1507a52&quot; style=&quot;width: 100.0%; height: 100.0%;&quot;&gt;Summerville, 10.2&lt;/div&gt;`)[0];\n",
       "                popup_05642d4578fba1a9a3dbba6ef0485681.setContent(html_e82434fbb1c98f593918a87cf1507a52);\n",
       "            \n",
       "        \n",
       "\n",
       "        marker_a71e4461748228318b9f1cb564588430.bindPopup(popup_05642d4578fba1a9a3dbba6ef0485681)\n",
       "        ;\n",
       "\n",
       "        \n",
       "    \n",
       "    \n",
       "            var marker_3b9c1a97b1a40ba61a9ac3e77ad57bf8 = L.marker(\n",
       "                [31.9635, -83.782],\n",
       "                {}\n",
       "            ).addTo(map_63027844d3289a40d3ddfe15bf632f78);\n",
       "        \n",
       "    \n",
       "            var icon_3b0277a7e9ff0d6262f87189fb24a690 = L.AwesomeMarkers.icon(\n",
       "                {&quot;extraClasses&quot;: &quot;fa-rotate-0&quot;, &quot;icon&quot;: &quot;car&quot;, &quot;iconColor&quot;: &quot;white&quot;, &quot;markerColor&quot;: &quot;green&quot;, &quot;prefix&quot;: &quot;fa&quot;}\n",
       "            );\n",
       "            marker_3b9c1a97b1a40ba61a9ac3e77ad57bf8.setIcon(icon_3b0277a7e9ff0d6262f87189fb24a690);\n",
       "        \n",
       "    \n",
       "        var popup_af9e140ffc729d8071bae1d1a4dec3a7 = L.popup({&quot;maxWidth&quot;: &quot;100%&quot;});\n",
       "\n",
       "        \n",
       "            \n",
       "                var html_658e961275d76a87d0faad293ae41c7d = $(`&lt;div id=&quot;html_658e961275d76a87d0faad293ae41c7d&quot; style=&quot;width: 100.0%; height: 100.0%;&quot;&gt;Cordele, 0.6&lt;/div&gt;`)[0];\n",
       "                popup_af9e140ffc729d8071bae1d1a4dec3a7.setContent(html_658e961275d76a87d0faad293ae41c7d);\n",
       "            \n",
       "        \n",
       "\n",
       "        marker_3b9c1a97b1a40ba61a9ac3e77ad57bf8.bindPopup(popup_af9e140ffc729d8071bae1d1a4dec3a7)\n",
       "        ;\n",
       "\n",
       "        \n",
       "    \n",
       "    \n",
       "            var marker_efa35102cf3b1acf867b63c7411737a4 = L.marker(\n",
       "                [31.7174, -83.2527],\n",
       "                {}\n",
       "            ).addTo(map_63027844d3289a40d3ddfe15bf632f78);\n",
       "        \n",
       "    \n",
       "            var icon_e3e63ceb176608c07062a0000b394b21 = L.AwesomeMarkers.icon(\n",
       "                {&quot;extraClasses&quot;: &quot;fa-rotate-0&quot;, &quot;icon&quot;: &quot;car&quot;, &quot;iconColor&quot;: &quot;white&quot;, &quot;markerColor&quot;: &quot;green&quot;, &quot;prefix&quot;: &quot;fa&quot;}\n",
       "            );\n",
       "            marker_efa35102cf3b1acf867b63c7411737a4.setIcon(icon_e3e63ceb176608c07062a0000b394b21);\n",
       "        \n",
       "    \n",
       "        var popup_27e67d088a6b73b94396f2a83fb05b3b = L.popup({&quot;maxWidth&quot;: &quot;100%&quot;});\n",
       "\n",
       "        \n",
       "            \n",
       "                var html_e7c715556b368844a488d0119d7f70ad = $(`&lt;div id=&quot;html_e7c715556b368844a488d0119d7f70ad&quot; style=&quot;width: 100.0%; height: 100.0%;&quot;&gt;Fitzgerald, 2.1&lt;/div&gt;`)[0];\n",
       "                popup_27e67d088a6b73b94396f2a83fb05b3b.setContent(html_e7c715556b368844a488d0119d7f70ad);\n",
       "            \n",
       "        \n",
       "\n",
       "        marker_efa35102cf3b1acf867b63c7411737a4.bindPopup(popup_27e67d088a6b73b94396f2a83fb05b3b)\n",
       "        ;\n",
       "\n",
       "        \n",
       "    \n",
       "    \n",
       "            var measure_control_431e6592fafd19f12fad68463530e90a = new L.Control.Measure(\n",
       "                {&quot;activeColor&quot;: &quot;blue&quot;, &quot;completedColor&quot;: &quot;green&quot;, &quot;position&quot;: &quot;topleft&quot;, &quot;primaryAreaUnit&quot;: &quot;sqmeters&quot;, &quot;primaryLengthUnit&quot;: &quot;miles&quot;, &quot;secondaryAreaUnit&quot;: &quot;acres&quot;, &quot;secondaryLengthUnit&quot;: &quot;miles&quot;});\n",
       "            map_63027844d3289a40d3ddfe15bf632f78.addControl(measure_control_431e6592fafd19f12fad68463530e90a);\n",
       "\n",
       "        \n",
       "&lt;/script&gt;\n",
       "&lt;/html&gt;\" style=\"position:absolute;width:100%;height:100%;left:0;top:0;border:none !important;\" allowfullscreen webkitallowfullscreen mozallowfullscreen></iframe></div></div>"
      ],
      "text/plain": [
       "<folium.folium.Map at 0x2401d4eb0a0>"
      ]
     },
     "execution_count": 30,
     "metadata": {},
     "output_type": "execute_result"
    }
   ],
   "source": [
    "# multiple markers using dictionary jan_24 predictions\n",
    "markers_dict = {'Atlanta, 1.3': [33.7490, -84.3880],\n",
    "        'Augusta, 1.6': [33.4735, -82.0101],\n",
    "        'Savannah, 2.8': [32.0809, -81.0912],\n",
    "        'Columbus, 0.3': [32.4600, -84.9877],\n",
    "        'Macon, 3.4': [32.8407, -83.6324],\n",
    "        'Athens, 3.4': [33.9609, -83.3779],\n",
    "        'Gainesville, 1.8': [34.2979, -83.8241],\n",
    "        'Warner Robins, 1.1': [32.6130, -83.6242],\n",
    "        'Valdosta, 2.0': [30.8327, -83.2785],\n",
    "        'Albany, 2.0': [31.5785, -84.1557],\n",
    "        'Dalton, 2.8': [34.7698, -84.9702],\n",
    "        'Brunswick, 2.3': [31.1499, -81.4915],\n",
    "        'LaGrange, 2.0': [33.0363, -85.0319],\n",
    "        'Rome, 4.8': [34.2570, -85.1647],\n",
    "        'Hinesville, 1.8': [31.8469, -81.5960],\n",
    "        'Statesboro, 1.2': [32.4487, -81.7832],\n",
    "        'Jefferson, 2.7': [34.1283, -83.6023],\n",
    "        'Dublin, 3.1': [32.5404, -82.9038],\n",
    "        'Calhoun, 3.1': [34.5034, -84.9427],\n",
    "        'St. Marys, 0.7': [30.7563, -81.5729],\n",
    "        'Waycross, 4.6': [31.2134, -82.3549],\n",
    "        'Milledgeville, 3.6': [33.0801, -83.2321],\n",
    "        'Douglas, 2.3': [31.5095, -82.8506],\n",
    "        'Cornelia, 2.3': [34.5116, -83.5282],\n",
    "        'Moultrie, 2.4': [31.1795, -83.7895],\n",
    "        'Thomasville, 1.7': [30.8375, -83.9787],\n",
    "        'Cedartown, 5.8 ': [34.0141, -85.2514],\n",
    "        'Tifton, 0.3': [31.4505, -83.5086],\n",
    "        'Vidalia, 2.8': [32.2177, -82.4128],\n",
    "        'Americus, 0.6': [32.0724, -84.2329],\n",
    "        'Jesup, 5.1': [31.6078, -81.8851],\n",
    "        'Thomaston, 6.9': [32.8889, -84.3266],\n",
    "        'Bainbridge, 4.4': [30.9034, -84.5820],\n",
    "        'Toccoa, 6.0': [34.5793, -83.3326],\n",
    "        'Summerville, 10.2': [34.4813, -85.3489],\n",
    "        'Cordele, 0.6': [31.9635, -83.7820],\n",
    "        'Fitzgerald, 2.1': [31.7174, -83.2527]\n",
    "        }\n",
    "\n",
    "# create map\n",
    "map_cities = folium.Map(location=[33, -84], zoom_start=7, width=1200, height=900, control_scale=True)\n",
    "\n",
    "# plot locations\n",
    "for i in markers_dict.items():\n",
    "    folium.Marker(location=i[1], popup=i[0], icon=folium.Icon(color='green', icon='car', prefix='fa')\n",
    "    ).add_to(map_cities)\n",
    "\n",
    "# measure control\n",
    "measure_control = plugins.MeasureControl(position='topleft', active_color='blue', completed_color='green', primary_length_unit='miles')\n",
    "\n",
    "# add measure control to map\n",
    "map_cities.add_child(measure_control)\n",
    "# display map\n",
    "map_cities"
   ]
  },
  {
   "cell_type": "code",
   "execution_count": 31,
   "metadata": {},
   "outputs": [
    {
     "data": {
      "text/html": [
       "<div>\n",
       "<style scoped>\n",
       "    .dataframe tbody tr th:only-of-type {\n",
       "        vertical-align: middle;\n",
       "    }\n",
       "\n",
       "    .dataframe tbody tr th {\n",
       "        vertical-align: top;\n",
       "    }\n",
       "\n",
       "    .dataframe thead th {\n",
       "        text-align: right;\n",
       "    }\n",
       "</style>\n",
       "<table border=\"1\" class=\"dataframe\">\n",
       "  <thead>\n",
       "    <tr style=\"text-align: right;\">\n",
       "      <th></th>\n",
       "      <th>size_rank</th>\n",
       "      <th>region</th>\n",
       "      <th>state</th>\n",
       "      <th>base_date</th>\n",
       "      <th>feb</th>\n",
       "      <th>apr</th>\n",
       "      <th>jan_24</th>\n",
       "    </tr>\n",
       "  </thead>\n",
       "  <tbody>\n",
       "    <tr>\n",
       "      <th>0</th>\n",
       "      <td>0</td>\n",
       "      <td>United States</td>\n",
       "      <td>NaN</td>\n",
       "      <td>2023-01-31</td>\n",
       "      <td>-0.1</td>\n",
       "      <td>0.0</td>\n",
       "      <td>0.5</td>\n",
       "    </tr>\n",
       "    <tr>\n",
       "      <th>1</th>\n",
       "      <td>1</td>\n",
       "      <td>New York, NY</td>\n",
       "      <td>NY</td>\n",
       "      <td>2023-01-31</td>\n",
       "      <td>0.0</td>\n",
       "      <td>0.2</td>\n",
       "      <td>-1.3</td>\n",
       "    </tr>\n",
       "    <tr>\n",
       "      <th>2</th>\n",
       "      <td>2</td>\n",
       "      <td>Los Angeles, CA</td>\n",
       "      <td>CA</td>\n",
       "      <td>2023-01-31</td>\n",
       "      <td>-1.3</td>\n",
       "      <td>-3.5</td>\n",
       "      <td>-3.3</td>\n",
       "    </tr>\n",
       "    <tr>\n",
       "      <th>3</th>\n",
       "      <td>3</td>\n",
       "      <td>Chicago, IL</td>\n",
       "      <td>IL</td>\n",
       "      <td>2023-01-31</td>\n",
       "      <td>0.3</td>\n",
       "      <td>0.3</td>\n",
       "      <td>-1.8</td>\n",
       "    </tr>\n",
       "    <tr>\n",
       "      <th>4</th>\n",
       "      <td>4</td>\n",
       "      <td>Dallas, TX</td>\n",
       "      <td>TX</td>\n",
       "      <td>2023-01-31</td>\n",
       "      <td>-0.4</td>\n",
       "      <td>-0.5</td>\n",
       "      <td>-0.4</td>\n",
       "    </tr>\n",
       "  </tbody>\n",
       "</table>\n",
       "</div>"
      ],
      "text/plain": [
       "   size_rank           region state   base_date  feb  apr  jan_24\n",
       "0          0    United States   NaN  2023-01-31 -0.1  0.0     0.5\n",
       "1          1     New York, NY    NY  2023-01-31  0.0  0.2    -1.3\n",
       "2          2  Los Angeles, CA    CA  2023-01-31 -1.3 -3.5    -3.3\n",
       "3          3      Chicago, IL    IL  2023-01-31  0.3  0.3    -1.8\n",
       "4          4       Dallas, TX    TX  2023-01-31 -0.4 -0.5    -0.4"
      ]
     },
     "execution_count": 31,
     "metadata": {},
     "output_type": "execute_result"
    }
   ],
   "source": [
    "hvf.head()"
   ]
  },
  {
   "attachments": {},
   "cell_type": "markdown",
   "metadata": {},
   "source": [
    "### Pennsylvania Forecast"
   ]
  },
  {
   "cell_type": "code",
   "execution_count": 32,
   "metadata": {},
   "outputs": [],
   "source": [
    "penn2 = penn.set_index('region')\n",
    "penn2.drop(columns=['size_rank', 'state', 'base_date'], inplace=True)"
   ]
  },
  {
   "cell_type": "code",
   "execution_count": 33,
   "metadata": {},
   "outputs": [
    {
     "data": {
      "text/html": [
       "<div>\n",
       "<style scoped>\n",
       "    .dataframe tbody tr th:only-of-type {\n",
       "        vertical-align: middle;\n",
       "    }\n",
       "\n",
       "    .dataframe tbody tr th {\n",
       "        vertical-align: top;\n",
       "    }\n",
       "\n",
       "    .dataframe thead th {\n",
       "        text-align: right;\n",
       "    }\n",
       "</style>\n",
       "<table border=\"1\" class=\"dataframe\">\n",
       "  <thead>\n",
       "    <tr style=\"text-align: right;\">\n",
       "      <th></th>\n",
       "      <th>feb</th>\n",
       "      <th>apr</th>\n",
       "      <th>jan_24</th>\n",
       "    </tr>\n",
       "    <tr>\n",
       "      <th>region</th>\n",
       "      <th></th>\n",
       "      <th></th>\n",
       "      <th></th>\n",
       "    </tr>\n",
       "  </thead>\n",
       "  <tbody>\n",
       "    <tr>\n",
       "      <th>Philadelphia, PA</th>\n",
       "      <td>0.2</td>\n",
       "      <td>0.3</td>\n",
       "      <td>-0.2</td>\n",
       "    </tr>\n",
       "    <tr>\n",
       "      <th>Pittsburgh, PA</th>\n",
       "      <td>0.2</td>\n",
       "      <td>0.4</td>\n",
       "      <td>-0.6</td>\n",
       "    </tr>\n",
       "    <tr>\n",
       "      <th>Allentown, PA</th>\n",
       "      <td>0.3</td>\n",
       "      <td>0.5</td>\n",
       "      <td>0.8</td>\n",
       "    </tr>\n",
       "    <tr>\n",
       "      <th>Harrisburg, PA</th>\n",
       "      <td>0.2</td>\n",
       "      <td>0.0</td>\n",
       "      <td>-0.9</td>\n",
       "    </tr>\n",
       "    <tr>\n",
       "      <th>Scranton, PA</th>\n",
       "      <td>1.3</td>\n",
       "      <td>3.0</td>\n",
       "      <td>3.0</td>\n",
       "    </tr>\n",
       "  </tbody>\n",
       "</table>\n",
       "</div>"
      ],
      "text/plain": [
       "                  feb  apr  jan_24\n",
       "region                            \n",
       "Philadelphia, PA  0.2  0.3    -0.2\n",
       "Pittsburgh, PA    0.2  0.4    -0.6\n",
       "Allentown, PA     0.3  0.5     0.8\n",
       "Harrisburg, PA    0.2  0.0    -0.9\n",
       "Scranton, PA      1.3  3.0     3.0"
      ]
     },
     "execution_count": 33,
     "metadata": {},
     "output_type": "execute_result"
    }
   ],
   "source": [
    "penn2.head()"
   ]
  },
  {
   "cell_type": "code",
   "execution_count": 34,
   "metadata": {},
   "outputs": [
    {
     "data": {
      "application/vnd.plotly.v1+json": {
       "config": {
        "plotlyServerURL": "https://plot.ly"
       },
       "data": [
        {
         "hovertemplate": "variable=feb<br>region=%{x}<br>value=%{y}<extra></extra>",
         "legendgroup": "feb",
         "marker": {
          "color": "#636efa",
          "symbol": "circle"
         },
         "mode": "markers",
         "name": "feb",
         "orientation": "v",
         "showlegend": true,
         "type": "scatter",
         "x": [
          "Philadelphia, PA",
          "Pittsburgh, PA",
          "Allentown, PA",
          "Harrisburg, PA",
          "Scranton, PA",
          "Lancaster, PA",
          "York, PA",
          "Reading, PA",
          "Erie, PA",
          "East Stroudsburg, PA",
          "State College, PA",
          "Chambersburg, PA",
          "Lebanon, PA",
          "Pottsville, PA",
          "Johnstown, PA",
          "Altoona, PA",
          "Williamsport, PA",
          "Gettysburg, PA",
          "Sunbury, PA",
          "New Castle, PA",
          "Meadville, PA",
          "Indiana, PA",
          "Bloomsburg, PA",
          "DuBois, PA",
          "Somerset, PA",
          "Sayre, PA",
          "Oil City, PA",
          "Lewistown, PA",
          "Huntingdon, PA",
          "Lewisburg, PA",
          "Bradford, PA",
          "Selinsgrove, PA",
          "Warren, PA",
          "Lock Haven, PA"
         ],
         "xaxis": "x",
         "y": [
          0.2,
          0.2,
          0.3,
          0.2,
          1.3,
          0.4,
          0,
          0.2,
          0.3,
          0.1,
          0.2,
          0.2,
          0.3,
          1.6,
          2.4,
          1.4,
          0.2,
          0.2,
          2.8,
          0.6,
          1,
          0.5,
          1,
          3,
          0.3,
          -0.2,
          0.2,
          1.1,
          0.1,
          0.3,
          2,
          1.4,
          -0.8,
          -0.1
         ],
         "yaxis": "y"
        },
        {
         "hovertemplate": "variable=apr<br>region=%{x}<br>value=%{y}<extra></extra>",
         "legendgroup": "apr",
         "marker": {
          "color": "#EF553B",
          "symbol": "circle"
         },
         "mode": "markers",
         "name": "apr",
         "orientation": "v",
         "showlegend": true,
         "type": "scatter",
         "x": [
          "Philadelphia, PA",
          "Pittsburgh, PA",
          "Allentown, PA",
          "Harrisburg, PA",
          "Scranton, PA",
          "Lancaster, PA",
          "York, PA",
          "Reading, PA",
          "Erie, PA",
          "East Stroudsburg, PA",
          "State College, PA",
          "Chambersburg, PA",
          "Lebanon, PA",
          "Pottsville, PA",
          "Johnstown, PA",
          "Altoona, PA",
          "Williamsport, PA",
          "Gettysburg, PA",
          "Sunbury, PA",
          "New Castle, PA",
          "Meadville, PA",
          "Indiana, PA",
          "Bloomsburg, PA",
          "DuBois, PA",
          "Somerset, PA",
          "Sayre, PA",
          "Oil City, PA",
          "Lewistown, PA",
          "Huntingdon, PA",
          "Lewisburg, PA",
          "Bradford, PA",
          "Selinsgrove, PA",
          "Warren, PA",
          "Lock Haven, PA"
         ],
         "xaxis": "x",
         "y": [
          0.3,
          0.4,
          0.5,
          0,
          3,
          0.3,
          -0.3,
          0.4,
          0.3,
          0.6,
          -0.1,
          0.4,
          0.1,
          3.1,
          4.8,
          2.4,
          -0.3,
          0.3,
          5.7,
          1.2,
          2.1,
          1.1,
          1.6,
          5.5,
          0.8,
          -0.7,
          0.7,
          2.4,
          0.4,
          0.2,
          4,
          2.4,
          -1.4,
          -0.7
         ],
         "yaxis": "y"
        },
        {
         "hovertemplate": "variable=jan_24<br>region=%{x}<br>value=%{y}<extra></extra>",
         "legendgroup": "jan_24",
         "marker": {
          "color": "#00cc96",
          "symbol": "circle"
         },
         "mode": "markers",
         "name": "jan_24",
         "orientation": "v",
         "showlegend": true,
         "type": "scatter",
         "x": [
          "Philadelphia, PA",
          "Pittsburgh, PA",
          "Allentown, PA",
          "Harrisburg, PA",
          "Scranton, PA",
          "Lancaster, PA",
          "York, PA",
          "Reading, PA",
          "Erie, PA",
          "East Stroudsburg, PA",
          "State College, PA",
          "Chambersburg, PA",
          "Lebanon, PA",
          "Pottsville, PA",
          "Johnstown, PA",
          "Altoona, PA",
          "Williamsport, PA",
          "Gettysburg, PA",
          "Sunbury, PA",
          "New Castle, PA",
          "Meadville, PA",
          "Indiana, PA",
          "Bloomsburg, PA",
          "DuBois, PA",
          "Somerset, PA",
          "Sayre, PA",
          "Oil City, PA",
          "Lewistown, PA",
          "Huntingdon, PA",
          "Lewisburg, PA",
          "Bradford, PA",
          "Selinsgrove, PA",
          "Warren, PA",
          "Lock Haven, PA"
         ],
         "xaxis": "x",
         "y": [
          -0.2,
          -0.6,
          0.8,
          -0.9,
          3,
          -0.3,
          -1.2,
          0.7,
          -0.8,
          4.6,
          -1.7,
          0,
          -0.4,
          5.3,
          3.3,
          -1.9,
          -2.9,
          -0.8,
          4.2,
          1.4,
          1.2,
          -2,
          -0.6,
          3.2,
          0.8,
          -3.2,
          0.9,
          2.8,
          -0.4,
          -1.1,
          1.1,
          0.4,
          -1.6,
          -3
         ],
         "yaxis": "y"
        }
       ],
       "layout": {
        "legend": {
         "title": {
          "text": "variable"
         },
         "tracegroupgap": 0
        },
        "margin": {
         "t": 60
        },
        "template": {
         "data": {
          "bar": [
           {
            "error_x": {
             "color": "#2a3f5f"
            },
            "error_y": {
             "color": "#2a3f5f"
            },
            "marker": {
             "line": {
              "color": "#E5ECF6",
              "width": 0.5
             },
             "pattern": {
              "fillmode": "overlay",
              "size": 10,
              "solidity": 0.2
             }
            },
            "type": "bar"
           }
          ],
          "barpolar": [
           {
            "marker": {
             "line": {
              "color": "#E5ECF6",
              "width": 0.5
             },
             "pattern": {
              "fillmode": "overlay",
              "size": 10,
              "solidity": 0.2
             }
            },
            "type": "barpolar"
           }
          ],
          "carpet": [
           {
            "aaxis": {
             "endlinecolor": "#2a3f5f",
             "gridcolor": "white",
             "linecolor": "white",
             "minorgridcolor": "white",
             "startlinecolor": "#2a3f5f"
            },
            "baxis": {
             "endlinecolor": "#2a3f5f",
             "gridcolor": "white",
             "linecolor": "white",
             "minorgridcolor": "white",
             "startlinecolor": "#2a3f5f"
            },
            "type": "carpet"
           }
          ],
          "choropleth": [
           {
            "colorbar": {
             "outlinewidth": 0,
             "ticks": ""
            },
            "type": "choropleth"
           }
          ],
          "contour": [
           {
            "colorbar": {
             "outlinewidth": 0,
             "ticks": ""
            },
            "colorscale": [
             [
              0,
              "#0d0887"
             ],
             [
              0.1111111111111111,
              "#46039f"
             ],
             [
              0.2222222222222222,
              "#7201a8"
             ],
             [
              0.3333333333333333,
              "#9c179e"
             ],
             [
              0.4444444444444444,
              "#bd3786"
             ],
             [
              0.5555555555555556,
              "#d8576b"
             ],
             [
              0.6666666666666666,
              "#ed7953"
             ],
             [
              0.7777777777777778,
              "#fb9f3a"
             ],
             [
              0.8888888888888888,
              "#fdca26"
             ],
             [
              1,
              "#f0f921"
             ]
            ],
            "type": "contour"
           }
          ],
          "contourcarpet": [
           {
            "colorbar": {
             "outlinewidth": 0,
             "ticks": ""
            },
            "type": "contourcarpet"
           }
          ],
          "heatmap": [
           {
            "colorbar": {
             "outlinewidth": 0,
             "ticks": ""
            },
            "colorscale": [
             [
              0,
              "#0d0887"
             ],
             [
              0.1111111111111111,
              "#46039f"
             ],
             [
              0.2222222222222222,
              "#7201a8"
             ],
             [
              0.3333333333333333,
              "#9c179e"
             ],
             [
              0.4444444444444444,
              "#bd3786"
             ],
             [
              0.5555555555555556,
              "#d8576b"
             ],
             [
              0.6666666666666666,
              "#ed7953"
             ],
             [
              0.7777777777777778,
              "#fb9f3a"
             ],
             [
              0.8888888888888888,
              "#fdca26"
             ],
             [
              1,
              "#f0f921"
             ]
            ],
            "type": "heatmap"
           }
          ],
          "heatmapgl": [
           {
            "colorbar": {
             "outlinewidth": 0,
             "ticks": ""
            },
            "colorscale": [
             [
              0,
              "#0d0887"
             ],
             [
              0.1111111111111111,
              "#46039f"
             ],
             [
              0.2222222222222222,
              "#7201a8"
             ],
             [
              0.3333333333333333,
              "#9c179e"
             ],
             [
              0.4444444444444444,
              "#bd3786"
             ],
             [
              0.5555555555555556,
              "#d8576b"
             ],
             [
              0.6666666666666666,
              "#ed7953"
             ],
             [
              0.7777777777777778,
              "#fb9f3a"
             ],
             [
              0.8888888888888888,
              "#fdca26"
             ],
             [
              1,
              "#f0f921"
             ]
            ],
            "type": "heatmapgl"
           }
          ],
          "histogram": [
           {
            "marker": {
             "pattern": {
              "fillmode": "overlay",
              "size": 10,
              "solidity": 0.2
             }
            },
            "type": "histogram"
           }
          ],
          "histogram2d": [
           {
            "colorbar": {
             "outlinewidth": 0,
             "ticks": ""
            },
            "colorscale": [
             [
              0,
              "#0d0887"
             ],
             [
              0.1111111111111111,
              "#46039f"
             ],
             [
              0.2222222222222222,
              "#7201a8"
             ],
             [
              0.3333333333333333,
              "#9c179e"
             ],
             [
              0.4444444444444444,
              "#bd3786"
             ],
             [
              0.5555555555555556,
              "#d8576b"
             ],
             [
              0.6666666666666666,
              "#ed7953"
             ],
             [
              0.7777777777777778,
              "#fb9f3a"
             ],
             [
              0.8888888888888888,
              "#fdca26"
             ],
             [
              1,
              "#f0f921"
             ]
            ],
            "type": "histogram2d"
           }
          ],
          "histogram2dcontour": [
           {
            "colorbar": {
             "outlinewidth": 0,
             "ticks": ""
            },
            "colorscale": [
             [
              0,
              "#0d0887"
             ],
             [
              0.1111111111111111,
              "#46039f"
             ],
             [
              0.2222222222222222,
              "#7201a8"
             ],
             [
              0.3333333333333333,
              "#9c179e"
             ],
             [
              0.4444444444444444,
              "#bd3786"
             ],
             [
              0.5555555555555556,
              "#d8576b"
             ],
             [
              0.6666666666666666,
              "#ed7953"
             ],
             [
              0.7777777777777778,
              "#fb9f3a"
             ],
             [
              0.8888888888888888,
              "#fdca26"
             ],
             [
              1,
              "#f0f921"
             ]
            ],
            "type": "histogram2dcontour"
           }
          ],
          "mesh3d": [
           {
            "colorbar": {
             "outlinewidth": 0,
             "ticks": ""
            },
            "type": "mesh3d"
           }
          ],
          "parcoords": [
           {
            "line": {
             "colorbar": {
              "outlinewidth": 0,
              "ticks": ""
             }
            },
            "type": "parcoords"
           }
          ],
          "pie": [
           {
            "automargin": true,
            "type": "pie"
           }
          ],
          "scatter": [
           {
            "marker": {
             "colorbar": {
              "outlinewidth": 0,
              "ticks": ""
             }
            },
            "type": "scatter"
           }
          ],
          "scatter3d": [
           {
            "line": {
             "colorbar": {
              "outlinewidth": 0,
              "ticks": ""
             }
            },
            "marker": {
             "colorbar": {
              "outlinewidth": 0,
              "ticks": ""
             }
            },
            "type": "scatter3d"
           }
          ],
          "scattercarpet": [
           {
            "marker": {
             "colorbar": {
              "outlinewidth": 0,
              "ticks": ""
             }
            },
            "type": "scattercarpet"
           }
          ],
          "scattergeo": [
           {
            "marker": {
             "colorbar": {
              "outlinewidth": 0,
              "ticks": ""
             }
            },
            "type": "scattergeo"
           }
          ],
          "scattergl": [
           {
            "marker": {
             "colorbar": {
              "outlinewidth": 0,
              "ticks": ""
             }
            },
            "type": "scattergl"
           }
          ],
          "scattermapbox": [
           {
            "marker": {
             "colorbar": {
              "outlinewidth": 0,
              "ticks": ""
             }
            },
            "type": "scattermapbox"
           }
          ],
          "scatterpolar": [
           {
            "marker": {
             "colorbar": {
              "outlinewidth": 0,
              "ticks": ""
             }
            },
            "type": "scatterpolar"
           }
          ],
          "scatterpolargl": [
           {
            "marker": {
             "colorbar": {
              "outlinewidth": 0,
              "ticks": ""
             }
            },
            "type": "scatterpolargl"
           }
          ],
          "scatterternary": [
           {
            "marker": {
             "colorbar": {
              "outlinewidth": 0,
              "ticks": ""
             }
            },
            "type": "scatterternary"
           }
          ],
          "surface": [
           {
            "colorbar": {
             "outlinewidth": 0,
             "ticks": ""
            },
            "colorscale": [
             [
              0,
              "#0d0887"
             ],
             [
              0.1111111111111111,
              "#46039f"
             ],
             [
              0.2222222222222222,
              "#7201a8"
             ],
             [
              0.3333333333333333,
              "#9c179e"
             ],
             [
              0.4444444444444444,
              "#bd3786"
             ],
             [
              0.5555555555555556,
              "#d8576b"
             ],
             [
              0.6666666666666666,
              "#ed7953"
             ],
             [
              0.7777777777777778,
              "#fb9f3a"
             ],
             [
              0.8888888888888888,
              "#fdca26"
             ],
             [
              1,
              "#f0f921"
             ]
            ],
            "type": "surface"
           }
          ],
          "table": [
           {
            "cells": {
             "fill": {
              "color": "#EBF0F8"
             },
             "line": {
              "color": "white"
             }
            },
            "header": {
             "fill": {
              "color": "#C8D4E3"
             },
             "line": {
              "color": "white"
             }
            },
            "type": "table"
           }
          ]
         },
         "layout": {
          "annotationdefaults": {
           "arrowcolor": "#2a3f5f",
           "arrowhead": 0,
           "arrowwidth": 1
          },
          "autotypenumbers": "strict",
          "coloraxis": {
           "colorbar": {
            "outlinewidth": 0,
            "ticks": ""
           }
          },
          "colorscale": {
           "diverging": [
            [
             0,
             "#8e0152"
            ],
            [
             0.1,
             "#c51b7d"
            ],
            [
             0.2,
             "#de77ae"
            ],
            [
             0.3,
             "#f1b6da"
            ],
            [
             0.4,
             "#fde0ef"
            ],
            [
             0.5,
             "#f7f7f7"
            ],
            [
             0.6,
             "#e6f5d0"
            ],
            [
             0.7,
             "#b8e186"
            ],
            [
             0.8,
             "#7fbc41"
            ],
            [
             0.9,
             "#4d9221"
            ],
            [
             1,
             "#276419"
            ]
           ],
           "sequential": [
            [
             0,
             "#0d0887"
            ],
            [
             0.1111111111111111,
             "#46039f"
            ],
            [
             0.2222222222222222,
             "#7201a8"
            ],
            [
             0.3333333333333333,
             "#9c179e"
            ],
            [
             0.4444444444444444,
             "#bd3786"
            ],
            [
             0.5555555555555556,
             "#d8576b"
            ],
            [
             0.6666666666666666,
             "#ed7953"
            ],
            [
             0.7777777777777778,
             "#fb9f3a"
            ],
            [
             0.8888888888888888,
             "#fdca26"
            ],
            [
             1,
             "#f0f921"
            ]
           ],
           "sequentialminus": [
            [
             0,
             "#0d0887"
            ],
            [
             0.1111111111111111,
             "#46039f"
            ],
            [
             0.2222222222222222,
             "#7201a8"
            ],
            [
             0.3333333333333333,
             "#9c179e"
            ],
            [
             0.4444444444444444,
             "#bd3786"
            ],
            [
             0.5555555555555556,
             "#d8576b"
            ],
            [
             0.6666666666666666,
             "#ed7953"
            ],
            [
             0.7777777777777778,
             "#fb9f3a"
            ],
            [
             0.8888888888888888,
             "#fdca26"
            ],
            [
             1,
             "#f0f921"
            ]
           ]
          },
          "colorway": [
           "#636efa",
           "#EF553B",
           "#00cc96",
           "#ab63fa",
           "#FFA15A",
           "#19d3f3",
           "#FF6692",
           "#B6E880",
           "#FF97FF",
           "#FECB52"
          ],
          "font": {
           "color": "#2a3f5f"
          },
          "geo": {
           "bgcolor": "white",
           "lakecolor": "white",
           "landcolor": "#E5ECF6",
           "showlakes": true,
           "showland": true,
           "subunitcolor": "white"
          },
          "hoverlabel": {
           "align": "left"
          },
          "hovermode": "closest",
          "mapbox": {
           "style": "light"
          },
          "paper_bgcolor": "white",
          "plot_bgcolor": "#E5ECF6",
          "polar": {
           "angularaxis": {
            "gridcolor": "white",
            "linecolor": "white",
            "ticks": ""
           },
           "bgcolor": "#E5ECF6",
           "radialaxis": {
            "gridcolor": "white",
            "linecolor": "white",
            "ticks": ""
           }
          },
          "scene": {
           "xaxis": {
            "backgroundcolor": "#E5ECF6",
            "gridcolor": "white",
            "gridwidth": 2,
            "linecolor": "white",
            "showbackground": true,
            "ticks": "",
            "zerolinecolor": "white"
           },
           "yaxis": {
            "backgroundcolor": "#E5ECF6",
            "gridcolor": "white",
            "gridwidth": 2,
            "linecolor": "white",
            "showbackground": true,
            "ticks": "",
            "zerolinecolor": "white"
           },
           "zaxis": {
            "backgroundcolor": "#E5ECF6",
            "gridcolor": "white",
            "gridwidth": 2,
            "linecolor": "white",
            "showbackground": true,
            "ticks": "",
            "zerolinecolor": "white"
           }
          },
          "shapedefaults": {
           "line": {
            "color": "#2a3f5f"
           }
          },
          "ternary": {
           "aaxis": {
            "gridcolor": "white",
            "linecolor": "white",
            "ticks": ""
           },
           "baxis": {
            "gridcolor": "white",
            "linecolor": "white",
            "ticks": ""
           },
           "bgcolor": "#E5ECF6",
           "caxis": {
            "gridcolor": "white",
            "linecolor": "white",
            "ticks": ""
           }
          },
          "title": {
           "x": 0.05
          },
          "xaxis": {
           "automargin": true,
           "gridcolor": "white",
           "linecolor": "white",
           "ticks": "",
           "title": {
            "standoff": 15
           },
           "zerolinecolor": "white",
           "zerolinewidth": 2
          },
          "yaxis": {
           "automargin": true,
           "gridcolor": "white",
           "linecolor": "white",
           "ticks": "",
           "title": {
            "standoff": 15
           },
           "zerolinecolor": "white",
           "zerolinewidth": 2
          }
         }
        },
        "xaxis": {
         "anchor": "y",
         "domain": [
          0,
          1
         ],
         "title": {
          "text": "region"
         }
        },
        "yaxis": {
         "anchor": "x",
         "domain": [
          0,
          1
         ],
         "title": {
          "text": "value"
         }
        }
       }
      }
     },
     "metadata": {},
     "output_type": "display_data"
    }
   ],
   "source": [
    "px.scatter(penn2)"
   ]
  },
  {
   "cell_type": "code",
   "execution_count": 35,
   "metadata": {},
   "outputs": [
    {
     "data": {
      "application/vnd.plotly.v1+json": {
       "config": {
        "plotlyServerURL": "https://plot.ly"
       },
       "data": [
        {
         "alignmentgroup": "True",
         "hovertemplate": "region=%{x}<br>value=%{y}<extra></extra>",
         "legendgroup": "",
         "marker": {
          "color": "orange"
         },
         "name": "",
         "notched": false,
         "offsetgroup": "",
         "orientation": "v",
         "showlegend": false,
         "type": "box",
         "x": [
          "Philadelphia, PA",
          "Pittsburgh, PA",
          "Allentown, PA",
          "Harrisburg, PA",
          "Scranton, PA",
          "Lancaster, PA",
          "York, PA",
          "Reading, PA",
          "Erie, PA",
          "East Stroudsburg, PA",
          "State College, PA",
          "Chambersburg, PA",
          "Lebanon, PA",
          "Pottsville, PA",
          "Johnstown, PA",
          "Altoona, PA",
          "Williamsport, PA",
          "Gettysburg, PA",
          "Sunbury, PA",
          "New Castle, PA",
          "Meadville, PA",
          "Indiana, PA",
          "Bloomsburg, PA",
          "DuBois, PA",
          "Somerset, PA",
          "Sayre, PA",
          "Oil City, PA",
          "Lewistown, PA",
          "Huntingdon, PA",
          "Lewisburg, PA",
          "Bradford, PA",
          "Selinsgrove, PA",
          "Warren, PA",
          "Lock Haven, PA",
          "Philadelphia, PA",
          "Pittsburgh, PA",
          "Allentown, PA",
          "Harrisburg, PA",
          "Scranton, PA",
          "Lancaster, PA",
          "York, PA",
          "Reading, PA",
          "Erie, PA",
          "East Stroudsburg, PA",
          "State College, PA",
          "Chambersburg, PA",
          "Lebanon, PA",
          "Pottsville, PA",
          "Johnstown, PA",
          "Altoona, PA",
          "Williamsport, PA",
          "Gettysburg, PA",
          "Sunbury, PA",
          "New Castle, PA",
          "Meadville, PA",
          "Indiana, PA",
          "Bloomsburg, PA",
          "DuBois, PA",
          "Somerset, PA",
          "Sayre, PA",
          "Oil City, PA",
          "Lewistown, PA",
          "Huntingdon, PA",
          "Lewisburg, PA",
          "Bradford, PA",
          "Selinsgrove, PA",
          "Warren, PA",
          "Lock Haven, PA",
          "Philadelphia, PA",
          "Pittsburgh, PA",
          "Allentown, PA",
          "Harrisburg, PA",
          "Scranton, PA",
          "Lancaster, PA",
          "York, PA",
          "Reading, PA",
          "Erie, PA",
          "East Stroudsburg, PA",
          "State College, PA",
          "Chambersburg, PA",
          "Lebanon, PA",
          "Pottsville, PA",
          "Johnstown, PA",
          "Altoona, PA",
          "Williamsport, PA",
          "Gettysburg, PA",
          "Sunbury, PA",
          "New Castle, PA",
          "Meadville, PA",
          "Indiana, PA",
          "Bloomsburg, PA",
          "DuBois, PA",
          "Somerset, PA",
          "Sayre, PA",
          "Oil City, PA",
          "Lewistown, PA",
          "Huntingdon, PA",
          "Lewisburg, PA",
          "Bradford, PA",
          "Selinsgrove, PA",
          "Warren, PA",
          "Lock Haven, PA"
         ],
         "x0": " ",
         "xaxis": "x",
         "y": [
          0.2,
          0.2,
          0.3,
          0.2,
          1.3,
          0.4,
          0,
          0.2,
          0.3,
          0.1,
          0.2,
          0.2,
          0.3,
          1.6,
          2.4,
          1.4,
          0.2,
          0.2,
          2.8,
          0.6,
          1,
          0.5,
          1,
          3,
          0.3,
          -0.2,
          0.2,
          1.1,
          0.1,
          0.3,
          2,
          1.4,
          -0.8,
          -0.1,
          0.3,
          0.4,
          0.5,
          0,
          3,
          0.3,
          -0.3,
          0.4,
          0.3,
          0.6,
          -0.1,
          0.4,
          0.1,
          3.1,
          4.8,
          2.4,
          -0.3,
          0.3,
          5.7,
          1.2,
          2.1,
          1.1,
          1.6,
          5.5,
          0.8,
          -0.7,
          0.7,
          2.4,
          0.4,
          0.2,
          4,
          2.4,
          -1.4,
          -0.7,
          -0.2,
          -0.6,
          0.8,
          -0.9,
          3,
          -0.3,
          -1.2,
          0.7,
          -0.8,
          4.6,
          -1.7,
          0,
          -0.4,
          5.3,
          3.3,
          -1.9,
          -2.9,
          -0.8,
          4.2,
          1.4,
          1.2,
          -2,
          -0.6,
          3.2,
          0.8,
          -3.2,
          0.9,
          2.8,
          -0.4,
          -1.1,
          1.1,
          0.4,
          -1.6,
          -3
         ],
         "y0": " ",
         "yaxis": "y"
        }
       ],
       "layout": {
        "boxmode": "group",
        "height": 900,
        "legend": {
         "tracegroupgap": 0
        },
        "template": {
         "data": {
          "bar": [
           {
            "error_x": {
             "color": "#2a3f5f"
            },
            "error_y": {
             "color": "#2a3f5f"
            },
            "marker": {
             "line": {
              "color": "white",
              "width": 0.5
             },
             "pattern": {
              "fillmode": "overlay",
              "size": 10,
              "solidity": 0.2
             }
            },
            "type": "bar"
           }
          ],
          "barpolar": [
           {
            "marker": {
             "line": {
              "color": "white",
              "width": 0.5
             },
             "pattern": {
              "fillmode": "overlay",
              "size": 10,
              "solidity": 0.2
             }
            },
            "type": "barpolar"
           }
          ],
          "carpet": [
           {
            "aaxis": {
             "endlinecolor": "#2a3f5f",
             "gridcolor": "#C8D4E3",
             "linecolor": "#C8D4E3",
             "minorgridcolor": "#C8D4E3",
             "startlinecolor": "#2a3f5f"
            },
            "baxis": {
             "endlinecolor": "#2a3f5f",
             "gridcolor": "#C8D4E3",
             "linecolor": "#C8D4E3",
             "minorgridcolor": "#C8D4E3",
             "startlinecolor": "#2a3f5f"
            },
            "type": "carpet"
           }
          ],
          "choropleth": [
           {
            "colorbar": {
             "outlinewidth": 0,
             "ticks": ""
            },
            "type": "choropleth"
           }
          ],
          "contour": [
           {
            "colorbar": {
             "outlinewidth": 0,
             "ticks": ""
            },
            "colorscale": [
             [
              0,
              "#0d0887"
             ],
             [
              0.1111111111111111,
              "#46039f"
             ],
             [
              0.2222222222222222,
              "#7201a8"
             ],
             [
              0.3333333333333333,
              "#9c179e"
             ],
             [
              0.4444444444444444,
              "#bd3786"
             ],
             [
              0.5555555555555556,
              "#d8576b"
             ],
             [
              0.6666666666666666,
              "#ed7953"
             ],
             [
              0.7777777777777778,
              "#fb9f3a"
             ],
             [
              0.8888888888888888,
              "#fdca26"
             ],
             [
              1,
              "#f0f921"
             ]
            ],
            "type": "contour"
           }
          ],
          "contourcarpet": [
           {
            "colorbar": {
             "outlinewidth": 0,
             "ticks": ""
            },
            "type": "contourcarpet"
           }
          ],
          "heatmap": [
           {
            "colorbar": {
             "outlinewidth": 0,
             "ticks": ""
            },
            "colorscale": [
             [
              0,
              "#0d0887"
             ],
             [
              0.1111111111111111,
              "#46039f"
             ],
             [
              0.2222222222222222,
              "#7201a8"
             ],
             [
              0.3333333333333333,
              "#9c179e"
             ],
             [
              0.4444444444444444,
              "#bd3786"
             ],
             [
              0.5555555555555556,
              "#d8576b"
             ],
             [
              0.6666666666666666,
              "#ed7953"
             ],
             [
              0.7777777777777778,
              "#fb9f3a"
             ],
             [
              0.8888888888888888,
              "#fdca26"
             ],
             [
              1,
              "#f0f921"
             ]
            ],
            "type": "heatmap"
           }
          ],
          "heatmapgl": [
           {
            "colorbar": {
             "outlinewidth": 0,
             "ticks": ""
            },
            "colorscale": [
             [
              0,
              "#0d0887"
             ],
             [
              0.1111111111111111,
              "#46039f"
             ],
             [
              0.2222222222222222,
              "#7201a8"
             ],
             [
              0.3333333333333333,
              "#9c179e"
             ],
             [
              0.4444444444444444,
              "#bd3786"
             ],
             [
              0.5555555555555556,
              "#d8576b"
             ],
             [
              0.6666666666666666,
              "#ed7953"
             ],
             [
              0.7777777777777778,
              "#fb9f3a"
             ],
             [
              0.8888888888888888,
              "#fdca26"
             ],
             [
              1,
              "#f0f921"
             ]
            ],
            "type": "heatmapgl"
           }
          ],
          "histogram": [
           {
            "marker": {
             "pattern": {
              "fillmode": "overlay",
              "size": 10,
              "solidity": 0.2
             }
            },
            "type": "histogram"
           }
          ],
          "histogram2d": [
           {
            "colorbar": {
             "outlinewidth": 0,
             "ticks": ""
            },
            "colorscale": [
             [
              0,
              "#0d0887"
             ],
             [
              0.1111111111111111,
              "#46039f"
             ],
             [
              0.2222222222222222,
              "#7201a8"
             ],
             [
              0.3333333333333333,
              "#9c179e"
             ],
             [
              0.4444444444444444,
              "#bd3786"
             ],
             [
              0.5555555555555556,
              "#d8576b"
             ],
             [
              0.6666666666666666,
              "#ed7953"
             ],
             [
              0.7777777777777778,
              "#fb9f3a"
             ],
             [
              0.8888888888888888,
              "#fdca26"
             ],
             [
              1,
              "#f0f921"
             ]
            ],
            "type": "histogram2d"
           }
          ],
          "histogram2dcontour": [
           {
            "colorbar": {
             "outlinewidth": 0,
             "ticks": ""
            },
            "colorscale": [
             [
              0,
              "#0d0887"
             ],
             [
              0.1111111111111111,
              "#46039f"
             ],
             [
              0.2222222222222222,
              "#7201a8"
             ],
             [
              0.3333333333333333,
              "#9c179e"
             ],
             [
              0.4444444444444444,
              "#bd3786"
             ],
             [
              0.5555555555555556,
              "#d8576b"
             ],
             [
              0.6666666666666666,
              "#ed7953"
             ],
             [
              0.7777777777777778,
              "#fb9f3a"
             ],
             [
              0.8888888888888888,
              "#fdca26"
             ],
             [
              1,
              "#f0f921"
             ]
            ],
            "type": "histogram2dcontour"
           }
          ],
          "mesh3d": [
           {
            "colorbar": {
             "outlinewidth": 0,
             "ticks": ""
            },
            "type": "mesh3d"
           }
          ],
          "parcoords": [
           {
            "line": {
             "colorbar": {
              "outlinewidth": 0,
              "ticks": ""
             }
            },
            "type": "parcoords"
           }
          ],
          "pie": [
           {
            "automargin": true,
            "type": "pie"
           }
          ],
          "scatter": [
           {
            "marker": {
             "colorbar": {
              "outlinewidth": 0,
              "ticks": ""
             }
            },
            "type": "scatter"
           }
          ],
          "scatter3d": [
           {
            "line": {
             "colorbar": {
              "outlinewidth": 0,
              "ticks": ""
             }
            },
            "marker": {
             "colorbar": {
              "outlinewidth": 0,
              "ticks": ""
             }
            },
            "type": "scatter3d"
           }
          ],
          "scattercarpet": [
           {
            "marker": {
             "colorbar": {
              "outlinewidth": 0,
              "ticks": ""
             }
            },
            "type": "scattercarpet"
           }
          ],
          "scattergeo": [
           {
            "marker": {
             "colorbar": {
              "outlinewidth": 0,
              "ticks": ""
             }
            },
            "type": "scattergeo"
           }
          ],
          "scattergl": [
           {
            "marker": {
             "colorbar": {
              "outlinewidth": 0,
              "ticks": ""
             }
            },
            "type": "scattergl"
           }
          ],
          "scattermapbox": [
           {
            "marker": {
             "colorbar": {
              "outlinewidth": 0,
              "ticks": ""
             }
            },
            "type": "scattermapbox"
           }
          ],
          "scatterpolar": [
           {
            "marker": {
             "colorbar": {
              "outlinewidth": 0,
              "ticks": ""
             }
            },
            "type": "scatterpolar"
           }
          ],
          "scatterpolargl": [
           {
            "marker": {
             "colorbar": {
              "outlinewidth": 0,
              "ticks": ""
             }
            },
            "type": "scatterpolargl"
           }
          ],
          "scatterternary": [
           {
            "marker": {
             "colorbar": {
              "outlinewidth": 0,
              "ticks": ""
             }
            },
            "type": "scatterternary"
           }
          ],
          "surface": [
           {
            "colorbar": {
             "outlinewidth": 0,
             "ticks": ""
            },
            "colorscale": [
             [
              0,
              "#0d0887"
             ],
             [
              0.1111111111111111,
              "#46039f"
             ],
             [
              0.2222222222222222,
              "#7201a8"
             ],
             [
              0.3333333333333333,
              "#9c179e"
             ],
             [
              0.4444444444444444,
              "#bd3786"
             ],
             [
              0.5555555555555556,
              "#d8576b"
             ],
             [
              0.6666666666666666,
              "#ed7953"
             ],
             [
              0.7777777777777778,
              "#fb9f3a"
             ],
             [
              0.8888888888888888,
              "#fdca26"
             ],
             [
              1,
              "#f0f921"
             ]
            ],
            "type": "surface"
           }
          ],
          "table": [
           {
            "cells": {
             "fill": {
              "color": "#EBF0F8"
             },
             "line": {
              "color": "white"
             }
            },
            "header": {
             "fill": {
              "color": "#C8D4E3"
             },
             "line": {
              "color": "white"
             }
            },
            "type": "table"
           }
          ]
         },
         "layout": {
          "annotationdefaults": {
           "arrowcolor": "#2a3f5f",
           "arrowhead": 0,
           "arrowwidth": 1
          },
          "autotypenumbers": "strict",
          "coloraxis": {
           "colorbar": {
            "outlinewidth": 0,
            "ticks": ""
           }
          },
          "colorscale": {
           "diverging": [
            [
             0,
             "#8e0152"
            ],
            [
             0.1,
             "#c51b7d"
            ],
            [
             0.2,
             "#de77ae"
            ],
            [
             0.3,
             "#f1b6da"
            ],
            [
             0.4,
             "#fde0ef"
            ],
            [
             0.5,
             "#f7f7f7"
            ],
            [
             0.6,
             "#e6f5d0"
            ],
            [
             0.7,
             "#b8e186"
            ],
            [
             0.8,
             "#7fbc41"
            ],
            [
             0.9,
             "#4d9221"
            ],
            [
             1,
             "#276419"
            ]
           ],
           "sequential": [
            [
             0,
             "#0d0887"
            ],
            [
             0.1111111111111111,
             "#46039f"
            ],
            [
             0.2222222222222222,
             "#7201a8"
            ],
            [
             0.3333333333333333,
             "#9c179e"
            ],
            [
             0.4444444444444444,
             "#bd3786"
            ],
            [
             0.5555555555555556,
             "#d8576b"
            ],
            [
             0.6666666666666666,
             "#ed7953"
            ],
            [
             0.7777777777777778,
             "#fb9f3a"
            ],
            [
             0.8888888888888888,
             "#fdca26"
            ],
            [
             1,
             "#f0f921"
            ]
           ],
           "sequentialminus": [
            [
             0,
             "#0d0887"
            ],
            [
             0.1111111111111111,
             "#46039f"
            ],
            [
             0.2222222222222222,
             "#7201a8"
            ],
            [
             0.3333333333333333,
             "#9c179e"
            ],
            [
             0.4444444444444444,
             "#bd3786"
            ],
            [
             0.5555555555555556,
             "#d8576b"
            ],
            [
             0.6666666666666666,
             "#ed7953"
            ],
            [
             0.7777777777777778,
             "#fb9f3a"
            ],
            [
             0.8888888888888888,
             "#fdca26"
            ],
            [
             1,
             "#f0f921"
            ]
           ]
          },
          "colorway": [
           "#636efa",
           "#EF553B",
           "#00cc96",
           "#ab63fa",
           "#FFA15A",
           "#19d3f3",
           "#FF6692",
           "#B6E880",
           "#FF97FF",
           "#FECB52"
          ],
          "font": {
           "color": "#2a3f5f"
          },
          "geo": {
           "bgcolor": "white",
           "lakecolor": "white",
           "landcolor": "white",
           "showlakes": true,
           "showland": true,
           "subunitcolor": "#C8D4E3"
          },
          "hoverlabel": {
           "align": "left"
          },
          "hovermode": "closest",
          "mapbox": {
           "style": "light"
          },
          "paper_bgcolor": "white",
          "plot_bgcolor": "white",
          "polar": {
           "angularaxis": {
            "gridcolor": "#EBF0F8",
            "linecolor": "#EBF0F8",
            "ticks": ""
           },
           "bgcolor": "white",
           "radialaxis": {
            "gridcolor": "#EBF0F8",
            "linecolor": "#EBF0F8",
            "ticks": ""
           }
          },
          "scene": {
           "xaxis": {
            "backgroundcolor": "white",
            "gridcolor": "#DFE8F3",
            "gridwidth": 2,
            "linecolor": "#EBF0F8",
            "showbackground": true,
            "ticks": "",
            "zerolinecolor": "#EBF0F8"
           },
           "yaxis": {
            "backgroundcolor": "white",
            "gridcolor": "#DFE8F3",
            "gridwidth": 2,
            "linecolor": "#EBF0F8",
            "showbackground": true,
            "ticks": "",
            "zerolinecolor": "#EBF0F8"
           },
           "zaxis": {
            "backgroundcolor": "white",
            "gridcolor": "#DFE8F3",
            "gridwidth": 2,
            "linecolor": "#EBF0F8",
            "showbackground": true,
            "ticks": "",
            "zerolinecolor": "#EBF0F8"
           }
          },
          "shapedefaults": {
           "line": {
            "color": "#2a3f5f"
           }
          },
          "ternary": {
           "aaxis": {
            "gridcolor": "#DFE8F3",
            "linecolor": "#A2B1C6",
            "ticks": ""
           },
           "baxis": {
            "gridcolor": "#DFE8F3",
            "linecolor": "#A2B1C6",
            "ticks": ""
           },
           "bgcolor": "white",
           "caxis": {
            "gridcolor": "#DFE8F3",
            "linecolor": "#A2B1C6",
            "ticks": ""
           }
          },
          "title": {
           "x": 0.05
          },
          "xaxis": {
           "automargin": true,
           "gridcolor": "#EBF0F8",
           "linecolor": "#EBF0F8",
           "ticks": "",
           "title": {
            "standoff": 15
           },
           "zerolinecolor": "#EBF0F8",
           "zerolinewidth": 2
          },
          "yaxis": {
           "automargin": true,
           "gridcolor": "#EBF0F8",
           "linecolor": "#EBF0F8",
           "ticks": "",
           "title": {
            "standoff": 15
           },
           "zerolinecolor": "#EBF0F8",
           "zerolinewidth": 2
          }
         }
        },
        "title": {
         "text": "Pennsylvania Regional Value Forecasts"
        },
        "width": 1400,
        "xaxis": {
         "anchor": "y",
         "domain": [
          0,
          1
         ],
         "title": {
          "text": "region"
         }
        },
        "yaxis": {
         "anchor": "x",
         "domain": [
          0,
          1
         ],
         "title": {
          "text": "value"
         }
        }
       }
      }
     },
     "metadata": {},
     "output_type": "display_data"
    }
   ],
   "source": [
    "px.box(penn, y=['feb', 'apr', 'jan_24'], x=penn.region, title='Pennsylvania Regional Value Forecasts', template='plotly_white', color_discrete_sequence=['orange', 'orange', 'white'], height=900, width=1400)"
   ]
  },
  {
   "cell_type": "code",
   "execution_count": 36,
   "metadata": {},
   "outputs": [
    {
     "data": {
      "text/html": [
       "<div style=\"width:100%;\"><div style=\"position:relative;width:100%;height:0;padding-bottom:60%;\"><span style=\"color:#565656\">Make this Notebook Trusted to load map: File -> Trust Notebook</span><iframe srcdoc=\"&lt;!DOCTYPE html&gt;\n",
       "&lt;html&gt;\n",
       "&lt;head&gt;\n",
       "    \n",
       "    &lt;meta http-equiv=&quot;content-type&quot; content=&quot;text/html; charset=UTF-8&quot; /&gt;\n",
       "    \n",
       "        &lt;script&gt;\n",
       "            L_NO_TOUCH = false;\n",
       "            L_DISABLE_3D = false;\n",
       "        &lt;/script&gt;\n",
       "    \n",
       "    &lt;style&gt;html, body {width: 100%;height: 100%;margin: 0;padding: 0;}&lt;/style&gt;\n",
       "    &lt;style&gt;#map {position:absolute;top:0;bottom:0;right:0;left:0;}&lt;/style&gt;\n",
       "    &lt;script src=&quot;https://cdn.jsdelivr.net/npm/leaflet@1.6.0/dist/leaflet.js&quot;&gt;&lt;/script&gt;\n",
       "    &lt;script src=&quot;https://code.jquery.com/jquery-1.12.4.min.js&quot;&gt;&lt;/script&gt;\n",
       "    &lt;script src=&quot;https://maxcdn.bootstrapcdn.com/bootstrap/3.2.0/js/bootstrap.min.js&quot;&gt;&lt;/script&gt;\n",
       "    &lt;script src=&quot;https://cdnjs.cloudflare.com/ajax/libs/Leaflet.awesome-markers/2.0.2/leaflet.awesome-markers.js&quot;&gt;&lt;/script&gt;\n",
       "    &lt;link rel=&quot;stylesheet&quot; href=&quot;https://cdn.jsdelivr.net/npm/leaflet@1.6.0/dist/leaflet.css&quot;/&gt;\n",
       "    &lt;link rel=&quot;stylesheet&quot; href=&quot;https://maxcdn.bootstrapcdn.com/bootstrap/3.2.0/css/bootstrap.min.css&quot;/&gt;\n",
       "    &lt;link rel=&quot;stylesheet&quot; href=&quot;https://maxcdn.bootstrapcdn.com/bootstrap/3.2.0/css/bootstrap-theme.min.css&quot;/&gt;\n",
       "    &lt;link rel=&quot;stylesheet&quot; href=&quot;https://maxcdn.bootstrapcdn.com/font-awesome/4.6.3/css/font-awesome.min.css&quot;/&gt;\n",
       "    &lt;link rel=&quot;stylesheet&quot; href=&quot;https://cdnjs.cloudflare.com/ajax/libs/Leaflet.awesome-markers/2.0.2/leaflet.awesome-markers.css&quot;/&gt;\n",
       "    &lt;link rel=&quot;stylesheet&quot; href=&quot;https://cdn.jsdelivr.net/gh/python-visualization/folium/folium/templates/leaflet.awesome.rotate.min.css&quot;/&gt;\n",
       "    \n",
       "            &lt;meta name=&quot;viewport&quot; content=&quot;width=device-width,\n",
       "                initial-scale=1.0, maximum-scale=1.0, user-scalable=no&quot; /&gt;\n",
       "            &lt;style&gt;\n",
       "                #map_c05469a864cb21e8777d57d09d97d75c {\n",
       "                    position: relative;\n",
       "                    width: 1200.0px;\n",
       "                    height: 900.0px;\n",
       "                    left: 0.0%;\n",
       "                    top: 0.0%;\n",
       "                }\n",
       "            &lt;/style&gt;\n",
       "        \n",
       "    &lt;script src=&quot;https://cdn.jsdelivr.net/gh/ljagis/leaflet-measure@2.1.7/dist/leaflet-measure.min.js&quot;&gt;&lt;/script&gt;\n",
       "    &lt;link rel=&quot;stylesheet&quot; href=&quot;https://cdn.jsdelivr.net/gh/ljagis/leaflet-measure@2.1.7/dist/leaflet-measure.min.css&quot;/&gt;\n",
       "&lt;/head&gt;\n",
       "&lt;body&gt;\n",
       "    \n",
       "    \n",
       "            &lt;div class=&quot;folium-map&quot; id=&quot;map_c05469a864cb21e8777d57d09d97d75c&quot; &gt;&lt;/div&gt;\n",
       "        \n",
       "&lt;/body&gt;\n",
       "&lt;script&gt;\n",
       "    \n",
       "    \n",
       "            var map_c05469a864cb21e8777d57d09d97d75c = L.map(\n",
       "                &quot;map_c05469a864cb21e8777d57d09d97d75c&quot;,\n",
       "                {\n",
       "                    center: [41.0, -77.0],\n",
       "                    crs: L.CRS.EPSG3857,\n",
       "                    zoom: 7,\n",
       "                    zoomControl: true,\n",
       "                    preferCanvas: false,\n",
       "                }\n",
       "            );\n",
       "            L.control.scale().addTo(map_c05469a864cb21e8777d57d09d97d75c);\n",
       "\n",
       "            \n",
       "\n",
       "        \n",
       "    \n",
       "            var tile_layer_35da70453bdb09d6a55468fb14497f02 = L.tileLayer(\n",
       "                &quot;https://{s}.tile.openstreetmap.org/{z}/{x}/{y}.png&quot;,\n",
       "                {&quot;attribution&quot;: &quot;Data by \\u0026copy; \\u003ca href=\\&quot;http://openstreetmap.org\\&quot;\\u003eOpenStreetMap\\u003c/a\\u003e, under \\u003ca href=\\&quot;http://www.openstreetmap.org/copyright\\&quot;\\u003eODbL\\u003c/a\\u003e.&quot;, &quot;detectRetina&quot;: false, &quot;maxNativeZoom&quot;: 18, &quot;maxZoom&quot;: 18, &quot;minZoom&quot;: 0, &quot;noWrap&quot;: false, &quot;opacity&quot;: 1, &quot;subdomains&quot;: &quot;abc&quot;, &quot;tms&quot;: false}\n",
       "            ).addTo(map_c05469a864cb21e8777d57d09d97d75c);\n",
       "        \n",
       "    \n",
       "            var marker_2f99f1302f5edb9755e4ecd4c4957e94 = L.marker(\n",
       "                [39.9526, -75.1652],\n",
       "                {}\n",
       "            ).addTo(map_c05469a864cb21e8777d57d09d97d75c);\n",
       "        \n",
       "    \n",
       "            var icon_b7550041c3adc07587872bb224c68bd1 = L.AwesomeMarkers.icon(\n",
       "                {&quot;extraClasses&quot;: &quot;fa-rotate-0&quot;, &quot;icon&quot;: &quot;car&quot;, &quot;iconColor&quot;: &quot;white&quot;, &quot;markerColor&quot;: &quot;green&quot;, &quot;prefix&quot;: &quot;fa&quot;}\n",
       "            );\n",
       "            marker_2f99f1302f5edb9755e4ecd4c4957e94.setIcon(icon_b7550041c3adc07587872bb224c68bd1);\n",
       "        \n",
       "    \n",
       "        var popup_e02e2c46d0dd901a1397d657f6f777f6 = L.popup({&quot;maxWidth&quot;: &quot;100%&quot;});\n",
       "\n",
       "        \n",
       "            \n",
       "                var html_81866a0648fa38cc43f67c10ae813d72 = $(`&lt;div id=&quot;html_81866a0648fa38cc43f67c10ae813d72&quot; style=&quot;width: 100.0%; height: 100.0%;&quot;&gt;Philadelphia, -0.2&lt;/div&gt;`)[0];\n",
       "                popup_e02e2c46d0dd901a1397d657f6f777f6.setContent(html_81866a0648fa38cc43f67c10ae813d72);\n",
       "            \n",
       "        \n",
       "\n",
       "        marker_2f99f1302f5edb9755e4ecd4c4957e94.bindPopup(popup_e02e2c46d0dd901a1397d657f6f777f6)\n",
       "        ;\n",
       "\n",
       "        \n",
       "    \n",
       "    \n",
       "            var marker_bce334676794f676b11f27d408de5b0f = L.marker(\n",
       "                [40.4406, -79.9959],\n",
       "                {}\n",
       "            ).addTo(map_c05469a864cb21e8777d57d09d97d75c);\n",
       "        \n",
       "    \n",
       "            var icon_90e7096f1d20f03a61b492a8448d8db7 = L.AwesomeMarkers.icon(\n",
       "                {&quot;extraClasses&quot;: &quot;fa-rotate-0&quot;, &quot;icon&quot;: &quot;car&quot;, &quot;iconColor&quot;: &quot;white&quot;, &quot;markerColor&quot;: &quot;green&quot;, &quot;prefix&quot;: &quot;fa&quot;}\n",
       "            );\n",
       "            marker_bce334676794f676b11f27d408de5b0f.setIcon(icon_90e7096f1d20f03a61b492a8448d8db7);\n",
       "        \n",
       "    \n",
       "        var popup_c47a9a913d047982bb6d352e4950d7f9 = L.popup({&quot;maxWidth&quot;: &quot;100%&quot;});\n",
       "\n",
       "        \n",
       "            \n",
       "                var html_27e950e8364452571c33d8ddd4869079 = $(`&lt;div id=&quot;html_27e950e8364452571c33d8ddd4869079&quot; style=&quot;width: 100.0%; height: 100.0%;&quot;&gt;Pittsburgh, -0.6&lt;/div&gt;`)[0];\n",
       "                popup_c47a9a913d047982bb6d352e4950d7f9.setContent(html_27e950e8364452571c33d8ddd4869079);\n",
       "            \n",
       "        \n",
       "\n",
       "        marker_bce334676794f676b11f27d408de5b0f.bindPopup(popup_c47a9a913d047982bb6d352e4950d7f9)\n",
       "        ;\n",
       "\n",
       "        \n",
       "    \n",
       "    \n",
       "            var marker_0ebb16aeab9e0100f31e8f48df686e31 = L.marker(\n",
       "                [40.6084, -75.4902],\n",
       "                {}\n",
       "            ).addTo(map_c05469a864cb21e8777d57d09d97d75c);\n",
       "        \n",
       "    \n",
       "            var icon_4f8cd551c4d46d71fce04be7ee34011a = L.AwesomeMarkers.icon(\n",
       "                {&quot;extraClasses&quot;: &quot;fa-rotate-0&quot;, &quot;icon&quot;: &quot;car&quot;, &quot;iconColor&quot;: &quot;white&quot;, &quot;markerColor&quot;: &quot;green&quot;, &quot;prefix&quot;: &quot;fa&quot;}\n",
       "            );\n",
       "            marker_0ebb16aeab9e0100f31e8f48df686e31.setIcon(icon_4f8cd551c4d46d71fce04be7ee34011a);\n",
       "        \n",
       "    \n",
       "        var popup_056ff79d249d11ed56092d7a36d36fd3 = L.popup({&quot;maxWidth&quot;: &quot;100%&quot;});\n",
       "\n",
       "        \n",
       "            \n",
       "                var html_a1a85034d76fbc3d14a585aa08a5af14 = $(`&lt;div id=&quot;html_a1a85034d76fbc3d14a585aa08a5af14&quot; style=&quot;width: 100.0%; height: 100.0%;&quot;&gt;Allentown, 0.8&lt;/div&gt;`)[0];\n",
       "                popup_056ff79d249d11ed56092d7a36d36fd3.setContent(html_a1a85034d76fbc3d14a585aa08a5af14);\n",
       "            \n",
       "        \n",
       "\n",
       "        marker_0ebb16aeab9e0100f31e8f48df686e31.bindPopup(popup_056ff79d249d11ed56092d7a36d36fd3)\n",
       "        ;\n",
       "\n",
       "        \n",
       "    \n",
       "    \n",
       "            var marker_f7632186ced0578bae80d13d7c306a49 = L.marker(\n",
       "                [40.2732, -76.8867],\n",
       "                {}\n",
       "            ).addTo(map_c05469a864cb21e8777d57d09d97d75c);\n",
       "        \n",
       "    \n",
       "            var icon_af62c1342a15a409575900f28153c513 = L.AwesomeMarkers.icon(\n",
       "                {&quot;extraClasses&quot;: &quot;fa-rotate-0&quot;, &quot;icon&quot;: &quot;car&quot;, &quot;iconColor&quot;: &quot;white&quot;, &quot;markerColor&quot;: &quot;green&quot;, &quot;prefix&quot;: &quot;fa&quot;}\n",
       "            );\n",
       "            marker_f7632186ced0578bae80d13d7c306a49.setIcon(icon_af62c1342a15a409575900f28153c513);\n",
       "        \n",
       "    \n",
       "        var popup_eccd02f626caf3881e3f58da43169dfc = L.popup({&quot;maxWidth&quot;: &quot;100%&quot;});\n",
       "\n",
       "        \n",
       "            \n",
       "                var html_d99d7f13b739c65aecc00ea36b855ca3 = $(`&lt;div id=&quot;html_d99d7f13b739c65aecc00ea36b855ca3&quot; style=&quot;width: 100.0%; height: 100.0%;&quot;&gt;Harrisburg, -0.9&lt;/div&gt;`)[0];\n",
       "                popup_eccd02f626caf3881e3f58da43169dfc.setContent(html_d99d7f13b739c65aecc00ea36b855ca3);\n",
       "            \n",
       "        \n",
       "\n",
       "        marker_f7632186ced0578bae80d13d7c306a49.bindPopup(popup_eccd02f626caf3881e3f58da43169dfc)\n",
       "        ;\n",
       "\n",
       "        \n",
       "    \n",
       "    \n",
       "            var marker_61d6b7d2bc3a578459c9eb1c1dfdb260 = L.marker(\n",
       "                [41.408, -75.6624],\n",
       "                {}\n",
       "            ).addTo(map_c05469a864cb21e8777d57d09d97d75c);\n",
       "        \n",
       "    \n",
       "            var icon_c9376eadbcd50c7e10a09efff50433da = L.AwesomeMarkers.icon(\n",
       "                {&quot;extraClasses&quot;: &quot;fa-rotate-0&quot;, &quot;icon&quot;: &quot;car&quot;, &quot;iconColor&quot;: &quot;white&quot;, &quot;markerColor&quot;: &quot;green&quot;, &quot;prefix&quot;: &quot;fa&quot;}\n",
       "            );\n",
       "            marker_61d6b7d2bc3a578459c9eb1c1dfdb260.setIcon(icon_c9376eadbcd50c7e10a09efff50433da);\n",
       "        \n",
       "    \n",
       "        var popup_0193fecb6461e7bb5b420167e36cb4d5 = L.popup({&quot;maxWidth&quot;: &quot;100%&quot;});\n",
       "\n",
       "        \n",
       "            \n",
       "                var html_130264a51962ff5c7495fdbc48ae5aee = $(`&lt;div id=&quot;html_130264a51962ff5c7495fdbc48ae5aee&quot; style=&quot;width: 100.0%; height: 100.0%;&quot;&gt;Scranton, 3.0&lt;/div&gt;`)[0];\n",
       "                popup_0193fecb6461e7bb5b420167e36cb4d5.setContent(html_130264a51962ff5c7495fdbc48ae5aee);\n",
       "            \n",
       "        \n",
       "\n",
       "        marker_61d6b7d2bc3a578459c9eb1c1dfdb260.bindPopup(popup_0193fecb6461e7bb5b420167e36cb4d5)\n",
       "        ;\n",
       "\n",
       "        \n",
       "    \n",
       "    \n",
       "            var marker_a646f05d745fc0b3e25885b9664d6546 = L.marker(\n",
       "                [40.0379, -76.3055],\n",
       "                {}\n",
       "            ).addTo(map_c05469a864cb21e8777d57d09d97d75c);\n",
       "        \n",
       "    \n",
       "            var icon_80571d8d324df9f8d4c89f2579d7002e = L.AwesomeMarkers.icon(\n",
       "                {&quot;extraClasses&quot;: &quot;fa-rotate-0&quot;, &quot;icon&quot;: &quot;car&quot;, &quot;iconColor&quot;: &quot;white&quot;, &quot;markerColor&quot;: &quot;green&quot;, &quot;prefix&quot;: &quot;fa&quot;}\n",
       "            );\n",
       "            marker_a646f05d745fc0b3e25885b9664d6546.setIcon(icon_80571d8d324df9f8d4c89f2579d7002e);\n",
       "        \n",
       "    \n",
       "        var popup_e488a51a248a22042a89b5e652a253f0 = L.popup({&quot;maxWidth&quot;: &quot;100%&quot;});\n",
       "\n",
       "        \n",
       "            \n",
       "                var html_bead9e14c86e2450b476c54a3f474f38 = $(`&lt;div id=&quot;html_bead9e14c86e2450b476c54a3f474f38&quot; style=&quot;width: 100.0%; height: 100.0%;&quot;&gt;Lancaster, -0.3&lt;/div&gt;`)[0];\n",
       "                popup_e488a51a248a22042a89b5e652a253f0.setContent(html_bead9e14c86e2450b476c54a3f474f38);\n",
       "            \n",
       "        \n",
       "\n",
       "        marker_a646f05d745fc0b3e25885b9664d6546.bindPopup(popup_e488a51a248a22042a89b5e652a253f0)\n",
       "        ;\n",
       "\n",
       "        \n",
       "    \n",
       "    \n",
       "            var marker_e2fff90ac9bd8e2ac8c1e4b9bc95a180 = L.marker(\n",
       "                [39.9626, -76.7277],\n",
       "                {}\n",
       "            ).addTo(map_c05469a864cb21e8777d57d09d97d75c);\n",
       "        \n",
       "    \n",
       "            var icon_fe5defc5a95ba13b20e90119ef755f5b = L.AwesomeMarkers.icon(\n",
       "                {&quot;extraClasses&quot;: &quot;fa-rotate-0&quot;, &quot;icon&quot;: &quot;car&quot;, &quot;iconColor&quot;: &quot;white&quot;, &quot;markerColor&quot;: &quot;green&quot;, &quot;prefix&quot;: &quot;fa&quot;}\n",
       "            );\n",
       "            marker_e2fff90ac9bd8e2ac8c1e4b9bc95a180.setIcon(icon_fe5defc5a95ba13b20e90119ef755f5b);\n",
       "        \n",
       "    \n",
       "        var popup_00d63551437504d747bc0bfbdd1b45ac = L.popup({&quot;maxWidth&quot;: &quot;100%&quot;});\n",
       "\n",
       "        \n",
       "            \n",
       "                var html_51f45a44df5d6550cee7e0a659a72468 = $(`&lt;div id=&quot;html_51f45a44df5d6550cee7e0a659a72468&quot; style=&quot;width: 100.0%; height: 100.0%;&quot;&gt;York, -1.2&lt;/div&gt;`)[0];\n",
       "                popup_00d63551437504d747bc0bfbdd1b45ac.setContent(html_51f45a44df5d6550cee7e0a659a72468);\n",
       "            \n",
       "        \n",
       "\n",
       "        marker_e2fff90ac9bd8e2ac8c1e4b9bc95a180.bindPopup(popup_00d63551437504d747bc0bfbdd1b45ac)\n",
       "        ;\n",
       "\n",
       "        \n",
       "    \n",
       "    \n",
       "            var marker_08e7881ba3ab022fa930a856128702e0 = L.marker(\n",
       "                [40.3356, -75.9277],\n",
       "                {}\n",
       "            ).addTo(map_c05469a864cb21e8777d57d09d97d75c);\n",
       "        \n",
       "    \n",
       "            var icon_70573c84b517efb36e43893ca6eeaba6 = L.AwesomeMarkers.icon(\n",
       "                {&quot;extraClasses&quot;: &quot;fa-rotate-0&quot;, &quot;icon&quot;: &quot;car&quot;, &quot;iconColor&quot;: &quot;white&quot;, &quot;markerColor&quot;: &quot;green&quot;, &quot;prefix&quot;: &quot;fa&quot;}\n",
       "            );\n",
       "            marker_08e7881ba3ab022fa930a856128702e0.setIcon(icon_70573c84b517efb36e43893ca6eeaba6);\n",
       "        \n",
       "    \n",
       "        var popup_1eb89457bac1610ea381451f2c37d611 = L.popup({&quot;maxWidth&quot;: &quot;100%&quot;});\n",
       "\n",
       "        \n",
       "            \n",
       "                var html_23797d6f943cc7d33081975b5275b97e = $(`&lt;div id=&quot;html_23797d6f943cc7d33081975b5275b97e&quot; style=&quot;width: 100.0%; height: 100.0%;&quot;&gt;Reading, 0.7&lt;/div&gt;`)[0];\n",
       "                popup_1eb89457bac1610ea381451f2c37d611.setContent(html_23797d6f943cc7d33081975b5275b97e);\n",
       "            \n",
       "        \n",
       "\n",
       "        marker_08e7881ba3ab022fa930a856128702e0.bindPopup(popup_1eb89457bac1610ea381451f2c37d611)\n",
       "        ;\n",
       "\n",
       "        \n",
       "    \n",
       "    \n",
       "            var marker_e3e002405a92294a5e72410e7be5ef9c = L.marker(\n",
       "                [42.1292, -80.0851],\n",
       "                {}\n",
       "            ).addTo(map_c05469a864cb21e8777d57d09d97d75c);\n",
       "        \n",
       "    \n",
       "            var icon_37e4f3d5f2ba476374d5f68bd3e2ac97 = L.AwesomeMarkers.icon(\n",
       "                {&quot;extraClasses&quot;: &quot;fa-rotate-0&quot;, &quot;icon&quot;: &quot;car&quot;, &quot;iconColor&quot;: &quot;white&quot;, &quot;markerColor&quot;: &quot;green&quot;, &quot;prefix&quot;: &quot;fa&quot;}\n",
       "            );\n",
       "            marker_e3e002405a92294a5e72410e7be5ef9c.setIcon(icon_37e4f3d5f2ba476374d5f68bd3e2ac97);\n",
       "        \n",
       "    \n",
       "        var popup_283289394b64ad8ee1c49a7daa2b87ea = L.popup({&quot;maxWidth&quot;: &quot;100%&quot;});\n",
       "\n",
       "        \n",
       "            \n",
       "                var html_04d5bde41de5f8c992e9591752d28adc = $(`&lt;div id=&quot;html_04d5bde41de5f8c992e9591752d28adc&quot; style=&quot;width: 100.0%; height: 100.0%;&quot;&gt;Erie, -0.8&lt;/div&gt;`)[0];\n",
       "                popup_283289394b64ad8ee1c49a7daa2b87ea.setContent(html_04d5bde41de5f8c992e9591752d28adc);\n",
       "            \n",
       "        \n",
       "\n",
       "        marker_e3e002405a92294a5e72410e7be5ef9c.bindPopup(popup_283289394b64ad8ee1c49a7daa2b87ea)\n",
       "        ;\n",
       "\n",
       "        \n",
       "    \n",
       "    \n",
       "            var marker_a317304a9760ec7ab48a4ece8ea9aba6 = L.marker(\n",
       "                [41.0028, -75.1773],\n",
       "                {}\n",
       "            ).addTo(map_c05469a864cb21e8777d57d09d97d75c);\n",
       "        \n",
       "    \n",
       "            var icon_609e875ac767dbab009fa78e5d1e3fbc = L.AwesomeMarkers.icon(\n",
       "                {&quot;extraClasses&quot;: &quot;fa-rotate-0&quot;, &quot;icon&quot;: &quot;car&quot;, &quot;iconColor&quot;: &quot;white&quot;, &quot;markerColor&quot;: &quot;green&quot;, &quot;prefix&quot;: &quot;fa&quot;}\n",
       "            );\n",
       "            marker_a317304a9760ec7ab48a4ece8ea9aba6.setIcon(icon_609e875ac767dbab009fa78e5d1e3fbc);\n",
       "        \n",
       "    \n",
       "        var popup_71297a69c37fcad1fd44b369e7843c96 = L.popup({&quot;maxWidth&quot;: &quot;100%&quot;});\n",
       "\n",
       "        \n",
       "            \n",
       "                var html_0ab8246b0dc7aa35d041dba59420ad28 = $(`&lt;div id=&quot;html_0ab8246b0dc7aa35d041dba59420ad28&quot; style=&quot;width: 100.0%; height: 100.0%;&quot;&gt;East Stroudsburg, 4.6&lt;/div&gt;`)[0];\n",
       "                popup_71297a69c37fcad1fd44b369e7843c96.setContent(html_0ab8246b0dc7aa35d041dba59420ad28);\n",
       "            \n",
       "        \n",
       "\n",
       "        marker_a317304a9760ec7ab48a4ece8ea9aba6.bindPopup(popup_71297a69c37fcad1fd44b369e7843c96)\n",
       "        ;\n",
       "\n",
       "        \n",
       "    \n",
       "    \n",
       "            var marker_98de1cc1257627563a6ee11e67b29fc0 = L.marker(\n",
       "                [40.7934, -77.86],\n",
       "                {}\n",
       "            ).addTo(map_c05469a864cb21e8777d57d09d97d75c);\n",
       "        \n",
       "    \n",
       "            var icon_473b607b46835ecea89a3ab42a13348d = L.AwesomeMarkers.icon(\n",
       "                {&quot;extraClasses&quot;: &quot;fa-rotate-0&quot;, &quot;icon&quot;: &quot;car&quot;, &quot;iconColor&quot;: &quot;white&quot;, &quot;markerColor&quot;: &quot;green&quot;, &quot;prefix&quot;: &quot;fa&quot;}\n",
       "            );\n",
       "            marker_98de1cc1257627563a6ee11e67b29fc0.setIcon(icon_473b607b46835ecea89a3ab42a13348d);\n",
       "        \n",
       "    \n",
       "        var popup_9066f812a92040c0f10faa8c4902ed3a = L.popup({&quot;maxWidth&quot;: &quot;100%&quot;});\n",
       "\n",
       "        \n",
       "            \n",
       "                var html_45399256c06bed43bab8f4830e8a431b = $(`&lt;div id=&quot;html_45399256c06bed43bab8f4830e8a431b&quot; style=&quot;width: 100.0%; height: 100.0%;&quot;&gt;State College, -1.7&lt;/div&gt;`)[0];\n",
       "                popup_9066f812a92040c0f10faa8c4902ed3a.setContent(html_45399256c06bed43bab8f4830e8a431b);\n",
       "            \n",
       "        \n",
       "\n",
       "        marker_98de1cc1257627563a6ee11e67b29fc0.bindPopup(popup_9066f812a92040c0f10faa8c4902ed3a)\n",
       "        ;\n",
       "\n",
       "        \n",
       "    \n",
       "    \n",
       "            var marker_bc54c0b2e1e42031843199a8b401bd9b = L.marker(\n",
       "                [39.9376, -77.6611],\n",
       "                {}\n",
       "            ).addTo(map_c05469a864cb21e8777d57d09d97d75c);\n",
       "        \n",
       "    \n",
       "            var icon_d2222debc1988d5557fc62b9db3c792a = L.AwesomeMarkers.icon(\n",
       "                {&quot;extraClasses&quot;: &quot;fa-rotate-0&quot;, &quot;icon&quot;: &quot;car&quot;, &quot;iconColor&quot;: &quot;white&quot;, &quot;markerColor&quot;: &quot;green&quot;, &quot;prefix&quot;: &quot;fa&quot;}\n",
       "            );\n",
       "            marker_bc54c0b2e1e42031843199a8b401bd9b.setIcon(icon_d2222debc1988d5557fc62b9db3c792a);\n",
       "        \n",
       "    \n",
       "        var popup_088a48c4b5e702945554795b5024a381 = L.popup({&quot;maxWidth&quot;: &quot;100%&quot;});\n",
       "\n",
       "        \n",
       "            \n",
       "                var html_5526b2bd99eeade40e7b09c6a5b9834a = $(`&lt;div id=&quot;html_5526b2bd99eeade40e7b09c6a5b9834a&quot; style=&quot;width: 100.0%; height: 100.0%;&quot;&gt;Chambersburg, 0.0&lt;/div&gt;`)[0];\n",
       "                popup_088a48c4b5e702945554795b5024a381.setContent(html_5526b2bd99eeade40e7b09c6a5b9834a);\n",
       "            \n",
       "        \n",
       "\n",
       "        marker_bc54c0b2e1e42031843199a8b401bd9b.bindPopup(popup_088a48c4b5e702945554795b5024a381)\n",
       "        ;\n",
       "\n",
       "        \n",
       "    \n",
       "    \n",
       "            var marker_213157507fc59443d695b73081ac9e63 = L.marker(\n",
       "                [40.3409, -76.4112],\n",
       "                {}\n",
       "            ).addTo(map_c05469a864cb21e8777d57d09d97d75c);\n",
       "        \n",
       "    \n",
       "            var icon_28f7d03380ab09ef5bff08bad3b1afb1 = L.AwesomeMarkers.icon(\n",
       "                {&quot;extraClasses&quot;: &quot;fa-rotate-0&quot;, &quot;icon&quot;: &quot;car&quot;, &quot;iconColor&quot;: &quot;white&quot;, &quot;markerColor&quot;: &quot;green&quot;, &quot;prefix&quot;: &quot;fa&quot;}\n",
       "            );\n",
       "            marker_213157507fc59443d695b73081ac9e63.setIcon(icon_28f7d03380ab09ef5bff08bad3b1afb1);\n",
       "        \n",
       "    \n",
       "        var popup_4e135b8b7db9985d59e63d2eddfef16d = L.popup({&quot;maxWidth&quot;: &quot;100%&quot;});\n",
       "\n",
       "        \n",
       "            \n",
       "                var html_9b953233d67d70690d6e9ab2cb5fc44d = $(`&lt;div id=&quot;html_9b953233d67d70690d6e9ab2cb5fc44d&quot; style=&quot;width: 100.0%; height: 100.0%;&quot;&gt;Lebanon, -0.4&lt;/div&gt;`)[0];\n",
       "                popup_4e135b8b7db9985d59e63d2eddfef16d.setContent(html_9b953233d67d70690d6e9ab2cb5fc44d);\n",
       "            \n",
       "        \n",
       "\n",
       "        marker_213157507fc59443d695b73081ac9e63.bindPopup(popup_4e135b8b7db9985d59e63d2eddfef16d)\n",
       "        ;\n",
       "\n",
       "        \n",
       "    \n",
       "    \n",
       "            var marker_336df61d50d66485d88b106d8369768e = L.marker(\n",
       "                [40.6857, -76.1955],\n",
       "                {}\n",
       "            ).addTo(map_c05469a864cb21e8777d57d09d97d75c);\n",
       "        \n",
       "    \n",
       "            var icon_f7f6881d122e0c6896dfc25724724a02 = L.AwesomeMarkers.icon(\n",
       "                {&quot;extraClasses&quot;: &quot;fa-rotate-0&quot;, &quot;icon&quot;: &quot;car&quot;, &quot;iconColor&quot;: &quot;white&quot;, &quot;markerColor&quot;: &quot;green&quot;, &quot;prefix&quot;: &quot;fa&quot;}\n",
       "            );\n",
       "            marker_336df61d50d66485d88b106d8369768e.setIcon(icon_f7f6881d122e0c6896dfc25724724a02);\n",
       "        \n",
       "    \n",
       "        var popup_737ad4b38354d5328718c5cc068da91c = L.popup({&quot;maxWidth&quot;: &quot;100%&quot;});\n",
       "\n",
       "        \n",
       "            \n",
       "                var html_f272a412297353e7f47266745653cf1e = $(`&lt;div id=&quot;html_f272a412297353e7f47266745653cf1e&quot; style=&quot;width: 100.0%; height: 100.0%;&quot;&gt;Pottsville, 5.3&lt;/div&gt;`)[0];\n",
       "                popup_737ad4b38354d5328718c5cc068da91c.setContent(html_f272a412297353e7f47266745653cf1e);\n",
       "            \n",
       "        \n",
       "\n",
       "        marker_336df61d50d66485d88b106d8369768e.bindPopup(popup_737ad4b38354d5328718c5cc068da91c)\n",
       "        ;\n",
       "\n",
       "        \n",
       "    \n",
       "    \n",
       "            var marker_631a3ee51c2f801e361f8dd4a69ed593 = L.marker(\n",
       "                [40.3276, -78.9222],\n",
       "                {}\n",
       "            ).addTo(map_c05469a864cb21e8777d57d09d97d75c);\n",
       "        \n",
       "    \n",
       "            var icon_fcfb72ff1dedd91565f0ebce59da38d4 = L.AwesomeMarkers.icon(\n",
       "                {&quot;extraClasses&quot;: &quot;fa-rotate-0&quot;, &quot;icon&quot;: &quot;car&quot;, &quot;iconColor&quot;: &quot;white&quot;, &quot;markerColor&quot;: &quot;green&quot;, &quot;prefix&quot;: &quot;fa&quot;}\n",
       "            );\n",
       "            marker_631a3ee51c2f801e361f8dd4a69ed593.setIcon(icon_fcfb72ff1dedd91565f0ebce59da38d4);\n",
       "        \n",
       "    \n",
       "        var popup_ebee43ce89b7061e344f5cd1e742562b = L.popup({&quot;maxWidth&quot;: &quot;100%&quot;});\n",
       "\n",
       "        \n",
       "            \n",
       "                var html_586f60dbc8ff60f4b4405275b09bd8a3 = $(`&lt;div id=&quot;html_586f60dbc8ff60f4b4405275b09bd8a3&quot; style=&quot;width: 100.0%; height: 100.0%;&quot;&gt;Johnstown, 3.3&lt;/div&gt;`)[0];\n",
       "                popup_ebee43ce89b7061e344f5cd1e742562b.setContent(html_586f60dbc8ff60f4b4405275b09bd8a3);\n",
       "            \n",
       "        \n",
       "\n",
       "        marker_631a3ee51c2f801e361f8dd4a69ed593.bindPopup(popup_ebee43ce89b7061e344f5cd1e742562b)\n",
       "        ;\n",
       "\n",
       "        \n",
       "    \n",
       "    \n",
       "            var marker_fd008d73d481abb9331303d7e286a104 = L.marker(\n",
       "                [40.5187, -78.3947],\n",
       "                {}\n",
       "            ).addTo(map_c05469a864cb21e8777d57d09d97d75c);\n",
       "        \n",
       "    \n",
       "            var icon_53fe8b89c6339e54331045e84ca842ca = L.AwesomeMarkers.icon(\n",
       "                {&quot;extraClasses&quot;: &quot;fa-rotate-0&quot;, &quot;icon&quot;: &quot;car&quot;, &quot;iconColor&quot;: &quot;white&quot;, &quot;markerColor&quot;: &quot;green&quot;, &quot;prefix&quot;: &quot;fa&quot;}\n",
       "            );\n",
       "            marker_fd008d73d481abb9331303d7e286a104.setIcon(icon_53fe8b89c6339e54331045e84ca842ca);\n",
       "        \n",
       "    \n",
       "        var popup_cbe79bdb03d645014f7043795df0e7af = L.popup({&quot;maxWidth&quot;: &quot;100%&quot;});\n",
       "\n",
       "        \n",
       "            \n",
       "                var html_a16a5a7dda5efbf01532665a8327675b = $(`&lt;div id=&quot;html_a16a5a7dda5efbf01532665a8327675b&quot; style=&quot;width: 100.0%; height: 100.0%;&quot;&gt;Altoona, -1.9&lt;/div&gt;`)[0];\n",
       "                popup_cbe79bdb03d645014f7043795df0e7af.setContent(html_a16a5a7dda5efbf01532665a8327675b);\n",
       "            \n",
       "        \n",
       "\n",
       "        marker_fd008d73d481abb9331303d7e286a104.bindPopup(popup_cbe79bdb03d645014f7043795df0e7af)\n",
       "        ;\n",
       "\n",
       "        \n",
       "    \n",
       "    \n",
       "            var marker_54f0e06a6673f9fa6eb535224d2e496a = L.marker(\n",
       "                [41.2412, -77.0011],\n",
       "                {}\n",
       "            ).addTo(map_c05469a864cb21e8777d57d09d97d75c);\n",
       "        \n",
       "    \n",
       "            var icon_11f38bf3f8c4a484f3addfedcedf56f5 = L.AwesomeMarkers.icon(\n",
       "                {&quot;extraClasses&quot;: &quot;fa-rotate-0&quot;, &quot;icon&quot;: &quot;car&quot;, &quot;iconColor&quot;: &quot;white&quot;, &quot;markerColor&quot;: &quot;green&quot;, &quot;prefix&quot;: &quot;fa&quot;}\n",
       "            );\n",
       "            marker_54f0e06a6673f9fa6eb535224d2e496a.setIcon(icon_11f38bf3f8c4a484f3addfedcedf56f5);\n",
       "        \n",
       "    \n",
       "        var popup_18c695eab4f60cd5120af71ba67f8883 = L.popup({&quot;maxWidth&quot;: &quot;100%&quot;});\n",
       "\n",
       "        \n",
       "            \n",
       "                var html_374685b144d0bff90ad87af9e9132148 = $(`&lt;div id=&quot;html_374685b144d0bff90ad87af9e9132148&quot; style=&quot;width: 100.0%; height: 100.0%;&quot;&gt;Williamsport, -2.9&lt;/div&gt;`)[0];\n",
       "                popup_18c695eab4f60cd5120af71ba67f8883.setContent(html_374685b144d0bff90ad87af9e9132148);\n",
       "            \n",
       "        \n",
       "\n",
       "        marker_54f0e06a6673f9fa6eb535224d2e496a.bindPopup(popup_18c695eab4f60cd5120af71ba67f8883)\n",
       "        ;\n",
       "\n",
       "        \n",
       "    \n",
       "    \n",
       "            var marker_d2e52a9d3d181b6856b2a7e6a5a3d399 = L.marker(\n",
       "                [39.8309, -77.2311],\n",
       "                {}\n",
       "            ).addTo(map_c05469a864cb21e8777d57d09d97d75c);\n",
       "        \n",
       "    \n",
       "            var icon_74bb81daa663683d3f86e7d93854feac = L.AwesomeMarkers.icon(\n",
       "                {&quot;extraClasses&quot;: &quot;fa-rotate-0&quot;, &quot;icon&quot;: &quot;car&quot;, &quot;iconColor&quot;: &quot;white&quot;, &quot;markerColor&quot;: &quot;green&quot;, &quot;prefix&quot;: &quot;fa&quot;}\n",
       "            );\n",
       "            marker_d2e52a9d3d181b6856b2a7e6a5a3d399.setIcon(icon_74bb81daa663683d3f86e7d93854feac);\n",
       "        \n",
       "    \n",
       "        var popup_eb34dc8a47f0ee438a5b4cd44aac43f3 = L.popup({&quot;maxWidth&quot;: &quot;100%&quot;});\n",
       "\n",
       "        \n",
       "            \n",
       "                var html_915b79c5741ab7e9c1397232d7f5fb36 = $(`&lt;div id=&quot;html_915b79c5741ab7e9c1397232d7f5fb36&quot; style=&quot;width: 100.0%; height: 100.0%;&quot;&gt;Gettysburg, -0.8&lt;/div&gt;`)[0];\n",
       "                popup_eb34dc8a47f0ee438a5b4cd44aac43f3.setContent(html_915b79c5741ab7e9c1397232d7f5fb36);\n",
       "            \n",
       "        \n",
       "\n",
       "        marker_d2e52a9d3d181b6856b2a7e6a5a3d399.bindPopup(popup_eb34dc8a47f0ee438a5b4cd44aac43f3)\n",
       "        ;\n",
       "\n",
       "        \n",
       "    \n",
       "    \n",
       "            var marker_196ce5e8d64ae2e4a0c7d8c31e33ee5b = L.marker(\n",
       "                [40.8626, -76.7944],\n",
       "                {}\n",
       "            ).addTo(map_c05469a864cb21e8777d57d09d97d75c);\n",
       "        \n",
       "    \n",
       "            var icon_ca5ab1da285f03866538b2703f7943b7 = L.AwesomeMarkers.icon(\n",
       "                {&quot;extraClasses&quot;: &quot;fa-rotate-0&quot;, &quot;icon&quot;: &quot;car&quot;, &quot;iconColor&quot;: &quot;white&quot;, &quot;markerColor&quot;: &quot;green&quot;, &quot;prefix&quot;: &quot;fa&quot;}\n",
       "            );\n",
       "            marker_196ce5e8d64ae2e4a0c7d8c31e33ee5b.setIcon(icon_ca5ab1da285f03866538b2703f7943b7);\n",
       "        \n",
       "    \n",
       "        var popup_e009fffd1ad4f5fcf0c81819b8c50055 = L.popup({&quot;maxWidth&quot;: &quot;100%&quot;});\n",
       "\n",
       "        \n",
       "            \n",
       "                var html_26d33a8da941f9501b7a87d7e3e573fe = $(`&lt;div id=&quot;html_26d33a8da941f9501b7a87d7e3e573fe&quot; style=&quot;width: 100.0%; height: 100.0%;&quot;&gt;Sunbury, 4.2&lt;/div&gt;`)[0];\n",
       "                popup_e009fffd1ad4f5fcf0c81819b8c50055.setContent(html_26d33a8da941f9501b7a87d7e3e573fe);\n",
       "            \n",
       "        \n",
       "\n",
       "        marker_196ce5e8d64ae2e4a0c7d8c31e33ee5b.bindPopup(popup_e009fffd1ad4f5fcf0c81819b8c50055)\n",
       "        ;\n",
       "\n",
       "        \n",
       "    \n",
       "    \n",
       "            var marker_ff3feee12e0c3a8624b2acf1d801aba9 = L.marker(\n",
       "                [41.0037, -80.347],\n",
       "                {}\n",
       "            ).addTo(map_c05469a864cb21e8777d57d09d97d75c);\n",
       "        \n",
       "    \n",
       "            var icon_6b44ea5205c3453736e587546e254e03 = L.AwesomeMarkers.icon(\n",
       "                {&quot;extraClasses&quot;: &quot;fa-rotate-0&quot;, &quot;icon&quot;: &quot;car&quot;, &quot;iconColor&quot;: &quot;white&quot;, &quot;markerColor&quot;: &quot;green&quot;, &quot;prefix&quot;: &quot;fa&quot;}\n",
       "            );\n",
       "            marker_ff3feee12e0c3a8624b2acf1d801aba9.setIcon(icon_6b44ea5205c3453736e587546e254e03);\n",
       "        \n",
       "    \n",
       "        var popup_8abddef140df325fbf5fcdaaa8c7470b = L.popup({&quot;maxWidth&quot;: &quot;100%&quot;});\n",
       "\n",
       "        \n",
       "            \n",
       "                var html_a5b449ec724fef33447a79a1a1b6bb05 = $(`&lt;div id=&quot;html_a5b449ec724fef33447a79a1a1b6bb05&quot; style=&quot;width: 100.0%; height: 100.0%;&quot;&gt;New Castle, 1.4&lt;/div&gt;`)[0];\n",
       "                popup_8abddef140df325fbf5fcdaaa8c7470b.setContent(html_a5b449ec724fef33447a79a1a1b6bb05);\n",
       "            \n",
       "        \n",
       "\n",
       "        marker_ff3feee12e0c3a8624b2acf1d801aba9.bindPopup(popup_8abddef140df325fbf5fcdaaa8c7470b)\n",
       "        ;\n",
       "\n",
       "        \n",
       "    \n",
       "    \n",
       "            var marker_1c8444ab81e0fe8785d086d8528a27c2 = L.marker(\n",
       "                [41.6414, -80.1514],\n",
       "                {}\n",
       "            ).addTo(map_c05469a864cb21e8777d57d09d97d75c);\n",
       "        \n",
       "    \n",
       "            var icon_b6ba89def58a1504e688bbca8c7b3b70 = L.AwesomeMarkers.icon(\n",
       "                {&quot;extraClasses&quot;: &quot;fa-rotate-0&quot;, &quot;icon&quot;: &quot;car&quot;, &quot;iconColor&quot;: &quot;white&quot;, &quot;markerColor&quot;: &quot;green&quot;, &quot;prefix&quot;: &quot;fa&quot;}\n",
       "            );\n",
       "            marker_1c8444ab81e0fe8785d086d8528a27c2.setIcon(icon_b6ba89def58a1504e688bbca8c7b3b70);\n",
       "        \n",
       "    \n",
       "        var popup_f495b88af210f49804ff6e09cc72040c = L.popup({&quot;maxWidth&quot;: &quot;100%&quot;});\n",
       "\n",
       "        \n",
       "            \n",
       "                var html_5d26e5a83b48aa185c5b57225a338cf3 = $(`&lt;div id=&quot;html_5d26e5a83b48aa185c5b57225a338cf3&quot; style=&quot;width: 100.0%; height: 100.0%;&quot;&gt;Meadville, 1.2&lt;/div&gt;`)[0];\n",
       "                popup_f495b88af210f49804ff6e09cc72040c.setContent(html_5d26e5a83b48aa185c5b57225a338cf3);\n",
       "            \n",
       "        \n",
       "\n",
       "        marker_1c8444ab81e0fe8785d086d8528a27c2.bindPopup(popup_f495b88af210f49804ff6e09cc72040c)\n",
       "        ;\n",
       "\n",
       "        \n",
       "    \n",
       "    \n",
       "            var marker_01bd492bb1b080eb7eba080c629fb657 = L.marker(\n",
       "                [40.6215, -79.1528],\n",
       "                {}\n",
       "            ).addTo(map_c05469a864cb21e8777d57d09d97d75c);\n",
       "        \n",
       "    \n",
       "            var icon_3d2f6298fe0503ecd29d04e55973e6ce = L.AwesomeMarkers.icon(\n",
       "                {&quot;extraClasses&quot;: &quot;fa-rotate-0&quot;, &quot;icon&quot;: &quot;car&quot;, &quot;iconColor&quot;: &quot;white&quot;, &quot;markerColor&quot;: &quot;green&quot;, &quot;prefix&quot;: &quot;fa&quot;}\n",
       "            );\n",
       "            marker_01bd492bb1b080eb7eba080c629fb657.setIcon(icon_3d2f6298fe0503ecd29d04e55973e6ce);\n",
       "        \n",
       "    \n",
       "        var popup_0fce84a1dc2ae70ca38eb930ea81aa7f = L.popup({&quot;maxWidth&quot;: &quot;100%&quot;});\n",
       "\n",
       "        \n",
       "            \n",
       "                var html_c7b767fcd0043f796f6ccef1e7887eaa = $(`&lt;div id=&quot;html_c7b767fcd0043f796f6ccef1e7887eaa&quot; style=&quot;width: 100.0%; height: 100.0%;&quot;&gt;Indiana, -2.0&lt;/div&gt;`)[0];\n",
       "                popup_0fce84a1dc2ae70ca38eb930ea81aa7f.setContent(html_c7b767fcd0043f796f6ccef1e7887eaa);\n",
       "            \n",
       "        \n",
       "\n",
       "        marker_01bd492bb1b080eb7eba080c629fb657.bindPopup(popup_0fce84a1dc2ae70ca38eb930ea81aa7f)\n",
       "        ;\n",
       "\n",
       "        \n",
       "    \n",
       "    \n",
       "            var marker_33162a18419cba5cf64ff32f9fb67eff = L.marker(\n",
       "                [41.0047, -76.4549],\n",
       "                {}\n",
       "            ).addTo(map_c05469a864cb21e8777d57d09d97d75c);\n",
       "        \n",
       "    \n",
       "            var icon_6769e5876a72f34af0c599b8d2b6800b = L.AwesomeMarkers.icon(\n",
       "                {&quot;extraClasses&quot;: &quot;fa-rotate-0&quot;, &quot;icon&quot;: &quot;car&quot;, &quot;iconColor&quot;: &quot;white&quot;, &quot;markerColor&quot;: &quot;green&quot;, &quot;prefix&quot;: &quot;fa&quot;}\n",
       "            );\n",
       "            marker_33162a18419cba5cf64ff32f9fb67eff.setIcon(icon_6769e5876a72f34af0c599b8d2b6800b);\n",
       "        \n",
       "    \n",
       "        var popup_f7d82a026c9ed25c7bff66ad6dc5f3e3 = L.popup({&quot;maxWidth&quot;: &quot;100%&quot;});\n",
       "\n",
       "        \n",
       "            \n",
       "                var html_a74ad83a844e549b468e90e8d7690d40 = $(`&lt;div id=&quot;html_a74ad83a844e549b468e90e8d7690d40&quot; style=&quot;width: 100.0%; height: 100.0%;&quot;&gt;Bloomsburg, -0.6&lt;/div&gt;`)[0];\n",
       "                popup_f7d82a026c9ed25c7bff66ad6dc5f3e3.setContent(html_a74ad83a844e549b468e90e8d7690d40);\n",
       "            \n",
       "        \n",
       "\n",
       "        marker_33162a18419cba5cf64ff32f9fb67eff.bindPopup(popup_f7d82a026c9ed25c7bff66ad6dc5f3e3)\n",
       "        ;\n",
       "\n",
       "        \n",
       "    \n",
       "    \n",
       "            var marker_a997f1b5312652787fe2c7df0d17b447 = L.marker(\n",
       "                [41.1197, -78.7626],\n",
       "                {}\n",
       "            ).addTo(map_c05469a864cb21e8777d57d09d97d75c);\n",
       "        \n",
       "    \n",
       "            var icon_192d165752b4b0444b1e3ef73d2d5dbc = L.AwesomeMarkers.icon(\n",
       "                {&quot;extraClasses&quot;: &quot;fa-rotate-0&quot;, &quot;icon&quot;: &quot;car&quot;, &quot;iconColor&quot;: &quot;white&quot;, &quot;markerColor&quot;: &quot;green&quot;, &quot;prefix&quot;: &quot;fa&quot;}\n",
       "            );\n",
       "            marker_a997f1b5312652787fe2c7df0d17b447.setIcon(icon_192d165752b4b0444b1e3ef73d2d5dbc);\n",
       "        \n",
       "    \n",
       "        var popup_5249380e32417354281bf00329838e9b = L.popup({&quot;maxWidth&quot;: &quot;100%&quot;});\n",
       "\n",
       "        \n",
       "            \n",
       "                var html_79032d8b40b50919516aac230cd4c5fa = $(`&lt;div id=&quot;html_79032d8b40b50919516aac230cd4c5fa&quot; style=&quot;width: 100.0%; height: 100.0%;&quot;&gt;DuBois, 3.2&lt;/div&gt;`)[0];\n",
       "                popup_5249380e32417354281bf00329838e9b.setContent(html_79032d8b40b50919516aac230cd4c5fa);\n",
       "            \n",
       "        \n",
       "\n",
       "        marker_a997f1b5312652787fe2c7df0d17b447.bindPopup(popup_5249380e32417354281bf00329838e9b)\n",
       "        ;\n",
       "\n",
       "        \n",
       "    \n",
       "    \n",
       "            var marker_eb94493b5fad8d0693d7068e43bc3be7 = L.marker(\n",
       "                [40.0054, -79.0781],\n",
       "                {}\n",
       "            ).addTo(map_c05469a864cb21e8777d57d09d97d75c);\n",
       "        \n",
       "    \n",
       "            var icon_99ed70cf30cb86e9fa0f13f01ac7671f = L.AwesomeMarkers.icon(\n",
       "                {&quot;extraClasses&quot;: &quot;fa-rotate-0&quot;, &quot;icon&quot;: &quot;car&quot;, &quot;iconColor&quot;: &quot;white&quot;, &quot;markerColor&quot;: &quot;green&quot;, &quot;prefix&quot;: &quot;fa&quot;}\n",
       "            );\n",
       "            marker_eb94493b5fad8d0693d7068e43bc3be7.setIcon(icon_99ed70cf30cb86e9fa0f13f01ac7671f);\n",
       "        \n",
       "    \n",
       "        var popup_88a36b404c196009803b57d8367cd1c5 = L.popup({&quot;maxWidth&quot;: &quot;100%&quot;});\n",
       "\n",
       "        \n",
       "            \n",
       "                var html_c606cc3959be2974769b7eda493f0b42 = $(`&lt;div id=&quot;html_c606cc3959be2974769b7eda493f0b42&quot; style=&quot;width: 100.0%; height: 100.0%;&quot;&gt;Somerset, 0.8&lt;/div&gt;`)[0];\n",
       "                popup_88a36b404c196009803b57d8367cd1c5.setContent(html_c606cc3959be2974769b7eda493f0b42);\n",
       "            \n",
       "        \n",
       "\n",
       "        marker_eb94493b5fad8d0693d7068e43bc3be7.bindPopup(popup_88a36b404c196009803b57d8367cd1c5)\n",
       "        ;\n",
       "\n",
       "        \n",
       "    \n",
       "    \n",
       "            var marker_a9c0461fee1a442e0d0edf182b715d7f = L.marker(\n",
       "                [41.9786, -76.5157],\n",
       "                {}\n",
       "            ).addTo(map_c05469a864cb21e8777d57d09d97d75c);\n",
       "        \n",
       "    \n",
       "            var icon_d1d0d982649393407c48c58a1f8a020b = L.AwesomeMarkers.icon(\n",
       "                {&quot;extraClasses&quot;: &quot;fa-rotate-0&quot;, &quot;icon&quot;: &quot;car&quot;, &quot;iconColor&quot;: &quot;white&quot;, &quot;markerColor&quot;: &quot;green&quot;, &quot;prefix&quot;: &quot;fa&quot;}\n",
       "            );\n",
       "            marker_a9c0461fee1a442e0d0edf182b715d7f.setIcon(icon_d1d0d982649393407c48c58a1f8a020b);\n",
       "        \n",
       "    \n",
       "        var popup_5260f6f62424ba6253f3c77c8bee8b39 = L.popup({&quot;maxWidth&quot;: &quot;100%&quot;});\n",
       "\n",
       "        \n",
       "            \n",
       "                var html_a25dae3acab3b8bedff8336790066a02 = $(`&lt;div id=&quot;html_a25dae3acab3b8bedff8336790066a02&quot; style=&quot;width: 100.0%; height: 100.0%;&quot;&gt;Sayre, -3.2&lt;/div&gt;`)[0];\n",
       "                popup_5260f6f62424ba6253f3c77c8bee8b39.setContent(html_a25dae3acab3b8bedff8336790066a02);\n",
       "            \n",
       "        \n",
       "\n",
       "        marker_a9c0461fee1a442e0d0edf182b715d7f.bindPopup(popup_5260f6f62424ba6253f3c77c8bee8b39)\n",
       "        ;\n",
       "\n",
       "        \n",
       "    \n",
       "    \n",
       "            var marker_cce79ae5540f5f2498d204586c7d003c = L.marker(\n",
       "                [41.4309, -79.7076],\n",
       "                {}\n",
       "            ).addTo(map_c05469a864cb21e8777d57d09d97d75c);\n",
       "        \n",
       "    \n",
       "            var icon_693e8708e1885b6adf59eef8b5dbbf70 = L.AwesomeMarkers.icon(\n",
       "                {&quot;extraClasses&quot;: &quot;fa-rotate-0&quot;, &quot;icon&quot;: &quot;car&quot;, &quot;iconColor&quot;: &quot;white&quot;, &quot;markerColor&quot;: &quot;green&quot;, &quot;prefix&quot;: &quot;fa&quot;}\n",
       "            );\n",
       "            marker_cce79ae5540f5f2498d204586c7d003c.setIcon(icon_693e8708e1885b6adf59eef8b5dbbf70);\n",
       "        \n",
       "    \n",
       "        var popup_58847d5f02cf36ab78cec654847df6a7 = L.popup({&quot;maxWidth&quot;: &quot;100%&quot;});\n",
       "\n",
       "        \n",
       "            \n",
       "                var html_0ea6a79d0f4eaa65b946437725718308 = $(`&lt;div id=&quot;html_0ea6a79d0f4eaa65b946437725718308&quot; style=&quot;width: 100.0%; height: 100.0%;&quot;&gt;Oil City, 0.9&lt;/div&gt;`)[0];\n",
       "                popup_58847d5f02cf36ab78cec654847df6a7.setContent(html_0ea6a79d0f4eaa65b946437725718308);\n",
       "            \n",
       "        \n",
       "\n",
       "        marker_cce79ae5540f5f2498d204586c7d003c.bindPopup(popup_58847d5f02cf36ab78cec654847df6a7)\n",
       "        ;\n",
       "\n",
       "        \n",
       "    \n",
       "    \n",
       "            var marker_4d46aa4f6d91be7911a8f4025df79f4b = L.marker(\n",
       "                [40.5993, -77.5712],\n",
       "                {}\n",
       "            ).addTo(map_c05469a864cb21e8777d57d09d97d75c);\n",
       "        \n",
       "    \n",
       "            var icon_3420b0aef5e80b1f1c3a0a0e535117f5 = L.AwesomeMarkers.icon(\n",
       "                {&quot;extraClasses&quot;: &quot;fa-rotate-0&quot;, &quot;icon&quot;: &quot;car&quot;, &quot;iconColor&quot;: &quot;white&quot;, &quot;markerColor&quot;: &quot;green&quot;, &quot;prefix&quot;: &quot;fa&quot;}\n",
       "            );\n",
       "            marker_4d46aa4f6d91be7911a8f4025df79f4b.setIcon(icon_3420b0aef5e80b1f1c3a0a0e535117f5);\n",
       "        \n",
       "    \n",
       "        var popup_43d7fad234b570bea33b8c621330a60c = L.popup({&quot;maxWidth&quot;: &quot;100%&quot;});\n",
       "\n",
       "        \n",
       "            \n",
       "                var html_9556f1c5e93da4f1f02136c24b98520d = $(`&lt;div id=&quot;html_9556f1c5e93da4f1f02136c24b98520d&quot; style=&quot;width: 100.0%; height: 100.0%;&quot;&gt;Lewistown, 2.8&lt;/div&gt;`)[0];\n",
       "                popup_43d7fad234b570bea33b8c621330a60c.setContent(html_9556f1c5e93da4f1f02136c24b98520d);\n",
       "            \n",
       "        \n",
       "\n",
       "        marker_4d46aa4f6d91be7911a8f4025df79f4b.bindPopup(popup_43d7fad234b570bea33b8c621330a60c)\n",
       "        ;\n",
       "\n",
       "        \n",
       "    \n",
       "    \n",
       "            var marker_7706069c6b2f319f026a83b1c6618f5c = L.marker(\n",
       "                [40.4842, -78.01],\n",
       "                {}\n",
       "            ).addTo(map_c05469a864cb21e8777d57d09d97d75c);\n",
       "        \n",
       "    \n",
       "            var icon_c12034c550d28060c15f933288033f40 = L.AwesomeMarkers.icon(\n",
       "                {&quot;extraClasses&quot;: &quot;fa-rotate-0&quot;, &quot;icon&quot;: &quot;car&quot;, &quot;iconColor&quot;: &quot;white&quot;, &quot;markerColor&quot;: &quot;green&quot;, &quot;prefix&quot;: &quot;fa&quot;}\n",
       "            );\n",
       "            marker_7706069c6b2f319f026a83b1c6618f5c.setIcon(icon_c12034c550d28060c15f933288033f40);\n",
       "        \n",
       "    \n",
       "        var popup_4f7e8e218c0308ca3f743c2936d43b4e = L.popup({&quot;maxWidth&quot;: &quot;100%&quot;});\n",
       "\n",
       "        \n",
       "            \n",
       "                var html_e37265501cac0976cddaf2bcabbf1160 = $(`&lt;div id=&quot;html_e37265501cac0976cddaf2bcabbf1160&quot; style=&quot;width: 100.0%; height: 100.0%;&quot;&gt;Huntingdon, -0.4&lt;/div&gt;`)[0];\n",
       "                popup_4f7e8e218c0308ca3f743c2936d43b4e.setContent(html_e37265501cac0976cddaf2bcabbf1160);\n",
       "            \n",
       "        \n",
       "\n",
       "        marker_7706069c6b2f319f026a83b1c6618f5c.bindPopup(popup_4f7e8e218c0308ca3f743c2936d43b4e)\n",
       "        ;\n",
       "\n",
       "        \n",
       "    \n",
       "    \n",
       "            var marker_72936734ef4b22a5ac231b2d8759211b = L.marker(\n",
       "                [40.9645, -76.8844],\n",
       "                {}\n",
       "            ).addTo(map_c05469a864cb21e8777d57d09d97d75c);\n",
       "        \n",
       "    \n",
       "            var icon_3ff9c63e8d3ecb13dd8d795b01818f23 = L.AwesomeMarkers.icon(\n",
       "                {&quot;extraClasses&quot;: &quot;fa-rotate-0&quot;, &quot;icon&quot;: &quot;car&quot;, &quot;iconColor&quot;: &quot;white&quot;, &quot;markerColor&quot;: &quot;green&quot;, &quot;prefix&quot;: &quot;fa&quot;}\n",
       "            );\n",
       "            marker_72936734ef4b22a5ac231b2d8759211b.setIcon(icon_3ff9c63e8d3ecb13dd8d795b01818f23);\n",
       "        \n",
       "    \n",
       "        var popup_c53ee41d90ff9bc725985aa2713c62e9 = L.popup({&quot;maxWidth&quot;: &quot;100%&quot;});\n",
       "\n",
       "        \n",
       "            \n",
       "                var html_56796606a8f13197910b3fbfc7cc8b60 = $(`&lt;div id=&quot;html_56796606a8f13197910b3fbfc7cc8b60&quot; style=&quot;width: 100.0%; height: 100.0%;&quot;&gt;Lewisburg, -1.1&lt;/div&gt;`)[0];\n",
       "                popup_c53ee41d90ff9bc725985aa2713c62e9.setContent(html_56796606a8f13197910b3fbfc7cc8b60);\n",
       "            \n",
       "        \n",
       "\n",
       "        marker_72936734ef4b22a5ac231b2d8759211b.bindPopup(popup_c53ee41d90ff9bc725985aa2713c62e9)\n",
       "        ;\n",
       "\n",
       "        \n",
       "    \n",
       "    \n",
       "            var marker_4fbba40f11dfc0453bcb2e8291998c91 = L.marker(\n",
       "                [41.9562, -78.6478],\n",
       "                {}\n",
       "            ).addTo(map_c05469a864cb21e8777d57d09d97d75c);\n",
       "        \n",
       "    \n",
       "            var icon_eeaf18e26e23aab8416765426b8e9274 = L.AwesomeMarkers.icon(\n",
       "                {&quot;extraClasses&quot;: &quot;fa-rotate-0&quot;, &quot;icon&quot;: &quot;car&quot;, &quot;iconColor&quot;: &quot;white&quot;, &quot;markerColor&quot;: &quot;green&quot;, &quot;prefix&quot;: &quot;fa&quot;}\n",
       "            );\n",
       "            marker_4fbba40f11dfc0453bcb2e8291998c91.setIcon(icon_eeaf18e26e23aab8416765426b8e9274);\n",
       "        \n",
       "    \n",
       "        var popup_7d2ae0b6513d177a0f16e7cd23b84d1e = L.popup({&quot;maxWidth&quot;: &quot;100%&quot;});\n",
       "\n",
       "        \n",
       "            \n",
       "                var html_e957e47ea0a9ffd35f176a65545b5057 = $(`&lt;div id=&quot;html_e957e47ea0a9ffd35f176a65545b5057&quot; style=&quot;width: 100.0%; height: 100.0%;&quot;&gt;Bradford, 1.1&lt;/div&gt;`)[0];\n",
       "                popup_7d2ae0b6513d177a0f16e7cd23b84d1e.setContent(html_e957e47ea0a9ffd35f176a65545b5057);\n",
       "            \n",
       "        \n",
       "\n",
       "        marker_4fbba40f11dfc0453bcb2e8291998c91.bindPopup(popup_7d2ae0b6513d177a0f16e7cd23b84d1e)\n",
       "        ;\n",
       "\n",
       "        \n",
       "    \n",
       "    \n",
       "            var marker_c467658b08c30c64c2f0bda23019e2f6 = L.marker(\n",
       "                [40.7982, -76.8622],\n",
       "                {}\n",
       "            ).addTo(map_c05469a864cb21e8777d57d09d97d75c);\n",
       "        \n",
       "    \n",
       "            var icon_49e2d1d6d6532209471b1e26fda5b1f8 = L.AwesomeMarkers.icon(\n",
       "                {&quot;extraClasses&quot;: &quot;fa-rotate-0&quot;, &quot;icon&quot;: &quot;car&quot;, &quot;iconColor&quot;: &quot;white&quot;, &quot;markerColor&quot;: &quot;green&quot;, &quot;prefix&quot;: &quot;fa&quot;}\n",
       "            );\n",
       "            marker_c467658b08c30c64c2f0bda23019e2f6.setIcon(icon_49e2d1d6d6532209471b1e26fda5b1f8);\n",
       "        \n",
       "    \n",
       "        var popup_5269d033d717f7747ff440f22956d68b = L.popup({&quot;maxWidth&quot;: &quot;100%&quot;});\n",
       "\n",
       "        \n",
       "            \n",
       "                var html_a86b0f3f954b6a2eb32cb78a4dd8ea44 = $(`&lt;div id=&quot;html_a86b0f3f954b6a2eb32cb78a4dd8ea44&quot; style=&quot;width: 100.0%; height: 100.0%;&quot;&gt;Selinsgrove, 0.4&lt;/div&gt;`)[0];\n",
       "                popup_5269d033d717f7747ff440f22956d68b.setContent(html_a86b0f3f954b6a2eb32cb78a4dd8ea44);\n",
       "            \n",
       "        \n",
       "\n",
       "        marker_c467658b08c30c64c2f0bda23019e2f6.bindPopup(popup_5269d033d717f7747ff440f22956d68b)\n",
       "        ;\n",
       "\n",
       "        \n",
       "    \n",
       "    \n",
       "            var marker_e024f7bafce7cb5c0f9c26c8fa512f23 = L.marker(\n",
       "                [41.8435, -79.1448],\n",
       "                {}\n",
       "            ).addTo(map_c05469a864cb21e8777d57d09d97d75c);\n",
       "        \n",
       "    \n",
       "            var icon_4579a991bb6c2c7abc1a37727255a7ec = L.AwesomeMarkers.icon(\n",
       "                {&quot;extraClasses&quot;: &quot;fa-rotate-0&quot;, &quot;icon&quot;: &quot;car&quot;, &quot;iconColor&quot;: &quot;white&quot;, &quot;markerColor&quot;: &quot;green&quot;, &quot;prefix&quot;: &quot;fa&quot;}\n",
       "            );\n",
       "            marker_e024f7bafce7cb5c0f9c26c8fa512f23.setIcon(icon_4579a991bb6c2c7abc1a37727255a7ec);\n",
       "        \n",
       "    \n",
       "        var popup_18891dd6442bebf672024c5fef26bc96 = L.popup({&quot;maxWidth&quot;: &quot;100%&quot;});\n",
       "\n",
       "        \n",
       "            \n",
       "                var html_8ae7cc57a50755461403e2be726e9d7c = $(`&lt;div id=&quot;html_8ae7cc57a50755461403e2be726e9d7c&quot; style=&quot;width: 100.0%; height: 100.0%;&quot;&gt;Warren, -1.6&lt;/div&gt;`)[0];\n",
       "                popup_18891dd6442bebf672024c5fef26bc96.setContent(html_8ae7cc57a50755461403e2be726e9d7c);\n",
       "            \n",
       "        \n",
       "\n",
       "        marker_e024f7bafce7cb5c0f9c26c8fa512f23.bindPopup(popup_18891dd6442bebf672024c5fef26bc96)\n",
       "        ;\n",
       "\n",
       "        \n",
       "    \n",
       "    \n",
       "            var marker_4d795a43d43b5043ce1838a89748404b = L.marker(\n",
       "                [41.1373, -77.4469],\n",
       "                {}\n",
       "            ).addTo(map_c05469a864cb21e8777d57d09d97d75c);\n",
       "        \n",
       "    \n",
       "            var icon_d200f8077428f7559f95340f7e2dbecb = L.AwesomeMarkers.icon(\n",
       "                {&quot;extraClasses&quot;: &quot;fa-rotate-0&quot;, &quot;icon&quot;: &quot;car&quot;, &quot;iconColor&quot;: &quot;white&quot;, &quot;markerColor&quot;: &quot;green&quot;, &quot;prefix&quot;: &quot;fa&quot;}\n",
       "            );\n",
       "            marker_4d795a43d43b5043ce1838a89748404b.setIcon(icon_d200f8077428f7559f95340f7e2dbecb);\n",
       "        \n",
       "    \n",
       "        var popup_f06049f340441096fe754698d593205d = L.popup({&quot;maxWidth&quot;: &quot;100%&quot;});\n",
       "\n",
       "        \n",
       "            \n",
       "                var html_7ad842614c88e205876108ae9d72741d = $(`&lt;div id=&quot;html_7ad842614c88e205876108ae9d72741d&quot; style=&quot;width: 100.0%; height: 100.0%;&quot;&gt;Lock Haven, -3.0&lt;/div&gt;`)[0];\n",
       "                popup_f06049f340441096fe754698d593205d.setContent(html_7ad842614c88e205876108ae9d72741d);\n",
       "            \n",
       "        \n",
       "\n",
       "        marker_4d795a43d43b5043ce1838a89748404b.bindPopup(popup_f06049f340441096fe754698d593205d)\n",
       "        ;\n",
       "\n",
       "        \n",
       "    \n",
       "    \n",
       "            var measure_control_50218c721d95bb1ea37e8f513af0bcc3 = new L.Control.Measure(\n",
       "                {&quot;activeColor&quot;: &quot;blue&quot;, &quot;completedColor&quot;: &quot;green&quot;, &quot;position&quot;: &quot;topleft&quot;, &quot;primaryAreaUnit&quot;: &quot;sqmeters&quot;, &quot;primaryLengthUnit&quot;: &quot;miles&quot;, &quot;secondaryAreaUnit&quot;: &quot;acres&quot;, &quot;secondaryLengthUnit&quot;: &quot;miles&quot;});\n",
       "            map_c05469a864cb21e8777d57d09d97d75c.addControl(measure_control_50218c721d95bb1ea37e8f513af0bcc3);\n",
       "\n",
       "        \n",
       "&lt;/script&gt;\n",
       "&lt;/html&gt;\" style=\"position:absolute;width:100%;height:100%;left:0;top:0;border:none !important;\" allowfullscreen webkitallowfullscreen mozallowfullscreen></iframe></div></div>"
      ],
      "text/plain": [
       "<folium.folium.Map at 0x2401d6cabe0>"
      ]
     },
     "execution_count": 36,
     "metadata": {},
     "output_type": "execute_result"
    }
   ],
   "source": [
    "# multiple markers using dictionary jan_24 predictions\n",
    "markers_dict = {\n",
    "'Philadelphia, -0.2': [39.9526, -75.1652], \n",
    "'Pittsburgh, -0.6': [40.4406, -79.9959], \n",
    "'Allentown, 0.8': [40.6084, -75.4902], \n",
    "'Harrisburg, -0.9': [40.2732, -76.8867], \n",
    "'Scranton, 3.0': [41.4080, -75.6624], \n",
    "'Lancaster, -0.3': [40.0379, -76.3055], \n",
    "'York, -1.2': [39.9626, -76.7277], \n",
    "'Reading, 0.7': [40.3356, -75.9277], \n",
    "'Erie, -0.8': [42.1292, -80.0851], \n",
    "'East Stroudsburg, 4.6': [41.0028, -75.1773], \n",
    "'State College, -1.7': [40.7934, -77.8600], \n",
    "'Chambersburg, 0.0': [39.9376, -77.6611], \n",
    "'Lebanon, -0.4': [40.3409, -76.4112], \n",
    "'Pottsville, 5.3': [40.6857, -76.1955], \n",
    "'Johnstown, 3.3': [40.3276, -78.9222], \n",
    "'Altoona, -1.9': [40.5187, -78.3947], \n",
    "'Williamsport, -2.9': [41.2412, -77.0011], \n",
    "'Gettysburg, -0.8': [39.8309, -77.2311], \n",
    "'Sunbury, 4.2': [40.8626, -76.7944], \n",
    "'New Castle, 1.4': [41.0037, -80.3470], \n",
    "'Meadville, 1.2': [41.6414, -80.1514], \n",
    "'Indiana, -2.0': [40.6215, -79.1528], \n",
    "'Bloomsburg, -0.6': [41.0047, -76.4549], \n",
    "'DuBois, 3.2': [41.1197, -78.7626], \n",
    "'Somerset, 0.8': [40.0054, -79.0781], \n",
    "'Sayre, -3.2': [41.9786, -76.5157], \n",
    "'Oil City, 0.9': [41.4309, -79.7076], \n",
    "'Lewistown, 2.8': [40.5993, -77.5712], \n",
    "'Huntingdon, -0.4': [40.4842, -78.0100], \n",
    "'Lewisburg, -1.1': [40.9645, -76.8844], \n",
    "'Bradford, 1.1': [41.9562, -78.6478], \n",
    "'Selinsgrove, 0.4': [40.7982, -76.8622], \n",
    "'Warren, -1.6': [41.8435, -79.1448], \n",
    "'Lock Haven, -3.0': [41.1373, -77.4469]}\n",
    "\n",
    "# create map\n",
    "map_cities = folium.Map(location=[41, -77], zoom_start=7, width=1200, height=900, control_scale=True)\n",
    "\n",
    "# plot locations\n",
    "for i in markers_dict.items():\n",
    "    folium.Marker(location=i[1], popup=i[0], icon=folium.Icon(color='green', icon='car', prefix='fa')\n",
    "    ).add_to(map_cities)\n",
    "\n",
    "# measure control\n",
    "measure_control = plugins.MeasureControl(position='topleft', active_color='blue', completed_color='green', primary_length_unit='miles')\n",
    "\n",
    "# add measure control to map\n",
    "map_cities.add_child(measure_control)\n",
    "# display map\n",
    "map_cities"
   ]
  },
  {
   "cell_type": "markdown",
   "metadata": {},
   "source": [
    "### Maryland Forecasts"
   ]
  },
  {
   "cell_type": "code",
   "execution_count": 37,
   "metadata": {},
   "outputs": [],
   "source": [
    "maryl2 = maryl.set_index('region')\n",
    "maryl2.drop(columns=['size_rank', 'state', 'base_date'], inplace=True)"
   ]
  },
  {
   "cell_type": "code",
   "execution_count": 38,
   "metadata": {},
   "outputs": [
    {
     "data": {
      "text/html": [
       "<div>\n",
       "<style scoped>\n",
       "    .dataframe tbody tr th:only-of-type {\n",
       "        vertical-align: middle;\n",
       "    }\n",
       "\n",
       "    .dataframe tbody tr th {\n",
       "        vertical-align: top;\n",
       "    }\n",
       "\n",
       "    .dataframe thead th {\n",
       "        text-align: right;\n",
       "    }\n",
       "</style>\n",
       "<table border=\"1\" class=\"dataframe\">\n",
       "  <thead>\n",
       "    <tr style=\"text-align: right;\">\n",
       "      <th></th>\n",
       "      <th>feb</th>\n",
       "      <th>apr</th>\n",
       "      <th>jan_24</th>\n",
       "    </tr>\n",
       "    <tr>\n",
       "      <th>region</th>\n",
       "      <th></th>\n",
       "      <th></th>\n",
       "      <th></th>\n",
       "    </tr>\n",
       "  </thead>\n",
       "  <tbody>\n",
       "    <tr>\n",
       "      <th>Baltimore, MD</th>\n",
       "      <td>0.3</td>\n",
       "      <td>0.2</td>\n",
       "      <td>-1.6</td>\n",
       "    </tr>\n",
       "    <tr>\n",
       "      <th>Hagerstown, MD</th>\n",
       "      <td>0.3</td>\n",
       "      <td>0.5</td>\n",
       "      <td>0.5</td>\n",
       "    </tr>\n",
       "    <tr>\n",
       "      <th>California, MD</th>\n",
       "      <td>0.1</td>\n",
       "      <td>-0.1</td>\n",
       "      <td>-1.9</td>\n",
       "    </tr>\n",
       "    <tr>\n",
       "      <th>Cumberland, MD</th>\n",
       "      <td>1.0</td>\n",
       "      <td>2.0</td>\n",
       "      <td>1.8</td>\n",
       "    </tr>\n",
       "    <tr>\n",
       "      <th>Easton, MD</th>\n",
       "      <td>-0.1</td>\n",
       "      <td>-0.2</td>\n",
       "      <td>-1.4</td>\n",
       "    </tr>\n",
       "    <tr>\n",
       "      <th>Cambridge, MD</th>\n",
       "      <td>0.8</td>\n",
       "      <td>1.6</td>\n",
       "      <td>2.3</td>\n",
       "    </tr>\n",
       "  </tbody>\n",
       "</table>\n",
       "</div>"
      ],
      "text/plain": [
       "                feb  apr  jan_24\n",
       "region                          \n",
       "Baltimore, MD   0.3  0.2    -1.6\n",
       "Hagerstown, MD  0.3  0.5     0.5\n",
       "California, MD  0.1 -0.1    -1.9\n",
       "Cumberland, MD  1.0  2.0     1.8\n",
       "Easton, MD     -0.1 -0.2    -1.4\n",
       "Cambridge, MD   0.8  1.6     2.3"
      ]
     },
     "execution_count": 38,
     "metadata": {},
     "output_type": "execute_result"
    }
   ],
   "source": [
    "maryl2"
   ]
  },
  {
   "cell_type": "code",
   "execution_count": 39,
   "metadata": {},
   "outputs": [
    {
     "data": {
      "application/vnd.plotly.v1+json": {
       "config": {
        "plotlyServerURL": "https://plot.ly"
       },
       "data": [
        {
         "hovertemplate": "variable=feb<br>region=%{x}<br>value=%{y}<extra></extra>",
         "legendgroup": "feb",
         "marker": {
          "color": "#636efa",
          "symbol": "circle"
         },
         "mode": "markers",
         "name": "feb",
         "orientation": "v",
         "showlegend": true,
         "type": "scatter",
         "x": [
          "Baltimore, MD",
          "Hagerstown, MD",
          "California, MD",
          "Cumberland, MD",
          "Easton, MD",
          "Cambridge, MD"
         ],
         "xaxis": "x",
         "y": [
          0.3,
          0.3,
          0.1,
          1,
          -0.1,
          0.8
         ],
         "yaxis": "y"
        },
        {
         "hovertemplate": "variable=apr<br>region=%{x}<br>value=%{y}<extra></extra>",
         "legendgroup": "apr",
         "marker": {
          "color": "#EF553B",
          "symbol": "circle"
         },
         "mode": "markers",
         "name": "apr",
         "orientation": "v",
         "showlegend": true,
         "type": "scatter",
         "x": [
          "Baltimore, MD",
          "Hagerstown, MD",
          "California, MD",
          "Cumberland, MD",
          "Easton, MD",
          "Cambridge, MD"
         ],
         "xaxis": "x",
         "y": [
          0.2,
          0.5,
          -0.1,
          2,
          -0.2,
          1.6
         ],
         "yaxis": "y"
        },
        {
         "hovertemplate": "variable=jan_24<br>region=%{x}<br>value=%{y}<extra></extra>",
         "legendgroup": "jan_24",
         "marker": {
          "color": "#00cc96",
          "symbol": "circle"
         },
         "mode": "markers",
         "name": "jan_24",
         "orientation": "v",
         "showlegend": true,
         "type": "scatter",
         "x": [
          "Baltimore, MD",
          "Hagerstown, MD",
          "California, MD",
          "Cumberland, MD",
          "Easton, MD",
          "Cambridge, MD"
         ],
         "xaxis": "x",
         "y": [
          -1.6,
          0.5,
          -1.9,
          1.8,
          -1.4,
          2.3
         ],
         "yaxis": "y"
        }
       ],
       "layout": {
        "legend": {
         "title": {
          "text": "variable"
         },
         "tracegroupgap": 0
        },
        "margin": {
         "t": 60
        },
        "template": {
         "data": {
          "bar": [
           {
            "error_x": {
             "color": "#2a3f5f"
            },
            "error_y": {
             "color": "#2a3f5f"
            },
            "marker": {
             "line": {
              "color": "#E5ECF6",
              "width": 0.5
             },
             "pattern": {
              "fillmode": "overlay",
              "size": 10,
              "solidity": 0.2
             }
            },
            "type": "bar"
           }
          ],
          "barpolar": [
           {
            "marker": {
             "line": {
              "color": "#E5ECF6",
              "width": 0.5
             },
             "pattern": {
              "fillmode": "overlay",
              "size": 10,
              "solidity": 0.2
             }
            },
            "type": "barpolar"
           }
          ],
          "carpet": [
           {
            "aaxis": {
             "endlinecolor": "#2a3f5f",
             "gridcolor": "white",
             "linecolor": "white",
             "minorgridcolor": "white",
             "startlinecolor": "#2a3f5f"
            },
            "baxis": {
             "endlinecolor": "#2a3f5f",
             "gridcolor": "white",
             "linecolor": "white",
             "minorgridcolor": "white",
             "startlinecolor": "#2a3f5f"
            },
            "type": "carpet"
           }
          ],
          "choropleth": [
           {
            "colorbar": {
             "outlinewidth": 0,
             "ticks": ""
            },
            "type": "choropleth"
           }
          ],
          "contour": [
           {
            "colorbar": {
             "outlinewidth": 0,
             "ticks": ""
            },
            "colorscale": [
             [
              0,
              "#0d0887"
             ],
             [
              0.1111111111111111,
              "#46039f"
             ],
             [
              0.2222222222222222,
              "#7201a8"
             ],
             [
              0.3333333333333333,
              "#9c179e"
             ],
             [
              0.4444444444444444,
              "#bd3786"
             ],
             [
              0.5555555555555556,
              "#d8576b"
             ],
             [
              0.6666666666666666,
              "#ed7953"
             ],
             [
              0.7777777777777778,
              "#fb9f3a"
             ],
             [
              0.8888888888888888,
              "#fdca26"
             ],
             [
              1,
              "#f0f921"
             ]
            ],
            "type": "contour"
           }
          ],
          "contourcarpet": [
           {
            "colorbar": {
             "outlinewidth": 0,
             "ticks": ""
            },
            "type": "contourcarpet"
           }
          ],
          "heatmap": [
           {
            "colorbar": {
             "outlinewidth": 0,
             "ticks": ""
            },
            "colorscale": [
             [
              0,
              "#0d0887"
             ],
             [
              0.1111111111111111,
              "#46039f"
             ],
             [
              0.2222222222222222,
              "#7201a8"
             ],
             [
              0.3333333333333333,
              "#9c179e"
             ],
             [
              0.4444444444444444,
              "#bd3786"
             ],
             [
              0.5555555555555556,
              "#d8576b"
             ],
             [
              0.6666666666666666,
              "#ed7953"
             ],
             [
              0.7777777777777778,
              "#fb9f3a"
             ],
             [
              0.8888888888888888,
              "#fdca26"
             ],
             [
              1,
              "#f0f921"
             ]
            ],
            "type": "heatmap"
           }
          ],
          "heatmapgl": [
           {
            "colorbar": {
             "outlinewidth": 0,
             "ticks": ""
            },
            "colorscale": [
             [
              0,
              "#0d0887"
             ],
             [
              0.1111111111111111,
              "#46039f"
             ],
             [
              0.2222222222222222,
              "#7201a8"
             ],
             [
              0.3333333333333333,
              "#9c179e"
             ],
             [
              0.4444444444444444,
              "#bd3786"
             ],
             [
              0.5555555555555556,
              "#d8576b"
             ],
             [
              0.6666666666666666,
              "#ed7953"
             ],
             [
              0.7777777777777778,
              "#fb9f3a"
             ],
             [
              0.8888888888888888,
              "#fdca26"
             ],
             [
              1,
              "#f0f921"
             ]
            ],
            "type": "heatmapgl"
           }
          ],
          "histogram": [
           {
            "marker": {
             "pattern": {
              "fillmode": "overlay",
              "size": 10,
              "solidity": 0.2
             }
            },
            "type": "histogram"
           }
          ],
          "histogram2d": [
           {
            "colorbar": {
             "outlinewidth": 0,
             "ticks": ""
            },
            "colorscale": [
             [
              0,
              "#0d0887"
             ],
             [
              0.1111111111111111,
              "#46039f"
             ],
             [
              0.2222222222222222,
              "#7201a8"
             ],
             [
              0.3333333333333333,
              "#9c179e"
             ],
             [
              0.4444444444444444,
              "#bd3786"
             ],
             [
              0.5555555555555556,
              "#d8576b"
             ],
             [
              0.6666666666666666,
              "#ed7953"
             ],
             [
              0.7777777777777778,
              "#fb9f3a"
             ],
             [
              0.8888888888888888,
              "#fdca26"
             ],
             [
              1,
              "#f0f921"
             ]
            ],
            "type": "histogram2d"
           }
          ],
          "histogram2dcontour": [
           {
            "colorbar": {
             "outlinewidth": 0,
             "ticks": ""
            },
            "colorscale": [
             [
              0,
              "#0d0887"
             ],
             [
              0.1111111111111111,
              "#46039f"
             ],
             [
              0.2222222222222222,
              "#7201a8"
             ],
             [
              0.3333333333333333,
              "#9c179e"
             ],
             [
              0.4444444444444444,
              "#bd3786"
             ],
             [
              0.5555555555555556,
              "#d8576b"
             ],
             [
              0.6666666666666666,
              "#ed7953"
             ],
             [
              0.7777777777777778,
              "#fb9f3a"
             ],
             [
              0.8888888888888888,
              "#fdca26"
             ],
             [
              1,
              "#f0f921"
             ]
            ],
            "type": "histogram2dcontour"
           }
          ],
          "mesh3d": [
           {
            "colorbar": {
             "outlinewidth": 0,
             "ticks": ""
            },
            "type": "mesh3d"
           }
          ],
          "parcoords": [
           {
            "line": {
             "colorbar": {
              "outlinewidth": 0,
              "ticks": ""
             }
            },
            "type": "parcoords"
           }
          ],
          "pie": [
           {
            "automargin": true,
            "type": "pie"
           }
          ],
          "scatter": [
           {
            "marker": {
             "colorbar": {
              "outlinewidth": 0,
              "ticks": ""
             }
            },
            "type": "scatter"
           }
          ],
          "scatter3d": [
           {
            "line": {
             "colorbar": {
              "outlinewidth": 0,
              "ticks": ""
             }
            },
            "marker": {
             "colorbar": {
              "outlinewidth": 0,
              "ticks": ""
             }
            },
            "type": "scatter3d"
           }
          ],
          "scattercarpet": [
           {
            "marker": {
             "colorbar": {
              "outlinewidth": 0,
              "ticks": ""
             }
            },
            "type": "scattercarpet"
           }
          ],
          "scattergeo": [
           {
            "marker": {
             "colorbar": {
              "outlinewidth": 0,
              "ticks": ""
             }
            },
            "type": "scattergeo"
           }
          ],
          "scattergl": [
           {
            "marker": {
             "colorbar": {
              "outlinewidth": 0,
              "ticks": ""
             }
            },
            "type": "scattergl"
           }
          ],
          "scattermapbox": [
           {
            "marker": {
             "colorbar": {
              "outlinewidth": 0,
              "ticks": ""
             }
            },
            "type": "scattermapbox"
           }
          ],
          "scatterpolar": [
           {
            "marker": {
             "colorbar": {
              "outlinewidth": 0,
              "ticks": ""
             }
            },
            "type": "scatterpolar"
           }
          ],
          "scatterpolargl": [
           {
            "marker": {
             "colorbar": {
              "outlinewidth": 0,
              "ticks": ""
             }
            },
            "type": "scatterpolargl"
           }
          ],
          "scatterternary": [
           {
            "marker": {
             "colorbar": {
              "outlinewidth": 0,
              "ticks": ""
             }
            },
            "type": "scatterternary"
           }
          ],
          "surface": [
           {
            "colorbar": {
             "outlinewidth": 0,
             "ticks": ""
            },
            "colorscale": [
             [
              0,
              "#0d0887"
             ],
             [
              0.1111111111111111,
              "#46039f"
             ],
             [
              0.2222222222222222,
              "#7201a8"
             ],
             [
              0.3333333333333333,
              "#9c179e"
             ],
             [
              0.4444444444444444,
              "#bd3786"
             ],
             [
              0.5555555555555556,
              "#d8576b"
             ],
             [
              0.6666666666666666,
              "#ed7953"
             ],
             [
              0.7777777777777778,
              "#fb9f3a"
             ],
             [
              0.8888888888888888,
              "#fdca26"
             ],
             [
              1,
              "#f0f921"
             ]
            ],
            "type": "surface"
           }
          ],
          "table": [
           {
            "cells": {
             "fill": {
              "color": "#EBF0F8"
             },
             "line": {
              "color": "white"
             }
            },
            "header": {
             "fill": {
              "color": "#C8D4E3"
             },
             "line": {
              "color": "white"
             }
            },
            "type": "table"
           }
          ]
         },
         "layout": {
          "annotationdefaults": {
           "arrowcolor": "#2a3f5f",
           "arrowhead": 0,
           "arrowwidth": 1
          },
          "autotypenumbers": "strict",
          "coloraxis": {
           "colorbar": {
            "outlinewidth": 0,
            "ticks": ""
           }
          },
          "colorscale": {
           "diverging": [
            [
             0,
             "#8e0152"
            ],
            [
             0.1,
             "#c51b7d"
            ],
            [
             0.2,
             "#de77ae"
            ],
            [
             0.3,
             "#f1b6da"
            ],
            [
             0.4,
             "#fde0ef"
            ],
            [
             0.5,
             "#f7f7f7"
            ],
            [
             0.6,
             "#e6f5d0"
            ],
            [
             0.7,
             "#b8e186"
            ],
            [
             0.8,
             "#7fbc41"
            ],
            [
             0.9,
             "#4d9221"
            ],
            [
             1,
             "#276419"
            ]
           ],
           "sequential": [
            [
             0,
             "#0d0887"
            ],
            [
             0.1111111111111111,
             "#46039f"
            ],
            [
             0.2222222222222222,
             "#7201a8"
            ],
            [
             0.3333333333333333,
             "#9c179e"
            ],
            [
             0.4444444444444444,
             "#bd3786"
            ],
            [
             0.5555555555555556,
             "#d8576b"
            ],
            [
             0.6666666666666666,
             "#ed7953"
            ],
            [
             0.7777777777777778,
             "#fb9f3a"
            ],
            [
             0.8888888888888888,
             "#fdca26"
            ],
            [
             1,
             "#f0f921"
            ]
           ],
           "sequentialminus": [
            [
             0,
             "#0d0887"
            ],
            [
             0.1111111111111111,
             "#46039f"
            ],
            [
             0.2222222222222222,
             "#7201a8"
            ],
            [
             0.3333333333333333,
             "#9c179e"
            ],
            [
             0.4444444444444444,
             "#bd3786"
            ],
            [
             0.5555555555555556,
             "#d8576b"
            ],
            [
             0.6666666666666666,
             "#ed7953"
            ],
            [
             0.7777777777777778,
             "#fb9f3a"
            ],
            [
             0.8888888888888888,
             "#fdca26"
            ],
            [
             1,
             "#f0f921"
            ]
           ]
          },
          "colorway": [
           "#636efa",
           "#EF553B",
           "#00cc96",
           "#ab63fa",
           "#FFA15A",
           "#19d3f3",
           "#FF6692",
           "#B6E880",
           "#FF97FF",
           "#FECB52"
          ],
          "font": {
           "color": "#2a3f5f"
          },
          "geo": {
           "bgcolor": "white",
           "lakecolor": "white",
           "landcolor": "#E5ECF6",
           "showlakes": true,
           "showland": true,
           "subunitcolor": "white"
          },
          "hoverlabel": {
           "align": "left"
          },
          "hovermode": "closest",
          "mapbox": {
           "style": "light"
          },
          "paper_bgcolor": "white",
          "plot_bgcolor": "#E5ECF6",
          "polar": {
           "angularaxis": {
            "gridcolor": "white",
            "linecolor": "white",
            "ticks": ""
           },
           "bgcolor": "#E5ECF6",
           "radialaxis": {
            "gridcolor": "white",
            "linecolor": "white",
            "ticks": ""
           }
          },
          "scene": {
           "xaxis": {
            "backgroundcolor": "#E5ECF6",
            "gridcolor": "white",
            "gridwidth": 2,
            "linecolor": "white",
            "showbackground": true,
            "ticks": "",
            "zerolinecolor": "white"
           },
           "yaxis": {
            "backgroundcolor": "#E5ECF6",
            "gridcolor": "white",
            "gridwidth": 2,
            "linecolor": "white",
            "showbackground": true,
            "ticks": "",
            "zerolinecolor": "white"
           },
           "zaxis": {
            "backgroundcolor": "#E5ECF6",
            "gridcolor": "white",
            "gridwidth": 2,
            "linecolor": "white",
            "showbackground": true,
            "ticks": "",
            "zerolinecolor": "white"
           }
          },
          "shapedefaults": {
           "line": {
            "color": "#2a3f5f"
           }
          },
          "ternary": {
           "aaxis": {
            "gridcolor": "white",
            "linecolor": "white",
            "ticks": ""
           },
           "baxis": {
            "gridcolor": "white",
            "linecolor": "white",
            "ticks": ""
           },
           "bgcolor": "#E5ECF6",
           "caxis": {
            "gridcolor": "white",
            "linecolor": "white",
            "ticks": ""
           }
          },
          "title": {
           "x": 0.05
          },
          "xaxis": {
           "automargin": true,
           "gridcolor": "white",
           "linecolor": "white",
           "ticks": "",
           "title": {
            "standoff": 15
           },
           "zerolinecolor": "white",
           "zerolinewidth": 2
          },
          "yaxis": {
           "automargin": true,
           "gridcolor": "white",
           "linecolor": "white",
           "ticks": "",
           "title": {
            "standoff": 15
           },
           "zerolinecolor": "white",
           "zerolinewidth": 2
          }
         }
        },
        "xaxis": {
         "anchor": "y",
         "domain": [
          0,
          1
         ],
         "title": {
          "text": "region"
         }
        },
        "yaxis": {
         "anchor": "x",
         "domain": [
          0,
          1
         ],
         "title": {
          "text": "value"
         }
        }
       }
      }
     },
     "metadata": {},
     "output_type": "display_data"
    }
   ],
   "source": [
    "px.scatter(maryl2, title='\"old code.txt\"')"
   ]
  },
  {
   "cell_type": "code",
   "execution_count": 40,
   "metadata": {},
   "outputs": [
    {
     "data": {
      "application/vnd.plotly.v1+json": {
       "config": {
        "plotlyServerURL": "https://plot.ly"
       },
       "data": [
        {
         "alignmentgroup": "True",
         "hovertemplate": "region=%{x}<br>value=%{y}<extra></extra>",
         "legendgroup": "",
         "marker": {
          "color": "whitesmoke"
         },
         "name": "",
         "notched": false,
         "offsetgroup": "",
         "orientation": "v",
         "showlegend": false,
         "type": "box",
         "x": [
          "Baltimore, MD",
          "Hagerstown, MD",
          "California, MD",
          "Cumberland, MD",
          "Easton, MD",
          "Cambridge, MD",
          "Baltimore, MD",
          "Hagerstown, MD",
          "California, MD",
          "Cumberland, MD",
          "Easton, MD",
          "Cambridge, MD",
          "Baltimore, MD",
          "Hagerstown, MD",
          "California, MD",
          "Cumberland, MD",
          "Easton, MD",
          "Cambridge, MD"
         ],
         "x0": " ",
         "xaxis": "x",
         "y": [
          0.3,
          0.3,
          0.1,
          1,
          -0.1,
          0.8,
          0.2,
          0.5,
          -0.1,
          2,
          -0.2,
          1.6,
          -1.6,
          0.5,
          -1.9,
          1.8,
          -1.4,
          2.3
         ],
         "y0": " ",
         "yaxis": "y"
        }
       ],
       "layout": {
        "boxmode": "group",
        "height": 900,
        "legend": {
         "tracegroupgap": 0
        },
        "template": {
         "data": {
          "bar": [
           {
            "error_x": {
             "color": "#f2f5fa"
            },
            "error_y": {
             "color": "#f2f5fa"
            },
            "marker": {
             "line": {
              "color": "rgb(17,17,17)",
              "width": 0.5
             },
             "pattern": {
              "fillmode": "overlay",
              "size": 10,
              "solidity": 0.2
             }
            },
            "type": "bar"
           }
          ],
          "barpolar": [
           {
            "marker": {
             "line": {
              "color": "rgb(17,17,17)",
              "width": 0.5
             },
             "pattern": {
              "fillmode": "overlay",
              "size": 10,
              "solidity": 0.2
             }
            },
            "type": "barpolar"
           }
          ],
          "carpet": [
           {
            "aaxis": {
             "endlinecolor": "#A2B1C6",
             "gridcolor": "#506784",
             "linecolor": "#506784",
             "minorgridcolor": "#506784",
             "startlinecolor": "#A2B1C6"
            },
            "baxis": {
             "endlinecolor": "#A2B1C6",
             "gridcolor": "#506784",
             "linecolor": "#506784",
             "minorgridcolor": "#506784",
             "startlinecolor": "#A2B1C6"
            },
            "type": "carpet"
           }
          ],
          "choropleth": [
           {
            "colorbar": {
             "outlinewidth": 0,
             "ticks": ""
            },
            "type": "choropleth"
           }
          ],
          "contour": [
           {
            "colorbar": {
             "outlinewidth": 0,
             "ticks": ""
            },
            "colorscale": [
             [
              0,
              "#0d0887"
             ],
             [
              0.1111111111111111,
              "#46039f"
             ],
             [
              0.2222222222222222,
              "#7201a8"
             ],
             [
              0.3333333333333333,
              "#9c179e"
             ],
             [
              0.4444444444444444,
              "#bd3786"
             ],
             [
              0.5555555555555556,
              "#d8576b"
             ],
             [
              0.6666666666666666,
              "#ed7953"
             ],
             [
              0.7777777777777778,
              "#fb9f3a"
             ],
             [
              0.8888888888888888,
              "#fdca26"
             ],
             [
              1,
              "#f0f921"
             ]
            ],
            "type": "contour"
           }
          ],
          "contourcarpet": [
           {
            "colorbar": {
             "outlinewidth": 0,
             "ticks": ""
            },
            "type": "contourcarpet"
           }
          ],
          "heatmap": [
           {
            "colorbar": {
             "outlinewidth": 0,
             "ticks": ""
            },
            "colorscale": [
             [
              0,
              "#0d0887"
             ],
             [
              0.1111111111111111,
              "#46039f"
             ],
             [
              0.2222222222222222,
              "#7201a8"
             ],
             [
              0.3333333333333333,
              "#9c179e"
             ],
             [
              0.4444444444444444,
              "#bd3786"
             ],
             [
              0.5555555555555556,
              "#d8576b"
             ],
             [
              0.6666666666666666,
              "#ed7953"
             ],
             [
              0.7777777777777778,
              "#fb9f3a"
             ],
             [
              0.8888888888888888,
              "#fdca26"
             ],
             [
              1,
              "#f0f921"
             ]
            ],
            "type": "heatmap"
           }
          ],
          "heatmapgl": [
           {
            "colorbar": {
             "outlinewidth": 0,
             "ticks": ""
            },
            "colorscale": [
             [
              0,
              "#0d0887"
             ],
             [
              0.1111111111111111,
              "#46039f"
             ],
             [
              0.2222222222222222,
              "#7201a8"
             ],
             [
              0.3333333333333333,
              "#9c179e"
             ],
             [
              0.4444444444444444,
              "#bd3786"
             ],
             [
              0.5555555555555556,
              "#d8576b"
             ],
             [
              0.6666666666666666,
              "#ed7953"
             ],
             [
              0.7777777777777778,
              "#fb9f3a"
             ],
             [
              0.8888888888888888,
              "#fdca26"
             ],
             [
              1,
              "#f0f921"
             ]
            ],
            "type": "heatmapgl"
           }
          ],
          "histogram": [
           {
            "marker": {
             "pattern": {
              "fillmode": "overlay",
              "size": 10,
              "solidity": 0.2
             }
            },
            "type": "histogram"
           }
          ],
          "histogram2d": [
           {
            "colorbar": {
             "outlinewidth": 0,
             "ticks": ""
            },
            "colorscale": [
             [
              0,
              "#0d0887"
             ],
             [
              0.1111111111111111,
              "#46039f"
             ],
             [
              0.2222222222222222,
              "#7201a8"
             ],
             [
              0.3333333333333333,
              "#9c179e"
             ],
             [
              0.4444444444444444,
              "#bd3786"
             ],
             [
              0.5555555555555556,
              "#d8576b"
             ],
             [
              0.6666666666666666,
              "#ed7953"
             ],
             [
              0.7777777777777778,
              "#fb9f3a"
             ],
             [
              0.8888888888888888,
              "#fdca26"
             ],
             [
              1,
              "#f0f921"
             ]
            ],
            "type": "histogram2d"
           }
          ],
          "histogram2dcontour": [
           {
            "colorbar": {
             "outlinewidth": 0,
             "ticks": ""
            },
            "colorscale": [
             [
              0,
              "#0d0887"
             ],
             [
              0.1111111111111111,
              "#46039f"
             ],
             [
              0.2222222222222222,
              "#7201a8"
             ],
             [
              0.3333333333333333,
              "#9c179e"
             ],
             [
              0.4444444444444444,
              "#bd3786"
             ],
             [
              0.5555555555555556,
              "#d8576b"
             ],
             [
              0.6666666666666666,
              "#ed7953"
             ],
             [
              0.7777777777777778,
              "#fb9f3a"
             ],
             [
              0.8888888888888888,
              "#fdca26"
             ],
             [
              1,
              "#f0f921"
             ]
            ],
            "type": "histogram2dcontour"
           }
          ],
          "mesh3d": [
           {
            "colorbar": {
             "outlinewidth": 0,
             "ticks": ""
            },
            "type": "mesh3d"
           }
          ],
          "parcoords": [
           {
            "line": {
             "colorbar": {
              "outlinewidth": 0,
              "ticks": ""
             }
            },
            "type": "parcoords"
           }
          ],
          "pie": [
           {
            "automargin": true,
            "type": "pie"
           }
          ],
          "scatter": [
           {
            "marker": {
             "line": {
              "color": "#283442"
             }
            },
            "type": "scatter"
           }
          ],
          "scatter3d": [
           {
            "line": {
             "colorbar": {
              "outlinewidth": 0,
              "ticks": ""
             }
            },
            "marker": {
             "colorbar": {
              "outlinewidth": 0,
              "ticks": ""
             }
            },
            "type": "scatter3d"
           }
          ],
          "scattercarpet": [
           {
            "marker": {
             "colorbar": {
              "outlinewidth": 0,
              "ticks": ""
             }
            },
            "type": "scattercarpet"
           }
          ],
          "scattergeo": [
           {
            "marker": {
             "colorbar": {
              "outlinewidth": 0,
              "ticks": ""
             }
            },
            "type": "scattergeo"
           }
          ],
          "scattergl": [
           {
            "marker": {
             "line": {
              "color": "#283442"
             }
            },
            "type": "scattergl"
           }
          ],
          "scattermapbox": [
           {
            "marker": {
             "colorbar": {
              "outlinewidth": 0,
              "ticks": ""
             }
            },
            "type": "scattermapbox"
           }
          ],
          "scatterpolar": [
           {
            "marker": {
             "colorbar": {
              "outlinewidth": 0,
              "ticks": ""
             }
            },
            "type": "scatterpolar"
           }
          ],
          "scatterpolargl": [
           {
            "marker": {
             "colorbar": {
              "outlinewidth": 0,
              "ticks": ""
             }
            },
            "type": "scatterpolargl"
           }
          ],
          "scatterternary": [
           {
            "marker": {
             "colorbar": {
              "outlinewidth": 0,
              "ticks": ""
             }
            },
            "type": "scatterternary"
           }
          ],
          "surface": [
           {
            "colorbar": {
             "outlinewidth": 0,
             "ticks": ""
            },
            "colorscale": [
             [
              0,
              "#0d0887"
             ],
             [
              0.1111111111111111,
              "#46039f"
             ],
             [
              0.2222222222222222,
              "#7201a8"
             ],
             [
              0.3333333333333333,
              "#9c179e"
             ],
             [
              0.4444444444444444,
              "#bd3786"
             ],
             [
              0.5555555555555556,
              "#d8576b"
             ],
             [
              0.6666666666666666,
              "#ed7953"
             ],
             [
              0.7777777777777778,
              "#fb9f3a"
             ],
             [
              0.8888888888888888,
              "#fdca26"
             ],
             [
              1,
              "#f0f921"
             ]
            ],
            "type": "surface"
           }
          ],
          "table": [
           {
            "cells": {
             "fill": {
              "color": "#506784"
             },
             "line": {
              "color": "rgb(17,17,17)"
             }
            },
            "header": {
             "fill": {
              "color": "#2a3f5f"
             },
             "line": {
              "color": "rgb(17,17,17)"
             }
            },
            "type": "table"
           }
          ]
         },
         "layout": {
          "annotationdefaults": {
           "arrowcolor": "#f2f5fa",
           "arrowhead": 0,
           "arrowwidth": 1
          },
          "autotypenumbers": "strict",
          "coloraxis": {
           "colorbar": {
            "outlinewidth": 0,
            "ticks": ""
           }
          },
          "colorscale": {
           "diverging": [
            [
             0,
             "#8e0152"
            ],
            [
             0.1,
             "#c51b7d"
            ],
            [
             0.2,
             "#de77ae"
            ],
            [
             0.3,
             "#f1b6da"
            ],
            [
             0.4,
             "#fde0ef"
            ],
            [
             0.5,
             "#f7f7f7"
            ],
            [
             0.6,
             "#e6f5d0"
            ],
            [
             0.7,
             "#b8e186"
            ],
            [
             0.8,
             "#7fbc41"
            ],
            [
             0.9,
             "#4d9221"
            ],
            [
             1,
             "#276419"
            ]
           ],
           "sequential": [
            [
             0,
             "#0d0887"
            ],
            [
             0.1111111111111111,
             "#46039f"
            ],
            [
             0.2222222222222222,
             "#7201a8"
            ],
            [
             0.3333333333333333,
             "#9c179e"
            ],
            [
             0.4444444444444444,
             "#bd3786"
            ],
            [
             0.5555555555555556,
             "#d8576b"
            ],
            [
             0.6666666666666666,
             "#ed7953"
            ],
            [
             0.7777777777777778,
             "#fb9f3a"
            ],
            [
             0.8888888888888888,
             "#fdca26"
            ],
            [
             1,
             "#f0f921"
            ]
           ],
           "sequentialminus": [
            [
             0,
             "#0d0887"
            ],
            [
             0.1111111111111111,
             "#46039f"
            ],
            [
             0.2222222222222222,
             "#7201a8"
            ],
            [
             0.3333333333333333,
             "#9c179e"
            ],
            [
             0.4444444444444444,
             "#bd3786"
            ],
            [
             0.5555555555555556,
             "#d8576b"
            ],
            [
             0.6666666666666666,
             "#ed7953"
            ],
            [
             0.7777777777777778,
             "#fb9f3a"
            ],
            [
             0.8888888888888888,
             "#fdca26"
            ],
            [
             1,
             "#f0f921"
            ]
           ]
          },
          "colorway": [
           "#636efa",
           "#EF553B",
           "#00cc96",
           "#ab63fa",
           "#FFA15A",
           "#19d3f3",
           "#FF6692",
           "#B6E880",
           "#FF97FF",
           "#FECB52"
          ],
          "font": {
           "color": "#f2f5fa"
          },
          "geo": {
           "bgcolor": "rgb(17,17,17)",
           "lakecolor": "rgb(17,17,17)",
           "landcolor": "rgb(17,17,17)",
           "showlakes": true,
           "showland": true,
           "subunitcolor": "#506784"
          },
          "hoverlabel": {
           "align": "left"
          },
          "hovermode": "closest",
          "mapbox": {
           "style": "dark"
          },
          "paper_bgcolor": "rgb(17,17,17)",
          "plot_bgcolor": "rgb(17,17,17)",
          "polar": {
           "angularaxis": {
            "gridcolor": "#506784",
            "linecolor": "#506784",
            "ticks": ""
           },
           "bgcolor": "rgb(17,17,17)",
           "radialaxis": {
            "gridcolor": "#506784",
            "linecolor": "#506784",
            "ticks": ""
           }
          },
          "scene": {
           "xaxis": {
            "backgroundcolor": "rgb(17,17,17)",
            "gridcolor": "#506784",
            "gridwidth": 2,
            "linecolor": "#506784",
            "showbackground": true,
            "ticks": "",
            "zerolinecolor": "#C8D4E3"
           },
           "yaxis": {
            "backgroundcolor": "rgb(17,17,17)",
            "gridcolor": "#506784",
            "gridwidth": 2,
            "linecolor": "#506784",
            "showbackground": true,
            "ticks": "",
            "zerolinecolor": "#C8D4E3"
           },
           "zaxis": {
            "backgroundcolor": "rgb(17,17,17)",
            "gridcolor": "#506784",
            "gridwidth": 2,
            "linecolor": "#506784",
            "showbackground": true,
            "ticks": "",
            "zerolinecolor": "#C8D4E3"
           }
          },
          "shapedefaults": {
           "line": {
            "color": "#f2f5fa"
           }
          },
          "sliderdefaults": {
           "bgcolor": "#C8D4E3",
           "bordercolor": "rgb(17,17,17)",
           "borderwidth": 1,
           "tickwidth": 0
          },
          "ternary": {
           "aaxis": {
            "gridcolor": "#506784",
            "linecolor": "#506784",
            "ticks": ""
           },
           "baxis": {
            "gridcolor": "#506784",
            "linecolor": "#506784",
            "ticks": ""
           },
           "bgcolor": "rgb(17,17,17)",
           "caxis": {
            "gridcolor": "#506784",
            "linecolor": "#506784",
            "ticks": ""
           }
          },
          "title": {
           "x": 0.05
          },
          "updatemenudefaults": {
           "bgcolor": "#506784",
           "borderwidth": 0
          },
          "xaxis": {
           "automargin": true,
           "gridcolor": "#283442",
           "linecolor": "#506784",
           "ticks": "",
           "title": {
            "standoff": 15
           },
           "zerolinecolor": "#283442",
           "zerolinewidth": 2
          },
          "yaxis": {
           "automargin": true,
           "gridcolor": "#283442",
           "linecolor": "#506784",
           "ticks": "",
           "title": {
            "standoff": 15
           },
           "zerolinecolor": "#283442",
           "zerolinewidth": 2
          }
         }
        },
        "title": {
         "text": "Maryland Regional Value Forecasts"
        },
        "width": 1400,
        "xaxis": {
         "anchor": "y",
         "domain": [
          0,
          1
         ],
         "title": {
          "text": "region"
         }
        },
        "yaxis": {
         "anchor": "x",
         "domain": [
          0,
          1
         ],
         "title": {
          "text": "value"
         }
        }
       }
      }
     },
     "metadata": {},
     "output_type": "display_data"
    }
   ],
   "source": [
    "px.box(maryl, y=['feb', 'apr', 'jan_24'], x=maryl.region, title='Maryland Regional Value Forecasts', template='plotly_dark', color_discrete_sequence=['whitesmoke', 'orange', 'white'], height=900, width=1400)"
   ]
  },
  {
   "cell_type": "code",
   "execution_count": 41,
   "metadata": {},
   "outputs": [
    {
     "data": {
      "text/plain": [
       "21    -1.6\n",
       "167    0.5\n",
       "349   -1.9\n",
       "394    1.8\n",
       "717   -1.4\n",
       "774    2.3\n",
       "Name: jan_24, dtype: float64"
      ]
     },
     "execution_count": 41,
     "metadata": {},
     "output_type": "execute_result"
    }
   ],
   "source": [
    "maryl.jan_24"
   ]
  },
  {
   "cell_type": "code",
   "execution_count": 42,
   "metadata": {},
   "outputs": [
    {
     "data": {
      "text/html": [
       "<div style=\"width:100%;\"><div style=\"position:relative;width:100%;height:0;padding-bottom:60%;\"><span style=\"color:#565656\">Make this Notebook Trusted to load map: File -> Trust Notebook</span><iframe srcdoc=\"&lt;!DOCTYPE html&gt;\n",
       "&lt;html&gt;\n",
       "&lt;head&gt;\n",
       "    \n",
       "    &lt;meta http-equiv=&quot;content-type&quot; content=&quot;text/html; charset=UTF-8&quot; /&gt;\n",
       "    \n",
       "        &lt;script&gt;\n",
       "            L_NO_TOUCH = false;\n",
       "            L_DISABLE_3D = false;\n",
       "        &lt;/script&gt;\n",
       "    \n",
       "    &lt;style&gt;html, body {width: 100%;height: 100%;margin: 0;padding: 0;}&lt;/style&gt;\n",
       "    &lt;style&gt;#map {position:absolute;top:0;bottom:0;right:0;left:0;}&lt;/style&gt;\n",
       "    &lt;script src=&quot;https://cdn.jsdelivr.net/npm/leaflet@1.6.0/dist/leaflet.js&quot;&gt;&lt;/script&gt;\n",
       "    &lt;script src=&quot;https://code.jquery.com/jquery-1.12.4.min.js&quot;&gt;&lt;/script&gt;\n",
       "    &lt;script src=&quot;https://maxcdn.bootstrapcdn.com/bootstrap/3.2.0/js/bootstrap.min.js&quot;&gt;&lt;/script&gt;\n",
       "    &lt;script src=&quot;https://cdnjs.cloudflare.com/ajax/libs/Leaflet.awesome-markers/2.0.2/leaflet.awesome-markers.js&quot;&gt;&lt;/script&gt;\n",
       "    &lt;link rel=&quot;stylesheet&quot; href=&quot;https://cdn.jsdelivr.net/npm/leaflet@1.6.0/dist/leaflet.css&quot;/&gt;\n",
       "    &lt;link rel=&quot;stylesheet&quot; href=&quot;https://maxcdn.bootstrapcdn.com/bootstrap/3.2.0/css/bootstrap.min.css&quot;/&gt;\n",
       "    &lt;link rel=&quot;stylesheet&quot; href=&quot;https://maxcdn.bootstrapcdn.com/bootstrap/3.2.0/css/bootstrap-theme.min.css&quot;/&gt;\n",
       "    &lt;link rel=&quot;stylesheet&quot; href=&quot;https://maxcdn.bootstrapcdn.com/font-awesome/4.6.3/css/font-awesome.min.css&quot;/&gt;\n",
       "    &lt;link rel=&quot;stylesheet&quot; href=&quot;https://cdnjs.cloudflare.com/ajax/libs/Leaflet.awesome-markers/2.0.2/leaflet.awesome-markers.css&quot;/&gt;\n",
       "    &lt;link rel=&quot;stylesheet&quot; href=&quot;https://cdn.jsdelivr.net/gh/python-visualization/folium/folium/templates/leaflet.awesome.rotate.min.css&quot;/&gt;\n",
       "    \n",
       "            &lt;meta name=&quot;viewport&quot; content=&quot;width=device-width,\n",
       "                initial-scale=1.0, maximum-scale=1.0, user-scalable=no&quot; /&gt;\n",
       "            &lt;style&gt;\n",
       "                #map_95b84012c41da64502d547dc75dbc963 {\n",
       "                    position: relative;\n",
       "                    width: 1200.0px;\n",
       "                    height: 900.0px;\n",
       "                    left: 0.0%;\n",
       "                    top: 0.0%;\n",
       "                }\n",
       "            &lt;/style&gt;\n",
       "        \n",
       "    &lt;script src=&quot;https://cdn.jsdelivr.net/gh/ljagis/leaflet-measure@2.1.7/dist/leaflet-measure.min.js&quot;&gt;&lt;/script&gt;\n",
       "    &lt;link rel=&quot;stylesheet&quot; href=&quot;https://cdn.jsdelivr.net/gh/ljagis/leaflet-measure@2.1.7/dist/leaflet-measure.min.css&quot;/&gt;\n",
       "&lt;/head&gt;\n",
       "&lt;body&gt;\n",
       "    \n",
       "    \n",
       "            &lt;div class=&quot;folium-map&quot; id=&quot;map_95b84012c41da64502d547dc75dbc963&quot; &gt;&lt;/div&gt;\n",
       "        \n",
       "&lt;/body&gt;\n",
       "&lt;script&gt;\n",
       "    \n",
       "    \n",
       "            var map_95b84012c41da64502d547dc75dbc963 = L.map(\n",
       "                &quot;map_95b84012c41da64502d547dc75dbc963&quot;,\n",
       "                {\n",
       "                    center: [39.0, -76.6],\n",
       "                    crs: L.CRS.EPSG3857,\n",
       "                    zoom: 7,\n",
       "                    zoomControl: true,\n",
       "                    preferCanvas: false,\n",
       "                }\n",
       "            );\n",
       "            L.control.scale().addTo(map_95b84012c41da64502d547dc75dbc963);\n",
       "\n",
       "            \n",
       "\n",
       "        \n",
       "    \n",
       "            var tile_layer_5863d90f4cddf82c994ddfab0b8e5449 = L.tileLayer(\n",
       "                &quot;https://{s}.tile.openstreetmap.org/{z}/{x}/{y}.png&quot;,\n",
       "                {&quot;attribution&quot;: &quot;Data by \\u0026copy; \\u003ca href=\\&quot;http://openstreetmap.org\\&quot;\\u003eOpenStreetMap\\u003c/a\\u003e, under \\u003ca href=\\&quot;http://www.openstreetmap.org/copyright\\&quot;\\u003eODbL\\u003c/a\\u003e.&quot;, &quot;detectRetina&quot;: false, &quot;maxNativeZoom&quot;: 18, &quot;maxZoom&quot;: 18, &quot;minZoom&quot;: 0, &quot;noWrap&quot;: false, &quot;opacity&quot;: 1, &quot;subdomains&quot;: &quot;abc&quot;, &quot;tms&quot;: false}\n",
       "            ).addTo(map_95b84012c41da64502d547dc75dbc963);\n",
       "        \n",
       "    \n",
       "            var marker_902cee50b0f03c765bab200f65fb7262 = L.marker(\n",
       "                [39.2904, -76.6122],\n",
       "                {}\n",
       "            ).addTo(map_95b84012c41da64502d547dc75dbc963);\n",
       "        \n",
       "    \n",
       "            var icon_20a58d7c2381756b0a105bc73751eeba = L.AwesomeMarkers.icon(\n",
       "                {&quot;extraClasses&quot;: &quot;fa-rotate-0&quot;, &quot;icon&quot;: &quot;car&quot;, &quot;iconColor&quot;: &quot;white&quot;, &quot;markerColor&quot;: &quot;green&quot;, &quot;prefix&quot;: &quot;fa&quot;}\n",
       "            );\n",
       "            marker_902cee50b0f03c765bab200f65fb7262.setIcon(icon_20a58d7c2381756b0a105bc73751eeba);\n",
       "        \n",
       "    \n",
       "        var popup_103dad3481ced9663d29733d4f9796d6 = L.popup({&quot;maxWidth&quot;: &quot;100%&quot;});\n",
       "\n",
       "        \n",
       "            \n",
       "                var html_9b7d605812e2bbc4ff6a3d251e7f8efb = $(`&lt;div id=&quot;html_9b7d605812e2bbc4ff6a3d251e7f8efb&quot; style=&quot;width: 100.0%; height: 100.0%;&quot;&gt;Baltimore, -1.6&lt;/div&gt;`)[0];\n",
       "                popup_103dad3481ced9663d29733d4f9796d6.setContent(html_9b7d605812e2bbc4ff6a3d251e7f8efb);\n",
       "            \n",
       "        \n",
       "\n",
       "        marker_902cee50b0f03c765bab200f65fb7262.bindPopup(popup_103dad3481ced9663d29733d4f9796d6)\n",
       "        ;\n",
       "\n",
       "        \n",
       "    \n",
       "    \n",
       "            var marker_16df8ecc390761d85af1b40f666c52dc = L.marker(\n",
       "                [39.6418, -77.72],\n",
       "                {}\n",
       "            ).addTo(map_95b84012c41da64502d547dc75dbc963);\n",
       "        \n",
       "    \n",
       "            var icon_cb5cfc22d4c8c76a9161c28daa629297 = L.AwesomeMarkers.icon(\n",
       "                {&quot;extraClasses&quot;: &quot;fa-rotate-0&quot;, &quot;icon&quot;: &quot;car&quot;, &quot;iconColor&quot;: &quot;white&quot;, &quot;markerColor&quot;: &quot;green&quot;, &quot;prefix&quot;: &quot;fa&quot;}\n",
       "            );\n",
       "            marker_16df8ecc390761d85af1b40f666c52dc.setIcon(icon_cb5cfc22d4c8c76a9161c28daa629297);\n",
       "        \n",
       "    \n",
       "        var popup_892a382a4713c5872b8941992ec0d104 = L.popup({&quot;maxWidth&quot;: &quot;100%&quot;});\n",
       "\n",
       "        \n",
       "            \n",
       "                var html_128c1126d5882a0251b991018faba850 = $(`&lt;div id=&quot;html_128c1126d5882a0251b991018faba850&quot; style=&quot;width: 100.0%; height: 100.0%;&quot;&gt;Hagerstown, 0.5&lt;/div&gt;`)[0];\n",
       "                popup_892a382a4713c5872b8941992ec0d104.setContent(html_128c1126d5882a0251b991018faba850);\n",
       "            \n",
       "        \n",
       "\n",
       "        marker_16df8ecc390761d85af1b40f666c52dc.bindPopup(popup_892a382a4713c5872b8941992ec0d104)\n",
       "        ;\n",
       "\n",
       "        \n",
       "    \n",
       "    \n",
       "            var marker_3f1791b3f5d0560c2cabedc7d19cfe80 = L.marker(\n",
       "                [38.3001, -76.5075],\n",
       "                {}\n",
       "            ).addTo(map_95b84012c41da64502d547dc75dbc963);\n",
       "        \n",
       "    \n",
       "            var icon_8ad832ed10a21c197d5411434f2f6652 = L.AwesomeMarkers.icon(\n",
       "                {&quot;extraClasses&quot;: &quot;fa-rotate-0&quot;, &quot;icon&quot;: &quot;car&quot;, &quot;iconColor&quot;: &quot;white&quot;, &quot;markerColor&quot;: &quot;green&quot;, &quot;prefix&quot;: &quot;fa&quot;}\n",
       "            );\n",
       "            marker_3f1791b3f5d0560c2cabedc7d19cfe80.setIcon(icon_8ad832ed10a21c197d5411434f2f6652);\n",
       "        \n",
       "    \n",
       "        var popup_5b270df46ab200da0d5d0c2f9dcd035a = L.popup({&quot;maxWidth&quot;: &quot;100%&quot;});\n",
       "\n",
       "        \n",
       "            \n",
       "                var html_a648c0207b778fc2aeb3518a68cde7bc = $(`&lt;div id=&quot;html_a648c0207b778fc2aeb3518a68cde7bc&quot; style=&quot;width: 100.0%; height: 100.0%;&quot;&gt;California, -1.9&lt;/div&gt;`)[0];\n",
       "                popup_5b270df46ab200da0d5d0c2f9dcd035a.setContent(html_a648c0207b778fc2aeb3518a68cde7bc);\n",
       "            \n",
       "        \n",
       "\n",
       "        marker_3f1791b3f5d0560c2cabedc7d19cfe80.bindPopup(popup_5b270df46ab200da0d5d0c2f9dcd035a)\n",
       "        ;\n",
       "\n",
       "        \n",
       "    \n",
       "    \n",
       "            var marker_5075ac5e70ccb80eb735c2796c32d42e = L.marker(\n",
       "                [39.6528, -78.7625],\n",
       "                {}\n",
       "            ).addTo(map_95b84012c41da64502d547dc75dbc963);\n",
       "        \n",
       "    \n",
       "            var icon_d3130dfd892413676b53ccbd5b823dc4 = L.AwesomeMarkers.icon(\n",
       "                {&quot;extraClasses&quot;: &quot;fa-rotate-0&quot;, &quot;icon&quot;: &quot;car&quot;, &quot;iconColor&quot;: &quot;white&quot;, &quot;markerColor&quot;: &quot;green&quot;, &quot;prefix&quot;: &quot;fa&quot;}\n",
       "            );\n",
       "            marker_5075ac5e70ccb80eb735c2796c32d42e.setIcon(icon_d3130dfd892413676b53ccbd5b823dc4);\n",
       "        \n",
       "    \n",
       "        var popup_ae3c3bc83fc3a4c897cdde5cef1e1f34 = L.popup({&quot;maxWidth&quot;: &quot;100%&quot;});\n",
       "\n",
       "        \n",
       "            \n",
       "                var html_07ef900082f8c16ed3bcc0fb35fc0fd0 = $(`&lt;div id=&quot;html_07ef900082f8c16ed3bcc0fb35fc0fd0&quot; style=&quot;width: 100.0%; height: 100.0%;&quot;&gt;Cumberland, 1.8&lt;/div&gt;`)[0];\n",
       "                popup_ae3c3bc83fc3a4c897cdde5cef1e1f34.setContent(html_07ef900082f8c16ed3bcc0fb35fc0fd0);\n",
       "            \n",
       "        \n",
       "\n",
       "        marker_5075ac5e70ccb80eb735c2796c32d42e.bindPopup(popup_ae3c3bc83fc3a4c897cdde5cef1e1f34)\n",
       "        ;\n",
       "\n",
       "        \n",
       "    \n",
       "    \n",
       "            var marker_bad3fed7c6d432ce7ef2758296c560d6 = L.marker(\n",
       "                [38.7745, -76.0768],\n",
       "                {}\n",
       "            ).addTo(map_95b84012c41da64502d547dc75dbc963);\n",
       "        \n",
       "    \n",
       "            var icon_f802af06f547a2da7b8c7ac334acb5ac = L.AwesomeMarkers.icon(\n",
       "                {&quot;extraClasses&quot;: &quot;fa-rotate-0&quot;, &quot;icon&quot;: &quot;car&quot;, &quot;iconColor&quot;: &quot;white&quot;, &quot;markerColor&quot;: &quot;green&quot;, &quot;prefix&quot;: &quot;fa&quot;}\n",
       "            );\n",
       "            marker_bad3fed7c6d432ce7ef2758296c560d6.setIcon(icon_f802af06f547a2da7b8c7ac334acb5ac);\n",
       "        \n",
       "    \n",
       "        var popup_ff196886bf71b46f7fc69462f9b4d69d = L.popup({&quot;maxWidth&quot;: &quot;100%&quot;});\n",
       "\n",
       "        \n",
       "            \n",
       "                var html_4a28022e783d3a85f26eb9c5a6b2cacb = $(`&lt;div id=&quot;html_4a28022e783d3a85f26eb9c5a6b2cacb&quot; style=&quot;width: 100.0%; height: 100.0%;&quot;&gt;Easton, -1.4&lt;/div&gt;`)[0];\n",
       "                popup_ff196886bf71b46f7fc69462f9b4d69d.setContent(html_4a28022e783d3a85f26eb9c5a6b2cacb);\n",
       "            \n",
       "        \n",
       "\n",
       "        marker_bad3fed7c6d432ce7ef2758296c560d6.bindPopup(popup_ff196886bf71b46f7fc69462f9b4d69d)\n",
       "        ;\n",
       "\n",
       "        \n",
       "    \n",
       "    \n",
       "            var marker_930e842be7a1574eb56a2bf4a4751b3b = L.marker(\n",
       "                [38.5633, -76.0768],\n",
       "                {}\n",
       "            ).addTo(map_95b84012c41da64502d547dc75dbc963);\n",
       "        \n",
       "    \n",
       "            var icon_0f246111ca647b97c756b1713e0a93fb = L.AwesomeMarkers.icon(\n",
       "                {&quot;extraClasses&quot;: &quot;fa-rotate-0&quot;, &quot;icon&quot;: &quot;car&quot;, &quot;iconColor&quot;: &quot;white&quot;, &quot;markerColor&quot;: &quot;green&quot;, &quot;prefix&quot;: &quot;fa&quot;}\n",
       "            );\n",
       "            marker_930e842be7a1574eb56a2bf4a4751b3b.setIcon(icon_0f246111ca647b97c756b1713e0a93fb);\n",
       "        \n",
       "    \n",
       "        var popup_6417109b0d888460268acdf443b816ad = L.popup({&quot;maxWidth&quot;: &quot;100%&quot;});\n",
       "\n",
       "        \n",
       "            \n",
       "                var html_afcfb73d1b1cb522a4911fee598f9907 = $(`&lt;div id=&quot;html_afcfb73d1b1cb522a4911fee598f9907&quot; style=&quot;width: 100.0%; height: 100.0%;&quot;&gt;Cambridge, 2.3&lt;/div&gt;`)[0];\n",
       "                popup_6417109b0d888460268acdf443b816ad.setContent(html_afcfb73d1b1cb522a4911fee598f9907);\n",
       "            \n",
       "        \n",
       "\n",
       "        marker_930e842be7a1574eb56a2bf4a4751b3b.bindPopup(popup_6417109b0d888460268acdf443b816ad)\n",
       "        ;\n",
       "\n",
       "        \n",
       "    \n",
       "    \n",
       "            var measure_control_bfa178de88560a9b80bf01632c8b506e = new L.Control.Measure(\n",
       "                {&quot;activeColor&quot;: &quot;blue&quot;, &quot;completedColor&quot;: &quot;green&quot;, &quot;position&quot;: &quot;topleft&quot;, &quot;primaryAreaUnit&quot;: &quot;sqmeters&quot;, &quot;primaryLengthUnit&quot;: &quot;miles&quot;, &quot;secondaryAreaUnit&quot;: &quot;acres&quot;, &quot;secondaryLengthUnit&quot;: &quot;miles&quot;});\n",
       "            map_95b84012c41da64502d547dc75dbc963.addControl(measure_control_bfa178de88560a9b80bf01632c8b506e);\n",
       "\n",
       "        \n",
       "&lt;/script&gt;\n",
       "&lt;/html&gt;\" style=\"position:absolute;width:100%;height:100%;left:0;top:0;border:none !important;\" allowfullscreen webkitallowfullscreen mozallowfullscreen></iframe></div></div>"
      ],
      "text/plain": [
       "<folium.folium.Map at 0x2401d6cb4f0>"
      ]
     },
     "execution_count": 42,
     "metadata": {},
     "output_type": "execute_result"
    }
   ],
   "source": [
    "# multiple markers using dictionary jan_24 predictions\n",
    "markers_dict = {\n",
    "    'Baltimore, -1.6': [39.2904, -76.6122],\n",
    "    'Hagerstown, 0.5': [39.6418, -77.7200],\n",
    "    'California, -1.9': [38.3001, -76.5075],\n",
    "    'Cumberland, 1.8': [39.6528, -78.7625],\n",
    "    'Easton, -1.4': [38.7745, -76.0768],\n",
    "    'Cambridge, 2.3': [38.5633, -76.0768]\n",
    "}\n",
    "\n",
    "# create map\n",
    "map_cities = folium.Map(location=[39, -76.6], zoom_start=7, width=1200, height=900, control_scale=True)\n",
    "\n",
    "# plot locations\n",
    "for i in markers_dict.items():\n",
    "    folium.Marker(location=i[1], popup=i[0], icon=folium.Icon(color='green', icon='car', prefix='fa')\n",
    "    ).add_to(map_cities)\n",
    "\n",
    "# measure control\n",
    "measure_control = plugins.MeasureControl(position='topleft', active_color='blue', completed_color='green', primary_length_unit='miles')\n",
    "\n",
    "# add measure control to map\n",
    "map_cities.add_child(measure_control)\n",
    "# display map\n",
    "map_cities"
   ]
  },
  {
   "cell_type": "markdown",
   "metadata": {},
   "source": [
    "********************"
   ]
  }
 ],
 "metadata": {
  "kernelspec": {
   "display_name": "base",
   "language": "python",
   "name": "python3"
  },
  "language_info": {
   "codemirror_mode": {
    "name": "ipython",
    "version": 3
   },
   "file_extension": ".py",
   "mimetype": "text/x-python",
   "name": "python",
   "nbconvert_exporter": "python",
   "pygments_lexer": "ipython3",
   "version": "3.9.15"
  },
  "orig_nbformat": 4,
  "vscode": {
   "interpreter": {
    "hash": "4f2b0cfe12c109b58467a02dc33230d9e6228c23b43020d2941c37e2a7dfdd3f"
   }
  }
 },
 "nbformat": 4,
 "nbformat_minor": 2
}
